{
 "cells": [
  {
   "cell_type": "code",
   "execution_count": 1,
   "metadata": {},
   "outputs": [],
   "source": [
    "import gensim\n",
    "from collections import defaultdict\n",
    "from scipy import spatial\n",
    "from gensim.models import KeyedVectors\n",
    "from igraph import *\n",
    "import random\n",
    "import pandas as pd\n",
    "from collections import Counter\n",
    "import glob\n",
    "import pickle"
   ]
  },
  {
   "cell_type": "code",
   "execution_count": 17,
   "metadata": {},
   "outputs": [],
   "source": [
    "def train_word2vec(documents, dim=300, min_count=2, iters=100, window=20):\n",
    "\tmodel = gensim.models.Word2Vec(\n",
    "        documents,\n",
    "        sg=0,\n",
    "        size=dim,\n",
    "        window=window,\n",
    "        min_count=min_count,\n",
    "        iter=iters,\n",
    "        workers=4)\n",
    "\tmodel.train(documents, total_examples=len(documents), epochs=model.epochs)\n",
    "\treturn model\n",
    "\n",
    "def read_docs(csv_file, column='stem'):\n",
    "\tdf = pd.read_csv(csv_file)\n",
    "\treturn [str(sent).split() for sent in df[column].values]"
   ]
  },
  {
   "cell_type": "code",
   "execution_count": 31,
   "metadata": {},
   "outputs": [
    {
     "name": "stdout",
     "output_type": "stream",
     "text": [
      "0 ./childes_data/adult_utterances_age_corpus_0_12.csv\n",
      "1 ./childes_data/adult_utterances_age_corpus_12_24 .csv\n",
      "2 ./childes_data/adult_utterances_age_corpus_36_48 .csv\n",
      "3 ./childes_data/adult_utterances_age_corpus_48_60 .csv\n"
     ]
    }
   ],
   "source": [
    "year2vecs = {}\n",
    "childes_files = sorted(glob.glob(\"./childes_data/*.csv\"))\n",
    "# TODO: only use the first and the last one for now\n",
    "# childes_files = [childes_files[0], childes_files[-1]]\n",
    "for i, csv_file in enumerate(childes_files):\n",
    "    print(i, csv_file)\n",
    "    docs = read_docs(csv_file)\n",
    "    model = train_word2vec(docs, dim=100, min_count=5, iters=3, window=10)\n",
    "    d = {w:v for w, v in zip(model.wv.index2word, model.wv.vectors)}\n",
    "    year2vecs[i] = d"
   ]
  },
  {
   "cell_type": "code",
   "execution_count": 32,
   "metadata": {},
   "outputs": [],
   "source": [
    "with open('./childes_data/embeddings-over-time/embeddings-over-time-vocabs-ep3.pickle', 'wb') as handle:\n",
    "    pickle.dump(year2vecs, handle, protocol=pickle.HIGHEST_PROTOCOL)\n",
    "\n",
    "# with open('filename.pickle', 'rb') as handle:\n",
    "#     b = pickle.load(handle)"
   ]
  },
  {
   "cell_type": "code",
   "execution_count": null,
   "metadata": {},
   "outputs": [],
   "source": []
  }
 ],
 "metadata": {
  "kernelspec": {
   "display_name": "Python 3",
   "language": "python",
   "name": "python3"
  },
  "language_info": {
   "codemirror_mode": {
    "name": "ipython",
    "version": 3
   },
   "file_extension": ".py",
   "mimetype": "text/x-python",
   "name": "python",
   "nbconvert_exporter": "python",
   "pygments_lexer": "ipython3",
   "version": "3.7.1"
  }
 },
 "nbformat": 4,
 "nbformat_minor": 2
}
