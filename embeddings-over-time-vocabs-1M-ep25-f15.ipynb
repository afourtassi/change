{
 "cells": [
  {
   "cell_type": "markdown",
   "metadata": {
    "slideshow": {
     "slide_type": "slide"
    }
   },
   "source": [
    "# Dynamic Word Embeddings\n",
    "\n",
    "- by Jacob Eisenstein, May 2019\n",
    "- modified by Hang Jiang, Sept. 2019\n",
    "\n",
    "The previous notebook tracked how words were used by different groups over time. \n",
    "Now we'll explore how words change meaning over time, using dynamic word embeddings. The specific goals are:\n",
    "\n",
    "- Identify near-neighbors of words at various periods in time.\n",
    "- Align word embeddings over time using by solving an orthogonal Procrustes problem.\n",
    "- Rank words by semantic change from age 0 to age 3, using \"first-order\" (embedding-based) and \"second-order\" (neighbor-based) techniques."
   ]
  },
  {
   "cell_type": "markdown",
   "metadata": {
    "slideshow": {
     "slide_type": "subslide"
    }
   },
   "source": [
    "## Data acquisition\n",
    "\n",
    "Because training dynamic word embeddings is time-consuming, we'll use pretrained embeddings from [Hamilton et al](https://github.com/williamleif/histwords). As before, these embeddings are available in the [bitbucket repository](https://bitbucket.org/jacobeisenstein/language-change-tutorial-data/src/master/embeddings-over-time.tgz). \n",
    "\n",
    "1. If you have not already cloned it, please run:\n",
    "\n",
    "```\n",
    "git clone https://bitbucket.org/jacobeisenstein/language-change-tutorial-data.git\n",
    "\n",
    "```\n",
    "2. Then link or move the directory into `../data`,\n",
    "```\n",
    "cd data; ln -s ../language-change-tutorial-data/embeddings-over-time\n",
    "```\n"
   ]
  },
  {
   "cell_type": "code",
   "execution_count": 63,
   "metadata": {
    "slideshow": {
     "slide_type": "skip"
    }
   },
   "outputs": [],
   "source": [
    "import os\n",
    "from glob import glob\n",
    "import pickle\n",
    "\n",
    "import numpy as np\n",
    "import pandas as pd\n",
    "import matplotlib.pyplot as plt\n",
    "%matplotlib inline\n",
    "\n",
    "from tqdm import tqdm_notebook as tqdm # convenient progressbar"
   ]
  },
  {
   "cell_type": "markdown",
   "metadata": {
    "slideshow": {
     "slide_type": "subslide"
    }
   },
   "source": [
    "## Data loading"
   ]
  },
  {
   "cell_type": "code",
   "execution_count": 66,
   "metadata": {},
   "outputs": [
    {
     "name": "stdout",
     "output_type": "stream",
     "text": [
      "period0 ['$co$', 'you', 'the', 'be', 'that']\n",
      "period1 ['$co$', 'you', 'be', '$name$', 'the']\n",
      "period2 ['$co$', 'you', 'be', 'the', '$name$']\n",
      "period3 ['$co$', 'you', 'be', 'the', '$name$']\n",
      "period4 ['$co$', 'you', 'be', 'the', 'do']\n",
      "period5 ['$co$', 'you', 'be', 'the', 'do']\n",
      "period6 ['$co$', 'you', 'be', 'do', 'the']\n",
      "period7 ['$co$', 'you', 'be', 'do', 'it']\n",
      "period8 ['$co$', 'you', 'be', 'do', 'the']\n",
      "period9 ['$co$', 'you', 'be', 'the', 'do']\n",
      "period10 ['$co$', 'you', 'do', 'be', 'the']\n",
      "period11 ['$co$', 'you', 'nan', 'do', 'the']\n",
      "(1656, 100)\n",
      "(1656, 100)\n",
      "(1656, 100)\n",
      "(1656, 100)\n",
      "(1656, 100)\n",
      "(1656, 100)\n",
      "(1656, 100)\n",
      "(1656, 100)\n",
      "(1656, 100)\n",
      "(1656, 100)\n",
      "(1656, 100)\n",
      "(1656, 100)\n"
     ]
    }
   ],
   "source": [
    "from typing import List, Dict, Tuple, Sequence\n",
    "base_dir = os.path.join('/Users/hang/Desktop/2019-fall/change/','childes_data','embeddings-over-time') # make sure you expand the tar file in ../data\n",
    "dicts = pickle.load(open(\"./childes_data/embeddings-over-time/embeddings-over-time-vocabs-1M-ep25-f15.pickle\",'rb'))\n",
    "\n",
    "vocs: Dict[str, List] = {k: list(v.keys()) for k, v in dicts.items()}\n",
    "years: List[str] = list(vocs.keys())\n",
    "\n",
    "vocab_size = 1656\n",
    "\n",
    "for key, item in vocs.items():\n",
    "    print(key, item[:5])\n",
    "    vocs[key] = item[:vocab_size]\n",
    "vecs: Dict[str, List] = dict()\n",
    "\n",
    "for year, d in dicts.items():\n",
    "    year_vectors = np.array([list(d.values())]).reshape(-1, 100)[:vocab_size]\n",
    "    print(year_vectors.shape)\n",
    "    vecs[year] = year_vectors / np.linalg.norm(year_vectors, axis=-1)[:, np.newaxis]\n",
    "#     for w in vecs[year] /= norms\n",
    "#     print(vecs[year])"
   ]
  },
  {
   "cell_type": "code",
   "execution_count": 67,
   "metadata": {
    "slideshow": {
     "slide_type": "fragment"
    }
   },
   "outputs": [
    {
     "data": {
      "text/plain": [
       "array([0.9999998 , 1.        , 0.99999994, ..., 0.9999999 , 1.0000001 ,\n",
       "       1.        ], dtype=float32)"
      ]
     },
     "execution_count": 67,
     "metadata": {},
     "output_type": "execute_result"
    }
   ],
   "source": [
    "# sanity check\n",
    "(vecs['period1']**2).sum(1)"
   ]
  },
  {
   "cell_type": "markdown",
   "metadata": {
    "slideshow": {
     "slide_type": "fragment"
    }
   },
   "source": [
    "Vectors are initialized to have a Euclidean norm of $1$. There are different number of words per year, listed in `vocs[year]`."
   ]
  },
  {
   "cell_type": "markdown",
   "metadata": {
    "slideshow": {
     "slide_type": "slide"
    }
   },
   "source": [
    "# Near neighbors\n",
    "\n",
    "Let's start by computing some near neighbors. In general, this is done by computing cosine similarity between word vectors,\n",
    "\\begin{equation}\n",
    "s(\\vec{x},\\vec{y}) = \\frac{\\vec{x} \\cdot \\vec{y}}{||\\vec{x}|| \\times || \\vec{y} ||}.\n",
    "\\end{equation}\n",
    "\n",
    "However, because these embeddings have a guaranteed norm of 1, the denominator can be ignored, so we need only consider the dot product."
   ]
  },
  {
   "cell_type": "code",
   "execution_count": 68,
   "metadata": {
    "slideshow": {
     "slide_type": "skip"
    }
   },
   "outputs": [],
   "source": [
    "def neighbors(query : str,\n",
    "              embs: np.ndarray,\n",
    "              vocab: list,\n",
    "              K : int = 3) -> list:\n",
    "    sims = np.dot(embs[vocab.index(query),],embs.T)\n",
    "    output = []\n",
    "    for sim_idx in sims.argsort()[::-1][1:(1+K)]:\n",
    "        if sims[sim_idx] > 0:\n",
    "            output.append(vocab[sim_idx])\n",
    "    return output"
   ]
  },
  {
   "cell_type": "code",
   "execution_count": 69,
   "metadata": {
    "slideshow": {
     "slide_type": "skip"
    }
   },
   "outputs": [],
   "source": [
    "# a convenience function to compute the nearest neighbors per year\n",
    "def neighbors_per_year(query: str, K=5) -> dict:\n",
    "    nns = dict()\n",
    "    for year, embs in vecs.items():\n",
    "        nns[year] = neighbors(query, embs, vocs[year], K=K)\n",
    "    return nns"
   ]
  },
  {
   "cell_type": "markdown",
   "metadata": {
    "slideshow": {
     "slide_type": "subslide"
    }
   },
   "source": [
    "## Visualize neighbors"
   ]
  },
  {
   "cell_type": "code",
   "execution_count": 70,
   "metadata": {
    "slideshow": {
     "slide_type": "fragment"
    }
   },
   "outputs": [
    {
     "name": "stdout",
     "output_type": "stream",
     "text": [
      "=====================apple=====================\n",
      "period0 ['butter', 'almond', 'combination', 'bread', 'pear']\n",
      "period1 ['sauce', 'plum', 'lemon', 'cherry', 'pear']\n",
      "period2 ['pear', 'biscuit', 'marmalade', 'slice', 'pea']\n",
      "period3 ['fruit', 'juice', 'bread', 'grape', 'sugar']\n",
      "period4 ['milk', 'coffee', 'juice', 'drink', 'tomato']\n",
      "period5 ['grape', 'sandwich', 'strawberry', 'tomato', 'bacon']\n",
      "period6 ['ham', 'slice', 'grape', 'pear', 'jam']\n",
      "period7 ['bacon', 'jam', 'pasta', 'orange', 'soup']\n",
      "period8 ['banana', 'lemon', 'jam', 'pie', 'nut']\n",
      "period9 ['orange', 'strawberry', 'pear', 'plum', 'through']\n",
      "period10 ['strawberry', 'orange', 'pudding', 'pear', 'plum']\n",
      "period11 ['strawberry', 'orange', 'juice', 'pear', 'plum']\n",
      "\n",
      "\n",
      "=====================cookie=====================\n",
      "period0 ['cheerio', 'grape', 'pizza', 'food', 'coffee']\n",
      "period1 ['yogurt', 'raisin', 'pretzel', 'bagel', 'soup']\n",
      "period2 ['may', 'fresh', 'soup', 'drawing', 'yogurt']\n",
      "period3 ['eggnog', 'smooth', 'chocolate', 'pasta', 'dunk']\n",
      "period4 ['cracker', 'coffee', 'sprout', 'sugar', 'snack']\n",
      "period5 ['lemonade', 'potato', 'coffee', 'biscuit', 'salad']\n",
      "period6 ['strawberry', 'pea', 'jam', 'pancake', 'carrot']\n",
      "period7 ['chocolate', 'cereal', 'bar', 'fruit', 'jam']\n",
      "period8 ['coffee', 'chip', 'soup', 'toast', 'sandwich']\n",
      "period9 ['vegetable', 'sandwich', 'prefer', 'vanilla', 'chip']\n",
      "period10 ['hamburger', 'cracker', 'milk', 'salad', 'lemon']\n",
      "period11 ['garlic', 'donut', 'cracker', 'sugar', 'remind']\n",
      "\n",
      "\n",
      "=====================dog=====================\n",
      "period0 ['puppy', 'bone', 'bark', 'old', 'kitten']\n",
      "period1 ['puppy', 'lion', 'bone', 'rabbit', 'reindeer']\n",
      "period2 ['gorilla', 'snake', 'giant', 'frog', 'elephant']\n",
      "period3 ['beautiful', 'rabbit', 'great', 'lion', 'super']\n",
      "period4 ['owl', 'bunny', 'whale', 'tiger', 'giant']\n",
      "period5 ['twin', 'turtle', 'elephant', 'cow', 'earth']\n",
      "period6 ['turtle', 'lion', 'squirrel', 'dragon', 'monster']\n",
      "period7 ['turtle', 'owl', 'rabbit', 'family', 'bird']\n",
      "period8 ['bird', 'umbrella', 'picnic', 'queen', 'grey']\n",
      "period9 ['lion', 'chase', 'catch', 'pussy', 'kangaroo']\n",
      "period10 ['chase', 'cat', 'cow', 'tail', 'sheep']\n",
      "period11 ['turtle', 'hers', 'budgie', 'cat', 'final']\n",
      "\n",
      "\n",
      "=====================bird=====================\n",
      "period0 ['owlet', 'tweet', 'cow', 'nest', 'chikada']\n",
      "period1 ['elephant', 'cow', 'hen', 'sheep', 'nest']\n",
      "period2 ['cloud', 'hippopotamus', 'rocket', 'bush', 'diamond']\n",
      "period3 ['dove', 'snail', 'circus', 'lamb', 'owl']\n",
      "period4 ['sheep', 'polar', 'diamond', 'circle', 'spot']\n",
      "period5 ['puppy', 'crocodile', 'bear', 'bun', 'goat']\n",
      "period6 ['grey', 'whale', 'goat', 'giraffe', 'diamond']\n",
      "period7 ['queen', 'deep', 'dust', 'trunk', 'forest']\n",
      "period8 ['rob', 'horse', 'disco', 'horrible', 'grey']\n",
      "period9 ['sunshine', 'gold', 'sheep', 'lad', 'cow']\n",
      "period10 ['lion', 'hen', 'deer', 'rabbit', 'wolf']\n",
      "period11 ['nest', 'outside', 'snort', 'closet', 'skunk']\n",
      "\n",
      "\n",
      "=====================ear=====================\n",
      "period0 ['tummy', 'fur', 'eye', 'pony', 'beak']\n",
      "period1 ['toe', 'tummy', 'chin', 'wing', 'eye']\n",
      "period2 ['bat', 'ache', 'paw', 'tongue', 'brother']\n",
      "period3 ['lotion', 'elbow', 'jacket', 'syrup', 'broom']\n",
      "period4 ['arm', 'eye', 'shoe', 'slipper', 'sleeve']\n",
      "period5 ['bandage', 'body', 'ribbon', 'neck', 'flop']\n",
      "period6 ['eye', 'tongue', 'tummy', 'toe', 'hat']\n",
      "period7 ['chin', 'belly', 'neck', 'tongue', 'lip']\n",
      "period8 ['toe', 'pants', 'neck', 'germ', 'slipper']\n",
      "period9 ['thumb', 'pocket', 'pajamas', 'drawing', 'crayon']\n",
      "period10 ['throat', 'sore', 'arm', 'tongue', 'tooth']\n",
      "period11 ['flap', 'sunshine', 'cool', 'huge', 'tusk']\n",
      "\n",
      "\n",
      "=====================eye=====================\n",
      "period0 ['ear', 'nose', 'his', 'fur', 'pony']\n",
      "period1 ['ear', 'chin', 'tongue', 'wing', 'thread']\n",
      "period2 ['tummy', 'fluff', 'shy', 'rice', 'spot']\n",
      "period3 ['thumb', 'ear', 'leg', 'favorite', 'tail']\n",
      "period4 ['tongue', 'lip', 'toe', 'finger', 'ear']\n",
      "period5 ['ear', 'arm', 'leg', 'finger', 'foot']\n",
      "period6 ['tongue', 'ear', 'toe', 'nose', 'leg']\n",
      "period7 ['chin', 'ear', 'tongue', 'arm', 'neck']\n",
      "period8 ['sock', 'shoe', 'rub', 'shirt', 'own']\n",
      "period9 ['bead', 'neck', 'whistle', 'pony', 'lip']\n",
      "period10 ['nose', 'sting', 'fur', 'wing', 'tail']\n",
      "period11 ['tongue', 'leg', 'arm', 'belly', 'crack']\n",
      "\n",
      "\n",
      "=====================hand=====================\n",
      "period0 ['clap', 'mouth', 'handy', 'mitten', 'finger']\n",
      "period1 ['slipper', 'finger', 'shoe', 'arm', 'foot']\n",
      "period2 ['wash', 'knee', 'foot', 'wipe', 'pants']\n",
      "period3 ['finger', 'mouth', 'foot', 'sock', 'arm']\n",
      "period4 ['face', 'pants', 'chin', 'knee', 'mouth']\n",
      "period5 ['mouth', 'foot', 'hold', 'trouser', 'wash']\n",
      "period6 ['finger', 'foot', 'sleeve', 'pajamas', 'thumb']\n",
      "period7 ['finger', 'foot', 'mouth', 'pants', 'lap']\n",
      "period8 ['wipe', 'wash', 'mouth', 'finger', 'pajamas']\n",
      "period9 ['wash', 'wipe', 'rinse', 'shoe', 'arm']\n",
      "period10 ['napkin', 'rinse', 'shoulder', 'wipe', 'pants']\n",
      "period11 ['brush', 'face', 'grease', 'shirt', 'wipe']\n",
      "\n",
      "\n",
      "=====================shoe=====================\n",
      "period0 ['tie', 'sock', 'pants', 'bib', 'arm']\n",
      "period1 ['clothes', 'slipper', 'wash', 'hand', 'pants']\n",
      "period2 ['pants', 'sock', 'slipper', 'pajamas', 'clothes']\n",
      "period3 ['trouser', 'pants', 'sock', 'arm', 'shorts']\n",
      "period4 ['sock', 'slipper', 'pajamas', 'vest', 'trouser']\n",
      "period5 ['pencil', 'dungaree', 'clothes', 'lap', 'spill']\n",
      "period6 ['sock', 'finger', 'pajamas', 'slipper', 'tie']\n",
      "period7 ['slipper', 'trouser', 'boot', 'lap', 'sock']\n",
      "period8 ['sock', 'shirt', 'trouser', 'own', 'cloth']\n",
      "period9 ['face', 'plaster', 'pajamas', 'jacket', 'clip']\n",
      "period10 ['lace', 'tie', 'glove', 'jacket', 'slipper']\n",
      "period11 ['tie', 'check', 'pocket', 'father', 'mummy']\n",
      "\n",
      "\n",
      "=====================bath=====================\n",
      "period0 ['case', 'tub', 'pretend', 'purse', 'practice']\n",
      "period1 ['picnic', 'present', 'bubble', 'restaurant', 'glass']\n",
      "period2 ['meal', 'dinner', 'supper', 'snack', 'lollipop']\n",
      "period3 ['pretend', 'upstairs', 'ticket', 'nobody', 'trouble']\n",
      "period4 ['nap', 'cuddle', 'present', 'diaper', 'picnic']\n",
      "period5 ['radio', 'airplane', 'shower', 'photograph', 'journey']\n",
      "period6 ['upstairs', 'save', 'toilet', 'afterwards', 'list']\n",
      "period7 ['vet', 'nappie', 'cot', 'blood', 'feed']\n",
      "period8 ['had_to', 'hers', 'shower', 'peach', 'second']\n",
      "period9 ['trip', 'nurse', 'hospital', 'courage', 'doctor']\n",
      "period10 ['hafta', 'next', 'first', 'nap', 'thing']\n",
      "period11 ['rid', 'ready', 'shower', 'take', 'hafta']\n",
      "\n",
      "\n",
      "=====================game=====================\n",
      "period0 ['odd', 'share', 'trade', 'desk', 'allow']\n",
      "period1 ['mall', 'choose', 'story', 'yesterday', 'photograph']\n",
      "period2 ['baseball', 'christmas', 'share', 'gramma', 'nurse']\n",
      "period3 ['question', 'guitar', 'dove', 'scare', 'worry']\n",
      "period4 ['tennis', 'awhile', 'new', 'seek', 'remember']\n",
      "period5 ['behave', 'yesterday', 'choose', 'someone', 'tonight']\n",
      "period6 ['halloween', 'story', 'yesterday', 'new', 'snack']\n",
      "period7 ['daddy', 'something', 'anybody', 'pack', 'snack']\n",
      "period8 ['golf', 'exciting', 'rhyme', 'understand', 'anyone']\n",
      "period9 ['hockey', 'book', 'besides', 'remember', 'party']\n",
      "period10 ['camp', 'compute', 'play', 'family', 'baseball']\n",
      "period11 ['video', 'project', 'program', 'art', 'sport']\n",
      "\n",
      "\n",
      "=====================run=====================\n",
      "period0 ['base', 'safe', 'from', 'into', 'become']\n",
      "period1 ['backwards', 'drip', 'fold', 'flat', 'wave']\n",
      "period2 ['upside', 'straight', 'ground', 'cover', 'sofa']\n",
      "period3 ['along', 'furniture', 'sweep', 'backwards', 'holiday']\n",
      "period4 ['slide', 'crawl', 'climb', 'spin', 'jump']\n",
      "period5 ['safe', 'has_to', 'backwards', 'everybody', 'trip']\n",
      "period6 ['backwards', 'wave', 'across', 'sledge', 'knock']\n",
      "period7 ['fly', 'along', 'has_to', 'drive', 'grab']\n",
      "period8 ['jump', 'pipe', 'across', 'street', 'garage']\n",
      "period9 ['quick', 'snip', 'snap', 'close', 'alley']\n",
      "period10 ['snap', 'corner', 'alley', 'snip', 'pussy']\n",
      "period11 ['fast', 'both', 'snap', 'nervous', 'behind']\n",
      "\n",
      "\n",
      "=====================cold=====================\n",
      "period0 ['difficult', 'cool', 'hate', 'otherwise', 'uppy_time']\n",
      "period1 ['hot', 'warm', 'quite', 'awful', 'kinda']\n",
      "period2 ['cough', 'hot', 'sore', 'latte', 'warm']\n",
      "period3 ['sad', 'nasty', 'hot', 'strong', 'heavy']\n",
      "period4 ['hot', 'smell', 'warm', 'sharp', 'tummy']\n",
      "period5 ['hot', 'heavy', 'thick', 'strong', 'health']\n",
      "period6 ['warm', 'soft', 'wet', 'dangerous', 'sore']\n",
      "period7 ['hot', 'warm', 'smell', 'dizzy', 'difficult']\n",
      "period8 ['warm', 'hot', 'cool', 'sticky', 'crunch']\n",
      "period9 ['spoil', 'smell', 'seal', 'beat', 'thin']\n",
      "period10 ['hot', 'freeze', 'poison', 'thirst', 'gorgeous']\n",
      "period11 ['diaper', 'muscle', 'oatmeal', 'stir', 'fold']\n",
      "\n",
      "\n",
      "=====================dirty=====================\n",
      "period0 ['both', 'upstairs', 'pajamas', 'sheet', 'c_d']\n",
      "period1 ['wet', 'sticky', 'bash', 'sore', 'dirt']\n",
      "period2 ['tight', 'mine', 'soak', 'further', 'sunglass']\n",
      "period3 ['sticky', 'wet', 'shake', 'burn', 'dirt']\n",
      "period4 ['lick', 'dry', 'burn', 'elbow', 'beat']\n",
      "period5 ['wet', 'slipper', 'rub', 'kinda', 'squish']\n",
      "period6 ['darling', 'wet', 'rub', 'cause', 'without']\n",
      "period7 ['forward', 'nothing', 'everything', 'tear', 'pinch']\n",
      "period8 ['germ', 'dirt', 'towel', 'soap', 'slipper']\n",
      "period9 ['handle', 'jacket', 'in_case', 'spray', 'clothes']\n",
      "period10 ['choke', 'tongue', 'loose', 'neck', 'sore']\n",
      "period11 ['burp', 'comfort', 'upset', 'concentrate', 'stamp']\n",
      "\n",
      "\n"
     ]
    }
   ],
   "source": [
    "words_of_interest = [\n",
    "                     'apple', 'cookie', # food and drink\n",
    "                     'dog', 'bird', # animals\n",
    "                     'ear', 'eye', 'hand', 'shoe', # body parts\n",
    "#                      'blanket', 'chair', # house\n",
    "#                      'daddy', 'father', 'friend', # people\n",
    "#                      'ball', 'toy', # toys\n",
    "#                      'down', 'eat', 'go', 'sit', # action\n",
    "                     'bath', 'game', 'run', # game,\n",
    "                     'cold', 'dirty', # adjective\n",
    "#                      'love', 'hate' # abstract meaning\n",
    "                    ]\n",
    "for word in words_of_interest:\n",
    "    print(f\"====================={word}=====================\")\n",
    "    for year, nn_list in neighbors_per_year(word).items():\n",
    "        print(year, nn_list)\n",
    "    print(\"\\n\")"
   ]
  },
  {
   "cell_type": "markdown",
   "metadata": {
    "slideshow": {
     "slide_type": "skip"
    }
   },
   "source": [
    "# Linking embedding over time\n",
    "\n",
    "The first task is simple to align words across vocabularies. We will do this by building a sparse permutation matrix."
   ]
  },
  {
   "cell_type": "code",
   "execution_count": 71,
   "metadata": {
    "slideshow": {
     "slide_type": "skip"
    }
   },
   "outputs": [],
   "source": [
    "import scipy.sparse as sparse\n",
    "\n",
    "def build_alignment(year1 : str, year2 : str) -> sparse.csr_matrix:\n",
    "    # given two years (keys into vecs and vocs)\n",
    "    # compute a sparse matrix M representing the permutation of word indices from the year1 vecs to the year2 vecs  \n",
    "    # then the rows of v1 will be aligned with the rows of M v2 \n",
    "    \n",
    "    all_var1 = vecs[year1].var(1)\n",
    "    all_var2 = vecs[year2].var(1)\n",
    "\n",
    "    rows = []\n",
    "    cols = []\n",
    "\n",
    "    ivoc2 = {j:i for i,j in enumerate(vocs[year2])}\n",
    "\n",
    "    for widx1,word in enumerate(vocs[year1]):\n",
    "        if all_var1[widx1] != 0 and word in vocs[year2]:\n",
    "            widx2 = ivoc2[word]\n",
    "            if all_var2[widx2] != 0:\n",
    "                rows.append(widx1)\n",
    "                cols.append(widx2)\n",
    "\n",
    "    align = sparse.csr_matrix(([1]*len(rows),(rows,cols)),shape=[len(vocs[year1]),len(vocs[year2])])\n",
    "    return align"
   ]
  },
  {
   "cell_type": "code",
   "execution_count": 92,
   "metadata": {
    "slideshow": {
     "slide_type": "skip"
    }
   },
   "outputs": [],
   "source": [
    "# for the rest of the notebook, we'll focus on the contrast between age 1 and age 3\n",
    "year1 = 'period0'\n",
    "year2 = 'period9'"
   ]
  },
  {
   "cell_type": "code",
   "execution_count": 93,
   "metadata": {
    "slideshow": {
     "slide_type": "skip"
    }
   },
   "outputs": [],
   "source": [
    "align = build_alignment(year2, year1)"
   ]
  },
  {
   "cell_type": "code",
   "execution_count": 94,
   "metadata": {
    "slideshow": {
     "slide_type": "skip"
    }
   },
   "outputs": [
    {
     "data": {
      "text/plain": [
       "<1656x1656 sparse matrix of type '<class 'numpy.int64'>'\n",
       "\twith 1271 stored elements in Compressed Sparse Row format>"
      ]
     },
     "execution_count": 94,
     "metadata": {},
     "output_type": "execute_result"
    }
   ],
   "source": [
    "align"
   ]
  },
  {
   "cell_type": "code",
   "execution_count": 95,
   "metadata": {
    "slideshow": {
     "slide_type": "skip"
    }
   },
   "outputs": [],
   "source": [
    "vecs_aligned = align.dot(vecs[year1])"
   ]
  },
  {
   "cell_type": "markdown",
   "metadata": {
    "slideshow": {
     "slide_type": "skip"
    }
   },
   "source": [
    "To validate, let's check that words in `vecs_aligned` have roughly the same near-neighbors as in `vecs[year2]`.\n",
    "- not necessarily true in our case (child semantic development), but mostly they are similar"
   ]
  },
  {
   "cell_type": "code",
   "execution_count": 96,
   "metadata": {
    "slideshow": {
     "slide_type": "skip"
    }
   },
   "outputs": [
    {
     "name": "stdout",
     "output_type": "stream",
     "text": [
      "coffee\n",
      "period0 ['grape', 'cereal', 'raisin', 'juice', 'cookie', 'oatmeal', 'milk', 'tea', 'food', 'soup']\n",
      "period9 ['rice', 'oatmeal', 'biscuit', 'tea', 'potato', 'soup', 'vegetable', 'bread', 'chip', 'milk'] \n",
      "\n",
      "dog\n",
      "period0 ['puppy', 'bone', 'bark', 'old', 'kitten', 'woman', 'young', 'anyone', 'woof', 'naughty']\n",
      "period9 ['lion', 'chase', 'catch', 'pussy', 'kangaroo', 'hammer', 'map', 'pony', 'cat', 'kinda'] \n",
      "\n",
      "compute\n",
      "period0 ['plan', 'desk', 'practice', 'save', 'choose', 'vacation', 'moment', 'doughnut', 'scissors', 'meat']\n",
      "period9 ['thunder', 'steal', 'flag', 'found', 'broke', 'crocodile', 'usual', 'join', 'lamp', 'attach'] \n",
      "\n"
     ]
    }
   ],
   "source": [
    "for query in ['coffee','dog','compute']:\n",
    "    print(query)\n",
    "    print(year1, neighbors(query, vecs_aligned, vocs[year2], K=10))\n",
    "    print(year2, neighbors(query, vecs[year2], vocs[year2], K=10),'\\n')"
   ]
  },
  {
   "cell_type": "raw",
   "metadata": {
    "slideshow": {
     "slide_type": "skip"
    }
   },
   "source": [
    "\n",
    "Remember that our goal is to find words whose meanings have changed between `year1` and `year2`. Be careful: we cannot directly compare `vecs[year1]` to `vecs[year2]` because the word embeddings are not aligned. To solve this, we will search for the best orthogonal projection."
   ]
  },
  {
   "cell_type": "markdown",
   "metadata": {
    "slideshow": {
     "slide_type": "skip"
    }
   },
   "source": [
    "## Procrustes\n",
    "\n",
    "$\\newcommand{\\transpose}[1]{#1^{\\top}}$\n",
    "\n",
    "The orthogonal Procrustes problem for matrices $A$ and $B$ is to find an orthogonal projection matrix $\\Omega$ that minimizes the norm of the difference between $\\Omega A$ and $B$:\n",
    "\n",
    "\\begin{equation}\n",
    "\\min_{\\Omega} ||\\Omega A - B ||_F,\n",
    "\\end{equation}\n",
    "s.t. $\\transpose{\\Omega} \\Omega = \\mathbb{I}$, where $A, B \\in \\mathbb{R}^{K \\times V}$ are matrices of $K$-dimensional embeddings, and $\\Omega$ is therefore an orthonormal $K \\times K$ projection matrix. The norm $||M||_F = \\left(\\sum_i \\sum_j m_{i,j}^2\\right)^{1/2}$. \n",
    "\n",
    "The solution to the orthogonal Procrustes problem is obtained by performing singular value decomposition on the product,\n",
    "\n",
    "\\begin{align}\n",
    "U \\Sigma \\transpose{V} = &{} \\text{SVD}(B\\transpose{A})\\\\\n",
    "\\Omega = &{} U \\transpose{V}.\n",
    "\\end{align}\n"
   ]
  },
  {
   "cell_type": "markdown",
   "metadata": {
    "slideshow": {
     "slide_type": "subslide"
    }
   },
   "source": [
    "## Procrustes"
   ]
  },
  {
   "cell_type": "code",
   "execution_count": 102,
   "metadata": {
    "slideshow": {
     "slide_type": "fragment"
    }
   },
   "outputs": [],
   "source": [
    "def procrustes(A, B):\n",
    "    U, _, Vt = np.linalg.svd(B.dot(A.T))\n",
    "    return U.dot(Vt)"
   ]
  },
  {
   "cell_type": "markdown",
   "metadata": {
    "slideshow": {
     "slide_type": "subslide"
    }
   },
   "source": [
    "## Application to word vectors\n",
    "\n",
    "Let $A \\in \\mathbb{R}^{K \\times V}$ be the matrix of aligned word vectors, with words on the columns, and let $B \\in \\mathbb{R}^{K \\times V}$ be an analogous matrix of word vectors at an alternative time. Then we solve the orthogonal Procrustes problem to obtain the projection $\\Omega$."
   ]
  },
  {
   "cell_type": "code",
   "execution_count": 103,
   "metadata": {
    "slideshow": {
     "slide_type": "fragment"
    }
   },
   "outputs": [],
   "source": [
    "Omega = procrustes(vecs_aligned.T, vecs[year2].T)\n",
    "vecs_projected = Omega.dot(vecs_aligned.T).T"
   ]
  },
  {
   "cell_type": "code",
   "execution_count": 104,
   "metadata": {},
   "outputs": [
    {
     "name": "stdout",
     "output_type": "stream",
     "text": [
      "1656\n"
     ]
    }
   ],
   "source": [
    "length_of_vocab = min(vecs[year1].shape[0], vecs[year2].shape[0])\n",
    "print(length_of_vocab)"
   ]
  },
  {
   "cell_type": "code",
   "execution_count": 105,
   "metadata": {
    "slideshow": {
     "slide_type": "fragment"
    }
   },
   "outputs": [
    {
     "name": "stdout",
     "output_type": "stream",
     "text": [
      "pre-alignment:  44.722122\n",
      "pre-projection:  40.82938344931481\n",
      "after projection:  29.835868625324824\n"
     ]
    }
   ],
   "source": [
    "print('pre-alignment: ',np.linalg.norm(vecs[year2][:length_of_vocab] - vecs[year1]))\n",
    "print('pre-projection: ',np.linalg.norm(vecs[year2] - vecs_aligned))\n",
    "print('after projection: ',np.linalg.norm(vecs[year2] - vecs_projected))"
   ]
  },
  {
   "cell_type": "code",
   "execution_count": 106,
   "metadata": {
    "slideshow": {
     "slide_type": "subslide"
    }
   },
   "outputs": [
    {
     "data": {
      "image/png": "[encoded data removed]",
      "text/plain": [
       "<Figure size 576x216 with 2 Axes>"
      ]
     },
     "metadata": {
      "needs_background": "light"
     },
     "output_type": "display_data"
    }
   ],
   "source": [
    "fig, (ax1,ax2) = plt.subplots(1,2,figsize=[8,3])\n",
    "\n",
    "query = 'fish'\n",
    "vec2_no_project = vecs_aligned[vocs[year2].index(query),]\n",
    "vec2_projected = vecs_projected[vocs[year2].index(query),]\n",
    "vec1_query = vecs[year2][vocs[year2].index(query),]\n",
    "\n",
    "ax1.scatter(vec1_query, vec2_no_project)\n",
    "ax1.set_title(\"Without projection\")\n",
    "\n",
    "ax2.scatter(vec1_query, vec2_projected)\n",
    "ax2.set_title('With projection');"
   ]
  },
  {
   "cell_type": "markdown",
   "metadata": {
    "slideshow": {
     "slide_type": "fragment"
    }
   },
   "source": [
    "After projection the alignment is closer, but still far from perfect."
   ]
  },
  {
   "cell_type": "markdown",
   "metadata": {
    "slideshow": {
     "slide_type": "slide"
    }
   },
   "source": [
    "## Measuring semantic change by embedding norms\n",
    "\n",
    "After projection, we can search for words with large changes in meaning by evaluating the \"cosine distance\" between the projected embedding in $t_1$ and the embedding in $t_2$."
   ]
  },
  {
   "cell_type": "code",
   "execution_count": 107,
   "metadata": {
    "slideshow": {
     "slide_type": "fragment"
    }
   },
   "outputs": [],
   "source": [
    "def compute_cos_dist(vec1 : np.array, vec2 : np.array) -> np.array:    \n",
    "    numerator = (vec1 * vec2).sum(1)\n",
    "    denominator = np.sqrt((vec1**2).sum(1)) * np.sqrt((vec2**2).sum(1))\n",
    "    cos_dist = 1 - numerator / (1e-5 + denominator)\n",
    "\n",
    "    # eliminate words that are zeroed out\n",
    "    return cos_dist * (vec1.var(1) > 0) * (vec2.var(1) > 0)"
   ]
  },
  {
   "cell_type": "code",
   "execution_count": 108,
   "metadata": {
    "slideshow": {
     "slide_type": "fragment"
    }
   },
   "outputs": [],
   "source": [
    "cos_dist = compute_cos_dist(vecs[year2], vecs_projected)"
   ]
  },
  {
   "cell_type": "markdown",
   "metadata": {
    "slideshow": {
     "slide_type": "subslide"
    }
   },
   "source": [
    "### Top words by global metric\n",
    "\n",
    "Now let's print the words with the biggest changes from Age 1 to Age 3. \n",
    "\n",
    "The embeddings for rare words are a little weird, so let's focus on the 10K most frequent."
   ]
  },
  {
   "cell_type": "code",
   "execution_count": 109,
   "metadata": {
    "slideshow": {
     "slide_type": "subslide"
    }
   },
   "outputs": [
    {
     "name": "stdout",
     "output_type": "stream",
     "text": [
      "wee\t(ranks=135,308)\tdist=0.70\n",
      "period0 neighbors: ['market', 'swing', 'cry', 'ant', 'way', 'pig', 'home']\n",
      "period9 neighbors: ['boy', 'sparkle', 'chat', 'cute', 'once', 'spear', 'great']\n",
      "\n",
      "bottle\t(ranks=407,203)\tdist=0.61\n",
      "period0 neighbors: ['momma', 'pencil', 'doughnut', 'hiccup', 'spoon', 'puppet', 'glass']\n",
      "period9 neighbors: ['between', 'snip', 'snap', 'alley', 'tall', 'tail', 'corner']\n",
      "\n",
      "ring\t(ranks=412,207)\tdist=0.60\n",
      "period0 neighbors: ['bell', 'ding', 'gate', 'fire', 'pocket', 'around', 'bench']\n",
      "period9 neighbors: ['phone', 'change', 'news', 'price', 'sale', 'fourth', 'collect']\n",
      "\n",
      "pop\t(ranks=346,182)\tdist=0.60\n",
      "period0 neighbors: ['bubble', 'chase', 'soda', 'out', 'double', 'out_of', 'monkey']\n",
      "period9 neighbors: ['tiny', 'warm', 'sun', 'egg', 'shell', 'morning', 'rotten']\n",
      "\n",
      "anymore\t(ranks=368,605)\tdist=0.59\n",
      "period0 neighbors: ['worry', 'listen', 'allow', 'suppose', 'nobody', 'dad', 'learn']\n",
      "period9 neighbors: ['fat', 'caterpillar', 'feel', 'strong', 'hungry', 'nice', 'very']\n",
      "\n",
      "beat\t(ranks=869,912)\tdist=0.58\n",
      "period0 neighbors: ['bucket', 'chest', 'block', 'top', 'stove', 'shower', 'suitcase']\n",
      "period9 neighbors: ['cold', 'rotten', 'shell', 'lamb', 'fresh', 'weigh', 'bright']\n",
      "\n",
      "spider\t(ranks=866,558)\tdist=0.57\n",
      "period0 neighbors: ['web', 'rain', 'sun', 'handle', 'climb', 'ladder', 'water']\n",
      "period9 neighbors: ['fantastic', 'sword', 'absolute', 'snail', 'sort_of', 'double', 'rude']\n",
      "\n",
      "everywhere\t(ranks=1089,568)\tdist=0.57\n",
      "period0 neighbors: ['everyday', 'born', 'feed', 'cuddle', 'oink', 'meow', 'baby']\n",
      "period9 neighbors: ['broke', 'fan', 'attach', 'lobster', 'area', 'lamp', 'fancy']\n",
      "\n",
      "close\t(ranks=261,150)\tdist=0.56\n",
      "period0 neighbors: ['open', 'refrigerator', 'shut', 'reach', 'pull', 'door', 'zip']\n",
      "period9 neighbors: ['quick', 'snap', 'snip', 'alley', 'run', 'corner', 'bottle']\n",
      "\n",
      "lay\t(ranks=517,770)\tdist=0.55\n",
      "period0 neighbors: ['stool', 'switch', 'next_to', 'onto', 'straight', 'lie', 'pot']\n",
      "period9 neighbors: ['moon', 'light', 'star', 'traffic', 'egg', 'fairy', 'shine']\n",
      "\n",
      "through\t(ranks=124,326)\tdist=0.55\n",
      "period0 neighbors: ['town', 'round', 'bus', 'wheel', 'low', 'drive', 'garden']\n",
      "period9 neighbors: ['apple', 'plum', 'strawberry', 'pear', 'still', 'orange', 'eat']\n",
      "\n",
      "quick\t(ranks=234,662)\tdist=0.54\n",
      "period0 neighbors: ['possible', 'deal', 'total', 'practice', 'tub', 'all_gone', 'difficult']\n",
      "period9 neighbors: ['close', 'snap', 'run', 'pussy', 'snip', 'cat', 'corner']\n",
      "\n",
      "drum\t(ranks=1286,768)\tdist=0.54\n",
      "period0 neighbors: ['hum', 'naughty', 'crash', 'gentle', 'kitten', 'bang', 'meow']\n",
      "period9 neighbors: ['free', 'note', 'apparent', 'worth', 'twice', 'price', 'inch']\n",
      "\n",
      "rough\t(ranks=1264,938)\tdist=0.53\n",
      "period0 neighbors: ['tongue', 'pink', 'bump', 'skin', 'alligator', 'soft', 'its']\n",
      "period9 neighbors: ['luck', 'definite', 'burp', 'certain', 'language', 'anyway', 'neither']\n",
      "\n",
      "bounce\t(ranks=1414,237)\tdist=0.52\n",
      "period0 neighbors: ['past', 'bench', 'rug', 'count', 'ball', 'mummy', 'against']\n",
      "period9 neighbors: ['wide', 'sail', 'skirt', 'trunk', 'wind', 'whale', 'rug']\n",
      "\n",
      "everyday\t(ranks=1591,780)\tdist=0.52\n",
      "period0 neighbors: ['everywhere', 'born', 'feed', 'cuddle', 'baby', 'friend', 'fat']\n",
      "period9 neighbors: ['recent', 'bless', 'often', 'summer', 'spank', 'boss', 'luck']\n",
      "\n",
      "cousin\t(ranks=935,1217)\tdist=0.52\n",
      "period0 neighbors: ['six', 'seven', 'ten', 'eight', 'nine', 'eleven', 'five']\n",
      "period9 neighbors: ['law', 'uncle', 'brother', 'father', 'parent', 'wife', 'family']\n",
      "\n",
      "boom\t(ranks=1055,216)\tdist=0.52\n",
      "period0 neighbors: ['bang', 'crash', 'bucket', 'meow', 'accident', 'shower', 'head']\n",
      "period9 neighbors: ['smack', 'how_come', 'power', 'amaze', 'treasure', 'kill', 'bracelet']\n",
      "\n",
      "ooh\t(ranks=455,174)\tdist=0.52\n",
      "period0 neighbors: ['woo', 'whistle', 'choo', 'city', 'blow', 'puff', 'strong']\n",
      "period9 neighbors: ['choice', 'elephant', 'triangle', 'seal', 'moo', 'cool', 'goat']\n",
      "\n",
      "egg\t(ranks=201,254)\tdist=0.51\n",
      "period0 neighbors: ['bacon', 'ham', 'lobster', 'salt', 'bead', 'yuck', 'shake']\n",
      "period9 neighbors: ['pop', 'tiny', 'sun', 'rotten', 'warm', 'lay', 'moon']\n",
      "\n",
      "himself\t(ranks=539,1336)\tdist=0.51\n",
      "period0 neighbors: ['asleep', 'crunch', 'slow', 'nibble', 'angry', 'sometimes', 'calm']\n",
      "period9 neighbors: ['small', 'cocoon', 'build', 'push', 'house', 'nibble', 'beautiful']\n",
      "\n",
      "fish\t(ranks=202,189)\tdist=0.51\n",
      "period0 neighbors: ['fan', 'balloon', 'sea', 'feather', 'hen', 'caterpillar', 'tiger']\n",
      "period9 neighbors: ['momma', 'lobster', 'part', 'rid', 'hay', 'pancake', 'everywhere']\n",
      "\n",
      "inside\t(ranks=301,255)\tdist=0.50\n",
      "period0 neighbors: ['away', 'together', 'hafta', 'honey', 'onto', 'belong', 'drawer']\n",
      "period9 neighbors: ['nibble', 'cocoon', 'push', 'than', 'stay', 'hole', 'small']\n",
      "\n",
      "popsicle\t(ranks=1606,1566)\tdist=0.50\n",
      "period0 neighbors: ['burp', 'surprise', 'seal', 'underneath', 'reason', 'mind', 'speak']\n",
      "period9 neighbors: ['pudding', 'strip', 'flavor', 'sauce', 'factory', 'jam', 'cherry']\n",
      "\n",
      "hole\t(ranks=393,390)\tdist=0.49\n",
      "period0 neighbors: ['bank', 'edge', 'closet', 'trash', 'has_to', 'basket', 'contain']\n",
      "period9 neighbors: ['nibble', 'cocoon', 'inside', 'push', 'small', 'beautiful', 'flower']\n",
      "\n",
      "spray\t(ranks=1590,1543)\tdist=0.48\n",
      "period0 neighbors: ['absolute', 'rubber', 'parrot', 'queen', 'quack', 'never', 'duck']\n",
      "period9 neighbors: ['tie', 'nip', 'handle', 'broom', 'grab', 'join', 'hammer']\n",
      "\n",
      "who\t(ranks=63,58)\tdist=0.48\n",
      "period0 neighbors: ['nurse', 'matter', 'doctor', 'squirrel', 'life', 'hide', 'cloud']\n",
      "period9 neighbors: ['walk', 'close', 'tall', 'snip', 'alley', 'corner', 'snap']\n",
      "\n",
      "along\t(ranks=406,610)\tdist=0.48\n",
      "period0 neighbors: ['caterpillar', 'deep', 'balloon', 'helicopter', 'boat', 'sea', 'fan']\n",
      "period9 neighbors: ['toe', 'wall', 'pit', 'garden', 'tip', 'patter', 'walk']\n",
      "\n",
      "peek\t(ranks=1342,476)\tdist=0.48\n",
      "period0 neighbors: ['screw', 'meet', 'pea', 'hamburger', 'joke', 'fox', 'tractor']\n",
      "period9 neighbors: ['castle', 'creep', 'stare', 'mountain', 'proud', 'lead', 'asleep']\n",
      "\n",
      "shell\t(ranks=1372,954)\tdist=0.47\n",
      "period0 neighbors: ['chick', 'its', 'break', 'chicken', 'fuzz', 'out_of', 'sea']\n",
      "period9 neighbors: ['rotten', 'lamb', 'sparkle', 'crack', 'heat', 'balloon', 'bright']\n",
      "\n",
      "crunch\t(ranks=1398,746)\tdist=0.47\n",
      "period0 neighbors: ['himself', 'nibble', 'dark', 'leaf', 'toast', 'cracker', 'fry']\n",
      "period9 neighbors: ['flavor', 'noodle', 'pudding', 'popsicle', 'plain', 'pineapple', 'banana']\n",
      "\n",
      "trip\t(ranks=824,1035)\tdist=0.47\n",
      "period0 neighbors: ['choo', 'train', 'woo', 'city', 'whistle', 'stripe', 'blow']\n",
      "period9 neighbors: ['courage', 'mostly', 'swim', 'grace', 'camp', 'newspaper', 'plug']\n",
      "\n",
      "kitty\t(ranks=443,124)\tdist=0.47\n",
      "period0 neighbors: ['cat', 'cow', 'tiger', 'owl', 'sheep', 'lamb', 'kitten']\n",
      "period9 neighbors: ['cat', 'jump', 'carriage', 'corner', 'pussy', 'chase', 'knock']\n",
      "\n",
      "push\t(ranks=235,83)\tdist=0.47\n",
      "period0 neighbors: ['upside', 'button', 'again', 'pull', 'knock', 'reach', 'onto']\n",
      "period9 neighbors: ['cocoon', 'nibble', 'inside', 'himself', 'hole', 'way', 'small']\n",
      "\n",
      "pat\t(ranks=1136,498)\tdist=0.47\n",
      "period0 neighbors: ['bunny', 'rabbit', 'hop', 'rope', 'clown', 'elephant', 'rooster']\n",
      "period9 neighbors: ['mike', 'hello', 'aunt', 'along', 'everyone', 'daddy', 'delivery']\n",
      "\n",
      "build\t(ranks=249,366)\tdist=0.47\n",
      "period0 neighbors: ['now', 'okay', 'first', 'shall', 'towel', 'hafta', 'try']\n",
      "period9 neighbors: ['himself', 'small', 'house', 'call', 'push', 'cartoon', 'inside']\n",
      "\n",
      "small\t(ranks=381,430)\tdist=0.46\n",
      "period0 neighbors: ['fat', 'tall', 'short', 'giraffe', 'winter', 'clever', 'hungry']\n",
      "period9 neighbors: ['himself', 'cocoon', 'build', 'inside', 'push', 'nibble', 'beautiful']\n",
      "\n",
      "spin\t(ranks=1294,483)\tdist=0.46\n",
      "period0 neighbors: ['shake', 'bead', 'slip', 'around', 'stick', 'lobster', 'bacon']\n",
      "period9 neighbors: ['almost', 'brilliant', 'turtle', 'magnet', 'cheat', 'steady', 'ease']\n",
      "\n",
      "anyone\t(ranks=1073,1350)\tdist=0.46\n",
      "period0 neighbors: ['young', 'dinosaur', 'woman', 'tiger', 'puppy', 'beautiful', 'beard']\n",
      "period9 neighbors: ['glad', 'somebody', 'music', 'teach', 'learn', 'whenever', 'behave']\n",
      "\n",
      "corner\t(ranks=525,1223)\tdist=0.46\n",
      "period0 neighbors: ['match', 'race', 'bin', 'moment', 'pot', 'brick', 'puzzle']\n",
      "period9 neighbors: ['snap', 'snip', 'alley', 'jump', 'close', 'bottle', 'run']\n",
      "\n",
      "snap\t(ranks=509,627)\tdist=0.46\n",
      "period0 neighbors: ['stir', 'zip', 'fill', 'straight', 'calm', 'mix', 'wind']\n",
      "period9 neighbors: ['snip', 'corner', 'alley', 'close', 'bottle', 'quick', 'run']\n",
      "\n",
      "ball\t(ranks=362,45)\tdist=0.46\n",
      "period0 neighbors: ['wanna', 'mummy', 'with', 'catch', 'throw', 'play', 'pen']\n",
      "period9 neighbors: ['dolphin', 'anchor', 'web', 'alligator', 'sunshine', 'kite', 'comfort']\n",
      "\n",
      "run\t(ranks=189,282)\tdist=0.46\n",
      "period0 neighbors: ['safe', 'from', 'into', 'become', 'picnic', 'street', 'office']\n",
      "period9 neighbors: ['quick', 'snip', 'snap', 'close', 'alley', 'corner', 'cat']\n",
      "\n",
      "nibble\t(ranks=826,1360)\tdist=0.45\n",
      "period0 neighbors: ['loose', 'lettuce', 'circus', 'lamp', 'uncle', 'fool', 'ketchup']\n",
      "period9 neighbors: ['cocoon', 'hole', 'push', 'inside', 'himself', 'small', 'beautiful']\n",
      "\n",
      "kiss\t(ranks=605,142)\tdist=0.45\n",
      "period0 neighbors: ['hug', 'give', 'kitten', 'puppy', 'bone', 'naughty', 'thumb']\n",
      "period9 neighbors: ['hug', 'dance', 'glad', 'surprise', 'mommy', 'upset', 'daddy']\n",
      "\n",
      "call\t(ranks=100,180)\tdist=0.45\n",
      "period0 neighbors: ['tire', 'scare', 'as_well', 'everyone', 'sleep', 'luck', 'awake']\n",
      "period9 neighbors: ['build', 'cartoon', 'himself', 'small', 'house', 'stay', 'than']\n",
      "\n",
      "kick\t(ranks=969,421)\tdist=0.44\n",
      "period0 neighbors: ['stamp', 'ball', 'each', 'practice', 'kite', 'catch', 'dance']\n",
      "period9 neighbors: ['kite', 'kangaroo', 'scooter', 'skirt', 'web', 'bracelet', 'flag']\n",
      "\n",
      "sweet\t(ranks=401,601)\tdist=0.44\n",
      "period0 neighbors: ['clever', 'thirst', 'thank_you', 'potato', 'carrot', 'squirrel', 'great']\n",
      "period9 neighbors: ['cereal', 'soup', 'jelly', 'biscuit', 'rice', 'delicious', 'dessert']\n",
      "\n",
      "toe\t(ranks=881,277)\tdist=0.44\n",
      "period0 neighbors: ['tummy', 'lick', 'foot', 'tickle', 'finger', 'belly', 'leg']\n",
      "period9 neighbors: ['wall', 'pit', 'patter', 'garden', 'walk', 'along', 'tip']\n",
      "\n",
      "moo\t(ranks=1167,243)\tdist=0.44\n",
      "period0 neighbors: ['cow', 'goat', 'sheep', 'hello', 'horse', 'lion', 'kitty']\n",
      "period9 neighbors: ['rhinoceros', 'lobster', 'triangle', 'mustache', 'ooh', 'parrot', 'all_gone']\n",
      "\n"
     ]
    }
   ],
   "source": [
    "thresh = 3000\n",
    "for idx in cos_dist[:thresh].argsort()[::-1][:50]:\n",
    "    word = vocs[year2][idx]\n",
    "    print(f'{word}\\t(ranks={idx},{vocs[year1].index(word)})\\tdist={cos_dist[idx]:.2f}')\n",
    "    print(f'{year1} neighbors: {neighbors(word, vecs_projected, vocs[year2], K=7)}')\n",
    "    print(f'{year2} neighbors: {neighbors(word, vecs[year2], vocs[year2], K=7)}\\n')"
   ]
  },
  {
   "cell_type": "markdown",
   "metadata": {
    "slideshow": {
     "slide_type": "subslide"
    }
   },
   "source": [
    "Better! A few preprocessing effects (\"00\" and \"addison\"), but most of these changes are interpretable as emerging word senses (\"aids\", \"peer\", \"approaches\", \"facility\", \"film\", and \"resource\")."
   ]
  },
  {
   "cell_type": "markdown",
   "metadata": {
    "slideshow": {
     "slide_type": "slide"
    }
   },
   "source": [
    "## Measuring semantic change by near neighbors\n",
    "\n",
    "A concern with comparing word embeddings directly is that different parts of the embedding space may have different densities, so that cosine distances are not comparable across the entire space. \n",
    "\n",
    "To address this problem, [Hamilton et al (2016b)](https://nlp.stanford.edu/pubs/hamilton2016cultural.pdf) propose a \"local\" technique:\n",
    "\n",
    "1. For word $w$ at time $t$, identify $K$-nearest neighbors $\\mathcal{N}_t(w)$\n",
    "2. Compute the vector of cosine similarities to the union of these neighbors,\n",
    "\n",
    "\\begin{align}\n",
    "\\vec{s}_t(w) = &{} [\\cos(x_{t}(w), x_t(w')) : w' \\in \\mathcal{N}_t(w) \\cup \\mathcal{N}_{t'}(w)]\\\\\n",
    "\\vec{s}_{t'}(w) = &{} [\\cos(x_{t'}(w), x_{t'}(w')) : w' \\in \\mathcal{N}_t(w) \\cup \\mathcal{N}_{t'}(w)]\\\\\n",
    "\\end{align}\n",
    "\n",
    "3. Compute the cosine distance between these two vectors, $D_{t,t'}(w) = 1 - \\cos(\\vec{s}_t(w), \\vec{s}_{t'}(w))$."
   ]
  },
  {
   "cell_type": "markdown",
   "metadata": {
    "slideshow": {
     "slide_type": "subslide"
    }
   },
   "source": [
    "Intuitively, if a word acquires a large number of new neighbors at $t'$, and these neighbors had very different embeddings from $x_t(w)$ at time $t$, then the distance will be large; if the neighbors and their similarities to $w$ are roughly the same at $t$ and $t'$, then the distance will be small. Let's compute it."
   ]
  },
  {
   "cell_type": "markdown",
   "metadata": {
    "slideshow": {
     "slide_type": "subslide"
    }
   },
   "source": [
    "#### Example"
   ]
  },
  {
   "cell_type": "code",
   "execution_count": 110,
   "metadata": {
    "slideshow": {
     "slide_type": "fragment"
    }
   },
   "outputs": [
    {
     "name": "stdout",
     "output_type": "stream",
     "text": [
      "['remember', 'grape', 'neat', 'will', 'eat']\n",
      "['neat', 'love', 'dinosaur', 'pretty', 'sound']\n"
     ]
    }
   ],
   "source": [
    "query = 'like'\n",
    "nn_old = neighbors(query, vecs[year1], vocs[year1], K=5)\n",
    "nn_new = neighbors(query, vecs[year2], vocs[year2], K=5)\n",
    "print(nn_old)\n",
    "print(nn_new)"
   ]
  },
  {
   "cell_type": "markdown",
   "metadata": {
    "slideshow": {
     "slide_type": "subslide"
    }
   },
   "source": [
    "Now we'll construct a set of neighbors that combines these lists, omitting words that are out-of-vocabulary in either dataset."
   ]
  },
  {
   "cell_type": "code",
   "execution_count": 111,
   "metadata": {
    "slideshow": {
     "slide_type": "fragment"
    }
   },
   "outputs": [
    {
     "name": "stdout",
     "output_type": "stream",
     "text": [
      "['will', 'remember', 'neat', 'pretty', 'dinosaur', 'eat', 'grape', 'sound', 'love']\n"
     ]
    }
   ],
   "source": [
    "neighbor_set = [word for word in set(nn_old).union(set(nn_new)) \n",
    "                if (word in vocs[year1])\n",
    "                and (word in vocs[year2])\n",
    "                and (vecs[year1][vocs[year1].index(word)].var() > 0)\n",
    "                and (vecs[year2][vocs[year2].index(word)].var() > 0)]\n",
    "print(neighbor_set)"
   ]
  },
  {
   "cell_type": "markdown",
   "metadata": {
    "slideshow": {
     "slide_type": "subslide"
    }
   },
   "source": [
    "For each of these words, we will compute the cosine similarity to the query, in each dataset. \n",
    "\n",
    "Because the vectors are guaranteed to have a unit norm, the cosine similarity is identical to the dot product."
   ]
  },
  {
   "cell_type": "code",
   "execution_count": 112,
   "metadata": {
    "slideshow": {
     "slide_type": "subslide"
    }
   },
   "outputs": [],
   "source": [
    "def get_neighbor_sims(query : str, neighbor_set : set, vec : np.ndarray, voc : list) -> np.ndarray:\n",
    "    v_self = vec[voc.index(query),]\n",
    "    v_neighbors = vec[[voc.index(neighbor) for neighbor in neighbor_set],]\n",
    "    return np.dot(v_neighbors, v_self)"
   ]
  },
  {
   "cell_type": "code",
   "execution_count": 113,
   "metadata": {
    "slideshow": {
     "slide_type": "fragment"
    }
   },
   "outputs": [
    {
     "name": "stdout",
     "output_type": "stream",
     "text": [
      "[0.7863038  0.796049   0.7866426  0.74369484 0.6966046  0.7859144\n",
      " 0.7876152  0.69539815 0.7321758 ]\n",
      "[0.79064393 0.68959004 0.8464783  0.83786345 0.84157145 0.5421573\n",
      " 0.73213196 0.8374501  0.84472054]\n"
     ]
    }
   ],
   "source": [
    "sim_old = get_neighbor_sims(query,neighbor_set,vecs[year1],vocs[year1])\n",
    "sim_new = get_neighbor_sims(query,neighbor_set,vecs[year2],vocs[year2])\n",
    "print(sim_old)\n",
    "print(sim_new)"
   ]
  },
  {
   "cell_type": "markdown",
   "metadata": {
    "slideshow": {
     "slide_type": "subslide"
    }
   },
   "source": [
    "Finally, we'll measure semantic shift by the average \"distance\" between these vectors of similarities. \n",
    "\n",
    "This is a \"second order\" view of semantic change, but we will call it the *local* change, because it is based only on the local neighborhood and not the global embedding space."
   ]
  },
  {
   "cell_type": "code",
   "execution_count": 114,
   "metadata": {
    "slideshow": {
     "slide_type": "fragment"
    }
   },
   "outputs": [
    {
     "data": {
      "text/plain": [
       "0.0014187230004204644"
      ]
     },
     "execution_count": 114,
     "metadata": {},
     "output_type": "execute_result"
    }
   ],
   "source": [
    "compute_cos_dist(sim_old.reshape(1,-1), sim_new.reshape(1,-1))[0] / len(neighbor_set)"
   ]
  },
  {
   "cell_type": "markdown",
   "metadata": {
    "slideshow": {
     "slide_type": "subslide"
    }
   },
   "source": [
    "We'll now make this calculation for the entire dataset. By default, we'll just load the results, but you can recompute it from this data if you have a few minutes."
   ]
  },
  {
   "cell_type": "code",
   "execution_count": 115,
   "metadata": {
    "slideshow": {
     "slide_type": "skip"
    }
   },
   "outputs": [],
   "source": [
    "recompute_embedding_shifts = True\n",
    "emb_shift_file = os.path.join('.','data','embedding-shifts.csv')"
   ]
  },
  {
   "cell_type": "code",
   "execution_count": 116,
   "metadata": {
    "slideshow": {
     "slide_type": "skip"
    }
   },
   "outputs": [
    {
     "data": {
      "application/vnd.jupyter.widget-view+json": {
       "model_id": "c5736406634648e1bf037a3736458f68",
       "version_major": 2,
       "version_minor": 0
      },
      "text/plain": [
       "HBox(children=(IntProgress(value=0, max=1656), HTML(value='')))"
      ]
     },
     "metadata": {},
     "output_type": "display_data"
    },
    {
     "name": "stdout",
     "output_type": "stream",
     "text": [
      "\n"
     ]
    }
   ],
   "source": [
    "if recompute_embedding_shifts:\n",
    "    # this may take 5-10 minutes to execute\n",
    "    neighbor_shift = dict()\n",
    "\n",
    "    num_neighbors = 25\n",
    "\n",
    "    for word in tqdm(vocs[year2]):\n",
    "        if word in vocs[year1]:\n",
    "            nn_old = neighbors(word, vecs[year1], vocs[year1], K=num_neighbors)\n",
    "            nn_new = neighbors(word, vecs[year2], vocs[year2], K=num_neighbors)\n",
    "\n",
    "            neighbor_set = [word for word in set(nn_old).union(set(nn_new)) \n",
    "                            if (word in vocs[year1])\n",
    "                            and (word in vocs[year2])\n",
    "                            and (vecs[year1][vocs[year1].index(word)].var() > 0)\n",
    "                            and (vecs[year2][vocs[year2].index(word)].var() > 0)]\n",
    "        \n",
    "            s1 = get_neighbor_sims(word, neighbor_set, vecs[year1], vocs[year1])\n",
    "            s2 = get_neighbor_sims(word, neighbor_set, vecs[year2], vocs[year2])\n",
    "\n",
    "            dL = compute_cos_dist(s1.reshape(1,-1),s2.reshape(1,-1))[0] / len(neighbor_set)\n",
    "    \n",
    "            neighbor_shift[word] = dL\n",
    "    df_emb_shift = pd.DataFrame({'local':list(neighbor_shift.values()),\n",
    "                                 'global':[cos_dist[vocs[year2].index(word)] for word in neighbor_shift.keys()]},\n",
    "                                index=list(neighbor_shift.keys()))\n",
    "    df_emb_shift.to_csv(emb_shift_file)\n",
    "else:\n",
    "    df_emb_shift = pd.read_csv(emb_shift_file,index_col=0)"
   ]
  },
  {
   "cell_type": "markdown",
   "metadata": {
    "slideshow": {
     "slide_type": "skip"
    }
   },
   "source": [
    "Let's put the results into a dataframe."
   ]
  },
  {
   "cell_type": "code",
   "execution_count": 117,
   "metadata": {
    "slideshow": {
     "slide_type": "fragment"
    }
   },
   "outputs": [
    {
     "name": "stdout",
     "output_type": "stream",
     "text": [
      "             local    global\n",
      "nan       0.010994  0.187766\n",
      "pop       0.006257  0.597746\n",
      "cousin    0.005810  0.517822\n",
      "through   0.005705  0.547483\n",
      "popsicle  0.005422  0.499667\n",
      "kitty     0.005081  0.469718\n",
      "drum      0.004731  0.535941\n",
      "close     0.004589  0.561598\n",
      "hundred   0.004507  0.306025\n",
      "warm      0.004466  0.397084\n",
      "small     0.004287  0.464931\n",
      "push      0.004275  0.468375\n",
      "bottle    0.004175  0.606238\n",
      "ring      0.004001  0.598033\n",
      "inside    0.003809  0.500402\n",
      "dragon    0.003752  0.108974\n",
      "cat       0.003718  0.377181\n",
      "build     0.003654  0.465296\n",
      "anymore   0.003627  0.594700\n",
      "still     0.003617  0.416953\n"
     ]
    }
   ],
   "source": [
    "print(df_emb_shift.sort_values('local',ascending=False).head(20))"
   ]
  },
  {
   "cell_type": "markdown",
   "metadata": {
    "slideshow": {
     "slide_type": "subslide"
    }
   },
   "source": [
    "### Top words by \"local\" metric"
   ]
  },
  {
   "cell_type": "code",
   "execution_count": 118,
   "metadata": {
    "slideshow": {
     "slide_type": "fragment"
    }
   },
   "outputs": [
    {
     "name": "stdout",
     "output_type": "stream",
     "text": [
      "nan\n",
      "Age period0 neighbors: ['bumble', 'bee', 'craze', 'costume', 'buzz', 'hospital', 'boing']\n",
      "Age period9 neighbors: ['cook', 'rice', 'decorate', 'cereal', 'serve', 'mix', 'afterwards']\n",
      "\n",
      "pop\n",
      "Age period0 neighbors: ['weasel', 'bubble', 'chase', 'soda', 'out', 'double', 'poppy']\n",
      "Age period9 neighbors: ['tiny', 'warm', 'sun', 'egg', 'shell', 'morning', 'rotten']\n",
      "\n",
      "cousin\n",
      "Age period0 neighbors: ['six', 'seven', 'ten', 'eight', 'nine', 'eleven', 'five']\n",
      "Age period9 neighbors: ['law', 'uncle', 'brother', 'father', 'parent', 'wife', 'family']\n",
      "\n",
      "through\n",
      "Age period0 neighbors: ['town', 'round', 'bus', 'wheel', 'low', 'drive', 'weh']\n",
      "Age period9 neighbors: ['apple', 'plum', 'strawberry', 'pear', 'still', 'orange', 'eat']\n",
      "\n",
      "popsicle\n",
      "Age period0 neighbors: ['dive', 'burp', 'surprise', 'seal', 'quack_quack', 'underneath', 'reason']\n",
      "Age period9 neighbors: ['pudding', 'strip', 'flavor', 'sauce', 'factory', 'jam', 'cherry']\n",
      "\n",
      "kitty\n",
      "Age period0 neighbors: ['cat', 'cow', 'tiger', 'owl', 'sheep', 'lamb', 'camel']\n",
      "Age period9 neighbors: ['cat', 'jump', 'carriage', 'corner', 'pussy', 'chase', 'knock']\n",
      "\n",
      "drum\n",
      "Age period0 neighbors: ['hum', 'rattle', 'agah', 'naughty', 'crash', 'kaboom', 'strap']\n",
      "Age period9 neighbors: ['free', 'note', 'apparent', 'worth', 'twice', 'price', 'inch']\n",
      "\n",
      "close\n",
      "Age period0 neighbors: ['open', 'refrigerator', 'shut', 'reach', 'pull', 'door', 'zip']\n",
      "Age period9 neighbors: ['quick', 'snap', 'snip', 'alley', 'run', 'corner', 'bottle']\n",
      "\n",
      "hundred\n",
      "Age period0 neighbors: ['shark', 'silence', 'indian', 'family', 'lamp', 'xylophone', 'magic']\n",
      "Age period9 neighbors: ['twenty', 'fifteen', 'eighty', 'forty', 'sixty', 'pound', 'seventy']\n",
      "\n",
      "warm\n",
      "Age period0 neighbors: ['dry', 'sleeve', 'relax', 'leg', 'everybody', 'cover', 'slow']\n",
      "Age period9 neighbors: ['sun', 'tiny', 'pop', 'egg', 'morning', 'shine', 'caterpillar']\n",
      "\n",
      "small\n",
      "Age period0 neighbors: ['fat', 'tall', 'short', 'giraffe', 'bah', 'winter', 'clever']\n",
      "Age period9 neighbors: ['himself', 'cocoon', 'build', 'inside', 'push', 'nibble', 'beautiful']\n",
      "\n",
      "push\n",
      "Age period0 neighbors: ['upside', 'button', 'again', 'pull', 'scoot', 'knock', 'reach']\n",
      "Age period9 neighbors: ['cocoon', 'nibble', 'inside', 'himself', 'hole', 'way', 'small']\n",
      "\n",
      "bottle\n",
      "Age period0 neighbors: ['momma', 'pencil', 'doughnut', 'hiccup', 'spoon', 'pitcher', 'cheerio']\n",
      "Age period9 neighbors: ['between', 'snip', 'snap', 'alley', 'tall', 'tail', 'corner']\n",
      "\n",
      "ring\n",
      "Age period0 neighbors: ['bell', 'rose', 'ding', 'gate', 'fire', 'ling', 'posy']\n",
      "Age period9 neighbors: ['phone', 'change', 'news', 'price', 'sale', 'fourth', 'collect']\n",
      "\n",
      "inside\n",
      "Age period0 neighbors: ['away', 'together', 'hafta', 'honey', 'onto', 'belong', 'drawer']\n",
      "Age period9 neighbors: ['nibble', 'cocoon', 'push', 'than', 'stay', 'hole', 'small']\n",
      "\n",
      "dragon\n",
      "Age period0 neighbors: ['nana', 'lipstick', 'hamster', 'silence', 'octagon', 'trapezoid', 'guh']\n",
      "Age period9 neighbors: ['alive', 'boss', 'stupid', 'hunt', 'witch', 'horrible', 'clown']\n",
      "\n",
      "cat\n",
      "Age period0 neighbors: ['kitty', 'cow', 'fiddle', 'diddle', 'sheep', 'moon', 'tiger']\n",
      "Age period9 neighbors: ['pussy', 'kitty', 'jump', 'quick', 'corner', 'run', 'snap']\n",
      "\n",
      "build\n",
      "Age period0 neighbors: ['now', 'okay', 'first', 'shall', 'towel', 'hafta', 'try']\n",
      "Age period9 neighbors: ['himself', 'small', 'house', 'call', 'push', 'cartoon', 'inside']\n",
      "\n",
      "anymore\n",
      "Age period0 neighbors: ['worry', 'listen', 'allow', 'suppose', 'nobody', 'dad', 'learn']\n",
      "Age period9 neighbors: ['fat', 'caterpillar', 'feel', 'strong', 'hungry', 'nice', 'very']\n",
      "\n",
      "still\n",
      "Age period0 neighbors: ['already', 'choose', 'pause', 'trouble', 'vacation', 'complete', 'possible']\n",
      "Age period9 neighbors: ['pear', 'but', 'plum', 'strawberry', 'hungry', 'through', 'eat']\n",
      "\n"
     ]
    }
   ],
   "source": [
    "for word in df_emb_shift.sort_values('local',ascending=False).head(20).index:\n",
    "    print(word)\n",
    "    print(f'Age {year1} neighbors: {neighbors(word, vecs[year1][:thresh], vocs[year1], K=7)}')\n",
    "    print(f'Age {year2} neighbors: {neighbors(word, vecs[year2][:thresh], vocs[year2], K=7)}')\n",
    "    print()"
   ]
  },
  {
   "cell_type": "markdown",
   "metadata": {
    "slideshow": {
     "slide_type": "subslide"
    }
   },
   "source": [
    "Pretty similar, but avoids a few of the false positives in `global`, such as \"00\", while weirdly including \"the\" as the top word."
   ]
  },
  {
   "cell_type": "markdown",
   "metadata": {
    "slideshow": {
     "slide_type": "slide"
    }
   },
   "source": [
    "## Extensions\n",
    "\n",
    "- Try a number of different neighborhood sizes, and test how it affects the ranking of words. Is the \"local\" method sensitive to this parameter?\n",
    "- Hamilton et al show that more common words tend to change more slowly. Can you replicate this finding using this data?\n",
    "- Using the other datafiles, try to determine the pace of change over time; do words shift their meanings more in the late 20th century?\n"
   ]
  },
  {
   "cell_type": "code",
   "execution_count": null,
   "metadata": {},
   "outputs": [],
   "source": []
  }
 ],
 "metadata": {
  "celltoolbar": "Slideshow",
  "kernelspec": {
   "display_name": "Python 3",
   "language": "python",
   "name": "python3"
  },
  "language_info": {
   "codemirror_mode": {
    "name": "ipython",
    "version": 3
   },
   "file_extension": ".py",
   "mimetype": "text/x-python",
   "name": "python",
   "nbconvert_exporter": "python",
   "pygments_lexer": "ipython3",
   "version": "3.7.1"
  }
 },
 "nbformat": 4,
 "nbformat_minor": 2
}
