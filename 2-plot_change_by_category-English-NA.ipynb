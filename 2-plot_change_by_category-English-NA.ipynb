{
 "cells": [
  {
   "cell_type": "markdown",
   "metadata": {
    "slideshow": {
     "slide_type": "slide"
    }
   },
   "source": [
    "# Modeling Semantic Development with Dynamic Word Embeddings\n",
    "\n",
    "* [semantic changes](#semantic-changes)\n",
    "    - semantic\n",
    "    - syntactic\n",
    "- [change trend with google word2vec](#gold-google-word2vec)\n",
    "- [polysemy trend](#polysemy-trend)"
   ]
  },
  {
   "cell_type": "code",
   "execution_count": 1,
   "metadata": {
    "slideshow": {
     "slide_type": "skip"
    }
   },
   "outputs": [],
   "source": [
    "import os\n",
    "from glob import glob\n",
    "import pickle\n",
    "\n",
    "import numpy as np\n",
    "import pandas as pd\n",
    "from typing import List, Dict, Tuple, Sequence\n",
    "from collections import defaultdict, Counter\n",
    "from sklearn.manifold import TSNE\n",
    "import matplotlib.pyplot as plt\n",
    "import matplotlib.cm as cm\n",
    "%matplotlib inline\n",
    "\n",
    "from tqdm import tqdm_notebook as tqdm # convenient progressbar"
   ]
  },
  {
   "cell_type": "code",
   "execution_count": 2,
   "metadata": {},
   "outputs": [],
   "source": [
    "import gensim\n",
    "\n",
    "model = gensim.models.KeyedVectors.load_word2vec_format('./model/GoogleNews-vectors-negative300.bin', binary=True)"
   ]
  },
  {
   "cell_type": "markdown",
   "metadata": {
    "slideshow": {
     "slide_type": "subslide"
    }
   },
   "source": [
    "## semantic-changes\n",
    "- [Write-utils-functions](#Utils-functions)\n",
    "- [Link-embeddings-over-time](#Linking-embeddings-over-time)\n",
    "- [create cdi dataframe](#create-cdi-dataframe)\n",
    "- [compute-embedding-shifts-df](#compute-embedding-shifts-df)\n",
    "    - [compute-category-change](#compute-category-change)\n",
    "    - [compute-lexical-change](#compute-lexical-change)\n"
   ]
  },
  {
   "cell_type": "code",
   "execution_count": 3,
   "metadata": {},
   "outputs": [
    {
     "name": "stdout",
     "output_type": "stream",
     "text": [
      "period0 First 5 ['you', 'the', '$name$', 'be', 'that']  Size:  1853\n",
      "period1 First 5 ['you', 'the', 'do', 'be', '$name$']  Size:  1942\n",
      "period2 First 5 ['you', 'do', 'the', 'be', '$name$']  Size:  1953\n",
      "period3 First 5 ['you', 'do', 'the', 'be', '$name$']  Size:  1893\n",
      "period4 First 5 ['you', '$name$', 'i', 'the', 'do']  Size:  1934\n"
     ]
    },
    {
     "data": {
      "text/plain": [
       "array([1.0000001, 1.       , 1.0000001, ..., 0.9999999, 1.0000001,\n",
       "       1.0000001], dtype=float32)"
      ]
     },
     "execution_count": 3,
     "metadata": {},
     "output_type": "execute_result"
    }
   ],
   "source": [
    "dicts = pickle.load(open(\"./data/embeddings-over-time/embeddings-English-NA-1M-ep50-f15.pickle\",'rb'))\n",
    "\n",
    "vocs: Dict[str, List] = {k: list(v.keys()) for k, v in dicts.items()}\n",
    "years: List[str] = list(vocs.keys())\n",
    "\n",
    "# set it to 3000 is to put no constraint\n",
    "vocab_size = 3000\n",
    "\n",
    "for key, item in vocs.items():\n",
    "    print(key, \"First 5\", item[:5], \" Size: \", len(item))\n",
    "    vocs[key] = item[:vocab_size]\n",
    "vecs: Dict[str, List] = dict()\n",
    "\n",
    "for year, d in dicts.items():\n",
    "    year_vectors = np.array([list(d.values())]).reshape(-1, 100)[:vocab_size]\n",
    "#     print(year_vectors.shape)\n",
    "    vecs[year] = year_vectors / np.linalg.norm(year_vectors, axis=-1)[:, np.newaxis]\n",
    "#     for w in vecs[year] /= norms\n",
    "#     print(vecs[year])\n",
    "\n",
    "\n",
    "# sanity check\n",
    "(vecs['period1']**2).sum(1)"
   ]
  },
  {
   "cell_type": "markdown",
   "metadata": {},
   "source": [
    "### Utils-functions\n",
    "- The following functions depends on the following global variables\n",
    "    - vocs: Dict[str, List[str]]\n",
    "    - vecs: Dict[str, List[int]]\n",
    "- Only use period0 to period10\n",
    "    - remove period11 because each month has fewer words in later periods"
   ]
  },
  {
   "cell_type": "code",
   "execution_count": 4,
   "metadata": {},
   "outputs": [],
   "source": [
    "import numpy as np\n",
    "import scipy.sparse as sparse\n",
    "\n",
    "\n",
    "def neighbors(query : str,\n",
    "              embs: np.ndarray,\n",
    "              vocab: list,\n",
    "              K : int = 3) -> list:\n",
    "    \"\"\"returns k nearest neighbors for a query\"\"\"\n",
    "    sims = np.dot(embs[vocab.index(query),],embs.T)\n",
    "    output = []\n",
    "    for sim_idx in sims.argsort()[::-1][1:(1+K)]:\n",
    "        if sims[sim_idx] > 0:\n",
    "            output.append(vocab[sim_idx])\n",
    "    return output\n",
    "\n",
    "\n",
    "def neighbors_per_year(query: str, K=5) -> dict:\n",
    "    \"\"\"returns query's neighbors at each period\"\"\"\n",
    "    nns = dict()\n",
    "    for year, embs in vecs.items():\n",
    "        nns[year] = neighbors(query, embs, vocs[year], K=K)\n",
    "    return nns\n",
    "\n",
    "\n",
    "def build_alignment(year1 : str, year2 : str, vocs, vecs) -> sparse.csr_matrix:\n",
    "    \"\"\"\n",
    "    given two years (keys into vecs and vocs)\n",
    "    compute a sparse matrix M representing the permutation of word indices from the year1 vecs to the year2 vecs  \n",
    "    then the rows of v1 will be aligned with the rows of M v2 \n",
    "    \"\"\"\n",
    "   \n",
    "    all_var1 = vecs[year1].var(1)\n",
    "    all_var2 = vecs[year2].var(1)\n",
    "\n",
    "    rows = []\n",
    "    cols = []\n",
    "\n",
    "    ivoc2 = {j:i for i,j in enumerate(vocs[year2])}\n",
    "\n",
    "    for widx1,word in enumerate(vocs[year1]):\n",
    "        if all_var1[widx1] != 0 and word in set(vocs[year2]):\n",
    "            widx2 = ivoc2[word]\n",
    "            if all_var2[widx2] != 0:\n",
    "                rows.append(widx1)\n",
    "                cols.append(widx2)\n",
    "\n",
    "    align = sparse.csr_matrix(([1]*len(rows),(rows,cols)),shape=[len(vocs[year1]),len(vocs[year2])])\n",
    "    return align\n",
    "\n",
    "\n",
    "def procrustes(A, B):\n",
    "    U, _, Vt = np.linalg.svd(B.dot(A.T))\n",
    "    return U.dot(Vt)\n",
    "\n",
    "\n",
    "def compute_cos_dist(vec1 : np.array, vec2 : np.array) -> np.array:    \n",
    "    numerator = (vec1 * vec2).sum(1)\n",
    "    denominator = np.sqrt((vec1**2).sum(1)) * np.sqrt((vec2**2).sum(1))\n",
    "    cos_dist = 1 - numerator / (1e-5 + denominator)\n",
    "\n",
    "    # eliminate words that are zeroed out\n",
    "    return cos_dist * (vec1.var(1) > 0) * (vec2.var(1) > 0)\n",
    "\n",
    "\n",
    "def get_neighbor_sims(query : str, neighbor_set : set, vec : np.ndarray, voc : list) -> np.ndarray:\n",
    "    v_self = vec[voc.index(query),]\n",
    "    v_neighbors = vec[[voc.index(neighbor) for neighbor in neighbor_set],]\n",
    "    return np.dot(v_neighbors, v_self)"
   ]
  },
  {
   "cell_type": "markdown",
   "metadata": {
    "slideshow": {
     "slide_type": "skip"
    }
   },
   "source": [
    "### Linking-embeddings-over-time\n",
    "   - project year1's vecs to year2\n",
    "   - produce `cos_dist` for year2's vocab between year1 and year2\n",
    "        - fill 0 for words that are not in year1"
   ]
  },
  {
   "cell_type": "code",
   "execution_count": 5,
   "metadata": {
    "scrolled": true,
    "slideshow": {
     "slide_type": "skip"
    }
   },
   "outputs": [
    {
     "name": "stdout",
     "output_type": "stream",
     "text": [
      "align (1934, 1853)\n",
      "vecs_aligned (1934, 100)\n",
      "vecs_projected (1934, 100)\n",
      "1853\n",
      "pre-alignment:  54.86206\n",
      "pre-projection:  49.55849330377103\n",
      "after projection:  40.67210312736177\n"
     ]
    },
    {
     "data": {
      "image/png": "[encoded data removed]",
      "text/plain": [
       "<Figure size 576x216 with 2 Axes>"
      ]
     },
     "metadata": {
      "needs_background": "light"
     },
     "output_type": "display_data"
    }
   ],
   "source": [
    "# pick two years to compare\n",
    "year1 = 'period0'\n",
    "year2 = 'period4'\n",
    "\n",
    "align = build_alignment(year2, year1, vocs, vecs)\n",
    "print(\"align\", align.shape)\n",
    "vecs_aligned = align.dot(vecs[year1])\n",
    "print(\"vecs_aligned\", vecs_aligned.shape)\n",
    "\n",
    "Omega = procrustes(vecs_aligned.T, vecs[year2].T)\n",
    "vecs_projected = Omega.dot(vecs_aligned.T).T\n",
    "print(\"vecs_projected\", vecs_projected.shape)\n",
    "\n",
    "length_of_vocab = min(vecs[year1].shape[0], vecs[year2].shape[0])\n",
    "print(length_of_vocab)\n",
    "print('pre-alignment: ',np.linalg.norm(vecs[year2][:length_of_vocab] - vecs[year1]))\n",
    "print('pre-projection: ',np.linalg.norm(vecs[year2] - vecs_aligned))\n",
    "print('after projection: ',np.linalg.norm(vecs[year2] - vecs_projected))\n",
    "\n",
    "fig, (ax1,ax2) = plt.subplots(1,2,figsize=[8,3])\n",
    "\n",
    "query = 'cat'\n",
    "vec2_no_project = vecs_aligned[vocs[year2].index(query),]\n",
    "vec2_projected = vecs_projected[vocs[year2].index(query),]\n",
    "vec1_query = vecs[year2][vocs[year2].index(query),]\n",
    "\n",
    "ax1.scatter(vec1_query, vec2_no_project)\n",
    "ax1.set_title(\"Without projection\")\n",
    "\n",
    "ax2.scatter(vec1_query, vec2_projected)\n",
    "ax2.set_title('With projection');"
   ]
  },
  {
   "cell_type": "code",
   "execution_count": 6,
   "metadata": {},
   "outputs": [
    {
     "name": "stdout",
     "output_type": "stream",
     "text": [
      "cos_dist:  (1934,) [0.16457569 0.25883606 0.23076766 0.24562395 0.24395384 0.17883226\n",
      " 0.19959394 0.17218857 0.23177833 0.34082366]\n"
     ]
    }
   ],
   "source": [
    "# compute distance\n",
    "cos_dist = compute_cos_dist(vecs[year2], vecs_projected)\n",
    "print(\"cos_dist: \", cos_dist.shape, cos_dist[:10])"
   ]
  },
  {
   "cell_type": "markdown",
   "metadata": {},
   "source": [
    "### create-cdi-dataframe\n",
    "- load cdi csv\n",
    "- create number rows\n",
    "- merge two dfs"
   ]
  },
  {
   "cell_type": "code",
   "execution_count": 7,
   "metadata": {},
   "outputs": [
    {
     "name": "stdout",
     "output_type": "stream",
     "text": [
      "shape of CDI data (665, 3)\n",
      "             word category lexical_class\n",
      "0         baa_baa   sounds         other\n",
      "1       choo_choo   sounds         other\n",
      "2  cockadoodledoo   sounds         other\n",
      "3            grrr   sounds         other\n",
      "4            meow   sounds         other\n"
     ]
    }
   ],
   "source": [
    "df1 = pd.read_csv(\"data/data_cdi.csv\")\n",
    "df1 = df1[['word', 'category', 'lexical_class']]\n",
    "df1['word'] = df1['word'].apply(lambda x: '_'.join(x.split()).lower())\n",
    "print('shape of CDI data', df1.shape)\n",
    "print(df1.head(5))"
   ]
  },
  {
   "cell_type": "code",
   "execution_count": 8,
   "metadata": {},
   "outputs": [
    {
     "name": "stdout",
     "output_type": "stream",
     "text": [
      "shape of number data (28, 3)\n",
      "    word category lexical_class\n",
      "0    one   number         other\n",
      "1    two   number         other\n",
      "2  three   number         other\n",
      "3   four   number         other\n",
      "4   five   number         other\n"
     ]
    }
   ],
   "source": [
    "num_words_list = ['one', 'two', 'three', 'four', 'five', 'six', 'seven', 'eight',\n",
    "             'nine', 'ten', 'eleven', 'twelve', 'thirteen', 'fourteen', \n",
    "             'fifteen', 'sixteen', 'seventeen', 'eighteen', 'nineteen', \n",
    "             'twenty', 'thirty', 'forty', 'fifty', 'sixty', 'seventy', \n",
    "             'eighty', 'ninety', 'zero', \n",
    "#              'hundred', 'thousand', 'million', \n",
    "#              'billion', 'trillion'\n",
    "                ]\n",
    "category_list = ['number']*len(num_words_list)\n",
    "lex_list = ['other']*len(num_words_list)\n",
    "item_list = ['item_num'+ str(i) for i in range(len(num_words_list))]\n",
    "df2 = pd.DataFrame({\n",
    "    'word': num_words_list,\n",
    "    'category': category_list,\n",
    "    'lexical_class': lex_list\n",
    "})\n",
    "print('shape of number data', df2.shape)\n",
    "print(df2.head(5))"
   ]
  },
  {
   "cell_type": "code",
   "execution_count": 9,
   "metadata": {},
   "outputs": [
    {
     "name": "stdout",
     "output_type": "stream",
     "text": [
      "shape of merged data (693, 3)\n",
      "             word category lexical_class\n",
      "0         baa_baa   sounds         other\n",
      "1       choo_choo   sounds         other\n",
      "2  cockadoodledoo   sounds         other\n",
      "3            grrr   sounds         other\n",
      "4            meow   sounds         other\n"
     ]
    }
   ],
   "source": [
    "df = df1.append(df2)\n",
    "print('shape of merged data', df.shape)\n",
    "print(df.head(5))\n",
    "df.to_csv(\"data/merged_cdi.csv\")"
   ]
  },
  {
   "cell_type": "markdown",
   "metadata": {
    "slideshow": {
     "slide_type": "slide"
    }
   },
   "source": [
    "### case: Measuring semantic change by near neighbors\n"
   ]
  },
  {
   "cell_type": "code",
   "execution_count": 10,
   "metadata": {
    "slideshow": {
     "slide_type": "fragment"
    }
   },
   "outputs": [
    {
     "name": "stdout",
     "output_type": "stream",
     "text": [
      "['will', 'or', 'special', 'type', 'have']\n",
      "['want', 'at', 'ew', 'for', 'look']\n",
      "['look', 'ew', 'want', 'at', 'will', 'have', 'type', 'for', 'or', 'special']\n",
      "[0.33340368 0.28142613 0.49163592 0.44394186 0.62013257 0.51989466\n",
      " 0.52327263 0.3832301  0.56043625 0.5261944 ]\n",
      "[0.5062806  0.52623236 0.5344715  0.5314266  0.44908684 0.49671\n",
      " 0.31059927 0.5108242  0.45798713 0.36487466]\n"
     ]
    }
   ],
   "source": [
    "query = 'like'\n",
    "nn_old = neighbors(query, vecs[year1], vocs[year1], K=5)\n",
    "nn_new = neighbors(query, vecs[year2], vocs[year2], K=5)\n",
    "print(nn_old)\n",
    "print(nn_new)\n",
    "\n",
    "neighbor_set = [word for word in set(nn_old).union(set(nn_new)) \n",
    "                if (word in vocs[year1])\n",
    "                and (word in vocs[year2])\n",
    "                and (vecs[year1][vocs[year1].index(word)].var() > 0)\n",
    "                and (vecs[year2][vocs[year2].index(word)].var() > 0)]\n",
    "print(neighbor_set)\n",
    "\n",
    "sim_old = get_neighbor_sims(query,neighbor_set,vecs[year1],vocs[year1])\n",
    "sim_new = get_neighbor_sims(query,neighbor_set,vecs[year2],vocs[year2])\n",
    "print(sim_old)\n",
    "print(sim_new)"
   ]
  },
  {
   "cell_type": "markdown",
   "metadata": {},
   "source": [
    "### compute-embedding-shifts-df"
   ]
  },
  {
   "cell_type": "code",
   "execution_count": null,
   "metadata": {
    "slideshow": {
     "slide_type": "skip"
    }
   },
   "outputs": [
    {
     "name": "stderr",
     "output_type": "stream",
     "text": [
      "/opt/anaconda3/envs/change/lib/python3.6/site-packages/ipykernel_launcher.py:10: TqdmDeprecationWarning: This function will be removed in tqdm==5.0.0\n",
      "Please use `tqdm.notebook.tqdm` instead of `tqdm.tqdm_notebook`\n",
      "  # Remove the CWD from sys.path while we load stuff.\n"
     ]
    },
    {
     "data": {
      "application/vnd.jupyter.widget-view+json": {
       "model_id": "230963cc40f745a4aeb97e104c53e8bf",
       "version_major": 2,
       "version_minor": 0
      },
      "text/plain": [
       "HBox(children=(FloatProgress(value=0.0, max=1934.0), HTML(value='')))"
      ]
     },
     "metadata": {},
     "output_type": "display_data"
    }
   ],
   "source": [
    "recompute_embedding_shifts = True\n",
    "emb_shift_file = os.path.join('.','data','cdi_output_na', 'embedding-shifts.csv')\n",
    "\n",
    "if recompute_embedding_shifts:\n",
    "    # this may take 5-10 minutes to execute\n",
    "    neighbor_shift = dict()\n",
    "\n",
    "    num_neighbors = 25\n",
    "\n",
    "    for word in tqdm(vocs[year2]):\n",
    "        if word in vocs[year1]:\n",
    "            nn_old = neighbors(word, vecs[year1], vocs[year1], K=num_neighbors)\n",
    "            nn_new = neighbors(word, vecs[year2], vocs[year2], K=num_neighbors)\n",
    "\n",
    "            neighbor_set = [word for word in set(nn_old).union(set(nn_new)) \n",
    "                            if (word in vocs[year1])\n",
    "                            and (word in vocs[year2])\n",
    "                            and (vecs[year1][vocs[year1].index(word)].var() > 0)\n",
    "                            and (vecs[year2][vocs[year2].index(word)].var() > 0)]\n",
    "        \n",
    "            s1 = get_neighbor_sims(word, neighbor_set, vecs[year1], vocs[year1])\n",
    "            s2 = get_neighbor_sims(word, neighbor_set, vecs[year2], vocs[year2])\n",
    "\n",
    "            dL = compute_cos_dist(s1.reshape(1,-1),s2.reshape(1,-1))[0] / len(neighbor_set)\n",
    "    \n",
    "            neighbor_shift[word] = dL\n",
    "    df_emb_shift = pd.DataFrame({'local':list(neighbor_shift.values()),\n",
    "                                 'global':[cos_dist[vocs[year2].index(word)] for word in neighbor_shift.keys()]},\n",
    "                                index=list(neighbor_shift.keys()))\n",
    "    df_emb_shift.to_csv(emb_shift_file)\n",
    "else:\n",
    "    df_emb_shift = pd.read_csv(emb_shift_file,index_col=0)"
   ]
  },
  {
   "cell_type": "markdown",
   "metadata": {},
   "source": [
    "#### save `embedding_sift` to csv"
   ]
  },
  {
   "cell_type": "code",
   "execution_count": null,
   "metadata": {},
   "outputs": [],
   "source": [
    "print(df_emb_shift.shape)\n",
    "print(df_emb_shift.head())\n",
    "df_emb_shift.to_csv(emb_shift_file)"
   ]
  },
  {
   "cell_type": "markdown",
   "metadata": {},
   "source": [
    "### compute-semantic-change-function"
   ]
  },
  {
   "cell_type": "code",
   "execution_count": null,
   "metadata": {},
   "outputs": [],
   "source": [
    "def compute_semantic_change(df, df_emb_shift, category_name):\n",
    "    \"\"\"depends on df and df_emb_shift\"\"\"\n",
    "    global_change_per_category = defaultdict(list)\n",
    "    local_change_per_category = defaultdict(list)\n",
    "    for group_name, group_df in df.groupby([category_name]):\n",
    "    #     print(group_name, group_df.definition.values)\n",
    "        local_changes = []\n",
    "        global_changes = []\n",
    "        for word in group_df.word.values:\n",
    "            if word in df_emb_shift.index:\n",
    "                local_changes.append(df_emb_shift.loc[word]['local'])\n",
    "                global_changes.append(df_emb_shift.loc[word]['global'])\n",
    "        local_change_per_category[group_name] = sum(local_changes)/len(local_changes)\n",
    "        global_change_per_category[group_name] = sum(global_changes)/len(global_changes)\n",
    "    return local_change_per_category, global_change_per_category"
   ]
  },
  {
   "cell_type": "markdown",
   "metadata": {},
   "source": [
    "#### compute-category-change"
   ]
  },
  {
   "cell_type": "code",
   "execution_count": null,
   "metadata": {},
   "outputs": [],
   "source": [
    "local_change_per_category, global_change_per_category = compute_semantic_change(df, df_emb_shift, 'category')\n",
    "\n",
    "print(\"Rank by global change in category group\")\n",
    "for p in sorted(global_change_per_category.items(), key=lambda x: -x[1]):\n",
    "    print(p)"
   ]
  },
  {
   "cell_type": "code",
   "execution_count": null,
   "metadata": {},
   "outputs": [],
   "source": [
    "df_category = pd.DataFrame.from_dict(global_change_per_category, orient='index')\n",
    "df_category.sort_values(0).plot(kind='bar', title=\"global-category-change\")\n",
    "\n",
    "df_category = pd.DataFrame.from_dict(local_change_per_category, orient='index')\n",
    "df_category.sort_values(0).plot(kind='bar', title=\"local-category-change\")"
   ]
  },
  {
   "cell_type": "markdown",
   "metadata": {},
   "source": [
    "### compute-lexical-change"
   ]
  },
  {
   "cell_type": "code",
   "execution_count": null,
   "metadata": {},
   "outputs": [],
   "source": [
    "local_change_per_category, global_change_per_category = compute_semantic_change(df, df_emb_shift, 'lexical_class')\n",
    "\n",
    "print(\"Rank by global change in {} group\".format(\"lexical_class\"))\n",
    "for p in sorted(global_change_per_category.items(), key=lambda x: -x[1]):\n",
    "    print(p)"
   ]
  },
  {
   "cell_type": "code",
   "execution_count": null,
   "metadata": {},
   "outputs": [],
   "source": [
    "df_category = pd.DataFrame.from_dict(global_change_per_category, orient='index')\n",
    "df_category.sort_values(0).plot(kind='bar', title=\"global-lexical_class-change\")\n",
    "\n",
    "df_category = pd.DataFrame.from_dict(local_change_per_category, orient='index')\n",
    "df_category.sort_values(0).plot(kind='bar', title=\"local-lexical_class-change\")"
   ]
  },
  {
   "cell_type": "markdown",
   "metadata": {},
   "source": [
    "#### intersection between CDI and df_emb_shift"
   ]
  },
  {
   "cell_type": "code",
   "execution_count": null,
   "metadata": {},
   "outputs": [],
   "source": [
    "print(\"intersection: \", len(set(df['word'].values).intersection(df_emb_shift.index)))\n",
    "print(df[df['lexical_class'] == 'other'].head())"
   ]
  },
  {
   "cell_type": "markdown",
   "metadata": {
    "slideshow": {
     "slide_type": "subslide"
    }
   },
   "source": [
    "## gold-google-word2vec"
   ]
  },
  {
   "cell_type": "code",
   "execution_count": null,
   "metadata": {},
   "outputs": [],
   "source": [
    "query = 'twenty'\n",
    "\n",
    "word_gold_sim = []\n",
    "\n",
    "for period in years:\n",
    "\n",
    "    neighbor_words = neighbors(query, vecs[period], vocs[period], K=25)\n",
    "    sims = [model.similarity(query, w) for w in neighbor_words if w in model.vocab]\n",
    "    if sims:\n",
    "        word_gold_sim.append(sum(sims) / len(sims))\n",
    "    else:\n",
    "        word_gold_sim.append(0)\n",
    "\n",
    "plt.plot(word_gold_sim)\n",
    "plt.ylabel('cos similarity')\n",
    "plt.title(query)\n",
    "plt.show()\n"
   ]
  },
  {
   "cell_type": "code",
   "execution_count": null,
   "metadata": {},
   "outputs": [],
   "source": [
    "def plot_word_change_over_time(query, K_nearest):\n",
    "    \n",
    "    word_gold_sim = []\n",
    "    \n",
    "    if query not in model.vocab:\n",
    "#         print(\"Word [{}] not in the Google Word2Vec\".format(query))\n",
    "        return word_gold_sim\n",
    "\n",
    "    for period in years:\n",
    "        if query not in vocs[period]:\n",
    "            word_gold_sim.append(0)\n",
    "            continue\n",
    "        neighbor_words = neighbors(query, vecs[period], vocs[period], K=K_nearest)\n",
    "        sims = [model.similarity(query, w) for w in neighbor_words if w in model.vocab]\n",
    "        if sims:\n",
    "            word_gold_sim.append(sum(sims) / len(sims))\n",
    "        else:\n",
    "            word_gold_sim.append(0)\n",
    "    return word_gold_sim\n"
   ]
  },
  {
   "cell_type": "code",
   "execution_count": null,
   "metadata": {},
   "outputs": [],
   "source": [
    "K_nearest = 20\n",
    "\n",
    "def get_w2v_sim(df, group_name):\n",
    "    from collections import defaultdict\n",
    "    gold_change_per_category = defaultdict(list)\n",
    "    for group_name, group_df in df.groupby([group_name]):\n",
    "        gold_changes = []\n",
    "        for word in group_df.word.values:\n",
    "            gold_sims = plot_word_change_over_time(word, K_nearest)\n",
    "            if gold_sims:\n",
    "                gold_changes.append(gold_sims)\n",
    "            else:\n",
    "                gold_changes.append([0]*len(years))\n",
    "        gold_change_per_category[group_name] = np.array(gold_changes)\n",
    "    return gold_change_per_category"
   ]
  },
  {
   "cell_type": "markdown",
   "metadata": {},
   "source": [
    "## W2V-SIM-category-change"
   ]
  },
  {
   "cell_type": "code",
   "execution_count": null,
   "metadata": {},
   "outputs": [],
   "source": [
    "import matplotlib.pyplot as plt\n",
    "plt.style.use('seaborn-darkgrid')\n",
    "palette = plt.get_cmap('Set1')\n",
    "\n",
    "gold_change_per_category = get_w2v_sim(df, 'category')\n",
    "\n",
    "for idx, action_word in enumerate(gold_change_per_category):\n",
    "    sims = gold_change_per_category[action_word].mean(0)\n",
    "    plt.plot(sims, marker='', color=palette(idx), linewidth=1, alpha=0.9, label=action_word)\n",
    "    plt.ylabel('cos similarity')\n",
    "    plt.title(\"Google-W2V vs. {} in category\".format(action_word))\n",
    "    plt.show()"
   ]
  },
  {
   "cell_type": "code",
   "execution_count": null,
   "metadata": {},
   "outputs": [],
   "source": [
    "gold_change_per_category = get_w2v_sim(df, 'category')\n",
    "\n",
    "for idx, action_word in enumerate(gold_change_per_category):\n",
    "    sims = gold_change_per_category[action_word].mean(0)\n",
    "    plt.plot(sims, marker='', color=palette(idx), linewidth=1, alpha=0.9, label=action_word)\n",
    "plt.ylabel('cos similarity')\n",
    "plt.title(\"Google-W2V vs. {} in category\".format(action_word))\n",
    "plt.show()"
   ]
  },
  {
   "cell_type": "code",
   "execution_count": null,
   "metadata": {},
   "outputs": [],
   "source": [
    "def save_changes_to_csv(df, category_name):\n",
    "    \"\"\"save each word's W2V-SIM changes in all periods to csv\"\"\"\n",
    "    data = []\n",
    "    gold_change_per_category = get_w2v_sim(df, category_name)\n",
    "    for group_name, group_df in df.groupby([category_name]):\n",
    "        for word, sims in zip(group_df.word.values, gold_change_per_category[group_name]):\n",
    "            lexical_class = df[df.word == word].values[0][-1]\n",
    "            row = []\n",
    "            row.append(word)\n",
    "            row.append(group_name)\n",
    "            row.append(lexical_class)\n",
    "            row.extend(sims)\n",
    "            data.append(row)\n",
    "    columns = ['word', 'category', 'lexical_class'] + years\n",
    "    df_change = pd.DataFrame(data, columns=columns)\n",
    "    df_change.to_csv(\"data/cdi_output_na/google-w2v-changes-NA-K{}.csv\".format(K_nearest))\n"
   ]
  },
  {
   "cell_type": "code",
   "execution_count": null,
   "metadata": {},
   "outputs": [],
   "source": [
    "save_changes_to_csv(df, 'category')"
   ]
  },
  {
   "cell_type": "markdown",
   "metadata": {},
   "source": [
    "## W2V-SIM changes per lexical class"
   ]
  },
  {
   "cell_type": "code",
   "execution_count": null,
   "metadata": {},
   "outputs": [],
   "source": [
    "import matplotlib.pyplot as plt\n",
    "plt.style.use('seaborn-darkgrid')\n",
    "palette = plt.get_cmap('Set1')\n",
    "\n",
    "gold_change_per_lexical = get_w2v_sim(df, 'lexical_class')\n",
    "\n",
    "for idx, action_word in enumerate(gold_change_per_lexical):\n",
    "    sims = gold_change_per_lexical[action_word].mean(0)\n",
    "    plt.plot(sims, marker='', color=palette(idx), linewidth=1, alpha=0.9, label=action_word)\n",
    "    plt.ylabel('cos similarity')\n",
    "    plt.title(\"Google-W2V vs. {} in lexical_class\".format(action_word))\n",
    "    plt.show()"
   ]
  },
  {
   "cell_type": "code",
   "execution_count": null,
   "metadata": {},
   "outputs": [],
   "source": [
    "gold_change_per_lexical = get_w2v_sim(df, 'lexical_class')\n",
    "\n",
    "for idx, action_word in enumerate(gold_change_per_lexical):\n",
    "    sims = gold_change_per_lexical[action_word].mean(0)\n",
    "    plt.plot(sims, marker='', color=palette(idx), linewidth=1, alpha=0.9, label=action_word)\n",
    "plt.ylabel('cos similarity')\n",
    "plt.title(\"W2V-SIM for all lexical categories\")\n",
    "plt.show()"
   ]
  },
  {
   "cell_type": "code",
   "execution_count": null,
   "metadata": {},
   "outputs": [],
   "source": [
    "length = vecs['period0'].shape[0]\n",
    "a = np.tile(vecs['period0'][0], (length,1))"
   ]
  },
  {
   "cell_type": "code",
   "execution_count": null,
   "metadata": {},
   "outputs": [],
   "source": [
    "a[0]"
   ]
  },
  {
   "cell_type": "markdown",
   "metadata": {},
   "source": [
    "### compute-sim-between-cdi-words"
   ]
  },
  {
   "cell_type": "code",
   "execution_count": null,
   "metadata": {},
   "outputs": [],
   "source": [
    "compute_cos_dist(np.tile(vecs['period0'][0], (length,1)), vecs['period0'])"
   ]
  },
  {
   "cell_type": "code",
   "execution_count": null,
   "metadata": {},
   "outputs": [],
   "source": [
    "def compute_distances_per_period(df, period):\n",
    "    \"\"\"compute all sims for one period\"\"\"\n",
    "    intersected_words = set(df['word'].values).intersection(vocs[period])\n",
    "    voc_cdi = [w for w in vocs[period] if w in intersected_words]\n",
    "    vecs_cdi = np.array([v for i, v in enumerate(vecs[period]) if vocs[period][i] in intersected_words])\n",
    "    length = len(intersected_words)\n",
    "    assert len(voc_cdi) == len(vecs_cdi)\n",
    "    distances_period = []\n",
    "    w1_period = []\n",
    "    w2_period = []\n",
    "    for i in range(length):\n",
    "        distances = compute_cos_dist(np.tile(vecs_cdi[i], (length,1)), vecs_cdi)\n",
    "        distances_period.extend(distances)\n",
    "        w1_period.extend([voc_cdi[i]]*length)\n",
    "        w2_period.extend(voc_cdi)\n",
    "    return distances_period, w1_period, w2_period"
   ]
  },
  {
   "cell_type": "code",
   "execution_count": null,
   "metadata": {},
   "outputs": [],
   "source": [
    "for period in years:\n",
    "    print(period)\n",
    "    distances_period, w1_period, w2_period = compute_distances_per_period(df, period)\n",
    "    df_cdi_product_distance = pd.DataFrame({\n",
    "        'word1': w1_period,\n",
    "        'word2': w2_period,\n",
    "        'cos_dist': distances_period\n",
    "    })\n",
    "    df_cdi_product_distance.to_csv(\"data/cdi_output_na/{}_cdi_dist.csv\".format(period))"
   ]
  },
  {
   "cell_type": "markdown",
   "metadata": {},
   "source": [
    "## polysemy-trend\n",
    "- calculated polysemy level and save to csv"
   ]
  },
  {
   "cell_type": "code",
   "execution_count": 37,
   "metadata": {},
   "outputs": [],
   "source": [
    "import nltk\n",
    "from nltk.corpus import wordnet as wn\n",
    "\n",
    "def polysemy(word):\n",
    "    return len(wn.synsets(word))"
   ]
  },
  {
   "cell_type": "code",
   "execution_count": 38,
   "metadata": {},
   "outputs": [],
   "source": [
    "poly_levels = []\n",
    "wn_lemmas = set(wn.all_lemma_names())\n",
    "for word in df.word.values:\n",
    "    if word in wn_lemmas:\n",
    "        poly_levels.append(polysemy(word))\n",
    "    else:\n",
    "        poly_levels.append(0)"
   ]
  },
  {
   "cell_type": "code",
   "execution_count": 39,
   "metadata": {},
   "outputs": [],
   "source": [
    "df['polysemy'] = poly_levels"
   ]
  },
  {
   "cell_type": "code",
   "execution_count": 40,
   "metadata": {},
   "outputs": [],
   "source": [
    "df.head()\n",
    "df.to_csv(\"data/merged_cdi_polysemy.csv\")"
   ]
  },
  {
   "cell_type": "code",
   "execution_count": 41,
   "metadata": {},
   "outputs": [],
   "source": [
    "gold_change_per_polysemy = get_w2v_sim(df, 'polysemy')"
   ]
  },
  {
   "cell_type": "code",
   "execution_count": 42,
   "metadata": {},
   "outputs": [
    {
     "data": {
      "image/png": "[encoded data removed]",
      "text/plain": [
       "<Figure size 432x288 with 1 Axes>"
      ]
     },
     "metadata": {},
     "output_type": "display_data"
    }
   ],
   "source": [
    "for idx, action_word in enumerate(gold_change_per_polysemy):\n",
    "    sims = gold_change_per_polysemy[action_word].mean(0)\n",
    "    plt.plot(sims, marker='', color=palette(idx), linewidth=1, alpha=0.9, label=action_word)\n",
    "plt.ylabel('cos similarity')\n",
    "plt.title(\"W2V-SIM for all polysemy levels\")\n",
    "plt.show()"
   ]
  },
  {
   "cell_type": "code",
   "execution_count": null,
   "metadata": {},
   "outputs": [],
   "source": []
  }
 ],
 "metadata": {
  "celltoolbar": "Slideshow",
  "kernelspec": {
   "display_name": "Python 3",
   "language": "python",
   "name": "python3"
  },
  "language_info": {
   "codemirror_mode": {
    "name": "ipython",
    "version": 3
   },
   "file_extension": ".py",
   "mimetype": "text/x-python",
   "name": "python",
   "nbconvert_exporter": "python",
   "pygments_lexer": "ipython3",
   "version": "3.6.10"
  }
 },
 "nbformat": 4,
 "nbformat_minor": 2
}
