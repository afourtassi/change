{
 "cells": [
  {
   "cell_type": "markdown",
   "metadata": {
    "slideshow": {
     "slide_type": "slide"
    }
   },
   "source": [
    "# Dynamic Word Embeddings\n",
    "\n",
    "- by Jacob Eisenstein, May 2019\n",
    "- modified by Hang Jiang, Sept. 2019\n",
    "\n",
    "The previous notebook tracked how words were used by different groups over time. \n",
    "Now we'll explore how words change meaning over time, using dynamic word embeddings. The specific goals are:\n",
    "\n",
    "- Identify near-neighbors of words at various periods in time.\n",
    "- Align word embeddings over time using by solving an orthogonal Procrustes problem.\n",
    "- Rank words by semantic change from age 0 to age 3, using \"first-order\" (embedding-based) and \"second-order\" (neighbor-based) techniques."
   ]
  },
  {
   "cell_type": "markdown",
   "metadata": {
    "slideshow": {
     "slide_type": "subslide"
    }
   },
   "source": [
    "## Data acquisition\n",
    "\n",
    "Because training dynamic word embeddings is time-consuming, we'll use pretrained embeddings from [Hamilton et al](https://github.com/williamleif/histwords). As before, these embeddings are available in the [bitbucket repository](https://bitbucket.org/jacobeisenstein/language-change-tutorial-data/src/master/embeddings-over-time.tgz). \n",
    "\n",
    "1. If you have not already cloned it, please run:\n",
    "\n",
    "```\n",
    "git clone https://bitbucket.org/jacobeisenstein/language-change-tutorial-data.git\n",
    "\n",
    "```\n",
    "2. Then link or move the directory into `../data`,\n",
    "```\n",
    "cd data; ln -s ../language-change-tutorial-data/embeddings-over-time\n",
    "```\n"
   ]
  },
  {
   "cell_type": "code",
   "execution_count": 2,
   "metadata": {
    "slideshow": {
     "slide_type": "skip"
    }
   },
   "outputs": [],
   "source": [
    "import os\n",
    "from glob import glob\n",
    "import pickle\n",
    "\n",
    "import numpy as np\n",
    "import pandas as pd\n",
    "import matplotlib.pyplot as plt\n",
    "%matplotlib inline\n",
    "\n",
    "from tqdm import tqdm_notebook as tqdm # convenient progressbar"
   ]
  },
  {
   "cell_type": "markdown",
   "metadata": {
    "slideshow": {
     "slide_type": "subslide"
    }
   },
   "source": [
    "## Data loading"
   ]
  },
  {
   "cell_type": "code",
   "execution_count": 3,
   "metadata": {},
   "outputs": [
    {
     "name": "stdout",
     "output_type": "stream",
     "text": [
      "(1106, 100)\n",
      "[[ 0.09955715 -0.01613173  0.01863669 ... -0.24227965 -0.04198108\n",
      "   0.09792186]\n",
      " [ 0.00414176 -0.11482116 -0.10943656 ...  0.12671569  0.12409339\n",
      "  -0.0757904 ]\n",
      " [ 0.14456597  0.06232343 -0.06673271 ... -0.17482287  0.01226527\n",
      "   0.04235525]\n",
      " ...\n",
      " [ 0.12435605  0.04135474 -0.08706639 ... -0.15162618 -0.00971869\n",
      "  -0.02547862]\n",
      " [ 0.11133149  0.0208369  -0.0716225  ... -0.20013537 -0.00942668\n",
      "   0.03248657]\n",
      " [ 0.02439606 -0.00722408 -0.00411762 ... -0.14964803 -0.02218689\n",
      "   0.02327476]]\n",
      "(4324, 100)\n",
      "[[-0.01634657  0.00807319  0.07357773 ...  0.1207446  -0.11049235\n",
      "   0.02366184]\n",
      " [-0.04880011 -0.09047389  0.07564899 ...  0.07464469 -0.03567304\n",
      "  -0.11710779]\n",
      " [ 0.04724394 -0.03434989  0.01360201 ...  0.11452807  0.08729791\n",
      "   0.05257946]\n",
      " ...\n",
      " [-0.0593846   0.12744443 -0.16291556 ...  0.16967757  0.0861298\n",
      "   0.1364089 ]\n",
      " [ 0.14035253 -0.05965653  0.14019345 ... -0.15180631  0.02578908\n",
      "   0.15354733]\n",
      " [-0.00157491 -0.10671422  0.07831632 ... -0.19469295 -0.08446645\n",
      "   0.24865307]]\n",
      "(5967, 100)\n",
      "[[-0.03991591  0.0743582  -0.07626755 ...  0.07089183 -0.02343644\n",
      "   0.01130592]\n",
      " [ 0.11315763 -0.06606454  0.21463615 ... -0.07580116  0.07551767\n",
      "   0.01591861]\n",
      " [-0.08738413  0.06912686 -0.00507498 ... -0.15673378  0.02023716\n",
      "   0.0324951 ]\n",
      " ...\n",
      " [ 0.13578422  0.10858129  0.16833626 ... -0.13537599 -0.07226963\n",
      "   0.20815815]\n",
      " [ 0.0397308  -0.0611853   0.02468573 ... -0.0163596  -0.08969063\n",
      "   0.24148685]\n",
      " [ 0.09669081  0.03284667  0.06539647 ... -0.14801195 -0.02075312\n",
      "   0.10384879]]\n",
      "(5386, 100)\n",
      "[[-3.67275588e-02  1.88383330e-02 -6.73724189e-02 ...  4.76111509e-02\n",
      "  -8.32062513e-02 -1.55077726e-01]\n",
      " [-2.38121506e-02 -3.23570445e-02 -1.09154567e-01 ...  6.67202249e-02\n",
      "   7.57883787e-02 -6.21229298e-02]\n",
      " [ 1.16805606e-01 -9.30811092e-02 -1.59467503e-01 ... -9.19006318e-02\n",
      "   1.87989086e-01 -1.59984957e-02]\n",
      " ...\n",
      " [ 9.32378769e-02  9.07431170e-03  4.49862611e-03 ... -5.31701669e-02\n",
      "   1.73572619e-02  2.29960456e-01]\n",
      " [ 8.51802304e-02 -9.07081962e-02 -7.57073537e-02 ... -1.52373314e-01\n",
      "   6.19969703e-02  1.88039407e-01]\n",
      " [ 2.31036887e-01 -3.23770419e-02 -2.07910605e-04 ... -1.12924926e-01\n",
      "   1.85679849e-02  2.85072833e-01]]\n"
     ]
    }
   ],
   "source": [
    "from typing import List, Dict, Tuple, Sequence\n",
    "base_dir = os.path.join('/Users/hang/Desktop/2019-fall/change/','childes_data','embeddings-over-time') # make sure you expand the tar file in ../data\n",
    "dicts = pickle.load(open(os.path.join(base_dir,'embeddings-over-time-vocabs-ep3.pickle'),'rb'))\n",
    "\n",
    "vocs: Dict[int, List] = {k: list(v.keys()) for k, v in dicts.items()}\n",
    "years: List[int] = list(vocs.keys()) # 0, 1\n",
    "# print(vocs)\n",
    "vecs: Dict[int, List] = dict()\n",
    "    \n",
    "# 0 ./childes_data/adult_utterances_age_corpus_48_60 .csv\n",
    "# 1 ./childes_data/adult_utterances_age_corpus_0_12.csv\n",
    "# 2 ./childes_data/adult_utterances_age_corpus_36_48 .csv\n",
    "# 3 ./childes_data/adult_utterances_age_corpus _12_24 .csv\n",
    "\n",
    "for year, d in dicts.items():\n",
    "    year_vectors = np.array([list(d.values())]).reshape(-1, 100)\n",
    "    print(year_vectors.shape)\n",
    "    vecs[year] = year_vectors / np.linalg.norm(year_vectors, axis=-1)[:, np.newaxis]\n",
    "#     for w in vecs[year] /= norms\n",
    "    print(vecs[year])"
   ]
  },
  {
   "cell_type": "code",
   "execution_count": 4,
   "metadata": {
    "slideshow": {
     "slide_type": "fragment"
    }
   },
   "outputs": [
    {
     "data": {
      "text/plain": [
       "array([1.0000001 , 0.99999994, 1.0000001 , ..., 0.99999994, 1.0000001 ,\n",
       "       0.9999998 ], dtype=float32)"
      ]
     },
     "execution_count": 4,
     "metadata": {},
     "output_type": "execute_result"
    }
   ],
   "source": [
    "(vecs[1]**2).sum(1)"
   ]
  },
  {
   "cell_type": "markdown",
   "metadata": {
    "slideshow": {
     "slide_type": "fragment"
    }
   },
   "source": [
    "Vectors are initialized to have a Euclidean norm of $1$. There are different number of words per year, listed in `vocs[year]`."
   ]
  },
  {
   "cell_type": "markdown",
   "metadata": {
    "slideshow": {
     "slide_type": "slide"
    }
   },
   "source": [
    "# Near neighbors\n",
    "\n",
    "Let's start by computing some near neighbors. In general, this is done by computing cosine similarity between word vectors,\n",
    "\\begin{equation}\n",
    "s(\\vec{x},\\vec{y}) = \\frac{\\vec{x} \\cdot \\vec{y}}{||\\vec{x}|| \\times || \\vec{y} ||}.\n",
    "\\end{equation}\n",
    "\n",
    "However, because these embeddings have a guaranteed norm of 1, the denominator can be ignored, so we need only consider the dot product."
   ]
  },
  {
   "cell_type": "code",
   "execution_count": 5,
   "metadata": {
    "slideshow": {
     "slide_type": "skip"
    }
   },
   "outputs": [],
   "source": [
    "def neighbors(query : str,\n",
    "              embs: np.ndarray,\n",
    "              vocab: list,\n",
    "              K : int = 3) -> list:\n",
    "    sims = np.dot(embs[vocab.index(query),],embs.T)\n",
    "    output = []\n",
    "    for sim_idx in sims.argsort()[::-1][1:(1+K)]:\n",
    "        if sims[sim_idx] > 0:\n",
    "            output.append(vocab[sim_idx])\n",
    "    return output"
   ]
  },
  {
   "cell_type": "code",
   "execution_count": 6,
   "metadata": {
    "slideshow": {
     "slide_type": "skip"
    }
   },
   "outputs": [],
   "source": [
    "# a convenience function to compute the nearest neighbors per year\n",
    "def neighbors_per_year(query: str, K=5) -> dict:\n",
    "    nns = dict()\n",
    "    for year, embs in vecs.items():\n",
    "        nns[year] = neighbors(query, embs, vocs[year], K=K)\n",
    "    return nns"
   ]
  },
  {
   "cell_type": "markdown",
   "metadata": {
    "slideshow": {
     "slide_type": "subslide"
    }
   },
   "source": [
    "## Examples"
   ]
  },
  {
   "cell_type": "code",
   "execution_count": 7,
   "metadata": {
    "slideshow": {
     "slide_type": "fragment"
    }
   },
   "outputs": [
    {
     "name": "stdout",
     "output_type": "stream",
     "text": [
      "0 ['everybody', 'hurry', 'Mickey_Mouse', 'bud', 'laundry']\n",
      "1 ['Daddy', 'dad', 'mommy', 'Mommy', 'ma']\n",
      "2 ['mommy', 'mum', 'Daddy', 'dad', 'mom']\n",
      "3 ['mommy', 'Daddy', 'ma', 'mum', 'dad']\n"
     ]
    }
   ],
   "source": [
    "for year, nn_list in neighbors_per_year('daddy').items():\n",
    "    print(year, nn_list)"
   ]
  },
  {
   "cell_type": "code",
   "execution_count": 8,
   "metadata": {
    "slideshow": {
     "slide_type": "fragment"
    }
   },
   "outputs": [
    {
     "name": "stdout",
     "output_type": "stream",
     "text": [
      "0 ['our', 'frog', 'mamama', 'short', 'rest']\n",
      "1 ['puppy', 'fox', 'kitty', 'clown', 'mouse']\n",
      "2 ['kitty', 'cow', 'cat', 'horse', 'sheep']\n",
      "3 ['cat', 'kitty', 'cow', 'horse', 'sheep']\n"
     ]
    }
   ],
   "source": [
    "for year, nn_list in neighbors_per_year('dog').items():\n",
    "    print(year, nn_list)"
   ]
  },
  {
   "cell_type": "code",
   "execution_count": 9,
   "metadata": {
    "slideshow": {
     "slide_type": "fragment"
    }
   },
   "outputs": [
    {
     "name": "stdout",
     "output_type": "stream",
     "text": [
      "0 ['by', 'rain', 'knee', 'knock', 'yourself']\n",
      "1 ['sky', 'tunnel', 'light', 'river', 'plane']\n",
      "2 ['warm', 'cloud', 'shine', 'air', 'wind']\n",
      "3 ['warm', 'pop', 'egg', 'Sunday', 'tiny']\n"
     ]
    }
   ],
   "source": [
    "for year, nn_list in neighbors_per_year('sun').items():\n",
    "    print(year, nn_list)"
   ]
  },
  {
   "cell_type": "markdown",
   "metadata": {
    "slideshow": {
     "slide_type": "subslide"
    }
   },
   "source": [
    "### Exercise \n",
    "\n",
    "Try to find an example with as many similar neighbors as possible in age 1 and age 3; try to find another example as few similar neighbors as possible."
   ]
  },
  {
   "cell_type": "markdown",
   "metadata": {
    "slideshow": {
     "slide_type": "skip"
    }
   },
   "source": [
    "# Linking embedding over time\n",
    "\n",
    "The first task is simple to align words across vocabularies. We will do this by building a sparse permutation matrix."
   ]
  },
  {
   "cell_type": "code",
   "execution_count": 10,
   "metadata": {
    "slideshow": {
     "slide_type": "skip"
    }
   },
   "outputs": [],
   "source": [
    "import scipy.sparse as sparse"
   ]
  },
  {
   "cell_type": "code",
   "execution_count": 11,
   "metadata": {
    "slideshow": {
     "slide_type": "skip"
    }
   },
   "outputs": [],
   "source": [
    "def build_alignment(year1 : int, year2 : int) -> sparse.csr_matrix:\n",
    "    # given two years (keys into vecs and vocs)\n",
    "    # compute a sparse matrix M representing the permutation of word indices from the year1 vecs to the year2 vecs  \n",
    "    # then the rows of v1 will be aligned with the rows of M v2 \n",
    "    \n",
    "    all_var1 = vecs[year1].var(1)\n",
    "    all_var2 = vecs[year2].var(1)\n",
    "\n",
    "    rows = []\n",
    "    cols = []\n",
    "\n",
    "    ivoc2 = {j:i for i,j in enumerate(vocs[year2])}\n",
    "\n",
    "    for widx1,word in enumerate(vocs[year1]):\n",
    "        if all_var1[widx1] != 0 and word in vocs[year2]:\n",
    "            widx2 = ivoc2[word]\n",
    "            if all_var2[widx2] != 0:\n",
    "                rows.append(widx1)\n",
    "                cols.append(widx2)\n",
    "\n",
    "    align = sparse.csr_matrix(([1]*len(rows),(rows,cols)),shape=[len(vocs[year1]),len(vocs[year2])])\n",
    "    return align"
   ]
  },
  {
   "cell_type": "code",
   "execution_count": 12,
   "metadata": {
    "slideshow": {
     "slide_type": "skip"
    }
   },
   "outputs": [],
   "source": [
    "# for the rest of the notebook, we'll focus on the contrast between age 1 and age 3\n",
    "year1 = 1\n",
    "year2 = 3"
   ]
  },
  {
   "cell_type": "code",
   "execution_count": 13,
   "metadata": {
    "slideshow": {
     "slide_type": "skip"
    }
   },
   "outputs": [],
   "source": [
    "align = build_alignment(year2, year1)"
   ]
  },
  {
   "cell_type": "code",
   "execution_count": 14,
   "metadata": {
    "slideshow": {
     "slide_type": "skip"
    }
   },
   "outputs": [
    {
     "data": {
      "text/plain": [
       "<5386x4324 sparse matrix of type '<class 'numpy.int64'>'\n",
       "\twith 3130 stored elements in Compressed Sparse Row format>"
      ]
     },
     "execution_count": 14,
     "metadata": {},
     "output_type": "execute_result"
    }
   ],
   "source": [
    "align"
   ]
  },
  {
   "cell_type": "code",
   "execution_count": 15,
   "metadata": {
    "slideshow": {
     "slide_type": "skip"
    }
   },
   "outputs": [],
   "source": [
    "vecs_aligned = align.dot(vecs[year1])"
   ]
  },
  {
   "cell_type": "markdown",
   "metadata": {
    "slideshow": {
     "slide_type": "skip"
    }
   },
   "source": [
    "To validate, let's check that words in `vecs_aligned` have roughly the same near-neighbors as in `vecs[year2]`."
   ]
  },
  {
   "cell_type": "code",
   "execution_count": 16,
   "metadata": {
    "slideshow": {
     "slide_type": "skip"
    }
   },
   "outputs": [
    {
     "name": "stdout",
     "output_type": "stream",
     "text": [
      "car\n",
      "1 ['truck', 'train', 'tractor', 'garage', 'airplane', 'stroll', 'wagon']\n",
      "3 ['truck', 'boat', 'train', 'garage', 'bus', 'ambulance', 'plane'] \n",
      "\n",
      "bottle\n",
      "1 ['milk', 'cup', 'spoon', 'juice', 'pitcher', 'cookie', 'drink']\n",
      "3 ['glass', 'stone', 'basket', 'pot', 'jar', 'hose', 'sink'] \n",
      "\n",
      "dog\n",
      "1 ['puppy', 'fox', 'kitty', 'clown', 'mouse', 'lion', 'goose']\n",
      "3 ['cat', 'kitty', 'cow', 'horse', 'sheep', 'monkey', 'wolf'] \n",
      "\n",
      "love\n",
      "1 ['ask', 'thirst', 'hug', 'give', 'aunt', 'feed', 'offer']\n",
      "3 ['hate', 'enjoy', 'honest', 'bet', 'wish', 'understand', 'thirst'] \n",
      "\n"
     ]
    }
   ],
   "source": [
    "for query in ['car','bottle','dog','love']:\n",
    "    print(query)\n",
    "    print(year1, neighbors(query, vecs_aligned, vocs[year2], K=7))\n",
    "    print(year2, neighbors(query, vecs[year2], vocs[year2], K=7),'\\n')"
   ]
  },
  {
   "cell_type": "raw",
   "metadata": {
    "slideshow": {
     "slide_type": "skip"
    }
   },
   "source": [
    "\n",
    "Remember that our goal is to find words whose meanings have changed between `year1` and `year2`. Be careful: we cannot directly compare `vecs[year1]` to `vecs[year2]` because the word embeddings are not aligned. To solve this, we will search for the best orthogonal projection."
   ]
  },
  {
   "cell_type": "markdown",
   "metadata": {
    "slideshow": {
     "slide_type": "skip"
    }
   },
   "source": [
    "## Procrustes\n",
    "\n",
    "$\\newcommand{\\transpose}[1]{#1^{\\top}}$\n",
    "\n",
    "The orthogonal Procrustes problem for matrices $A$ and $B$ is to find an orthogonal projection matrix $\\Omega$ that minimizes the norm of the difference between $\\Omega A$ and $B$:\n",
    "\n",
    "\\begin{equation}\n",
    "\\min_{\\Omega} ||\\Omega A - B ||_F,\n",
    "\\end{equation}\n",
    "s.t. $\\transpose{\\Omega} \\Omega = \\mathbb{I}$, where $A, B \\in \\mathbb{R}^{K \\times V}$ are matrices of $K$-dimensional embeddings, and $\\Omega$ is therefore an orthonormal $K \\times K$ projection matrix. The norm $||M||_F = \\left(\\sum_i \\sum_j m_{i,j}^2\\right)^{1/2}$. \n",
    "\n",
    "The solution to the orthogonal Procrustes problem is obtained by performing singular value decomposition on the product,\n",
    "\n",
    "\\begin{align}\n",
    "U \\Sigma \\transpose{V} = &{} \\text{SVD}(B\\transpose{A})\\\\\n",
    "\\Omega = &{} U \\transpose{V}.\n",
    "\\end{align}\n"
   ]
  },
  {
   "cell_type": "markdown",
   "metadata": {
    "slideshow": {
     "slide_type": "subslide"
    }
   },
   "source": [
    "## Procrustes"
   ]
  },
  {
   "cell_type": "code",
   "execution_count": 17,
   "metadata": {
    "slideshow": {
     "slide_type": "fragment"
    }
   },
   "outputs": [],
   "source": [
    "def procrustes(A, B):\n",
    "    U, _, Vt = np.linalg.svd(B.dot(A.T))\n",
    "    return U.dot(Vt)"
   ]
  },
  {
   "cell_type": "markdown",
   "metadata": {
    "slideshow": {
     "slide_type": "subslide"
    }
   },
   "source": [
    "### Synthetic data"
   ]
  },
  {
   "cell_type": "code",
   "execution_count": 18,
   "metadata": {
    "slideshow": {
     "slide_type": "fragment"
    }
   },
   "outputs": [
    {
     "name": "stdout",
     "output_type": "stream",
     "text": [
      "Norm without projection:\t316.576\n",
      "Norm with projection:\t30.950\n"
     ]
    }
   ],
   "source": [
    "# randomly generate an orthogonal projection\n",
    "P1,_,_ = np.linalg.svd(np.random.randn(100,30))\n",
    "A = np.random.randn(100,1000)\n",
    "B = P1.dot(A) + 0.1 * np.random.randn(100,1000)\n",
    "\n",
    "print(f'Norm without projection:\\t{np.linalg.norm(B - A):0.3f}')\n",
    "print(f'Norm with projection:\\t{np.linalg.norm(B - procrustes(A,B).dot(A)):0.3f}')"
   ]
  },
  {
   "cell_type": "code",
   "execution_count": 19,
   "metadata": {
    "slideshow": {
     "slide_type": "subslide"
    }
   },
   "outputs": [
    {
     "data": {
      "image/png": "[encoded data removed]",
      "text/plain": [
       "<Figure size 576x216 with 2 Axes>"
      ]
     },
     "metadata": {
      "needs_background": "light"
     },
     "output_type": "display_data"
    }
   ],
   "source": [
    "fig, (ax1,ax2) = plt.subplots(1,2,figsize=[8,3])\n",
    "ax1.scatter(A[:,45],B[:,45])\n",
    "ax1.set_title(\"Without projection\")\n",
    "ax2.scatter(procrustes(A,B).dot(A[:,45]),B[:,45]);\n",
    "ax2.set_title('With projection');"
   ]
  },
  {
   "cell_type": "markdown",
   "metadata": {
    "slideshow": {
     "slide_type": "fragment"
    }
   },
   "source": [
    "**Exercise**: evaluate the projection quality while varying the amount of noise in $B$."
   ]
  },
  {
   "cell_type": "markdown",
   "metadata": {
    "slideshow": {
     "slide_type": "subslide"
    }
   },
   "source": [
    "## Application to word vectors\n",
    "\n",
    "Let $A \\in \\mathbb{R}^{K \\times V}$ be the matrix of aligned word vectors, with words on the columns, and let $B \\in \\mathbb{R}^{K \\times V}$ be an analogous matrix of word vectors at an alternative time. Then we solve the orthogonal Procrustes problem to obtain the projection $\\Omega$."
   ]
  },
  {
   "cell_type": "code",
   "execution_count": 20,
   "metadata": {
    "slideshow": {
     "slide_type": "fragment"
    }
   },
   "outputs": [],
   "source": [
    "Omega = procrustes(vecs_aligned.T, vecs[year2].T)\n",
    "vecs_projected = Omega.dot(vecs_aligned.T).T"
   ]
  },
  {
   "cell_type": "code",
   "execution_count": 21,
   "metadata": {},
   "outputs": [
    {
     "name": "stdout",
     "output_type": "stream",
     "text": [
      "4324\n"
     ]
    }
   ],
   "source": [
    "length_of_vocab = min(vecs[year1].shape[0], vecs[year2].shape[0])\n",
    "print(length_of_vocab)"
   ]
  },
  {
   "cell_type": "code",
   "execution_count": 22,
   "metadata": {
    "slideshow": {
     "slide_type": "fragment"
    }
   },
   "outputs": [
    {
     "name": "stdout",
     "output_type": "stream",
     "text": [
      "pre-alignment:  80.9609\n",
      "pre-projection:  80.6369473082392\n",
      "after projection:  66.70061763012454\n"
     ]
    }
   ],
   "source": [
    "print('pre-alignment: ',np.linalg.norm(vecs[year2][:length_of_vocab] - vecs[year1]))\n",
    "print('pre-projection: ',np.linalg.norm(vecs[year2] - vecs_aligned))\n",
    "print('after projection: ',np.linalg.norm(vecs[year2] - vecs_projected))"
   ]
  },
  {
   "cell_type": "code",
   "execution_count": 23,
   "metadata": {
    "slideshow": {
     "slide_type": "subslide"
    }
   },
   "outputs": [
    {
     "data": {
      "image/png": "[encoded data removed]",
      "text/plain": [
       "<Figure size 576x216 with 2 Axes>"
      ]
     },
     "metadata": {
      "needs_background": "light"
     },
     "output_type": "display_data"
    }
   ],
   "source": [
    "fig, (ax1,ax2) = plt.subplots(1,2,figsize=[8,3])\n",
    "\n",
    "query = 'fish'\n",
    "vec2_no_project = vecs_aligned[vocs[year2].index(query),]\n",
    "vec2_projected = vecs_projected[vocs[year2].index(query),]\n",
    "vec1_query = vecs[year2][vocs[year2].index(query),]\n",
    "\n",
    "ax1.scatter(vec1_query, vec2_no_project)\n",
    "ax1.set_title(\"Without projection\")\n",
    "\n",
    "ax2.scatter(vec1_query, vec2_projected)\n",
    "ax2.set_title('With projection');"
   ]
  },
  {
   "cell_type": "markdown",
   "metadata": {
    "slideshow": {
     "slide_type": "fragment"
    }
   },
   "source": [
    "After projection the alignment is closer, but still far from perfect."
   ]
  },
  {
   "cell_type": "markdown",
   "metadata": {
    "slideshow": {
     "slide_type": "slide"
    }
   },
   "source": [
    "## Measuring semantic change by embedding norms\n",
    "\n",
    "After projection, we can search for words with large changes in meaning by evaluating the \"cosine distance\" between the projected embedding in $t_1$ and the embedding in $t_2$."
   ]
  },
  {
   "cell_type": "code",
   "execution_count": 24,
   "metadata": {
    "slideshow": {
     "slide_type": "fragment"
    }
   },
   "outputs": [],
   "source": [
    "def compute_cos_dist(vec1 : np.array, vec2 : np.array) -> np.array:    \n",
    "    numerator = (vec1 * vec2).sum(1)\n",
    "    denominator = np.sqrt((vec1**2).sum(1)) * np.sqrt((vec2**2).sum(1))\n",
    "    cos_dist = 1 - numerator / (1e-5 + denominator)\n",
    "\n",
    "    # eliminate words that are zeroed out\n",
    "    return cos_dist * (vec1.var(1) > 0) * (vec2.var(1) > 0)"
   ]
  },
  {
   "cell_type": "code",
   "execution_count": 25,
   "metadata": {
    "slideshow": {
     "slide_type": "fragment"
    }
   },
   "outputs": [],
   "source": [
    "cos_dist = compute_cos_dist(vecs[year2], vecs_projected)"
   ]
  },
  {
   "cell_type": "markdown",
   "metadata": {
    "slideshow": {
     "slide_type": "subslide"
    }
   },
   "source": [
    "### Top words by global metric\n",
    "\n",
    "Now let's print the words with the biggest changes from Age 1 to Age 3. \n",
    "\n",
    "The embeddings for rare words are a little weird, so let's focus on the 10K most frequent."
   ]
  },
  {
   "cell_type": "code",
   "execution_count": 26,
   "metadata": {
    "slideshow": {
     "slide_type": "subslide"
    }
   },
   "outputs": [
    {
     "name": "stdout",
     "output_type": "stream",
     "text": [
      "umhum\t(ranks=1370,3984)\tdist=1.11\n",
      "age 3 neighbors: ['please', 'paper', 'floor', 'laundry', 'puzzle', 'bring', 'honey']\n",
      "age 3 neighbors: ['Uncle_Stuart', 'dumbo', 'Mary_Poppins', 'howdy', 'hiya', 'Seymore', 'giddyup']\n",
      "\n",
      "mmmm\t(ranks=4661,2280)\tdist=1.09\n",
      "age 3 neighbors: ['grip', 'hurray', 'woah', 'Shawn', 'shot', 'koolaid', 'Dino']\n",
      "age 3 neighbors: ['blue', 'string', 'saucer', 'space', 'tree', 'helmet', 'board']\n",
      "\n",
      "whoopsie\t(ranks=4585,1305)\tdist=1.03\n",
      "age 3 neighbors: ['heehee', 'echo', 'N', 'patter', 'gulp', 'wa', 'du']\n",
      "age 3 neighbors: ['anyway', 'change', 'problem', 'ah', 'voice', 'throat', 'stop']\n",
      "\n",
      "Cathy\t(ranks=384,3154)\tdist=0.96\n",
      "age 3 neighbors: ['Mikey', 'Yvonne', 'loft', 'chowder', 'cheers', 'brilliant', 'eee']\n",
      "age 3 neighbors: ['Sylvia', 'och', 'you_know', 'Gillian', 'Mummy', 'I_mean', 'God']\n",
      "\n",
      "yah\t(ranks=5315,2089)\tdist=0.93\n",
      "age 3 neighbors: ['Cookie', 'pedal', 'Huey', 'Wendy', 'N', 'du', 'wa']\n",
      "age 3 neighbors: ['Eric', 'downstairs', 'had_to', 'slow', 'shot', 'ought_to', 'Peter']\n",
      "\n",
      "Sally\t(ranks=2084,585)\tdist=0.90\n",
      "age 3 neighbors: ['Chi', 'Mama', 'Alex', 'Bea', 'Mom', 'Matthew', 'buddy']\n",
      "age 3 neighbors: ['Huey', 'Donald', 'scritch', 'north', 'boom', 'Duck', 'highway']\n",
      "\n",
      "afterward\t(ranks=4288,4158)\tdist=0.88\n",
      "age 3 neighbors: ['shut', 'peel', 'smack', 'wait', 'wind', 'pop', 'shout']\n",
      "age 3 neighbors: ['bong', 'noone', 'Fish', 'Sabato', 'Stephan', 'Allison', 'ksh']\n",
      "\n",
      "Bobby\t(ranks=375,4013)\tdist=0.88\n",
      "age 3 neighbors: ['du', 'brr', 'ticktock', 'loft', 'ladybird', 'Marks', 'ach']\n",
      "age 3 neighbors: ['Roland', 'Kim', 'cmon', 'Anthony', 'Derwood', 'Robert', 'Mia']\n",
      "\n",
      "Peter\t(ranks=765,593)\tdist=0.86\n",
      "age 3 neighbors: ['Jamie', 'Josh', 'John', 'Daniel', 'Patrick', 'Liam', 'Larry']\n",
      "age 3 neighbors: ['Pan', 'Buzz', 'Donald', 'rat', 'Bambi', 'Hood', 'Pooh']\n",
      "\n",
      "loft\t(ranks=1292,3574)\tdist=0.86\n",
      "age 3 neighbors: ['ticktock', 'ach', 'hurray', 'brilliant', 'alrightie', 'hut', 'aye']\n",
      "age 3 neighbors: ['hill', 'hook', 'ramp', 'stage', 'counter', 'Cape', 'end']\n",
      "\n",
      "Adam\t(ranks=433,1689)\tdist=0.85\n",
      "age 3 neighbors: ['uncle', 'loo', 'niece', 'California', 'ee', 'plaster', 'god']\n",
      "age 3 neighbors: ['Paul', 'Diandra', 'Bro', 'Chi', 'Matthew', 'Todd', 'Roland']\n",
      "\n",
      "Tony\t(ranks=690,2383)\tdist=0.85\n",
      "age 3 neighbors: ['alrightie', 'du', 'okey_dokey', 'Lynn', 'Tracy', 'shush', 'brr']\n",
      "age 3 neighbors: ['cmon', 'Asher', 'Robbie', 'Bobby', 'Perri', 'Zoe', 'Anthony']\n",
      "\n",
      "handy\t(ranks=2740,2142)\tdist=0.83\n",
      "age 3 neighbors: ['thumb', 'mitten', 'lace', 'beak', 'inch', 'cousin', 'hand']\n",
      "age 3 neighbors: ['impressive', 'creative', 'generous', 'interesting', 'stubborn', 'terrific', 'desperate']\n",
      "\n",
      "liquid\t(ranks=2653,3577)\tdist=0.83\n",
      "age 3 neighbors: ['wander', 'garden', 'town', 'hedge', 'feather', 'rose', 'sail']\n",
      "age 3 neighbors: ['blend', 'comment', 'cantaloupe', 'Cornflakes', 'Hel', 'yoghurt', 'lasagna']\n",
      "\n",
      "lesson\t(ranks=1655,3605)\tdist=0.82\n",
      "age 3 neighbors: ['eighth', 'destroy', 'March', 'correct', 'repeat', 'describe', 'Florida']\n",
      "age 3 neighbors: ['B', 'photo', 'nap', 'gift', 'plan', 'W', 'vet']\n",
      "\n",
      "rubber\t(ranks=1101,1145)\tdist=0.82\n",
      "age 3 neighbors: ['quack', 'absolute', 'squeak', 'pond', 'tweet', 'hen', 'crow']\n",
      "age 3 neighbors: ['metal', 'plastic', 'stamp', 'pin', 'clip', 'trailer', 'silver']\n",
      "\n",
      "aah\t(ranks=2721,3158)\tdist=0.81\n",
      "age 3 neighbors: ['otherwise', 'scream', 'Jwww', 'although', 'Emma', 'cheer', 'pee']\n",
      "age 3 neighbors: ['boop', 'Noo_Noo', 'Lala', 'Leonard', 'giddyup', 'clickety', 'Gavin']\n",
      "\n",
      "Sarah\t(ranks=309,676)\tdist=0.80\n",
      "age 3 neighbors: ['everyday', 'mother', 'Papa', 'Bill', 'her', 'Jennifer', 'papa']\n",
      "age 3 neighbors: ['Michael', 'Chi', 'Tracy', 'Roman', 'Melissa', 'Karen', 'Joey']\n",
      "\n",
      "Nomi\t(ranks=2538,304)\tdist=0.80\n",
      "age 3 neighbors: ['Laura', 'honey', 'Anne', 'William', 'Fraser', 'grape', 'sweetie']\n",
      "age 3 neighbors: ['elastic', 'shush', 'Karming', 'toss', 'shove', 'tone', 'dart']\n",
      "\n",
      "Steven\t(ranks=641,3169)\tdist=0.79\n",
      "age 3 neighbors: ['dupe', 'hiya', 'gotcha', 'du', 'ssh', 'Marks', 'deaf']\n",
      "age 3 neighbors: ['Michael', 'Todd', 'Robbie', 'Joey', 'Matthew', 'Mia', 'Jason']\n",
      "\n"
     ]
    }
   ],
   "source": [
    "thresh = 10000\n",
    "for idx in cos_dist[:thresh].argsort()[::-1][:20]:\n",
    "    word = vocs[year2][idx]\n",
    "    print(f'{word}\\t(ranks={idx},{vocs[year1].index(word)})\\tdist={cos_dist[idx]:.2f}')\n",
    "    print(f'age {year2} neighbors: {neighbors(word, vecs_projected, vocs[year2], K=7)}')\n",
    "    print(f'age {year2} neighbors: {neighbors(word, vecs[year2], vocs[year2], K=7)}\\n')"
   ]
  },
  {
   "cell_type": "markdown",
   "metadata": {
    "slideshow": {
     "slide_type": "subslide"
    }
   },
   "source": [
    "Better! A few preprocessing effects (\"00\" and \"addison\"), but most of these changes are interpretable as emerging word senses (\"aids\", \"peer\", \"approaches\", \"facility\", \"film\", and \"resource\")."
   ]
  },
  {
   "cell_type": "markdown",
   "metadata": {
    "slideshow": {
     "slide_type": "slide"
    }
   },
   "source": [
    "## Measuring semantic change by near neighbors\n",
    "\n",
    "A concern with comparing word embeddings directly is that different parts of the embedding space may have different densities, so that cosine distances are not comparable across the entire space. \n",
    "\n",
    "To address this problem, [Hamilton et al (2016b)](https://nlp.stanford.edu/pubs/hamilton2016cultural.pdf) propose a \"local\" technique:\n",
    "\n",
    "1. For word $w$ at time $t$, identify $K$-nearest neighbors $\\mathcal{N}_t(w)$\n",
    "2. Compute the vector of cosine similarities to the union of these neighbors,\n",
    "\n",
    "\\begin{align}\n",
    "\\vec{s}_t(w) = &{} [\\cos(x_{t}(w), x_t(w')) : w' \\in \\mathcal{N}_t(w) \\cup \\mathcal{N}_{t'}(w)]\\\\\n",
    "\\vec{s}_{t'}(w) = &{} [\\cos(x_{t'}(w), x_{t'}(w')) : w' \\in \\mathcal{N}_t(w) \\cup \\mathcal{N}_{t'}(w)]\\\\\n",
    "\\end{align}\n",
    "\n",
    "3. Compute the cosine distance between these two vectors, $D_{t,t'}(w) = 1 - \\cos(\\vec{s}_t(w), \\vec{s}_{t'}(w))$."
   ]
  },
  {
   "cell_type": "markdown",
   "metadata": {
    "slideshow": {
     "slide_type": "subslide"
    }
   },
   "source": [
    "Intuitively, if a word acquires a large number of new neighbors at $t'$, and these neighbors had very different embeddings from $x_t(w)$ at time $t$, then the distance will be large; if the neighbors and their similarities to $w$ are roughly the same at $t$ and $t'$, then the distance will be small. Let's compute it."
   ]
  },
  {
   "cell_type": "markdown",
   "metadata": {
    "slideshow": {
     "slide_type": "subslide"
    }
   },
   "source": [
    "#### Example"
   ]
  },
  {
   "cell_type": "code",
   "execution_count": 27,
   "metadata": {
    "slideshow": {
     "slide_type": "fragment"
    }
   },
   "outputs": [
    {
     "name": "stdout",
     "output_type": "stream",
     "text": [
      "['want', 'rather', 'pretend', 'enjoy', 'fun']\n",
      "['fun', 'want', 'familiar', 'love', 'prefer']\n"
     ]
    }
   ],
   "source": [
    "query = 'like'\n",
    "nn_old = neighbors(query, vecs[year1], vocs[year1], K=5)\n",
    "nn_new = neighbors(query, vecs[year2], vocs[year2], K=5)\n",
    "print(nn_old)\n",
    "print(nn_new)"
   ]
  },
  {
   "cell_type": "markdown",
   "metadata": {
    "slideshow": {
     "slide_type": "subslide"
    }
   },
   "source": [
    "Now we'll construct a set of neighbors that combines these lists, omitting words that are out-of-vocabulary in either dataset."
   ]
  },
  {
   "cell_type": "code",
   "execution_count": 28,
   "metadata": {
    "slideshow": {
     "slide_type": "fragment"
    }
   },
   "outputs": [
    {
     "name": "stdout",
     "output_type": "stream",
     "text": [
      "['want', 'rather', 'pretend', 'familiar', 'enjoy', 'fun', 'prefer', 'love']\n"
     ]
    }
   ],
   "source": [
    "neighbor_set = [word for word in set(nn_old).union(set(nn_new)) \n",
    "                if (word in vocs[year1])\n",
    "                and (word in vocs[year2])\n",
    "                and (vecs[year1][vocs[year1].index(word)].var() > 0)\n",
    "                and (vecs[year2][vocs[year2].index(word)].var() > 0)]\n",
    "print(neighbor_set)"
   ]
  },
  {
   "cell_type": "markdown",
   "metadata": {
    "slideshow": {
     "slide_type": "subslide"
    }
   },
   "source": [
    "For each of these words, we will compute the cosine similarity to the query, in each dataset. \n",
    "\n",
    "Because the vectors are guaranteed to have a unit norm, the cosine similarity is identical to the dot product."
   ]
  },
  {
   "cell_type": "code",
   "execution_count": 29,
   "metadata": {
    "slideshow": {
     "slide_type": "subslide"
    }
   },
   "outputs": [],
   "source": [
    "def get_neighbor_sims(query : str, neighbor_set : set, vec : np.ndarray, voc : list) -> np.ndarray:\n",
    "    v_self = vec[voc.index(query),]\n",
    "    v_neighbors = vec[[voc.index(neighbor) for neighbor in neighbor_set],]\n",
    "    return np.dot(v_neighbors, v_self)"
   ]
  },
  {
   "cell_type": "code",
   "execution_count": 30,
   "metadata": {
    "slideshow": {
     "slide_type": "fragment"
    }
   },
   "outputs": [
    {
     "name": "stdout",
     "output_type": "stream",
     "text": [
      "[0.45704734 0.38829723 0.3705384  0.14188018 0.3598885  0.3541044\n",
      " 0.23904556 0.30166852]\n",
      "[0.42975855 0.2995243  0.12024475 0.40397727 0.24939671 0.49816003\n",
      " 0.3883096  0.3935904 ]\n"
     ]
    }
   ],
   "source": [
    "sim_old = get_neighbor_sims(query,neighbor_set,vecs[year1],vocs[year1])\n",
    "sim_new = get_neighbor_sims(query,neighbor_set,vecs[year2],vocs[year2])\n",
    "print(sim_old)\n",
    "print(sim_new)"
   ]
  },
  {
   "cell_type": "markdown",
   "metadata": {
    "slideshow": {
     "slide_type": "subslide"
    }
   },
   "source": [
    "Finally, we'll measure semantic shift by the average \"distance\" between these vectors of similarities. \n",
    "\n",
    "This is a \"second order\" view of semantic change, but we will call it the *local* change, because it is based only on the local neighborhood and not the global embedding space."
   ]
  },
  {
   "cell_type": "code",
   "execution_count": 31,
   "metadata": {
    "slideshow": {
     "slide_type": "fragment"
    }
   },
   "outputs": [
    {
     "data": {
      "text/plain": [
       "0.012492753565311432"
      ]
     },
     "execution_count": 31,
     "metadata": {},
     "output_type": "execute_result"
    }
   ],
   "source": [
    "compute_cos_dist(sim_old.reshape(1,-1), sim_new.reshape(1,-1))[0] / len(neighbor_set)"
   ]
  },
  {
   "cell_type": "markdown",
   "metadata": {
    "slideshow": {
     "slide_type": "subslide"
    }
   },
   "source": [
    "We'll now make this calculation for the entire dataset. By default, we'll just load the results, but you can recompute it from this data if you have a few minutes."
   ]
  },
  {
   "cell_type": "code",
   "execution_count": 32,
   "metadata": {
    "slideshow": {
     "slide_type": "skip"
    }
   },
   "outputs": [],
   "source": [
    "recompute_embedding_shifts = True\n",
    "emb_shift_file = os.path.join('.','data','embedding-shifts.csv')"
   ]
  },
  {
   "cell_type": "code",
   "execution_count": 33,
   "metadata": {
    "slideshow": {
     "slide_type": "skip"
    }
   },
   "outputs": [
    {
     "data": {
      "application/vnd.jupyter.widget-view+json": {
       "model_id": "6bc24818e4004bb185c97805aa9d27ff",
       "version_major": 2,
       "version_minor": 0
      },
      "text/plain": [
       "HBox(children=(IntProgress(value=0, max=5386), HTML(value='')))"
      ]
     },
     "metadata": {},
     "output_type": "display_data"
    },
    {
     "name": "stdout",
     "output_type": "stream",
     "text": [
      "\n"
     ]
    }
   ],
   "source": [
    "if recompute_embedding_shifts:\n",
    "    # this may take 5-10 minutes to execute\n",
    "    neighbor_shift = dict()\n",
    "\n",
    "    num_neighbors = 25\n",
    "\n",
    "    for word in tqdm(vocs[year2]):\n",
    "        if word in vocs[year1]:\n",
    "            nn_old = neighbors(word, vecs[year1], vocs[year1], K=num_neighbors)\n",
    "            nn_new = neighbors(word, vecs[year2], vocs[year2], K=num_neighbors)\n",
    "\n",
    "            neighbor_set = [word for word in set(nn_old).union(set(nn_new)) \n",
    "                            if (word in vocs[year1])\n",
    "                            and (word in vocs[year2])\n",
    "                            and (vecs[year1][vocs[year1].index(word)].var() > 0)\n",
    "                            and (vecs[year2][vocs[year2].index(word)].var() > 0)]\n",
    "        \n",
    "            s1 = get_neighbor_sims(word, neighbor_set, vecs[year1], vocs[year1])\n",
    "            s2 = get_neighbor_sims(word, neighbor_set, vecs[year2], vocs[year2])\n",
    "\n",
    "            dL = compute_cos_dist(s1.reshape(1,-1),s2.reshape(1,-1))[0] / len(neighbor_set)\n",
    "    \n",
    "            neighbor_shift[word] = dL\n",
    "    df_emb_shift = pd.DataFrame({'local':list(neighbor_shift.values()),\n",
    "                                 'global':[cos_dist[vocs[year2].index(word)] for word in neighbor_shift.keys()]},\n",
    "                                index=list(neighbor_shift.keys()))\n",
    "    df_emb_shift.to_csv(emb_shift_file)\n",
    "else:\n",
    "    df_emb_shift = pd.read_csv(emb_shift_file,index_col=0)"
   ]
  },
  {
   "cell_type": "markdown",
   "metadata": {
    "slideshow": {
     "slide_type": "skip"
    }
   },
   "source": [
    "Let's put the results into a dataframe."
   ]
  },
  {
   "cell_type": "code",
   "execution_count": 34,
   "metadata": {
    "slideshow": {
     "slide_type": "fragment"
    }
   },
   "outputs": [
    {
     "name": "stdout",
     "output_type": "stream",
     "text": [
      "              local    global\n",
      "umhum      0.032209  1.109406\n",
      "eee        0.023869  0.153202\n",
      "whoopsie   0.021422  1.034340\n",
      "Sally      0.019995  0.903671\n",
      "afterward  0.019183  0.881559\n",
      "mmmm       0.019178  1.090210\n",
      "loft       0.018723  0.857577\n",
      "come_on    0.016196  0.681591\n",
      "Bobby      0.016109  0.879569\n",
      "constant   0.015989  0.759752\n",
      "patter     0.015370  0.389428\n",
      "Cathy      0.015095  0.955261\n",
      "Chris      0.014366  0.678526\n",
      "sleigh     0.014239  0.554668\n",
      "yah        0.014133  0.928040\n",
      "hoppity    0.013977  0.427039\n",
      "wave       0.013775  0.699080\n",
      "Nomi       0.013278  0.797238\n",
      "Cape       0.013252  0.592877\n",
      "in_case    0.013147  0.553306\n"
     ]
    }
   ],
   "source": [
    "print(df_emb_shift.sort_values('local',ascending=False).head(20))"
   ]
  },
  {
   "cell_type": "markdown",
   "metadata": {
    "slideshow": {
     "slide_type": "subslide"
    }
   },
   "source": [
    "### Top words by \"local\" metric"
   ]
  },
  {
   "cell_type": "code",
   "execution_count": 35,
   "metadata": {
    "slideshow": {
     "slide_type": "fragment"
    }
   },
   "outputs": [
    {
     "name": "stdout",
     "output_type": "stream",
     "text": [
      "umhum\n",
      "Age 1 neighbors: ['please', 'paper', 'floor', 'laundry', 'puzzle', 'bring', 'honey']\n",
      "Age 3 neighbors: ['Uncle_Stuart', 'dumbo', 'Mary_Poppins', 'howdy', 'hiya', 'Seymore', 'giddyup']\n",
      "\n",
      "eee\n",
      "Age 1 neighbors: ['ticktock', 'ribbet', 'eggies', 'bady', 'Dawn', 'delivery', 'who_who']\n",
      "Age 3 neighbors: ['magician', 'Sneezy', 'Louisa', 'Dylan', 'G_I_Joe', 'Castle', 'Sleepy']\n",
      "\n",
      "whoopsie\n",
      "Age 1 neighbors: ['oopsie', 'dink', 'buba', 'heehee', 'kalik', 'echo', 'haup']\n",
      "Age 3 neighbors: ['anyway', 'change', 'problem', 'ah', 'voice', 'throat', 'stop']\n",
      "\n",
      "Sally\n",
      "Age 1 neighbors: ['Kalie', 'Chi', 'Violet', 'Megan', 'Mama', 'Alex', 'Bea']\n",
      "Age 3 neighbors: ['Huey', 'Donald', 'scritch', 'north', 'boom', 'Duck', 'highway']\n",
      "\n",
      "afterward\n",
      "Age 1 neighbors: ['shut', 'peel', 'smack', 'wait', 'wind', 'pop', 'shout']\n",
      "Age 3 neighbors: ['bong', 'noone', 'Fish', 'Sabato', 'Stephan', 'Allison', 'ksh']\n",
      "\n",
      "mmmm\n",
      "Age 1 neighbors: ['grip', 'hurray', 'woah', 'Humm_the_hamster', 'porpoise', 'Shawn', 'eeat']\n",
      "Age 3 neighbors: ['blue', 'string', 'saucer', 'space', 'tree', 'helmet', 'board']\n",
      "\n",
      "loft\n",
      "Age 1 neighbors: ['dumpling', 'ticktock', 'ach', 'poom', 'Everywhere', 'ribbet', 'bvoom']\n",
      "Age 3 neighbors: ['hill', 'hook', 'ramp', 'stage', 'counter', 'Cape', 'end']\n",
      "\n",
      "come_on\n",
      "Age 1 neighbors: ['Brittany', 'lookee', 'Travis', 'Bea', 'here', 'hey', 'okay']\n",
      "Age 3 neighbors: ['Le', 'tadah', 'ottoman', 'Oron', 'trapeze', 'gotcha', 'Three']\n",
      "\n",
      "Bobby\n",
      "Age 1 neighbors: ['bup', 'Tiggie', 'Babies', 'allo', 'Everywhere', 'glub', 'chrah']\n",
      "Age 3 neighbors: ['Roland', 'Kim', 'cmon', 'Anthony', 'Derwood', 'Robert', 'Mia']\n",
      "\n",
      "constant\n",
      "Age 1 neighbors: ['being', 'always', 'usual', 'just', 'although', 'Prudence', 'anyway']\n",
      "Age 3 neighbors: ['Postman', 'Donald_Duck', 'Douglas', 'oat', 'of_course', 'Nellie', 'hiya']\n",
      "\n",
      "patter\n",
      "Age 1 neighbors: ['pit', 'dowa', 'lowa', 'echo', 'Nai', 'bagah', 'buh']\n",
      "Age 3 neighbors: ['pitter', 'pitterpat', 'scritch', 'Wayland', 'Esther', 'Postman', 'G']\n",
      "\n",
      "Cathy\n",
      "Age 1 neighbors: ['bouncy_bouncy', 'Jude', 'Clip_clop', 'B_J', 'Kirsty', 'ya', 'Adolfo']\n",
      "Age 3 neighbors: ['Sylvia', 'och', 'you_know', 'Gillian', 'Mummy', 'I_mean', 'God']\n",
      "\n",
      "Chris\n",
      "Age 1 neighbors: ['chicka_chicka_boom_boom', 'Frumble', 'glub', 'Kirsty', 'Wayne', 'Dawn', 'Prairie']\n",
      "Age 3 neighbors: ['Kim', 'Tunde', 'Tanya', 'Vanessa', 'Trina', 'Stephanie', 'Summer']\n",
      "\n",
      "sleigh\n",
      "Age 1 neighbors: ['wide', 'door', 'hood', 'machine', 'refrigerator', 'Warren', 'Josh']\n",
      "Age 3 neighbors: ['workshop', 'royal', 'fist', 'stall', 'peep', 'office', 'accord']\n",
      "\n",
      "yah\n",
      "Age 1 neighbors: ['Cookie', 'chrah', 'pedal', 'boc', 'haup', 'blithe', 'Huey']\n",
      "Age 3 neighbors: ['Eric', 'downstairs', 'had_to', 'slow', 'shot', 'ought_to', 'Peter']\n",
      "\n",
      "hoppity\n",
      "Age 1 neighbors: ['hippity_hop', 'hoppity_hop', 'dum', 'slup', 'luh', 'flup', 'gabil']\n",
      "Age 3 neighbors: ['pepperoni', 'Wompa', 'leopard', 'cuckoo', 'cheers', 'G_I_Joe', 'Michele']\n",
      "\n",
      "wave\n",
      "Age 1 neighbors: ['follow', 'speak', 'talk', 'hello', 'teach', 'listen', 'cry']\n",
      "Age 3 neighbors: ['passenger', 'roar', 'cloud', 'forth', 'drop', 'porch', 'airplane']\n",
      "\n",
      "Nomi\n",
      "Age 1 neighbors: ['Eve', 'Laura', 'honey', 'Anne', 'Naima', 'William', 'Fraser']\n",
      "Age 3 neighbors: ['elastic', 'shush', 'Karming', 'toss', 'shove', 'tone', 'dart']\n",
      "\n",
      "Cape\n",
      "Age 1 neighbors: ['Cod', 'May', 'du', 'dadda', 'Marks', 'oik', 'cheers']\n",
      "Age 3 neighbors: ['Park', 'south', 'Abbeycentre', 'Phil', 'loft', 'calm', 'kneel']\n",
      "\n",
      "in_case\n",
      "Age 1 neighbors: ['boohoo', 'Duke', 'altogether', 'nineteenth', 'Zeke', 'tilt', 'don']\n",
      "Age 3 neighbors: ['if', 'accidental', 'unless', 'ketchup', 'someone', 'or', 'might']\n",
      "\n"
     ]
    }
   ],
   "source": [
    "for word in df_emb_shift.sort_values('local',ascending=False).head(20).index:\n",
    "    print(word)\n",
    "    print(f'Age {year1} neighbors: {neighbors(word, vecs[year1][:thresh], vocs[year1], K=7)}')\n",
    "    print(f'Age {year2} neighbors: {neighbors(word, vecs[year2][:thresh], vocs[year2], K=7)}')\n",
    "    print()"
   ]
  },
  {
   "cell_type": "markdown",
   "metadata": {
    "slideshow": {
     "slide_type": "subslide"
    }
   },
   "source": [
    "Pretty similar, but avoids a few of the false positives in `global`, such as \"00\", while weirdly including \"the\" as the top word."
   ]
  },
  {
   "cell_type": "markdown",
   "metadata": {
    "slideshow": {
     "slide_type": "slide"
    }
   },
   "source": [
    "## Extensions\n",
    "\n",
    "- Try a number of different neighborhood sizes, and test how it affects the ranking of words. Is the \"local\" method sensitive to this parameter?\n",
    "- Hamilton et al show that more common words tend to change more slowly. Can you replicate this finding using this data?\n",
    "- Using the other datafiles, try to determine the pace of change over time; do words shift their meanings more in the late 20th century?\n"
   ]
  },
  {
   "cell_type": "code",
   "execution_count": null,
   "metadata": {},
   "outputs": [],
   "source": []
  }
 ],
 "metadata": {
  "celltoolbar": "Slideshow",
  "kernelspec": {
   "display_name": "Python 3",
   "language": "python",
   "name": "python3"
  },
  "language_info": {
   "codemirror_mode": {
    "name": "ipython",
    "version": 3
   },
   "file_extension": ".py",
   "mimetype": "text/x-python",
   "name": "python",
   "nbconvert_exporter": "python",
   "pygments_lexer": "ipython3",
   "version": "3.7.1"
  }
 },
 "nbformat": 4,
 "nbformat_minor": 2
}
