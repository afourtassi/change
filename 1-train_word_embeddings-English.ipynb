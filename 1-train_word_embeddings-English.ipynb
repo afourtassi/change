{
 "cells": [
  {
   "cell_type": "code",
   "execution_count": 1,
   "metadata": {},
   "outputs": [],
   "source": [
    "import gensim\n",
    "from collections import defaultdict\n",
    "from scipy import spatial\n",
    "from gensim.models import KeyedVectors\n",
    "from igraph import *\n",
    "import random\n",
    "import pandas as pd\n",
    "from collections import Counter\n",
    "import glob\n",
    "import pickle"
   ]
  },
  {
   "cell_type": "code",
   "execution_count": 2,
   "metadata": {},
   "outputs": [],
   "source": [
    "def train_word2vec(documents, dim=300, min_count=2, iters=100, window=5, negative=5):\n",
    "\tmodel = gensim.models.Word2Vec(\n",
    "        documents,\n",
    "        sg=1,\n",
    "        size=dim,\n",
    "        window=window,\n",
    "        min_count=min_count,\n",
    "#         max_final_vocab=3000,\n",
    "        sample=1e-5,\n",
    "        iter=iters,\n",
    "        ns_exponent=0.75,\n",
    "        negative=negative,\n",
    "        workers=4)\n",
    "\tmodel.train(documents, total_examples=len(documents), epochs=model.epochs)\n",
    "\treturn model\n"
   ]
  },
  {
   "cell_type": "code",
   "execution_count": 3,
   "metadata": {},
   "outputs": [],
   "source": [
    "def read_docs(csv_file, column='stem'):\n",
    "    \"\"\"read stem utterances from childes csv files\"\"\"\n",
    "    df = pd.read_csv(csv_file)\n",
    "    tags = df['part_of_speech'].values\n",
    "    stems = df['stem'].values\n",
    "    ret_list = []\n",
    "    for t, s in zip(tags, stems):\n",
    "        tl, sl = str(t).lower().split(), str(s).lower().split()\n",
    "        \n",
    "        # replace NAME and interjections with $name$ and $co$ respectively\n",
    "        ntl = []\n",
    "        for t, s in zip(tl, sl):\n",
    "            if t == \"n:prop\":\n",
    "                ntl.append('$name$')\n",
    "#             elif t == 'co':\n",
    "#                 ntl.append('$co$')\n",
    "            else:\n",
    "                ntl.append(s)\n",
    "\n",
    "#         print(' '.join(ntl))\n",
    "        ret_list.append(ntl)\n",
    "    return ret_list"
   ]
  },
  {
   "cell_type": "code",
   "execution_count": 4,
   "metadata": {},
   "outputs": [
    {
     "name": "stderr",
     "output_type": "stream",
     "text": [
      "/Users/hang/anaconda3/lib/python3.7/site-packages/IPython/core/interactiveshell.py:3185: DtypeWarning: Columns (20) have mixed types. Specify dtype option on import or set low_memory=False.\n",
      "  if (yield from self.run_code(code, result)):\n",
      "/Users/hang/anaconda3/lib/python3.7/site-packages/IPython/core/interactiveshell.py:3185: DtypeWarning: Columns (11,20) have mixed types. Specify dtype option on import or set low_memory=False.\n",
      "  if (yield from self.run_code(code, result)):\n"
     ]
    },
    {
     "name": "stdout",
     "output_type": "stream",
     "text": [
      "[0, 0, 0, 675, 0, 2996, 15663, 17582, 25704, 43371, 2235, 18595, 73200, 93436, 109389, 62921, 80428, 93764, 194213, 153429, 161326, 189616, 222385, 281451, 574601, 499293, 515099, 532281, 505978, 548514, 670957, 565947, 469748, 501356, 464451, 405575, 776889, 313177, 205337, 230318, 154513, 155255, 259921, 169736, 139363, 188878, 154077, 146393, 195701, 127483, 113799, 109585, 124600, 97402, 198899, 129798, 88846, 660399, 76209, 94505, 65465, 46699, 40163, 34145, 37276, 33480, 84709, 67468, 34144, 40616, 27063, 28027, 15985, 17189, 14914, 14057, 9497, 9951, 9696, 16858, 12940, 16609, 6876, 30265, 26949, 38818, 20143, 18162, 19409, 16892, 22755, 29847, 10955, 6206, 9887, 13402, 1879, 2702, 3110, 5285, 2891, 3035, 4418, 2771, 4252, 340, 6896, 6225, 2122, 7346, 4187, 5699, 11342, 6588, 10035, 8916, 12356, 11844, 1925, 4827, 14867, 6036, 2715, 5008, 154, 1968, 2625, 39, 28, 27, 493, 74, 2514, 9475, 19, 6, 23, 151, 3801, 24, 2093, 681, 2, 11, 667, 0, 5070, 0, 0, 0, 0]\n"
     ]
    }
   ],
   "source": [
    "childes_files = sorted(glob.glob(\"./data/childes-en/*.csv\"))\n",
    "num_tokens = []\n",
    "for filename in sorted(childes_files, key=lambda x: int(x.split('_')[-1][:-4])):\n",
    "    month = int(filename.split('_')[-1][:-4])\n",
    "    lines = read_docs(filename)\n",
    "    num_tokens.append(sum([len(l) for l in lines]))\n",
    "print(num_tokens)"
   ]
  },
  {
   "cell_type": "code",
   "execution_count": 9,
   "metadata": {},
   "outputs": [
    {
     "name": "stdout",
     "output_type": "stream",
     "text": [
      "2416980 [0, 1, 2, 3, 4, 5, 6, 7, 8, 9, 10, 11, 12, 13, 14, 15, 16, 17, 18, 19, 20, 21, 22, 23, 24] 12.0\n",
      "2052651 [25, 26, 27, 28] 26.5\n",
      "2255166 [29, 30, 31, 32] 30.5\n",
      "2148271 [33, 34, 35, 36] 34.5\n",
      "2116968 [37, 38, 39, 40, 41, 42, 43, 44, 45, 46, 47] 42.0\n",
      "2017226 [48, 49, 50, 51, 52, 53, 54, 55, 56, 57, 58, 59] 53.5\n"
     ]
    }
   ],
   "source": [
    "window = []\n",
    "months = []\n",
    "periods = []\n",
    "\n",
    "for i, num in enumerate(num_tokens):\n",
    "    window.append(num)\n",
    "    months.append(i)\n",
    "    if sum(window) > 2000000:\n",
    "        periods.append(months)\n",
    "        print(sum(window), months, sum(months)/len(months))\n",
    "        window = []\n",
    "        months = []"
   ]
  },
  {
   "cell_type": "code",
   "execution_count": 11,
   "metadata": {
    "scrolled": true
   },
   "outputs": [
    {
     "name": "stdout",
     "output_type": "stream",
     "text": [
      "['./data/childes-en/month_0_1.csv' './data/childes-en/month_1_2.csv'\n",
      " './data/childes-en/month_2_3.csv' './data/childes-en/month_3_4.csv'\n",
      " './data/childes-en/month_4_5.csv' './data/childes-en/month_5_6.csv'\n",
      " './data/childes-en/month_6_7.csv' './data/childes-en/month_7_8.csv'\n",
      " './data/childes-en/month_8_9.csv' './data/childes-en/month_9_10.csv'\n",
      " './data/childes-en/month_10_11.csv' './data/childes-en/month_11_12.csv'\n",
      " './data/childes-en/month_12_13.csv' './data/childes-en/month_13_14.csv'\n",
      " './data/childes-en/month_14_15.csv' './data/childes-en/month_15_16.csv'\n",
      " './data/childes-en/month_16_17.csv' './data/childes-en/month_17_18.csv'\n",
      " './data/childes-en/month_18_19.csv' './data/childes-en/month_19_20.csv'\n",
      " './data/childes-en/month_20_21.csv' './data/childes-en/month_21_22.csv'\n",
      " './data/childes-en/month_22_23.csv' './data/childes-en/month_23_24.csv'\n",
      " './data/childes-en/month_24_25.csv']\n",
      "key period0\n",
      "['./data/childes-en/month_25_26.csv' './data/childes-en/month_26_27.csv'\n",
      " './data/childes-en/month_27_28.csv' './data/childes-en/month_28_29.csv']\n",
      "key period1\n",
      "['./data/childes-en/month_29_30.csv' './data/childes-en/month_30_31.csv'\n",
      " './data/childes-en/month_31_32.csv' './data/childes-en/month_32_33.csv']\n",
      "key period2\n",
      "['./data/childes-en/month_33_34.csv' './data/childes-en/month_34_35.csv'\n",
      " './data/childes-en/month_35_36.csv' './data/childes-en/month_36_37.csv']\n",
      "key period3\n",
      "['./data/childes-en/month_37_38.csv' './data/childes-en/month_38_39.csv'\n",
      " './data/childes-en/month_39_40.csv' './data/childes-en/month_40_41.csv'\n",
      " './data/childes-en/month_41_42.csv' './data/childes-en/month_42_43.csv'\n",
      " './data/childes-en/month_43_44.csv' './data/childes-en/month_44_45.csv'\n",
      " './data/childes-en/month_45_46.csv' './data/childes-en/month_46_47.csv'\n",
      " './data/childes-en/month_47_48.csv']\n",
      "key period4\n",
      "['./data/childes-en/month_48_49.csv' './data/childes-en/month_49_50.csv'\n",
      " './data/childes-en/month_50_51.csv' './data/childes-en/month_51_52.csv'\n",
      " './data/childes-en/month_52_53.csv' './data/childes-en/month_53_54.csv'\n",
      " './data/childes-en/month_54_55.csv' './data/childes-en/month_55_56.csv'\n",
      " './data/childes-en/month_56_57.csv' './data/childes-en/month_57_58.csv'\n",
      " './data/childes-en/month_58_59.csv' './data/childes-en/month_59_60.csv']\n",
      "key period5\n",
      "[0, 0, 0, 675, 0, 2996, 15663, 17582, 25704, 43371, 2235, 18595, 73200, 93436, 109389, 62921, 80428, 93764, 194213, 153429, 161326, 189616, 222385, 281451, 574601, 499293, 515099, 532281, 505978, 548514, 670957, 565947, 469748, 501356, 464451, 405575, 776889, 313177, 205337, 230318, 154513, 155255, 259921, 169736, 139363, 188878, 154077, 146393, 195701, 127483, 113799, 109585, 124600, 97402, 198899, 129798, 88846, 660399, 76209, 94505, 65465, 46699, 40163, 34145, 37276, 33480, 84709, 67468, 34144, 40616, 27063, 28027, 15985, 17189, 14914, 14057, 9497, 9951, 9696, 16858, 12940, 16609, 6876, 30265, 26949, 38818, 20143, 18162, 19409, 16892, 22755, 29847, 10955, 6206, 9887, 13402, 1879, 2702, 3110, 5285, 2891, 3035, 4418, 2771, 4252, 340, 6896, 6225, 2122, 7346, 4187, 5699, 11342, 6588, 10035, 8916, 12356, 11844, 1925, 4827, 14867, 6036, 2715, 5008, 154, 1968, 2625, 39, 28, 27, 493, 74, 2514, 9475, 19, 6, 23, 151, 3801, 24, 2093, 681, 2, 11, 667, 0, 5070, 0, 0, 0, 0]\n"
     ]
    }
   ],
   "source": [
    "import numpy as np\n",
    "childes_files = sorted(glob.glob(\"./data/childes-en/*.csv\"), key=lambda x: int(x.split('_')[-1][:-4]))\n",
    "year2vecs = {}\n",
    "for i, period in enumerate(periods):\n",
    "    print(np.array(childes_files)[period])\n",
    "    print('key', 'period'+str(i))\n",
    "    docs = []\n",
    "    for filename in np.array(childes_files)[period]:\n",
    "        docs.extend(read_docs(filename))\n",
    "    model = train_word2vec(docs, dim=100, min_count=15, iters=25, window=5)\n",
    "    d = {w:v for w, v in zip(model.wv.index2word, model.wv.vectors)}\n",
    "    year2vecs['period'+str(i)] = d\n",
    "print(num_tokens)"
   ]
  },
  {
   "cell_type": "code",
   "execution_count": 10,
   "metadata": {},
   "outputs": [],
   "source": [
    "with open('./data/embeddings-over-time/embeddings-English-1M-ep25-f15.pickle', 'wb') as handle:\n",
    "    pickle.dump(year2vecs, handle, protocol=pickle.HIGHEST_PROTOCOL)\n",
    "\n",
    "# with open('filename.pickle', 'rb') as handle:\n",
    "#     b = pickle.load(handle)"
   ]
  },
  {
   "cell_type": "code",
   "execution_count": null,
   "metadata": {},
   "outputs": [],
   "source": []
  }
 ],
 "metadata": {
  "kernelspec": {
   "display_name": "Python 3",
   "language": "python",
   "name": "python3"
  },
  "language_info": {
   "codemirror_mode": {
    "name": "ipython",
    "version": 3
   },
   "file_extension": ".py",
   "mimetype": "text/x-python",
   "name": "python",
   "nbconvert_exporter": "python",
   "pygments_lexer": "ipython3",
   "version": "3.7.1"
  }
 },
 "nbformat": 4,
 "nbformat_minor": 2
}
