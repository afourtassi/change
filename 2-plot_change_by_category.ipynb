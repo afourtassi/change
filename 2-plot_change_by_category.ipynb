{
 "cells": [
  {
   "cell_type": "markdown",
   "metadata": {
    "slideshow": {
     "slide_type": "slide"
    }
   },
   "source": [
    "# Dynamic Word Embeddings\n",
    "\n",
    "- plot semantic changes in each category\n",
    "    - semantic\n",
    "    - syntactic\n",
    "- plot trend using \"gold\" Word2Vec\n",
    "- plot "
   ]
  },
  {
   "cell_type": "code",
   "execution_count": 14,
   "metadata": {
    "slideshow": {
     "slide_type": "skip"
    }
   },
   "outputs": [],
   "source": [
    "import os\n",
    "from glob import glob\n",
    "import pickle\n",
    "\n",
    "import numpy as np\n",
    "import pandas as pd\n",
    "import matplotlib.pyplot as plt\n",
    "from typing import List, Dict, Tuple, Sequence\n",
    "from collections import defaultdict\n",
    "\n",
    "%matplotlib inline\n",
    "\n",
    "from tqdm import tqdm_notebook as tqdm # convenient progressbar"
   ]
  },
  {
   "cell_type": "markdown",
   "metadata": {
    "slideshow": {
     "slide_type": "subslide"
    }
   },
   "source": [
    "## Loading pre-trained embeddings from pickle file"
   ]
  },
  {
   "cell_type": "code",
   "execution_count": 3,
   "metadata": {},
   "outputs": [
    {
     "name": "stdout",
     "output_type": "stream",
     "text": [
      "period0 ['$co$', 'you', 'the', 'be', 'that']\n",
      "period1 ['$co$', 'you', 'be', '$name$', 'the']\n",
      "period2 ['$co$', 'you', 'be', 'the', '$name$']\n",
      "period3 ['$co$', 'you', 'be', 'the', '$name$']\n",
      "period4 ['$co$', 'you', 'be', 'the', 'do']\n",
      "period5 ['$co$', 'you', 'be', 'the', 'do']\n",
      "period6 ['$co$', 'you', 'be', 'do', 'the']\n",
      "period7 ['$co$', 'you', 'be', 'do', 'it']\n",
      "period8 ['$co$', 'you', 'be', 'do', 'the']\n",
      "period9 ['$co$', 'you', 'be', 'the', 'do']\n",
      "period10 ['$co$', 'you', 'do', 'be', 'the']\n",
      "period11 ['$co$', 'you', 'nan', 'do', 'the']\n"
     ]
    }
   ],
   "source": [
    "# base_dir = os.path.join('/Users/hang/Desktop/2019-fall/change/','childes_data','embeddings-over-time') # make sure you expand the tar file in ../data\n",
    "dicts = pickle.load(open(\"./childes_data/embeddings-over-time/embeddings-over-time-vocabs-1M-ep25-f15.pickle\",'rb'))\n",
    "\n",
    "vocs: Dict[str, List] = {k: list(v.keys()) for k, v in dicts.items()}\n",
    "years: List[str] = list(vocs.keys())\n",
    "\n",
    "vocab_size = 3000\n",
    "\n",
    "for key, item in vocs.items():\n",
    "    print(key, item[:5])\n",
    "    vocs[key] = item[:vocab_size]\n",
    "vecs: Dict[str, List] = dict()\n",
    "\n",
    "for year, d in dicts.items():\n",
    "    year_vectors = np.array([list(d.values())]).reshape(-1, 100)[:vocab_size]\n",
    "#     print(year_vectors.shape)\n",
    "    vecs[year] = year_vectors / np.linalg.norm(year_vectors, axis=-1)[:, np.newaxis]\n",
    "#     for w in vecs[year] /= norms\n",
    "#     print(vecs[year])"
   ]
  },
  {
   "cell_type": "code",
   "execution_count": 4,
   "metadata": {
    "slideshow": {
     "slide_type": "fragment"
    }
   },
   "outputs": [
    {
     "data": {
      "text/plain": [
       "array([0.9999998 , 1.        , 0.99999994, ..., 0.99999994, 0.99999994,\n",
       "       1.        ], dtype=float32)"
      ]
     },
     "execution_count": 4,
     "metadata": {},
     "output_type": "execute_result"
    }
   ],
   "source": [
    "# sanity check\n",
    "(vecs['period1']**2).sum(1)"
   ]
  },
  {
   "cell_type": "markdown",
   "metadata": {},
   "source": [
    "## utility functions"
   ]
  },
  {
   "cell_type": "code",
   "execution_count": 5,
   "metadata": {},
   "outputs": [],
   "source": [
    "import numpy as np\n",
    "import scipy.sparse as sparse\n",
    "\n",
    "\n",
    "def neighbors(query : str,\n",
    "              embs: np.ndarray,\n",
    "              vocab: list,\n",
    "              K : int = 3) -> list:\n",
    "    \"\"\"returns k nearest neighbors for a query\"\"\"\n",
    "    sims = np.dot(embs[vocab.index(query),],embs.T)\n",
    "    output = []\n",
    "    for sim_idx in sims.argsort()[::-1][1:(1+K)]:\n",
    "        if sims[sim_idx] > 0:\n",
    "            output.append(vocab[sim_idx])\n",
    "    return output\n",
    "\n",
    "\n",
    "def neighbors_per_year(query: str, K=5) -> dict:\n",
    "    \"\"\"returns query's neighbors at each period\"\"\"\n",
    "    nns = dict()\n",
    "    for year, embs in vecs.items():\n",
    "        nns[year] = neighbors(query, embs, vocs[year], K=K)\n",
    "    return nns\n",
    "\n",
    "\n",
    "def build_alignment(year1 : str, year2 : str, vocs, vecs) -> sparse.csr_matrix:\n",
    "    \"\"\"\n",
    "    given two years (keys into vecs and vocs)\n",
    "    compute a sparse matrix M representing the permutation of word indices from the year1 vecs to the year2 vecs  \n",
    "    then the rows of v1 will be aligned with the rows of M v2 \n",
    "    \"\"\"\n",
    "   \n",
    "    all_var1 = vecs[year1].var(1)\n",
    "    all_var2 = vecs[year2].var(1)\n",
    "\n",
    "    rows = []\n",
    "    cols = []\n",
    "\n",
    "    ivoc2 = {j:i for i,j in enumerate(vocs[year2])}\n",
    "\n",
    "    for widx1,word in enumerate(vocs[year1]):\n",
    "        if all_var1[widx1] != 0 and word in set(vocs[year2]):\n",
    "            widx2 = ivoc2[word]\n",
    "            if all_var2[widx2] != 0:\n",
    "                rows.append(widx1)\n",
    "                cols.append(widx2)\n",
    "\n",
    "    align = sparse.csr_matrix(([1]*len(rows),(rows,cols)),shape=[len(vocs[year1]),len(vocs[year2])])\n",
    "    return align\n",
    "\n",
    "\n",
    "def procrustes(A, B):\n",
    "    U, _, Vt = np.linalg.svd(B.dot(A.T))\n",
    "    return U.dot(Vt)\n",
    "\n",
    "\n",
    "def compute_cos_dist(vec1 : np.array, vec2 : np.array) -> np.array:    \n",
    "    numerator = (vec1 * vec2).sum(1)\n",
    "    denominator = np.sqrt((vec1**2).sum(1)) * np.sqrt((vec2**2).sum(1))\n",
    "    cos_dist = 1 - numerator / (1e-5 + denominator)\n",
    "\n",
    "    # eliminate words that are zeroed out\n",
    "    return cos_dist * (vec1.var(1) > 0) * (vec2.var(1) > 0)\n",
    "\n",
    "\n",
    "def get_neighbor_sims(query : str, neighbor_set : set, vec : np.ndarray, voc : list) -> np.ndarray:\n",
    "    v_self = vec[voc.index(query),]\n",
    "    v_neighbors = vec[[voc.index(neighbor) for neighbor in neighbor_set],]\n",
    "    return np.dot(v_neighbors, v_self)"
   ]
  },
  {
   "cell_type": "markdown",
   "metadata": {
    "slideshow": {
     "slide_type": "skip"
    }
   },
   "source": [
    "## Linking embeddings over time"
   ]
  },
  {
   "cell_type": "code",
   "execution_count": 11,
   "metadata": {
    "scrolled": true,
    "slideshow": {
     "slide_type": "skip"
    }
   },
   "outputs": [
    {
     "name": "stdout",
     "output_type": "stream",
     "text": [
      "align (1866, 1656)\n",
      "vecs_aligned (1866, 100)\n",
      "vecs_projected (1866, 100)\n",
      "1656\n",
      "pre-alignment:  44.722122\n",
      "pre-projection:  43.31546573070389\n",
      "after projection:  32.5956815809458\n",
      "[0.19809961 0.11620961 0.15029084 0.15098366 0.11168997 0.10955268\n",
      " 0.21755341 0.12504144 0.09697026 0.16407632]\n"
     ]
    },
    {
     "data": {
      "image/png": "[encoded data removed]",
      "text/plain": [
       "<Figure size 576x216 with 2 Axes>"
      ]
     },
     "metadata": {
      "needs_background": "light"
     },
     "output_type": "display_data"
    }
   ],
   "source": [
    "# pick two years to compare\n",
    "year1 = 'period0'\n",
    "year2 = 'period9'\n",
    "\n",
    "align = build_alignment(year2, year1, vocs, vecs)\n",
    "print(\"align\", align.shape)\n",
    "vecs_aligned = align.dot(vecs[year1])\n",
    "print(\"vecs_aligned\", vecs_aligned.shape)\n",
    "\n",
    "Omega = procrustes(vecs_aligned.T, vecs[year2].T)\n",
    "vecs_projected = Omega.dot(vecs_aligned.T).T\n",
    "print(\"vecs_projected\", vecs_projected.shape)\n",
    "\n",
    "length_of_vocab = min(vecs[year1].shape[0], vecs[year2].shape[0])\n",
    "print(length_of_vocab)\n",
    "print('pre-alignment: ',np.linalg.norm(vecs[year2][:length_of_vocab] - vecs[year1]))\n",
    "print('pre-projection: ',np.linalg.norm(vecs[year2] - vecs_aligned))\n",
    "print('after projection: ',np.linalg.norm(vecs[year2] - vecs_projected))\n",
    "\n",
    "fig, (ax1,ax2) = plt.subplots(1,2,figsize=[8,3])\n",
    "\n",
    "query = 'fish'\n",
    "vec2_no_project = vecs_aligned[vocs[year2].index(query),]\n",
    "vec2_projected = vecs_projected[vocs[year2].index(query),]\n",
    "vec1_query = vecs[year2][vocs[year2].index(query),]\n",
    "\n",
    "ax1.scatter(vec1_query, vec2_no_project)\n",
    "ax1.set_title(\"Without projection\")\n",
    "\n",
    "ax2.scatter(vec1_query, vec2_projected)\n",
    "ax2.set_title('With projection');\n",
    "\n",
    "# compute distance\n",
    "cos_dist = compute_cos_dist(vecs[year2], vecs_projected)\n",
    "print(cos_dist[:10])"
   ]
  },
  {
   "cell_type": "markdown",
   "metadata": {
    "slideshow": {
     "slide_type": "subslide"
    }
   },
   "source": [
    "### Compare changes by categories using global metric\n"
   ]
  },
  {
   "cell_type": "code",
   "execution_count": 13,
   "metadata": {},
   "outputs": [
    {
     "name": "stdout",
     "output_type": "stream",
     "text": [
      "   Unnamed: 0 item_id      definition category lexical_class\n",
      "0           1  item_1         baa_baa   sounds         other\n",
      "1           2  item_2       choo_choo   sounds         other\n",
      "2           3  item_3  cockadoodledoo   sounds         other\n",
      "3           4  item_4            grrr   sounds         other\n",
      "4           5  item_5            meow   sounds         other\n"
     ]
    }
   ],
   "source": [
    "df = pd.read_csv(\"childes_data/data_cdi.csv\")\n",
    "df['definition'] = df['definition'].apply(lambda x: '_'.join(x.split()))\n",
    "print(df.head())"
   ]
  },
  {
   "cell_type": "code",
   "execution_count": 23,
   "metadata": {},
   "outputs": [
    {
     "name": "stdout",
     "output_type": "stream",
     "text": [
      "('quantifiers', 0.21785212008328864)\n",
      "('sounds', 0.21491804993113556)\n",
      "('furniture_rooms', 0.2105531331502389)\n",
      "('toys', 0.20824549569124048)\n",
      "('locations', 0.1932040452496553)\n",
      "('action_words', 0.19202139243215538)\n",
      "('time_words', 0.18630437023547997)\n",
      "('household', 0.18380909048599775)\n",
      "('places', 0.18057970252827513)\n",
      "('animals', 0.1756261150372495)\n",
      "('vehicles', 0.1679564731827393)\n",
      "('descriptive_words', 0.16533922839781076)\n",
      "('food_drink', 0.16072321342283702)\n",
      "('connecting_words', 0.15082394255003517)\n",
      "('clothing', 0.14903421343758794)\n",
      "('body_parts', 0.14548350508817665)\n",
      "('pronouns', 0.14268349134057648)\n",
      "('games_routines', 0.14267356067680062)\n",
      "('outside', 0.13847682260724878)\n",
      "('people', 0.13690123835851273)\n",
      "('question_words', 0.12884066579236156)\n",
      "('helping_verbs', 0.12037176752634562)\n"
     ]
    }
   ],
   "source": [
    "change_per_category = defaultdict(list)\n",
    "for group_name, group_df in df.groupby(['category']):\n",
    "#     print(group_name, group_df.definition.values)\n",
    "    each_changes = []\n",
    "    for word in group_df.definition.values:\n",
    "        if word in vocs[year1]:\n",
    "            idx = vocs[year1].index(word)\n",
    "            each_changes.append(cos_dist[idx])\n",
    "    change_per_category[group_name] = np.array(each_changes).mean()\n",
    "    \n",
    "for pair in sorted(change_per_category.items(), key=lambda x: -x[1]):\n",
    "    print(pair)"
   ]
  },
  {
   "cell_type": "code",
   "execution_count": 36,
   "metadata": {},
   "outputs": [
    {
     "data": {
      "text/plain": [
       "<matplotlib.axes._subplots.AxesSubplot at 0x121bb3eb8>"
      ]
     },
     "execution_count": 36,
     "metadata": {},
     "output_type": "execute_result"
    },
    {
     "data": {
      "image/png": "[encoded data removed]",
      "text/plain": [
       "<Figure size 432x288 with 1 Axes>"
      ]
     },
     "metadata": {
      "needs_background": "light"
     },
     "output_type": "display_data"
    }
   ],
   "source": [
    "import matplotlib.pyplot as plt\n",
    "%matplotlib inline\n",
    "\n",
    "import pandas\n",
    "from collections import Counter\n",
    "sorted_changes_per_category = sorted(change_per_category.items(), key=lambda x: -x[1])\n",
    "df1 = pandas.DataFrame(sorted_changes_per_category)\n",
    "df1.index = df1[0]\n",
    "df1.plot(kind='bar')"
   ]
  },
  {
   "cell_type": "code",
   "execution_count": 38,
   "metadata": {
    "slideshow": {
     "slide_type": "subslide"
    }
   },
   "outputs": [
    {
     "name": "stdout",
     "output_type": "stream",
     "text": [
      "defaultdict(<class 'list'>, {'adjectives': 0.1653392283978108, 'function_words': 0.16992650658376401, 'nouns': 0.17088721036514215, 'other': 0.16713372681534278, 'verbs': 0.19202139243215532})\n"
     ]
    }
   ],
   "source": [
    "# df = pd.read_csv(\"data/data_cdi.csv\")\n",
    "# print(df)\n",
    "from collections import defaultdict\n",
    "change_per_category = defaultdict(list)\n",
    "for group_name, group_df in df.groupby(['lexical_class']):\n",
    "#     print(group_name, group_df.definition.values)\n",
    "    each_changes = []\n",
    "    for word in group_df.definition.values:\n",
    "        if word in vocs[year1]:\n",
    "            idx = vocs[year1].index(word)\n",
    "            each_changes.append(cos_dist[idx])\n",
    "    change_per_category[group_name] = sum(each_changes)/len(each_changes)\n",
    "print(change_per_category)"
   ]
  },
  {
   "cell_type": "code",
   "execution_count": 40,
   "metadata": {},
   "outputs": [
    {
     "data": {
      "text/plain": [
       "<matplotlib.axes._subplots.AxesSubplot at 0x120264400>"
      ]
     },
     "execution_count": 40,
     "metadata": {},
     "output_type": "execute_result"
    },
    {
     "data": {
      "image/png": "[encoded data removed]",
      "text/plain": [
       "<Figure size 432x288 with 1 Axes>"
      ]
     },
     "metadata": {
      "needs_background": "light"
     },
     "output_type": "display_data"
    }
   ],
   "source": [
    "import matplotlib.pyplot as plt\n",
    "%matplotlib inline\n",
    "\n",
    "import pandas\n",
    "from collections import Counter\n",
    "df1 = pandas.DataFrame.from_dict(change_per_category, orient='index')\n",
    "df1.sort_values(0).plot(kind='bar')"
   ]
  },
  {
   "cell_type": "markdown",
   "metadata": {
    "slideshow": {
     "slide_type": "slide"
    }
   },
   "source": [
    "## Measuring semantic change by near neighbors\n"
   ]
  },
  {
   "cell_type": "code",
   "execution_count": 41,
   "metadata": {
    "slideshow": {
     "slide_type": "fragment"
    }
   },
   "outputs": [
    {
     "name": "stdout",
     "output_type": "stream",
     "text": [
      "['remember', 'grape', 'neat', 'will', 'eat']\n",
      "['neat', 'love', 'dinosaur', 'pretty', 'sound']\n",
      "['pretty', 'will', 'love', 'neat', 'remember', 'grape', 'sound', 'dinosaur', 'eat']\n",
      "[0.74369484 0.7863038  0.7321758  0.7866426  0.796049   0.7876152\n",
      " 0.69539815 0.6966046  0.7859144 ]\n",
      "[0.83786345 0.79064393 0.84472054 0.8464783  0.68959004 0.73213196\n",
      " 0.8374501  0.84157145 0.5421573 ]\n"
     ]
    }
   ],
   "source": [
    "query = 'like'\n",
    "nn_old = neighbors(query, vecs[year1], vocs[year1], K=5)\n",
    "nn_new = neighbors(query, vecs[year2], vocs[year2], K=5)\n",
    "print(nn_old)\n",
    "print(nn_new)\n",
    "\n",
    "neighbor_set = [word for word in set(nn_old).union(set(nn_new)) \n",
    "                if (word in vocs[year1])\n",
    "                and (word in vocs[year2])\n",
    "                and (vecs[year1][vocs[year1].index(word)].var() > 0)\n",
    "                and (vecs[year2][vocs[year2].index(word)].var() > 0)]\n",
    "print(neighbor_set)\n",
    "\n",
    "sim_old = get_neighbor_sims(query,neighbor_set,vecs[year1],vocs[year1])\n",
    "sim_new = get_neighbor_sims(query,neighbor_set,vecs[year2],vocs[year2])\n",
    "print(sim_old)\n",
    "print(sim_new)"
   ]
  },
  {
   "cell_type": "markdown",
   "metadata": {},
   "source": [
    "## compute local and global distance matrix "
   ]
  },
  {
   "cell_type": "code",
   "execution_count": 43,
   "metadata": {
    "slideshow": {
     "slide_type": "skip"
    }
   },
   "outputs": [
    {
     "data": {
      "application/vnd.jupyter.widget-view+json": {
       "model_id": "4bebc0e63f654e308bb16ef2d4ba54fe",
       "version_major": 2,
       "version_minor": 0
      },
      "text/plain": [
       "HBox(children=(IntProgress(value=0, max=1866), HTML(value='')))"
      ]
     },
     "metadata": {},
     "output_type": "display_data"
    },
    {
     "name": "stdout",
     "output_type": "stream",
     "text": [
      "\n"
     ]
    }
   ],
   "source": [
    "recompute_embedding_shifts = True\n",
    "emb_shift_file = os.path.join('.','childes_data','embedding-shifts.csv')\n",
    "\n",
    "if recompute_embedding_shifts:\n",
    "    # this may take 5-10 minutes to execute\n",
    "    neighbor_shift = dict()\n",
    "\n",
    "    num_neighbors = 25\n",
    "\n",
    "    for word in tqdm(vocs[year2]):\n",
    "        if word in vocs[year1]:\n",
    "            nn_old = neighbors(word, vecs[year1], vocs[year1], K=num_neighbors)\n",
    "            nn_new = neighbors(word, vecs[year2], vocs[year2], K=num_neighbors)\n",
    "\n",
    "            neighbor_set = [word for word in set(nn_old).union(set(nn_new)) \n",
    "                            if (word in vocs[year1])\n",
    "                            and (word in vocs[year2])\n",
    "                            and (vecs[year1][vocs[year1].index(word)].var() > 0)\n",
    "                            and (vecs[year2][vocs[year2].index(word)].var() > 0)]\n",
    "        \n",
    "            s1 = get_neighbor_sims(word, neighbor_set, vecs[year1], vocs[year1])\n",
    "            s2 = get_neighbor_sims(word, neighbor_set, vecs[year2], vocs[year2])\n",
    "\n",
    "            dL = compute_cos_dist(s1.reshape(1,-1),s2.reshape(1,-1))[0] / len(neighbor_set)\n",
    "    \n",
    "            neighbor_shift[word] = dL\n",
    "    df_emb_shift = pd.DataFrame({'local':list(neighbor_shift.values()),\n",
    "                                 'global':[cos_dist[vocs[year2].index(word)] for word in neighbor_shift.keys()]},\n",
    "                                index=list(neighbor_shift.keys()))\n",
    "    df_emb_shift.to_csv(emb_shift_file)\n",
    "else:\n",
    "    df_emb_shift = pd.read_csv(emb_shift_file,index_col=0)"
   ]
  },
  {
   "cell_type": "code",
   "execution_count": 49,
   "metadata": {},
   "outputs": [
    {
     "name": "stdout",
     "output_type": "stream",
     "text": [
      "(1331, 2)\n",
      "         local    global\n",
      "$co$  0.000729  0.198100\n",
      "you   0.000773  0.116210\n",
      "be    0.000628  0.150291\n",
      "the   0.000802  0.150984\n",
      "do    0.000437  0.111690\n"
     ]
    }
   ],
   "source": [
    "print(df_emb_shift.shape)\n",
    "print(df_emb_shift.head())\n",
    "df.to_csv(\"embedding_sift.csv\")"
   ]
  },
  {
   "cell_type": "markdown",
   "metadata": {},
   "source": [
    "## Semantic Changes "
   ]
  },
  {
   "cell_type": "code",
   "execution_count": 50,
   "metadata": {},
   "outputs": [
    {
     "name": "stdout",
     "output_type": "stream",
     "text": [
      "   Unnamed: 0 item_id      definition category lexical_class\n",
      "0           1  item_1         baa_baa   sounds         other\n",
      "1           2  item_2       choo_choo   sounds         other\n",
      "2           3  item_3  cockadoodledoo   sounds         other\n",
      "3           4  item_4            grrr   sounds         other\n",
      "4           5  item_5            meow   sounds         other\n",
      "('games_routines', 0.14325483148065443)\n",
      "('helping_verbs', 0.14687609002352053)\n",
      "('clothing', 0.15466525831327796)\n",
      "('quantifiers', 0.15712930075875572)\n",
      "('time_words', 0.16722583906637503)\n",
      "('pronouns', 0.16885331117839855)\n",
      "('furniture_rooms', 0.17486548972029975)\n",
      "('connecting_words', 0.1757470307238657)\n",
      "('locations', 0.17742295403155933)\n",
      "('descriptive_words', 0.1918046066662781)\n",
      "('places', 0.19826397954135794)\n",
      "('household', 0.20385876282480347)\n",
      "('toys', 0.2049032535697048)\n",
      "('vehicles', 0.21198858737077347)\n",
      "('food_drink', 0.21235583539005423)\n",
      "('question_words', 0.21594536483501367)\n",
      "('action_words', 0.21993711697757723)\n",
      "('outside', 0.22188065298575563)\n",
      "('people', 0.2242545234905527)\n",
      "('body_parts', 0.22909615531333222)\n",
      "('animals', 0.2407406884786386)\n",
      "('sounds', 0.3440570822906146)\n"
     ]
    }
   ],
   "source": [
    "df = pd.read_csv(\"childes_data/data_cdi.csv\")\n",
    "df['definition'] = df['definition'].apply(lambda x: '_'.join(x.split()))\n",
    "print(df.head())\n",
    "\n",
    "from collections import defaultdict\n",
    "global_change_per_category = defaultdict(list)\n",
    "local_change_per_category = defaultdict(list)\n",
    "for group_name, group_df in df.groupby(['category']):\n",
    "#     print(group_name, group_df.definition.values)\n",
    "    local_changes = []\n",
    "    global_changes = []\n",
    "    for word in group_df.definition.values:\n",
    "        if word in df_emb_shift.index:\n",
    "            local_changes.append(df_emb_shift.loc[word]['local'])\n",
    "            global_changes.append(df_emb_shift.loc[word]['global'])\n",
    "    local_change_per_category[group_name] = sum(local_changes)/len(local_changes)\n",
    "    global_change_per_category[group_name] = sum(global_changes)/len(global_changes)\n",
    "\n",
    "for p in sorted(global_change_per_category.items(), key=lambda x: x[1]):\n",
    "    print(p)"
   ]
  },
  {
   "cell_type": "markdown",
   "metadata": {},
   "source": [
    "### change per semantic category w/ global metrics¶"
   ]
  },
  {
   "cell_type": "code",
   "execution_count": 54,
   "metadata": {},
   "outputs": [
    {
     "data": {
      "text/plain": [
       "<matplotlib.axes._subplots.AxesSubplot at 0x1218dbc18>"
      ]
     },
     "execution_count": 54,
     "metadata": {},
     "output_type": "execute_result"
    },
    {
     "data": {
      "image/png": "[encoded data removed]",
      "text/plain": [
       "<Figure size 432x288 with 1 Axes>"
      ]
     },
     "metadata": {
      "needs_background": "light"
     },
     "output_type": "display_data"
    }
   ],
   "source": [
    "import matplotlib.pyplot as plt\n",
    "%matplotlib inline\n",
    "\n",
    "import pandas\n",
    "from collections import Counter\n",
    "df1 = pandas.DataFrame.from_dict(local_change_per_category, orient='index')\n",
    "df1.sort_values(0).plot(kind='bar')"
   ]
  },
  {
   "cell_type": "markdown",
   "metadata": {},
   "source": [
    "### change per semantic category w/ local metrics "
   ]
  },
  {
   "cell_type": "code",
   "execution_count": 53,
   "metadata": {},
   "outputs": [
    {
     "data": {
      "text/plain": [
       "<matplotlib.axes._subplots.AxesSubplot at 0x1218b9ef0>"
      ]
     },
     "execution_count": 53,
     "metadata": {},
     "output_type": "execute_result"
    },
    {
     "data": {
      "image/png": "[encoded data removed]",
      "text/plain": [
       "<Figure size 432x288 with 1 Axes>"
      ]
     },
     "metadata": {
      "needs_background": "light"
     },
     "output_type": "display_data"
    }
   ],
   "source": [
    "import matplotlib.pyplot as plt\n",
    "%matplotlib inline\n",
    "\n",
    "import pandas\n",
    "from collections import Counter\n",
    "df1 = pandas.DataFrame.from_dict(global_change_per_category, orient='index')\n",
    "df1.sort_values(0).plot(kind='bar')"
   ]
  },
  {
   "cell_type": "markdown",
   "metadata": {},
   "source": [
    "## Syntactic Chagnes"
   ]
  },
  {
   "cell_type": "code",
   "execution_count": 59,
   "metadata": {},
   "outputs": [
    {
     "name": "stdout",
     "output_type": "stream",
     "text": [
      "   Unnamed: 0 item_id      definition category lexical_class\n",
      "0           1  item_1         baa_baa   sounds         other\n",
      "1           2  item_2       choo_choo   sounds         other\n",
      "2           3  item_3  cockadoodledoo   sounds         other\n",
      "3           4  item_4            grrr   sounds         other\n",
      "4           5  item_5            meow   sounds         other\n",
      "defaultdict(<class 'list'>, {'adjectives': 0.0011606708798176278, 'function_words': 0.0008576677400449962, 'nouns': 0.0010995842135046177, 'other': 0.0010694479449811901, 'verbs': 0.0011633495617070853})\n",
      "defaultdict(<class 'list'>, {'adjectives': 0.1918046066662781, 'function_words': 0.17270570912241945, 'nouns': 0.21020241362425965, 'other': 0.19524312841757488, 'verbs': 0.21993711697757723})\n"
     ]
    }
   ],
   "source": [
    "df = pd.read_csv(\"childes_data/data_cdi.csv\")\n",
    "df['definition'] = df['definition'].apply(lambda x: '_'.join(x.split()))\n",
    "print(df.head())\n",
    "\n",
    "from collections import defaultdict\n",
    "global_change_per_category = defaultdict(list)\n",
    "local_change_per_category = defaultdict(list)\n",
    "for group_name, group_df in df.groupby(['lexical_class']):\n",
    "#     print(group_name, group_df.definition.values)\n",
    "    local_changes = []\n",
    "    global_changes = []\n",
    "    for word in group_df.definition.values:\n",
    "        if word in df_emb_shift.index:\n",
    "            local_changes.append(df_emb_shift.loc[word]['local'])\n",
    "            global_changes.append(df_emb_shift.loc[word]['global'])\n",
    "    local_change_per_category[group_name] = sum(local_changes)/len(local_changes)\n",
    "    global_change_per_category[group_name] = sum(global_changes)/len(global_changes)\n",
    "print(local_change_per_category)\n",
    "print(global_change_per_category)"
   ]
  },
  {
   "cell_type": "markdown",
   "metadata": {},
   "source": [
    "### change per syntactic category w/ local metrics¶"
   ]
  },
  {
   "cell_type": "code",
   "execution_count": 60,
   "metadata": {},
   "outputs": [
    {
     "data": {
      "text/plain": [
       "<matplotlib.axes._subplots.AxesSubplot at 0x1225c7320>"
      ]
     },
     "execution_count": 60,
     "metadata": {},
     "output_type": "execute_result"
    },
    {
     "data": {
      "image/png": "[encoded data removed]",
      "text/plain": [
       "<Figure size 432x288 with 1 Axes>"
      ]
     },
     "metadata": {
      "needs_background": "light"
     },
     "output_type": "display_data"
    }
   ],
   "source": [
    "import matplotlib.pyplot as plt\n",
    "%matplotlib inline\n",
    "\n",
    "import pandas\n",
    "from collections import Counter\n",
    "df1 = pandas.DataFrame.from_dict(local_change_per_category, orient='index')\n",
    "df1.sort_values(0).plot(kind='bar')"
   ]
  },
  {
   "cell_type": "markdown",
   "metadata": {},
   "source": [
    "### change per syntactic category w/ global metrics"
   ]
  },
  {
   "cell_type": "code",
   "execution_count": 61,
   "metadata": {},
   "outputs": [
    {
     "data": {
      "text/plain": [
       "<matplotlib.axes._subplots.AxesSubplot at 0x1225c7240>"
      ]
     },
     "execution_count": 61,
     "metadata": {},
     "output_type": "execute_result"
    },
    {
     "data": {
      "image/png": "[encoded data removed]",
      "text/plain": [
       "<Figure size 432x288 with 1 Axes>"
      ]
     },
     "metadata": {
      "needs_background": "light"
     },
     "output_type": "display_data"
    }
   ],
   "source": [
    "import matplotlib.pyplot as plt\n",
    "%matplotlib inline\n",
    "\n",
    "import pandas\n",
    "from collections import Counter\n",
    "df1 = pandas.DataFrame.from_dict(global_change_per_category, orient='index')\n",
    "df1.sort_values(0).plot(kind='bar')"
   ]
  },
  {
   "cell_type": "code",
   "execution_count": 67,
   "metadata": {},
   "outputs": [
    {
     "name": "stdout",
     "output_type": "stream",
     "text": [
      "intersection:  486\n",
      "   Unnamed: 0 item_id      definition category lexical_class\n",
      "0           1  item_1         baa_baa   sounds         other\n",
      "1           2  item_2       choo_choo   sounds         other\n",
      "2           3  item_3  cockadoodledoo   sounds         other\n",
      "3           4  item_4            grrr   sounds         other\n",
      "4           5  item_5            meow   sounds         other\n"
     ]
    }
   ],
   "source": [
    "print(\"intersection: \", len(set(df['definition'].values).intersection(df_emb_shift.index)))\n",
    "print(df[df['lexical_class'] == 'other'].head())"
   ]
  },
  {
   "cell_type": "markdown",
   "metadata": {
    "slideshow": {
     "slide_type": "subslide"
    }
   },
   "source": [
    "## Compare w/ Gold Standard (Google Word2Vec)"
   ]
  },
  {
   "cell_type": "code",
   "execution_count": 68,
   "metadata": {},
   "outputs": [
    {
     "name": "stdout",
     "output_type": "stream",
     "text": [
      "local     0.000773\n",
      "global    0.116210\n",
      "Name: you, dtype: float64\n"
     ]
    }
   ],
   "source": [
    "df_emb_shift.loc['you']['gold_sim'] = 1\n",
    "print(df_emb_shift.loc['you'])"
   ]
  },
  {
   "cell_type": "code",
   "execution_count": 70,
   "metadata": {},
   "outputs": [
    {
     "ename": "FileNotFoundError",
     "evalue": "[Errno 2] No such file or directory: './model/GoogleNews-vectors-negative300.bin'",
     "output_type": "error",
     "traceback": [
      "\u001b[0;31m---------------------------------------------------------------------------\u001b[0m",
      "\u001b[0;31mFileNotFoundError\u001b[0m                         Traceback (most recent call last)",
      "\u001b[0;32m<ipython-input-70-d3193596e5b4>\u001b[0m in \u001b[0;36m<module>\u001b[0;34m\u001b[0m\n\u001b[1;32m      1\u001b[0m \u001b[0;32mimport\u001b[0m \u001b[0mgensim\u001b[0m\u001b[0;34m\u001b[0m\u001b[0;34m\u001b[0m\u001b[0m\n\u001b[1;32m      2\u001b[0m \u001b[0;34m\u001b[0m\u001b[0m\n\u001b[0;32m----> 3\u001b[0;31m \u001b[0mmodel\u001b[0m \u001b[0;34m=\u001b[0m \u001b[0mgensim\u001b[0m\u001b[0;34m.\u001b[0m\u001b[0mmodels\u001b[0m\u001b[0;34m.\u001b[0m\u001b[0mKeyedVectors\u001b[0m\u001b[0;34m.\u001b[0m\u001b[0mload_word2vec_format\u001b[0m\u001b[0;34m(\u001b[0m\u001b[0;34m'./model/GoogleNews-vectors-negative300.bin'\u001b[0m\u001b[0;34m,\u001b[0m \u001b[0mbinary\u001b[0m\u001b[0;34m=\u001b[0m\u001b[0;32mTrue\u001b[0m\u001b[0;34m)\u001b[0m\u001b[0;34m\u001b[0m\u001b[0;34m\u001b[0m\u001b[0m\n\u001b[0m",
      "\u001b[0;32m~/anaconda3/lib/python3.7/site-packages/gensim/models/keyedvectors.py\u001b[0m in \u001b[0;36mload_word2vec_format\u001b[0;34m(cls, fname, fvocab, binary, encoding, unicode_errors, limit, datatype)\u001b[0m\n\u001b[1;32m   1474\u001b[0m         return _load_word2vec_format(\n\u001b[1;32m   1475\u001b[0m             \u001b[0mcls\u001b[0m\u001b[0;34m,\u001b[0m \u001b[0mfname\u001b[0m\u001b[0;34m,\u001b[0m \u001b[0mfvocab\u001b[0m\u001b[0;34m=\u001b[0m\u001b[0mfvocab\u001b[0m\u001b[0;34m,\u001b[0m \u001b[0mbinary\u001b[0m\u001b[0;34m=\u001b[0m\u001b[0mbinary\u001b[0m\u001b[0;34m,\u001b[0m \u001b[0mencoding\u001b[0m\u001b[0;34m=\u001b[0m\u001b[0mencoding\u001b[0m\u001b[0;34m,\u001b[0m \u001b[0municode_errors\u001b[0m\u001b[0;34m=\u001b[0m\u001b[0municode_errors\u001b[0m\u001b[0;34m,\u001b[0m\u001b[0;34m\u001b[0m\u001b[0;34m\u001b[0m\u001b[0m\n\u001b[0;32m-> 1476\u001b[0;31m             limit=limit, datatype=datatype)\n\u001b[0m\u001b[1;32m   1477\u001b[0m \u001b[0;34m\u001b[0m\u001b[0m\n\u001b[1;32m   1478\u001b[0m     \u001b[0;32mdef\u001b[0m \u001b[0mget_keras_embedding\u001b[0m\u001b[0;34m(\u001b[0m\u001b[0mself\u001b[0m\u001b[0;34m,\u001b[0m \u001b[0mtrain_embeddings\u001b[0m\u001b[0;34m=\u001b[0m\u001b[0;32mFalse\u001b[0m\u001b[0;34m)\u001b[0m\u001b[0;34m:\u001b[0m\u001b[0;34m\u001b[0m\u001b[0;34m\u001b[0m\u001b[0m\n",
      "\u001b[0;32m~/anaconda3/lib/python3.7/site-packages/gensim/models/utils_any2vec.py\u001b[0m in \u001b[0;36m_load_word2vec_format\u001b[0;34m(cls, fname, fvocab, binary, encoding, unicode_errors, limit, datatype)\u001b[0m\n\u001b[1;32m    340\u001b[0m \u001b[0;34m\u001b[0m\u001b[0m\n\u001b[1;32m    341\u001b[0m     \u001b[0mlogger\u001b[0m\u001b[0;34m.\u001b[0m\u001b[0minfo\u001b[0m\u001b[0;34m(\u001b[0m\u001b[0;34m\"loading projection weights from %s\"\u001b[0m\u001b[0;34m,\u001b[0m \u001b[0mfname\u001b[0m\u001b[0;34m)\u001b[0m\u001b[0;34m\u001b[0m\u001b[0;34m\u001b[0m\u001b[0m\n\u001b[0;32m--> 342\u001b[0;31m     \u001b[0;32mwith\u001b[0m \u001b[0mutils\u001b[0m\u001b[0;34m.\u001b[0m\u001b[0msmart_open\u001b[0m\u001b[0;34m(\u001b[0m\u001b[0mfname\u001b[0m\u001b[0;34m)\u001b[0m \u001b[0;32mas\u001b[0m \u001b[0mfin\u001b[0m\u001b[0;34m:\u001b[0m\u001b[0;34m\u001b[0m\u001b[0;34m\u001b[0m\u001b[0m\n\u001b[0m\u001b[1;32m    343\u001b[0m         \u001b[0mheader\u001b[0m \u001b[0;34m=\u001b[0m \u001b[0mutils\u001b[0m\u001b[0;34m.\u001b[0m\u001b[0mto_unicode\u001b[0m\u001b[0;34m(\u001b[0m\u001b[0mfin\u001b[0m\u001b[0;34m.\u001b[0m\u001b[0mreadline\u001b[0m\u001b[0;34m(\u001b[0m\u001b[0;34m)\u001b[0m\u001b[0;34m,\u001b[0m \u001b[0mencoding\u001b[0m\u001b[0;34m=\u001b[0m\u001b[0mencoding\u001b[0m\u001b[0;34m)\u001b[0m\u001b[0;34m\u001b[0m\u001b[0;34m\u001b[0m\u001b[0m\n\u001b[1;32m    344\u001b[0m         \u001b[0mvocab_size\u001b[0m\u001b[0;34m,\u001b[0m \u001b[0mvector_size\u001b[0m \u001b[0;34m=\u001b[0m \u001b[0;34m(\u001b[0m\u001b[0mint\u001b[0m\u001b[0;34m(\u001b[0m\u001b[0mx\u001b[0m\u001b[0;34m)\u001b[0m \u001b[0;32mfor\u001b[0m \u001b[0mx\u001b[0m \u001b[0;32min\u001b[0m \u001b[0mheader\u001b[0m\u001b[0;34m.\u001b[0m\u001b[0msplit\u001b[0m\u001b[0;34m(\u001b[0m\u001b[0;34m)\u001b[0m\u001b[0;34m)\u001b[0m  \u001b[0;31m# throws for invalid file format\u001b[0m\u001b[0;34m\u001b[0m\u001b[0;34m\u001b[0m\u001b[0m\n",
      "\u001b[0;32m~/anaconda3/lib/python3.7/site-packages/smart_open/smart_open_lib.py\u001b[0m in \u001b[0;36msmart_open\u001b[0;34m(uri, mode, **kw)\u001b[0m\n\u001b[1;32m    179\u001b[0m         \u001b[0;32mraise\u001b[0m \u001b[0mTypeError\u001b[0m\u001b[0;34m(\u001b[0m\u001b[0;34m'mode should be a string'\u001b[0m\u001b[0;34m)\u001b[0m\u001b[0;34m\u001b[0m\u001b[0;34m\u001b[0m\u001b[0m\n\u001b[1;32m    180\u001b[0m \u001b[0;34m\u001b[0m\u001b[0m\n\u001b[0;32m--> 181\u001b[0;31m     \u001b[0mfobj\u001b[0m \u001b[0;34m=\u001b[0m \u001b[0m_shortcut_open\u001b[0m\u001b[0;34m(\u001b[0m\u001b[0muri\u001b[0m\u001b[0;34m,\u001b[0m \u001b[0mmode\u001b[0m\u001b[0;34m,\u001b[0m \u001b[0;34m**\u001b[0m\u001b[0mkw\u001b[0m\u001b[0;34m)\u001b[0m\u001b[0;34m\u001b[0m\u001b[0;34m\u001b[0m\u001b[0m\n\u001b[0m\u001b[1;32m    182\u001b[0m     \u001b[0;32mif\u001b[0m \u001b[0mfobj\u001b[0m \u001b[0;32mis\u001b[0m \u001b[0;32mnot\u001b[0m \u001b[0;32mNone\u001b[0m\u001b[0;34m:\u001b[0m\u001b[0;34m\u001b[0m\u001b[0;34m\u001b[0m\u001b[0m\n\u001b[1;32m    183\u001b[0m         \u001b[0;32mreturn\u001b[0m \u001b[0mfobj\u001b[0m\u001b[0;34m\u001b[0m\u001b[0;34m\u001b[0m\u001b[0m\n",
      "\u001b[0;32m~/anaconda3/lib/python3.7/site-packages/smart_open/smart_open_lib.py\u001b[0m in \u001b[0;36m_shortcut_open\u001b[0;34m(uri, mode, **kw)\u001b[0m\n\u001b[1;32m    299\u001b[0m     \u001b[0;31m#\u001b[0m\u001b[0;34m\u001b[0m\u001b[0;34m\u001b[0m\u001b[0;34m\u001b[0m\u001b[0m\n\u001b[1;32m    300\u001b[0m     \u001b[0;32mif\u001b[0m \u001b[0msix\u001b[0m\u001b[0;34m.\u001b[0m\u001b[0mPY3\u001b[0m\u001b[0;34m:\u001b[0m\u001b[0;34m\u001b[0m\u001b[0;34m\u001b[0m\u001b[0m\n\u001b[0;32m--> 301\u001b[0;31m         \u001b[0;32mreturn\u001b[0m \u001b[0mopen\u001b[0m\u001b[0;34m(\u001b[0m\u001b[0mparsed_uri\u001b[0m\u001b[0;34m.\u001b[0m\u001b[0muri_path\u001b[0m\u001b[0;34m,\u001b[0m \u001b[0mmode\u001b[0m\u001b[0;34m,\u001b[0m \u001b[0mbuffering\u001b[0m\u001b[0;34m=\u001b[0m\u001b[0mbuffering\u001b[0m\u001b[0;34m,\u001b[0m \u001b[0;34m**\u001b[0m\u001b[0mopen_kwargs\u001b[0m\u001b[0;34m)\u001b[0m\u001b[0;34m\u001b[0m\u001b[0;34m\u001b[0m\u001b[0m\n\u001b[0m\u001b[1;32m    302\u001b[0m     \u001b[0;32melif\u001b[0m \u001b[0;32mnot\u001b[0m \u001b[0mopen_kwargs\u001b[0m\u001b[0;34m:\u001b[0m\u001b[0;34m\u001b[0m\u001b[0;34m\u001b[0m\u001b[0m\n\u001b[1;32m    303\u001b[0m         \u001b[0;32mreturn\u001b[0m \u001b[0mopen\u001b[0m\u001b[0;34m(\u001b[0m\u001b[0mparsed_uri\u001b[0m\u001b[0;34m.\u001b[0m\u001b[0muri_path\u001b[0m\u001b[0;34m,\u001b[0m \u001b[0mmode\u001b[0m\u001b[0;34m,\u001b[0m \u001b[0mbuffering\u001b[0m\u001b[0;34m=\u001b[0m\u001b[0mbuffering\u001b[0m\u001b[0;34m)\u001b[0m\u001b[0;34m\u001b[0m\u001b[0;34m\u001b[0m\u001b[0m\n",
      "\u001b[0;31mFileNotFoundError\u001b[0m: [Errno 2] No such file or directory: './model/GoogleNews-vectors-negative300.bin'"
     ]
    }
   ],
   "source": [
    "import gensim\n",
    "\n",
    "model = gensim.models.KeyedVectors.load_word2vec_format('./model/GoogleNews-vectors-negative300.bin', binary=True)"
   ]
  },
  {
   "cell_type": "code",
   "execution_count": 69,
   "metadata": {
    "slideshow": {
     "slide_type": "fragment"
    }
   },
   "outputs": [
    {
     "ename": "NameError",
     "evalue": "name 'model' is not defined",
     "output_type": "error",
     "traceback": [
      "\u001b[0;31m---------------------------------------------------------------------------\u001b[0m",
      "\u001b[0;31mNameError\u001b[0m                                 Traceback (most recent call last)",
      "\u001b[0;32m<ipython-input-69-127e450fb860>\u001b[0m in \u001b[0;36m<module>\u001b[0;34m\u001b[0m\n\u001b[1;32m      3\u001b[0m \u001b[0;34m\u001b[0m\u001b[0m\n\u001b[1;32m      4\u001b[0m \u001b[0;32mfor\u001b[0m \u001b[0mperiod\u001b[0m \u001b[0;32min\u001b[0m \u001b[0mvocs\u001b[0m\u001b[0;34m:\u001b[0m\u001b[0;34m\u001b[0m\u001b[0;34m\u001b[0m\u001b[0m\n\u001b[0;32m----> 5\u001b[0;31m     \u001b[0mms\u001b[0m \u001b[0;34m=\u001b[0m \u001b[0mmodel\u001b[0m\u001b[0;34m.\u001b[0m\u001b[0msimilar_by_word\u001b[0m\u001b[0;34m(\u001b[0m\u001b[0mquery\u001b[0m\u001b[0;34m,\u001b[0m \u001b[0mtopn\u001b[0m\u001b[0;34m=\u001b[0m\u001b[0mK_nearest\u001b[0m\u001b[0;34m)\u001b[0m\u001b[0;34m\u001b[0m\u001b[0;34m\u001b[0m\u001b[0m\n\u001b[0m\u001b[1;32m      6\u001b[0m \u001b[0;31m#     print(ms)\u001b[0m\u001b[0;34m\u001b[0m\u001b[0;34m\u001b[0m\u001b[0;34m\u001b[0m\u001b[0m\n\u001b[1;32m      7\u001b[0m     \u001b[0msim_scores\u001b[0m \u001b[0;34m=\u001b[0m \u001b[0;34m[\u001b[0m\u001b[0mw\u001b[0m\u001b[0;34m[\u001b[0m\u001b[0;36m1\u001b[0m\u001b[0;34m]\u001b[0m \u001b[0;32mfor\u001b[0m \u001b[0mw\u001b[0m \u001b[0;32min\u001b[0m \u001b[0mms\u001b[0m\u001b[0;34m]\u001b[0m\u001b[0;34m\u001b[0m\u001b[0;34m\u001b[0m\u001b[0m\n",
      "\u001b[0;31mNameError\u001b[0m: name 'model' is not defined"
     ]
    }
   ],
   "source": [
    "query = 'dog'\n",
    "K_nearest = 30\n",
    "\n",
    "for period in vocs:\n",
    "    ms = model.similar_by_word(query, topn=K_nearest)\n",
    "#     print(ms)\n",
    "    sim_scores = [w[1] for w in ms]\n",
    "    simMap = {w[0]: w[1] for w in ms}\n",
    "    words = set([w[0] for w in ms])\n",
    "    avg_sim = sum(sim_scores) / len(sim_scores)\n",
    "    neighbor_words = neighbors(query, vecs[period], vocs[period], K=K_nearest)\n",
    "#     print(words)\n",
    "#     print(neighbor_words)\n",
    "    intersection_set = words.intersection(neighbor_words)\n",
    "    inter_sims = [simMap[w] for w in intersection_set]\n",
    "    if inter_sims:\n",
    "        print(sum(inter_sims) / len(inter_sims))\n",
    "    else:\n",
    "        print(0)\n",
    "#     break"
   ]
  },
  {
   "cell_type": "code",
   "execution_count": 71,
   "metadata": {},
   "outputs": [
    {
     "data": {
      "image/png": "[encoded data removed]",
      "text/plain": [
       "<Figure size 432x288 with 1 Axes>"
      ]
     },
     "metadata": {
      "needs_background": "light"
     },
     "output_type": "display_data"
    }
   ],
   "source": [
    "\n",
    "query = 'cat'\n",
    "K_nearest = 50\n",
    "\n",
    "word_gold_sim = []\n",
    "\n",
    "for period in vocs:\n",
    "    ms = model.similar_by_word(query, topn=K_nearest)\n",
    "#     print(ms)\n",
    "    sim_scores = [w[1] for w in ms]\n",
    "    simMap = {w[0]: w[1] for w in ms}\n",
    "    words = set([w[0] for w in ms])\n",
    "    avg_sim = sum(sim_scores) / len(sim_scores)\n",
    "    neighbor_words = neighbors(query, vecs[period], vocs[period], K=K_nearest)\n",
    "#     print(words)\n",
    "#     print(neighbor_words)\n",
    "    intersection_set = words.intersection(neighbor_words)\n",
    "    inter_sims = [simMap[w] for w in intersection_set]\n",
    "    if inter_sims:\n",
    "#         print(sum(inter_sims) / len(inter_sims))\n",
    "        word_gold_sim.append(sum(inter_sims) / len(inter_sims))\n",
    "    else:\n",
    "#         print(0)\n",
    "        word_gold_sim.append(0)\n",
    "#     break\n",
    "\n",
    "import matplotlib.pyplot as plt\n",
    "plt.plot(word_gold_sim)\n",
    "plt.ylabel('cos similarity')\n",
    "plt.title(query)\n",
    "plt.show()\n"
   ]
  },
  {
   "cell_type": "code",
   "execution_count": 99,
   "metadata": {},
   "outputs": [],
   "source": [
    "import matplotlib.pyplot as plt\n",
    "\n",
    "def plot_word_change_over_time(query, K_nearest):\n",
    "    \n",
    "    if query not in model.vocab:\n",
    "        print(\"word not in the Google Word2Vec\")\n",
    "        return\n",
    "\n",
    "    word_gold_sim = []\n",
    "\n",
    "    for period in vocs:\n",
    "        if query not in vocs[period]:\n",
    "            word_gold_sim.append(0)\n",
    "            continue\n",
    "        ms = model.similar_by_word(query, topn=K_nearest)\n",
    "    #     print(ms)\n",
    "        sim_scores = [w[1] for w in ms]\n",
    "        simMap = {w[0]: w[1] for w in ms}\n",
    "        words = set([w[0] for w in ms])\n",
    "        avg_sim = sum(sim_scores) / len(sim_scores)\n",
    "        neighbor_words = neighbors(query, vecs[period], vocs[period], K=K_nearest)\n",
    "    #     print(words)\n",
    "    #     print(neighbor_words)\n",
    "        intersection_set = words.intersection(neighbor_words)\n",
    "        inter_sims = [simMap[w] for w in intersection_set]\n",
    "        if inter_sims:\n",
    "    #         print(sum(inter_sims) / len(inter_sims))\n",
    "            word_gold_sim.append(sum(inter_sims) / len(inter_sims))\n",
    "        else:\n",
    "    #         print(0)\n",
    "            word_gold_sim.append(0)\n",
    "    #     break\n",
    "    return word_gold_sim\n",
    "#     plt.plot(word_gold_sim)\n",
    "#     plt.ylabel('cos similarity')\n",
    "#     plt.title(query)\n",
    "#     plt.show()"
   ]
  },
  {
   "cell_type": "code",
   "execution_count": 101,
   "metadata": {},
   "outputs": [
    {
     "name": "stdout",
     "output_type": "stream",
     "text": [
      "[0, 0, 0.537021279335022, 0.537021279335022, 0.514514647424221, 0.543099045753479, 0.5400601625442505, 0.537021279335022, 0.543099045753479, 0.543099045753479, 0.5400601625442505, 0]\n",
      "[0, 0, 0, 0.3968633711338043, 0.38637056946754456, 0, 0.41439229249954224, 0.41439229249954224, 0.4968656897544861, 0, 0.3793344497680664, 0.43810006976127625]\n",
      "[0, 0.38278452555338544, 0.3803805112838745, 0.38662227988243103, 0.4587290287017822, 0.40352702140808105, 0.3846116562684377, 0.40352702140808105, 0.38900590538978574, 0.5100436508655548, 0.4148150347173214, 0.40467333793640137]\n",
      "[0.46360014081001283, 0, 0.4795212596654892, 0.4472704827785492, 0.4643449932336807, 0.4786301851272583, 0.4827393889427185, 0.44231000542640686, 0.457194022834301, 0.494478240609169, 0.5163360138734182, 0.4825325906276703]\n",
      "[0.4329174757003784, 0.4718979597091675, 0.4329174757003784, 0.4329174757003784, 0.4718979597091675, 0, 0.5108784437179565, 0.4318605661392212, 0.5108784437179565, 0.5108784437179565, 0.5108784437179565, 0.5108784437179565]\n",
      "[0.38296979665756226, 0.3833282192548116, 0.43981897830963135, 0.38697221875190735, 0, 0.38124455511569977, 0.41339559853076935, 0.43981897830963135, 0.4580720365047455, 0.4165288209915161, 0.4165288209915161, 0.38296979665756226]\n",
      "[0, 0.4359534680843353, 0.4359534680843353, 0.4359534680843353, 0.5894269247849783, 0.6333997696638107, 0, 0, 0, 0.6333997696638107, 0.5988379915555319, 0]\n",
      "[0, 0, 0.3697110116481781, 0, 0, 0, 0, 0.40243178606033325, 0.40243178606033325, 0, 0.40243178606033325, 0]\n",
      "[0.46430453658103943, 0, 0, 0.46430453658103943, 0, 0.41366636753082275, 0, 0, 0.45907680690288544, 0.4389854520559311, 0.46430453658103943, 0.45040687918663025]\n",
      "[0, 0, 0, 0, 0, 0, 0, 0, 0, 0, 0, 0]\n",
      "[0, 0, 0, 0.5469143390655518, 0, 0.5330571532249451, 0, 0, 0, 0, 0, 0]\n",
      "word not in the Google Word2Vec\n",
      "None\n",
      "[0.531707763671875, 0.5251492361227671, 0.531707763671875, 0.5386424660682678, 0.5178726315498352, 0, 0.5020678341388702, 0.5386424660682678, 0.5386424660682678, 0.4897083540757497, 0.5040203630924225, 0.5040203630924225]\n",
      "[0.42184098064899445, 0.39518454670906067, 0.39518454670906067, 0.4181089699268341, 0.42184098064899445, 0.39518454670906067, 0.42184098064899445, 0.38150222301483155, 0.4636511504650116, 0.3964366316795349, 0.42722196380297345, 0.4636511504650116]\n",
      "[0, 0, 0, 0, 0, 0, 0.5543431639671326, 0, 0, 0.5634506940841675, 0, 0]\n",
      "[0, 0, 0, 0, 0, 0, 0, 0, 0, 0, 0, 0]\n",
      "[0, 0.5102613568305969, 0.4543550908565521, 0.5159867107868195, 0.4543550908565521, 0.5159867107868195, 0.4543550908565521, 0.4805028438568115, 0.507149318854014, 0.507149318854014, 0.474777489900589, 0.4486297369003296]\n",
      "[0, 0, 0, 0, 0.5312312245368958, 0, 0.4652402997016907, 0.4652402997016907, 0.4433283805847168, 0, 0.4652402997016907, 0.4982357621192932]\n",
      "[0, 0, 0, 0.6756706237792969, 0, 0.6756706237792969, 0, 0, 0, 0, 0, 0]\n",
      "[0.6726090908050537, 0.45095470547676086, 0.5497585237026215, 0, 0.6726090908050537, 0.5265998542308807, 0, 0, 0.5265998542308807, 0.6726090908050537, 0.5497585237026215, 0.5617818981409073]\n",
      "word not in the Google Word2Vec\n",
      "None\n",
      "[0, 0, 0, 0, 0, 0, 0.4834049940109253, 0.4834049940109253, 0.4834049940109253, 0, 0, 0.4834049940109253]\n",
      "[0, 0.44906336069107056, 0, 0, 0, 0.529200553894043, 0.44906336069107056, 0.4571518301963806, 0.453567698597908, 0.44906336069107056, 0.4571518301963806, 0.44906336069107056]\n",
      "word not in the Google Word2Vec\n",
      "None\n",
      "[0.43638867139816284, 0.43638867139816284, 0.43977445363998413, 0, 0.42853644490242004, 0.43638867139816284, 0.43977445363998413, 0.45197099447250366, 0.43638867139816284, 0.43977445363998413, 0.44417983293533325, 0.43634796142578125]\n",
      "[0, 0, 0, 0, 0, 0, 0.558600127696991, 0.558600127696991, 0.558600127696991, 0, 0, 0]\n",
      "[0.4689020613829295, 0.46578191220760345, 0.5093458493550619, 0.4699203670024872, 0.46755824486414593, 0, 0.46578191220760345, 0.46755824486414593, 0.5058645208676656, 0.4731266349554062, 0.4763329029083252, 0.4994894787669182]\n",
      "[0, 0, 0, 0, 0, 0, 0, 0, 0, 0, 0, 0]\n",
      "[0.5122564931710561, 0.5799160003662109, 0.5030338764190674, 0.5087914019823074, 0.5087914019823074, 0.5087914019823074, 0.5799160003662109, 0.5375730097293854, 0.5559593439102173, 0.6038726568222046, 0.5559593439102173, 0.6038726568222046]\n",
      "[0, 0, 0, 0.4934810400009155, 0, 0, 0, 0, 0.4934810400009155, 0.4934810400009155, 0, 0]\n",
      "[0.5048839449882507, 0, 0, 0, 0, 0, 0, 0, 0, 0, 0, 0]\n",
      "[0.4800110459327698, 0.4800110459327698, 0.4800110459327698, 0, 0, 0, 0.4800110459327698, 0.4800110459327698, 0, 0, 0.4800110459327698, 0]\n",
      "[0.4940042396386464, 0.512751579284668, 0.512751579284668, 0.5021333992481232, 0.512751579284668, 0.512751579284668, 0.4875353276729584, 0.48995116353034973, 0.49952320009469986, 0.49360673129558563, 0.48830368369817734, 0.502222090959549]\n",
      "[0.411013126373291, 0, 0.45738404989242554, 0.4588913917541504, 0, 0.46907123923301697, 0.4788982768853505, 0.47048648198445636, 0.45738404989242554, 0.4354172796010971, 0.4960532983144124, 0.4654393494129181]\n",
      "[0.5062536001205444, 0.5223404943943024, 0.523104652762413, 0.5382827520370483, 0.5263622179627419, 0.5382827520370483, 0.5489591360092163, 0.5253405153751374, 0.5177484999100367, 0.4808049723505974, 0.552148679892222, 0]\n",
      "[0, 0, 0, 0, 0, 0, 0, 0, 0.600395679473877, 0, 0.600395679473877, 0]\n",
      "[0, 0, 0.46872881054878235, 0.5399967432022095, 0.5631336271762848, 0.4992316961288452, 0.4992316961288452, 0.4992316961288452, 0.5807617902755737, 0.4389360249042511, 0.5231466690699259, 0.47564829885959625]\n",
      "[0.4989726319909096, 0.5099457427859306, 0.5714394897222519, 0.49944894909858706, 0.5260395407676697, 0.466105838616689, 0.5133281896511713, 0.5164022445678711, 0.5080026090145111, 0.5074039399623871, 0.501734459400177, 0.45027950406074524]\n",
      "[0.4671708842118581, 0.5073054432868958, 0.46873340755701065, 0.4671708842118581, 0.46824532747268677, 0.4671708842118581, 0, 0.5073054432868958, 0.4861637204885483, 0.5073054432868958, 0.5073054432868958, 0]\n",
      "[0, 0, 0, 0.42472147941589355, 0, 0, 0, 0, 0, 0, 0, 0.4298080801963806]\n",
      "[0.46132737398147583, 0, 0, 0, 0, 0, 0.46132737398147583, 0.4777655005455017, 0, 0.43363720178604126, 0.43363720178604126, 0.5218937993049622]\n",
      "[0.40125758200883865, 0.42822842796643573, 0, 0.3942508399486542, 0.40417799779347013, 0.3942387302716573, 0.4137161870797475, 0.39720535775025684, 0.4278041243553162, 0.41089813113212587, 0.42646527886390684, 0.37274640798568726]\n",
      "[0.5748693943023682, 0.5658150911331177, 0.5658150911331177, 0.5596206585566202, 0.5658150911331177, 0.5658150911331177, 0.5596206585566202, 0.5658150911331177, 0.5544619560241699, 0.5784844756126404, 0, 0.6025069952011108]\n",
      "[0, 0, 0, 0, 0.47934351364771527, 0, 0, 0, 0, 0.5150948762893677, 0, 0]\n",
      "[0, 0.5455771088600159, 0, 0.5455771088600159, 0.5455771088600159, 0.5455771088600159, 0.43981897830963135, 0.4926980435848236, 0.5455771088600159, 0, 0, 0.5455771088600159]\n",
      "[0, 0, 0, 0, 0, 0, 0, 0, 0, 0, 0, 0]\n",
      "[0.6025069952011108, 0.5621525645256042, 0.5621525645256042, 0.5621525645256042, 0.5621525645256042, 0.5621525645256042, 0.5621525645256042, 0.5621525645256042, 0.6025069952011108, 0.6025069952011108, 0, 0.6025069952011108]\n",
      "[0.4410940408706665, 0.4365902046362559, 0.4076811373233795, 0.47027844190597534, 0.44941267371177673, 0.46127592772245407, 0.4237259179353714, 0.4439551383256912, 0.4439551383256912, 0.4299564063549042, 0.41340386867523193, 0.46595897525548935]\n",
      "[0, 0.526828408241272, 0.4281604290008545, 0.44763755798339844, 0, 0.43843334913253784, 0.48453708986441296, 0, 0, 0.45496276021003723, 0.4849119186401367, 0.537021279335022]\n",
      "[0.4996977746486664, 0.508478194475174, 0.50312340259552, 0, 0.4965866208076477, 0.5018598139286041, 0.5019414126873016, 0.5112314820289612, 0.4938333332538605, 0.5290448268254598, 0.5216888636350632, 0.5046947002410889]\n",
      "[0, 0.4695807993412018, 0.559143915772438, 0.4695807993412018, 0.535318911075592, 0.4695807993412018, 0.559143915772438, 0.6487070322036743, 0.4695807993412018, 0.6487070322036743, 0.559143915772438, 0]\n",
      "[0, 0, 0, 0, 0, 0, 0, 0, 0, 0, 0, 0]\n",
      "[0, 0, 0, 0, 0.5021157264709473, 0, 0, 0, 0.600395679473877, 0, 0.600395679473877, 0.600395679473877]\n",
      "[0, 0.4807584285736084, 0.385541170835495, 0, 0, 0.4807584285736084, 0, 0, 0, 0, 0, 0]\n",
      "[0.422514945268631, 0.4344043582677841, 0.4344043582677841, 0.4344043582677841, 0.4344043582677841, 0.4344043582677841, 0.4344043582677841, 0.4344043582677841, 0.4344043582677841, 0.3987361192703247, 0.4344043582677841, 0.4051574766635895]\n"
     ]
    },
    {
     "name": "stdout",
     "output_type": "stream",
     "text": [
      "[0, 0, 0, 0, 0.511629581451416, 0.511629581451416, 0.511629581451416, 0, 0.511629581451416, 0.511629581451416, 0.511629581451416, 0]\n",
      "[0, 0, 0, 0, 0, 0, 0, 0, 0, 0, 0, 0]\n",
      "[0.556510329246521, 0.6501179933547974, 0, 0, 0.556510329246521, 0, 0.6501179933547974, 0.6501179933547974, 0.6501179933547974, 0.6501179933547974, 0.6501179933547974, 0.6501179933547974]\n",
      "[0, 0, 0.42812085151672363, 0, 0.44783930480480194, 0, 0.4699968099594116, 0.4684063494205475, 0, 0.4435498118400574, 0.4435498118400574, 0]\n",
      "[0.5083798170089722, 0, 0, 0, 0, 0, 0.5552983283996582, 0, 0, 0, 0, 0]\n",
      "[0.48076512416203815, 0.47574632508414133, 0.476920207341512, 0.4643813669681549, 0.4895540475845337, 0.48049995799859363, 0.4691476337611675, 0.47964172065258026, 0.48271788018090384, 0.43910221457481385, 0.47182265520095823, 0.46830775141716]\n",
      "[0.485714723666509, 0.489922434091568, 0.5173643380403519, 0.5014729797840118, 0.5237352053324381, 0.4931195576985677, 0.5057183265686035, 0.5237352053324381, 0.5022568926215172, 0, 0, 0.5732846856117249]\n",
      "[0.4860282710620335, 0.46914323170979816, 0.44037861824035646, 0.4591106742620468, 0.4720773200194041, 0.452900755405426, 0.4636265397071838, 0.4517131567001343, 0.4586121529340744, 0.45874468982219696, 0.4432641267776489, 0.44405360221862794]\n",
      "[0.6306528449058533, 0.6306528449058533, 0.6306528449058533, 0, 0.6306528449058533, 0, 0.6306528449058533, 0, 0, 0, 0.6306528449058533, 0.6306528449058533]\n",
      "[0.47110095620155334, 0.47110095620155334, 0, 0.47110095620155334, 0.47110095620155334, 0.4698541909456253, 0.4698541909456253, 0.46860742568969727, 0.47110095620155334, 0.4698541909456253, 0.4698541909456253, 0.47110095620155334]\n",
      "[0, 0.48295094072818756, 0, 0.48295094072818756, 0.5463376045227051, 0, 0.5463376045227051, 0.4364131689071655, 0.5463376045227051, 0, 0.4664192199707031, 0.4336549937725067]\n",
      "[0.4701923727989197, 0, 0, 0, 0.45697975158691406, 0.4834049940109253, 0.4701923727989197, 0.4834049940109253, 0, 0.45697975158691406, 0.45697975158691406, 0.4701923727989197]\n",
      "[0, 0.5108204483985901, 0.5656645148992538, 0.5336243510246277, 0.5568475052714348, 0.5727129220962525, 0.5824883580207825, 0.5522048711776734, 0.5472559630870819, 0.504398375749588, 0.5768794616063436, 0.5292948285738627]\n",
      "[0.5005396803220113, 0.513768345117569, 0.541745662689209, 0.5358228882153829, 0.5085759311914444, 0.5443220138549805, 0.5200737913449606, 0.485990176598231, 0.520908792813619, 0.4772214353084564, 0.5128377576669058, 0.5066597014665604]\n",
      "[0.46510395407676697, 0.4206525385379791, 0, 0.4053853750228882, 0, 0.42379850149154663, 0.3986484507719676, 0.4044410288333893, 0.41431137919425964, 0.39963193982839584, 0.4270399212837219, 0.4090477377176285]\n",
      "[0, 0, 0, 0, 0, 0, 0, 0, 0, 0, 0, 0]\n",
      "[0, 0, 0, 0, 0, 0, 0, 0, 0, 0, 0, 0]\n",
      "[0.608497142791748, 0.608497142791748, 0.608497142791748, 0.608497142791748, 0.608497142791748, 0.608497142791748, 0.608497142791748, 0.608497142791748, 0.608497142791748, 0.608497142791748, 0.608497142791748, 0.608497142791748]\n",
      "[0.4773451864719391, 0.4773451864719391, 0.46491668820381166, 0.4710593670606613, 0.4773451864719391, 0.48542582988739014, 0.4808116853237152, 0.45498545467853546, 0.4501027762889862, 0.4989679455757141, 0.48954030871391296, 0.46472028891245526]\n",
      "[0, 0, 0, 0, 0.5132879018783569, 0, 0, 0, 0, 0, 0.5132879018783569, 0]\n",
      "[0.5809950629870096, 0.566892683506012, 0.566892683506012, 0.6182225942611694, 0.5776864290237427, 0.5776864290237427, 0.566892683506012, 0.597954511642456, 0.5776864290237427, 0.5674830079078674, 0.5840026537577311, 0.5623812973499298]\n",
      "word not in the Google Word2Vec\n",
      "None\n",
      "[0, 0.6029379367828369, 0.5594007968902588, 0, 0, 0, 0, 0, 0, 0.6029379367828369, 0, 0]\n",
      "[0, 0, 0, 0, 0, 0, 0, 0, 0, 0, 0, 0]\n",
      "[0.38884449005126953, 0.38884449005126953, 0, 0.38884449005126953, 0, 0.38884449005126953, 0, 0, 0, 0, 0, 0.3699328899383545]\n",
      "[0.41597933769226075, 0.39089057842890423, 0.3781232684850693, 0.422625407576561, 0.3805071860551834, 0.3997087627649307, 0.43908247351646423, 0.3805071860551834, 0.39089057842890423, 0.4027925580739975, 0.42666061967611313, 0.43908247351646423]\n",
      "[0.38260704278945923, 0.40266937017440796, 0.4179631173610687, 0, 0, 0.5787086486816406, 0.4227316975593567, 0, 0, 0, 0.5787086486816406, 0]\n",
      "[0, 0.4121583104133606, 0, 0, 0, 0.39182037115097046, 0.39182037115097046, 0, 0.39182037115097046, 0, 0, 0]\n",
      "[0, 0, 0, 0, 0, 0.398343563079834, 0, 0, 0, 0, 0, 0]\n",
      "[0, 0.5237523913383484, 0.5237523913383484, 0.5237523913383484, 0, 0, 0, 0, 0, 0, 0, 0]\n",
      "word not in the Google Word2Vec\n",
      "None\n",
      "[0.4363990366458893, 0.4278522829214732, 0.42403395970662433, 0.43608181391443523, 0.4278522829214732, 0.4260724037885666, 0.436434730887413, 0.41709860414266586, 0.43148738145828247, 0.40652888019879657, 0.4636184871196747, 0.448546826839447]\n",
      "[0.5068337082862854, 0.5124023333191872, 0.5124023333191872, 0.502251410484314, 0.47473776936531065, 0.4980782313006265, 0.4993027100960414, 0.47228240966796875, 0.5124023333191872, 0.502251410484314, 0.5005888760089874, 0.5173759559790293]\n",
      "[0, 0.49873676896095276, 0.49873676896095276, 0.49873676896095276, 0.49873676896095276, 0.580878272652626, 0.49873676896095276, 0.580878272652626, 0, 0.6630197763442993, 0.580878272652626, 0.6630197763442993]\n",
      "[0, 0.5463376045227051, 0, 0.5463376045227051, 0.5463376045227051, 0, 0.5463376045227051, 0, 0.5463376045227051, 0.5463376045227051, 0.5463376045227051, 0]\n",
      "[0.6911502778530121, 0.6911502778530121, 0.7055739363034567, 0.7000387708346049, 0.7197478413581848, 0.6542499661445618, 0.7055739363034567, 0.7055739363034567, 0.7197478413581848, 0.6965298533439637, 0.7270845472812653, 0.6908093690872192]\n",
      "[0, 0, 0, 0, 0, 0, 0, 0, 0, 0, 0, 0]\n",
      "[0.458765372633934, 0, 0, 0.4494387358427048, 0.44763755798339844, 0, 0.4519742876291275, 0, 0.4512399137020111, 0, 0.45017310976982117, 0]\n",
      "[0, 0, 0, 0, 0, 0, 0, 0, 0, 0, 0, 0]\n",
      "[0.46900780498981476, 0.46587759256362915, 0.46587759256362915, 0.46587759256362915, 0.46587759256362915, 0.46587759256362915, 0.46587759256362915, 0.46587759256362915, 0.46587759256362915, 0.46587759256362915, 0.46587759256362915, 0]\n",
      "[0, 0, 0.44357800483703613, 0, 0, 0, 0, 0.3578730821609497, 0.44357800483703613, 0.3578730821609497, 0, 0.44357800483703613]\n",
      "[0, 0, 0, 0.45307618379592896, 0, 0, 0.45697975158691406, 0, 0.5388966202735901, 0.45697975158691406, 0.45697975158691406, 0.45307618379592896]\n",
      "[0, 0, 0, 0.6653479337692261, 0.6653479337692261, 0, 0.6653479337692261, 0.6653479337692261, 0, 0.6653479337692261, 0.6653479337692261, 0.6653479337692261]\n",
      "word not in the Google Word2Vec\n",
      "None\n",
      "[0.47407495975494385, 0.4686031937599182, 0.4686031937599182, 0.46953801810741425, 0.4686031937599182, 0.4686031937599182, 0.47407495975494385, 0.47407495975494385, 0.46740248799324036, 0.47407495975494385, 0.4538649618625641, 0.4538649618625641]\n",
      "[0.46248599886894226, 0.5262291431427002, 0.5262291431427002, 0.5262291431427002, 0.4682815670967102, 0, 0, 0, 0.49435757100582123, 0.46248599886894226, 0.46248599886894226, 0.49435757100582123]\n",
      "word not in the Google Word2Vec\n",
      "None\n",
      "[0, 0, 0, 0, 0.630652904510498, 0, 0.630652904510498, 0, 0, 0, 0.630652904510498, 0.630652904510498]\n",
      "defaultdict(<class 'list'>, {'action_words': array([list([0, 0, 0.537021279335022, 0.537021279335022, 0.514514647424221, 0.543099045753479, 0.5400601625442505, 0.537021279335022, 0.543099045753479, 0.543099045753479, 0.5400601625442505, 0]),\n",
      "       list([0, 0, 0, 0.3968633711338043, 0.38637056946754456, 0, 0.41439229249954224, 0.41439229249954224, 0.4968656897544861, 0, 0.3793344497680664, 0.43810006976127625]),\n",
      "       list([0, 0.38278452555338544, 0.3803805112838745, 0.38662227988243103, 0.4587290287017822, 0.40352702140808105, 0.3846116562684377, 0.40352702140808105, 0.38900590538978574, 0.5100436508655548, 0.4148150347173214, 0.40467333793640137]),\n",
      "       list([0.46360014081001283, 0, 0.4795212596654892, 0.4472704827785492, 0.4643449932336807, 0.4786301851272583, 0.4827393889427185, 0.44231000542640686, 0.457194022834301, 0.494478240609169, 0.5163360138734182, 0.4825325906276703]),\n",
      "       list([0.4329174757003784, 0.4718979597091675, 0.4329174757003784, 0.4329174757003784, 0.4718979597091675, 0, 0.5108784437179565, 0.4318605661392212, 0.5108784437179565, 0.5108784437179565, 0.5108784437179565, 0.5108784437179565]),\n",
      "       list([0.38296979665756226, 0.3833282192548116, 0.43981897830963135, 0.38697221875190735, 0, 0.38124455511569977, 0.41339559853076935, 0.43981897830963135, 0.4580720365047455, 0.4165288209915161, 0.4165288209915161, 0.38296979665756226]),\n",
      "       list([0, 0.4359534680843353, 0.4359534680843353, 0.4359534680843353, 0.5894269247849783, 0.6333997696638107, 0, 0, 0, 0.6333997696638107, 0.5988379915555319, 0]),\n",
      "       list([0, 0, 0.3697110116481781, 0, 0, 0, 0, 0.40243178606033325, 0.40243178606033325, 0, 0.40243178606033325, 0]),\n",
      "       list([0.46430453658103943, 0, 0, 0.46430453658103943, 0, 0.41366636753082275, 0, 0, 0.45907680690288544, 0.4389854520559311, 0.46430453658103943, 0.45040687918663025]),\n",
      "       list([0, 0, 0, 0, 0, 0, 0, 0, 0, 0, 0, 0]),\n",
      "       list([0, 0, 0, 0.5469143390655518, 0, 0.5330571532249451, 0, 0, 0, 0, 0, 0]),\n",
      "       None,\n",
      "       list([0.531707763671875, 0.5251492361227671, 0.531707763671875, 0.5386424660682678, 0.5178726315498352, 0, 0.5020678341388702, 0.5386424660682678, 0.5386424660682678, 0.4897083540757497, 0.5040203630924225, 0.5040203630924225]),\n",
      "       list([0.42184098064899445, 0.39518454670906067, 0.39518454670906067, 0.4181089699268341, 0.42184098064899445, 0.39518454670906067, 0.42184098064899445, 0.38150222301483155, 0.4636511504650116, 0.3964366316795349, 0.42722196380297345, 0.4636511504650116]),\n",
      "       list([0, 0, 0, 0, 0, 0, 0.5543431639671326, 0, 0, 0.5634506940841675, 0, 0]),\n",
      "       list([0, 0, 0, 0, 0, 0, 0, 0, 0, 0, 0, 0]),\n",
      "       list([0, 0.5102613568305969, 0.4543550908565521, 0.5159867107868195, 0.4543550908565521, 0.5159867107868195, 0.4543550908565521, 0.4805028438568115, 0.507149318854014, 0.507149318854014, 0.474777489900589, 0.4486297369003296]),\n",
      "       list([0, 0, 0, 0, 0.5312312245368958, 0, 0.4652402997016907, 0.4652402997016907, 0.4433283805847168, 0, 0.4652402997016907, 0.4982357621192932]),\n",
      "       list([0, 0, 0, 0.6756706237792969, 0, 0.6756706237792969, 0, 0, 0, 0, 0, 0]),\n",
      "       list([0.6726090908050537, 0.45095470547676086, 0.5497585237026215, 0, 0.6726090908050537, 0.5265998542308807, 0, 0, 0.5265998542308807, 0.6726090908050537, 0.5497585237026215, 0.5617818981409073]),\n",
      "       None,\n",
      "       list([0, 0, 0, 0, 0, 0, 0.4834049940109253, 0.4834049940109253, 0.4834049940109253, 0, 0, 0.4834049940109253]),\n",
      "       list([0, 0.44906336069107056, 0, 0, 0, 0.529200553894043, 0.44906336069107056, 0.4571518301963806, 0.453567698597908, 0.44906336069107056, 0.4571518301963806, 0.44906336069107056]),\n",
      "       None,\n",
      "       list([0.43638867139816284, 0.43638867139816284, 0.43977445363998413, 0, 0.42853644490242004, 0.43638867139816284, 0.43977445363998413, 0.45197099447250366, 0.43638867139816284, 0.43977445363998413, 0.44417983293533325, 0.43634796142578125]),\n",
      "       list([0, 0, 0, 0, 0, 0, 0.558600127696991, 0.558600127696991, 0.558600127696991, 0, 0, 0]),\n",
      "       list([0.4689020613829295, 0.46578191220760345, 0.5093458493550619, 0.4699203670024872, 0.46755824486414593, 0, 0.46578191220760345, 0.46755824486414593, 0.5058645208676656, 0.4731266349554062, 0.4763329029083252, 0.4994894787669182]),\n",
      "       list([0, 0, 0, 0, 0, 0, 0, 0, 0, 0, 0, 0]),\n",
      "       list([0.5122564931710561, 0.5799160003662109, 0.5030338764190674, 0.5087914019823074, 0.5087914019823074, 0.5087914019823074, 0.5799160003662109, 0.5375730097293854, 0.5559593439102173, 0.6038726568222046, 0.5559593439102173, 0.6038726568222046]),\n",
      "       list([0, 0, 0, 0.4934810400009155, 0, 0, 0, 0, 0.4934810400009155, 0.4934810400009155, 0, 0]),\n",
      "       list([0.5048839449882507, 0, 0, 0, 0, 0, 0, 0, 0, 0, 0, 0]),\n",
      "       list([0.4800110459327698, 0.4800110459327698, 0.4800110459327698, 0, 0, 0, 0.4800110459327698, 0.4800110459327698, 0, 0, 0.4800110459327698, 0]),\n",
      "       list([0.4940042396386464, 0.512751579284668, 0.512751579284668, 0.5021333992481232, 0.512751579284668, 0.512751579284668, 0.4875353276729584, 0.48995116353034973, 0.49952320009469986, 0.49360673129558563, 0.48830368369817734, 0.502222090959549]),\n",
      "       list([0.411013126373291, 0, 0.45738404989242554, 0.4588913917541504, 0, 0.46907123923301697, 0.4788982768853505, 0.47048648198445636, 0.45738404989242554, 0.4354172796010971, 0.4960532983144124, 0.4654393494129181]),\n",
      "       list([0.5062536001205444, 0.5223404943943024, 0.523104652762413, 0.5382827520370483, 0.5263622179627419, 0.5382827520370483, 0.5489591360092163, 0.5253405153751374, 0.5177484999100367, 0.4808049723505974, 0.552148679892222, 0]),\n",
      "       list([0, 0, 0, 0, 0, 0, 0, 0, 0.600395679473877, 0, 0.600395679473877, 0]),\n",
      "       list([0, 0, 0.46872881054878235, 0.5399967432022095, 0.5631336271762848, 0.4992316961288452, 0.4992316961288452, 0.4992316961288452, 0.5807617902755737, 0.4389360249042511, 0.5231466690699259, 0.47564829885959625]),\n",
      "       list([0.4989726319909096, 0.5099457427859306, 0.5714394897222519, 0.49944894909858706, 0.5260395407676697, 0.466105838616689, 0.5133281896511713, 0.5164022445678711, 0.5080026090145111, 0.5074039399623871, 0.501734459400177, 0.45027950406074524]),\n",
      "       list([0.4671708842118581, 0.5073054432868958, 0.46873340755701065, 0.4671708842118581, 0.46824532747268677, 0.4671708842118581, 0, 0.5073054432868958, 0.4861637204885483, 0.5073054432868958, 0.5073054432868958, 0]),\n",
      "       list([0, 0, 0, 0.42472147941589355, 0, 0, 0, 0, 0, 0, 0, 0.4298080801963806]),\n",
      "       list([0.46132737398147583, 0, 0, 0, 0, 0, 0.46132737398147583, 0.4777655005455017, 0, 0.43363720178604126, 0.43363720178604126, 0.5218937993049622]),\n",
      "       list([0.40125758200883865, 0.42822842796643573, 0, 0.3942508399486542, 0.40417799779347013, 0.3942387302716573, 0.4137161870797475, 0.39720535775025684, 0.4278041243553162, 0.41089813113212587, 0.42646527886390684, 0.37274640798568726]),\n",
      "       list([0.5748693943023682, 0.5658150911331177, 0.5658150911331177, 0.5596206585566202, 0.5658150911331177, 0.5658150911331177, 0.5596206585566202, 0.5658150911331177, 0.5544619560241699, 0.5784844756126404, 0, 0.6025069952011108]),\n",
      "       list([0, 0, 0, 0, 0.47934351364771527, 0, 0, 0, 0, 0.5150948762893677, 0, 0]),\n",
      "       list([0, 0.5455771088600159, 0, 0.5455771088600159, 0.5455771088600159, 0.5455771088600159, 0.43981897830963135, 0.4926980435848236, 0.5455771088600159, 0, 0, 0.5455771088600159]),\n",
      "       list([0, 0, 0, 0, 0, 0, 0, 0, 0, 0, 0, 0]),\n",
      "       list([0.6025069952011108, 0.5621525645256042, 0.5621525645256042, 0.5621525645256042, 0.5621525645256042, 0.5621525645256042, 0.5621525645256042, 0.5621525645256042, 0.6025069952011108, 0.6025069952011108, 0, 0.6025069952011108]),\n",
      "       list([0.4410940408706665, 0.4365902046362559, 0.4076811373233795, 0.47027844190597534, 0.44941267371177673, 0.46127592772245407, 0.4237259179353714, 0.4439551383256912, 0.4439551383256912, 0.4299564063549042, 0.41340386867523193, 0.46595897525548935]),\n",
      "       list([0, 0.526828408241272, 0.4281604290008545, 0.44763755798339844, 0, 0.43843334913253784, 0.48453708986441296, 0, 0, 0.45496276021003723, 0.4849119186401367, 0.537021279335022]),\n",
      "       list([0.4996977746486664, 0.508478194475174, 0.50312340259552, 0, 0.4965866208076477, 0.5018598139286041, 0.5019414126873016, 0.5112314820289612, 0.4938333332538605, 0.5290448268254598, 0.5216888636350632, 0.5046947002410889]),\n",
      "       list([0, 0.4695807993412018, 0.559143915772438, 0.4695807993412018, 0.535318911075592, 0.4695807993412018, 0.559143915772438, 0.6487070322036743, 0.4695807993412018, 0.6487070322036743, 0.559143915772438, 0]),\n",
      "       list([0, 0, 0, 0, 0, 0, 0, 0, 0, 0, 0, 0]),\n",
      "       list([0, 0, 0, 0, 0.5021157264709473, 0, 0, 0, 0.600395679473877, 0, 0.600395679473877, 0.600395679473877]),\n",
      "       list([0, 0.4807584285736084, 0.385541170835495, 0, 0, 0.4807584285736084, 0, 0, 0, 0, 0, 0]),\n",
      "       list([0.422514945268631, 0.4344043582677841, 0.4344043582677841, 0.4344043582677841, 0.4344043582677841, 0.4344043582677841, 0.4344043582677841, 0.4344043582677841, 0.4344043582677841, 0.3987361192703247, 0.4344043582677841, 0.4051574766635895]),\n",
      "       list([0, 0, 0, 0, 0.511629581451416, 0.511629581451416, 0.511629581451416, 0, 0.511629581451416, 0.511629581451416, 0.511629581451416, 0]),\n",
      "       list([0, 0, 0, 0, 0, 0, 0, 0, 0, 0, 0, 0]),\n",
      "       list([0.556510329246521, 0.6501179933547974, 0, 0, 0.556510329246521, 0, 0.6501179933547974, 0.6501179933547974, 0.6501179933547974, 0.6501179933547974, 0.6501179933547974, 0.6501179933547974]),\n",
      "       list([0, 0, 0.42812085151672363, 0, 0.44783930480480194, 0, 0.4699968099594116, 0.4684063494205475, 0, 0.4435498118400574, 0.4435498118400574, 0]),\n",
      "       list([0.5083798170089722, 0, 0, 0, 0, 0, 0.5552983283996582, 0, 0, 0, 0, 0]),\n",
      "       list([0.48076512416203815, 0.47574632508414133, 0.476920207341512, 0.4643813669681549, 0.4895540475845337, 0.48049995799859363, 0.4691476337611675, 0.47964172065258026, 0.48271788018090384, 0.43910221457481385, 0.47182265520095823, 0.46830775141716]),\n",
      "       list([0.485714723666509, 0.489922434091568, 0.5173643380403519, 0.5014729797840118, 0.5237352053324381, 0.4931195576985677, 0.5057183265686035, 0.5237352053324381, 0.5022568926215172, 0, 0, 0.5732846856117249]),\n",
      "       list([0.4860282710620335, 0.46914323170979816, 0.44037861824035646, 0.4591106742620468, 0.4720773200194041, 0.452900755405426, 0.4636265397071838, 0.4517131567001343, 0.4586121529340744, 0.45874468982219696, 0.4432641267776489, 0.44405360221862794]),\n",
      "       list([0.6306528449058533, 0.6306528449058533, 0.6306528449058533, 0, 0.6306528449058533, 0, 0.6306528449058533, 0, 0, 0, 0.6306528449058533, 0.6306528449058533]),\n",
      "       list([0.47110095620155334, 0.47110095620155334, 0, 0.47110095620155334, 0.47110095620155334, 0.4698541909456253, 0.4698541909456253, 0.46860742568969727, 0.47110095620155334, 0.4698541909456253, 0.4698541909456253, 0.47110095620155334]),\n",
      "       list([0, 0.48295094072818756, 0, 0.48295094072818756, 0.5463376045227051, 0, 0.5463376045227051, 0.4364131689071655, 0.5463376045227051, 0, 0.4664192199707031, 0.4336549937725067]),\n",
      "       list([0.4701923727989197, 0, 0, 0, 0.45697975158691406, 0.4834049940109253, 0.4701923727989197, 0.4834049940109253, 0, 0.45697975158691406, 0.45697975158691406, 0.4701923727989197]),\n",
      "       list([0, 0.5108204483985901, 0.5656645148992538, 0.5336243510246277, 0.5568475052714348, 0.5727129220962525, 0.5824883580207825, 0.5522048711776734, 0.5472559630870819, 0.504398375749588, 0.5768794616063436, 0.5292948285738627]),\n",
      "       list([0.5005396803220113, 0.513768345117569, 0.541745662689209, 0.5358228882153829, 0.5085759311914444, 0.5443220138549805, 0.5200737913449606, 0.485990176598231, 0.520908792813619, 0.4772214353084564, 0.5128377576669058, 0.5066597014665604]),\n",
      "       list([0.46510395407676697, 0.4206525385379791, 0, 0.4053853750228882, 0, 0.42379850149154663, 0.3986484507719676, 0.4044410288333893, 0.41431137919425964, 0.39963193982839584, 0.4270399212837219, 0.4090477377176285]),\n",
      "       list([0, 0, 0, 0, 0, 0, 0, 0, 0, 0, 0, 0]),\n",
      "       list([0, 0, 0, 0, 0, 0, 0, 0, 0, 0, 0, 0]),\n",
      "       list([0.608497142791748, 0.608497142791748, 0.608497142791748, 0.608497142791748, 0.608497142791748, 0.608497142791748, 0.608497142791748, 0.608497142791748, 0.608497142791748, 0.608497142791748, 0.608497142791748, 0.608497142791748]),\n",
      "       list([0.4773451864719391, 0.4773451864719391, 0.46491668820381166, 0.4710593670606613, 0.4773451864719391, 0.48542582988739014, 0.4808116853237152, 0.45498545467853546, 0.4501027762889862, 0.4989679455757141, 0.48954030871391296, 0.46472028891245526]),\n",
      "       list([0, 0, 0, 0, 0.5132879018783569, 0, 0, 0, 0, 0, 0.5132879018783569, 0]),\n",
      "       list([0.5809950629870096, 0.566892683506012, 0.566892683506012, 0.6182225942611694, 0.5776864290237427, 0.5776864290237427, 0.566892683506012, 0.597954511642456, 0.5776864290237427, 0.5674830079078674, 0.5840026537577311, 0.5623812973499298]),\n",
      "       None,\n",
      "       list([0, 0.6029379367828369, 0.5594007968902588, 0, 0, 0, 0, 0, 0, 0.6029379367828369, 0, 0]),\n",
      "       list([0, 0, 0, 0, 0, 0, 0, 0, 0, 0, 0, 0]),\n",
      "       list([0.38884449005126953, 0.38884449005126953, 0, 0.38884449005126953, 0, 0.38884449005126953, 0, 0, 0, 0, 0, 0.3699328899383545]),\n",
      "       list([0.41597933769226075, 0.39089057842890423, 0.3781232684850693, 0.422625407576561, 0.3805071860551834, 0.3997087627649307, 0.43908247351646423, 0.3805071860551834, 0.39089057842890423, 0.4027925580739975, 0.42666061967611313, 0.43908247351646423]),\n",
      "       list([0.38260704278945923, 0.40266937017440796, 0.4179631173610687, 0, 0, 0.5787086486816406, 0.4227316975593567, 0, 0, 0, 0.5787086486816406, 0]),\n",
      "       list([0, 0.4121583104133606, 0, 0, 0, 0.39182037115097046, 0.39182037115097046, 0, 0.39182037115097046, 0, 0, 0]),\n",
      "       list([0, 0, 0, 0, 0, 0.398343563079834, 0, 0, 0, 0, 0, 0]),\n",
      "       list([0, 0.5237523913383484, 0.5237523913383484, 0.5237523913383484, 0, 0, 0, 0, 0, 0, 0, 0]),\n",
      "       None,\n",
      "       list([0.4363990366458893, 0.4278522829214732, 0.42403395970662433, 0.43608181391443523, 0.4278522829214732, 0.4260724037885666, 0.436434730887413, 0.41709860414266586, 0.43148738145828247, 0.40652888019879657, 0.4636184871196747, 0.448546826839447]),\n",
      "       list([0.5068337082862854, 0.5124023333191872, 0.5124023333191872, 0.502251410484314, 0.47473776936531065, 0.4980782313006265, 0.4993027100960414, 0.47228240966796875, 0.5124023333191872, 0.502251410484314, 0.5005888760089874, 0.5173759559790293]),\n",
      "       list([0, 0.49873676896095276, 0.49873676896095276, 0.49873676896095276, 0.49873676896095276, 0.580878272652626, 0.49873676896095276, 0.580878272652626, 0, 0.6630197763442993, 0.580878272652626, 0.6630197763442993]),\n",
      "       list([0, 0.5463376045227051, 0, 0.5463376045227051, 0.5463376045227051, 0, 0.5463376045227051, 0, 0.5463376045227051, 0.5463376045227051, 0.5463376045227051, 0]),\n",
      "       list([0.6911502778530121, 0.6911502778530121, 0.7055739363034567, 0.7000387708346049, 0.7197478413581848, 0.6542499661445618, 0.7055739363034567, 0.7055739363034567, 0.7197478413581848, 0.6965298533439637, 0.7270845472812653, 0.6908093690872192]),\n",
      "       list([0, 0, 0, 0, 0, 0, 0, 0, 0, 0, 0, 0]),\n",
      "       list([0.458765372633934, 0, 0, 0.4494387358427048, 0.44763755798339844, 0, 0.4519742876291275, 0, 0.4512399137020111, 0, 0.45017310976982117, 0]),\n",
      "       list([0, 0, 0, 0, 0, 0, 0, 0, 0, 0, 0, 0]),\n",
      "       list([0.46900780498981476, 0.46587759256362915, 0.46587759256362915, 0.46587759256362915, 0.46587759256362915, 0.46587759256362915, 0.46587759256362915, 0.46587759256362915, 0.46587759256362915, 0.46587759256362915, 0.46587759256362915, 0]),\n",
      "       list([0, 0, 0.44357800483703613, 0, 0, 0, 0, 0.3578730821609497, 0.44357800483703613, 0.3578730821609497, 0, 0.44357800483703613]),\n",
      "       list([0, 0, 0, 0.45307618379592896, 0, 0, 0.45697975158691406, 0, 0.5388966202735901, 0.45697975158691406, 0.45697975158691406, 0.45307618379592896]),\n",
      "       list([0, 0, 0, 0.6653479337692261, 0.6653479337692261, 0, 0.6653479337692261, 0.6653479337692261, 0, 0.6653479337692261, 0.6653479337692261, 0.6653479337692261]),\n",
      "       None,\n",
      "       list([0.47407495975494385, 0.4686031937599182, 0.4686031937599182, 0.46953801810741425, 0.4686031937599182, 0.4686031937599182, 0.47407495975494385, 0.47407495975494385, 0.46740248799324036, 0.47407495975494385, 0.4538649618625641, 0.4538649618625641]),\n",
      "       list([0.46248599886894226, 0.5262291431427002, 0.5262291431427002, 0.5262291431427002, 0.4682815670967102, 0, 0, 0, 0.49435757100582123, 0.46248599886894226, 0.46248599886894226, 0.49435757100582123]),\n",
      "       None,\n",
      "       list([0, 0, 0, 0, 0.630652904510498, 0, 0.630652904510498, 0, 0, 0, 0.630652904510498, 0.630652904510498])],\n",
      "      dtype=object)})\n"
     ]
    }
   ],
   "source": [
    "# df = pd.read_csv(\"data/data_cdi.csv\")\n",
    "# print(df)\n",
    "\n",
    "df = pd.read_csv(\"data/data_cdi.csv\")\n",
    "df['definition'] = df['definition'].apply(lambda x: '_'.join(x.split()))\n",
    "\n",
    "from collections import defaultdict\n",
    "gold_change_per_category = defaultdict(list)\n",
    "for group_name, group_df in df.groupby(['category']):\n",
    "    gold_changes = []\n",
    "    for word in group_df.definition.values:\n",
    "        gold_sims = plot_word_change_over_time(word, 50)\n",
    "        gold_changes.append(gold_sims)\n",
    "        print(gold_sims)\n",
    "    gold_change_per_category[group_name] = np.array(gold_changes)\n",
    "    break\n",
    "print(gold_change_per_category)"
   ]
  },
  {
   "cell_type": "code",
   "execution_count": null,
   "metadata": {},
   "outputs": [],
   "source": []
  }
 ],
 "metadata": {
  "celltoolbar": "Slideshow",
  "kernelspec": {
   "display_name": "Python 3",
   "language": "python",
   "name": "python3"
  },
  "language_info": {
   "codemirror_mode": {
    "name": "ipython",
    "version": 3
   },
   "file_extension": ".py",
   "mimetype": "text/x-python",
   "name": "python",
   "nbconvert_exporter": "python",
   "pygments_lexer": "ipython3",
   "version": "3.7.1"
  }
 },
 "nbformat": 4,
 "nbformat_minor": 2
}
