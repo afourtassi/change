{
 "cells": [
  {
   "cell_type": "markdown",
   "metadata": {
    "slideshow": {
     "slide_type": "slide"
    }
   },
   "source": [
    "# Dynamic Word Embeddings\n",
    "\n",
    "- by Jacob Eisenstein, May 2019\n",
    "- modified by Hang Jiang, Sept. 2019\n",
    "\n",
    "The previous notebook tracked how words were used by different groups over time. \n",
    "Now we'll explore how words change meaning over time, using dynamic word embeddings. The specific goals are:\n",
    "\n",
    "- Identify near-neighbors of words at various periods in time.\n",
    "- Align word embeddings over time using by solving an orthogonal Procrustes problem.\n",
    "- Rank words by semantic change from age 0 to age 3, using \"first-order\" (embedding-based) and \"second-order\" (neighbor-based) techniques."
   ]
  },
  {
   "cell_type": "markdown",
   "metadata": {
    "slideshow": {
     "slide_type": "subslide"
    }
   },
   "source": [
    "## Data acquisition\n",
    "\n",
    "Because training dynamic word embeddings is time-consuming, we'll use pretrained embeddings from [Hamilton et al](https://github.com/williamleif/histwords). As before, these embeddings are available in the [bitbucket repository](https://bitbucket.org/jacobeisenstein/language-change-tutorial-data/src/master/embeddings-over-time.tgz). \n",
    "\n",
    "1. If you have not already cloned it, please run:\n",
    "\n",
    "```\n",
    "git clone https://bitbucket.org/jacobeisenstein/language-change-tutorial-data.git\n",
    "\n",
    "```\n",
    "2. Then link or move the directory into `../data`,\n",
    "```\n",
    "cd data; ln -s ../language-change-tutorial-data/embeddings-over-time\n",
    "```\n"
   ]
  },
  {
   "cell_type": "code",
   "execution_count": 2,
   "metadata": {
    "slideshow": {
     "slide_type": "skip"
    }
   },
   "outputs": [],
   "source": [
    "import os\n",
    "from glob import glob\n",
    "import pickle\n",
    "\n",
    "import numpy as np\n",
    "import pandas as pd\n",
    "import matplotlib.pyplot as plt\n",
    "%matplotlib inline\n",
    "\n",
    "from tqdm import tqdm_notebook as tqdm # convenient progressbar"
   ]
  },
  {
   "cell_type": "markdown",
   "metadata": {
    "slideshow": {
     "slide_type": "subslide"
    }
   },
   "source": [
    "## Data loading"
   ]
  },
  {
   "cell_type": "code",
   "execution_count": 3,
   "metadata": {},
   "outputs": [
    {
     "name": "stdout",
     "output_type": "stream",
     "text": [
      "(1106, 100)\n",
      "[[ 0.00948931 -0.18150404  0.00211788 ... -0.17440425  0.0716902\n",
      "   0.13363692]\n",
      " [ 0.00414176 -0.11482116 -0.10943656 ...  0.12671569  0.12409339\n",
      "  -0.0757904 ]\n",
      " [ 0.16622102  0.09177685  0.06167095 ... -0.10036036  0.04190882\n",
      "   0.12570015]\n",
      " ...\n",
      " [ 0.12526608  0.09334459 -0.09963842 ... -0.10078811 -0.02050323\n",
      "  -0.13774782]\n",
      " [ 0.15139444  0.05741405 -0.0748542  ... -0.17678577 -0.00724842\n",
      "   0.09353258]\n",
      " [ 0.00886808 -0.0404824   0.10101599 ... -0.09965149 -0.05080709\n",
      "   0.06760313]]\n",
      "(4324, 100)\n",
      "[[-0.21554995  0.00552135  0.09093306 ... -0.00804859 -0.21364942\n",
      "   0.03615098]\n",
      " [-0.21782401 -0.12764573  0.14840591 ...  0.19000876 -0.00472429\n",
      "  -0.09740006]\n",
      " [-0.06943846  0.04330457 -0.11355973 ... -0.14684235  0.06073929\n",
      "  -0.01145774]\n",
      " ...\n",
      " [-0.0593846   0.12744443 -0.16291556 ...  0.16967757  0.0861298\n",
      "   0.1364089 ]\n",
      " [ 0.02589356  0.10050724  0.13161422 ... -0.05606938 -0.06196074\n",
      "  -0.11275692]\n",
      " [ 0.06133229  0.02775235  0.03988644 ... -0.12362275  0.0256375\n",
      "   0.22963794]]\n",
      "(5967, 100)\n",
      "[[-0.07668202 -0.03748478 -0.27794552 ...  0.0821375   0.00392309\n",
      "  -0.00489568]\n",
      " [-0.05608262 -0.07227669  0.10854198 ... -0.15208305 -0.05425392\n",
      "   0.11882578]\n",
      " [-0.05822207  0.09092925 -0.1553792  ... -0.06460132 -0.03729443\n",
      "   0.0093094 ]\n",
      " ...\n",
      " [-0.0186846  -0.03944748  0.12029254 ... -0.1988733  -0.03340287\n",
      "   0.09117214]\n",
      " [ 0.03825177  0.06849631 -0.08302863 ...  0.07141782  0.02059103\n",
      "   0.25780675]\n",
      " [-0.03003648  0.08697297  0.0196108  ... -0.06146346 -0.06726546\n",
      "   0.10869633]]\n",
      "(5386, 100)\n",
      "[[-0.00707364  0.14365926 -0.11609084 ... -0.00642748 -0.2897837\n",
      "   0.05248793]\n",
      " [-0.08348467  0.05902772 -0.03491124 ... -0.03903504 -0.25535938\n",
      "   0.01256613]\n",
      " [-0.02934884  0.06857786 -0.05306149 ... -0.15782338  0.07789419\n",
      "  -0.12206034]\n",
      " ...\n",
      " [-0.01336888  0.14169459  0.02223338 ... -0.03568569 -0.02802069\n",
      "   0.1116206 ]\n",
      " [-0.04790179 -0.04461212  0.10075862 ... -0.04353769  0.04381102\n",
      "   0.05168138]\n",
      " [ 0.1312968   0.06769932  0.10906521 ... -0.07904627  0.0611582\n",
      "   0.36292323]]\n"
     ]
    }
   ],
   "source": [
    "from typing import List, Dict, Tuple, Sequence\n",
    "base_dir = os.path.join('/Users/hang/Desktop/2019-fall/change/','childes_data','embeddings-over-time') # make sure you expand the tar file in ../data\n",
    "dicts = pickle.load(open(os.path.join(base_dir,'embeddings-over-time-vocabs-ep10.pickle'),'rb'))\n",
    "\n",
    "vocs: Dict[int, List] = {k: list(v.keys()) for k, v in dicts.items()}\n",
    "years: List[int] = list(vocs.keys()) # 0, 1\n",
    "# print(vocs)\n",
    "vecs: Dict[int, List] = dict()\n",
    "    \n",
    "# 0 ./childes_data/adult_utterances_age_corpus_48_60 .csv\n",
    "# 1 ./childes_data/adult_utterances_age_corpus_0_12.csv\n",
    "# 2 ./childes_data/adult_utterances_age_corpus_36_48 .csv\n",
    "# 3 ./childes_data/adult_utterances_age_corpus _12_24 .csv\n",
    "\n",
    "for year, d in dicts.items():\n",
    "    year_vectors = np.array([list(d.values())]).reshape(-1, 100)\n",
    "    print(year_vectors.shape)\n",
    "    vecs[year] = year_vectors / np.linalg.norm(year_vectors, axis=-1)[:, np.newaxis]\n",
    "#     for w in vecs[year] /= norms\n",
    "    print(vecs[year])"
   ]
  },
  {
   "cell_type": "code",
   "execution_count": 4,
   "metadata": {
    "slideshow": {
     "slide_type": "fragment"
    }
   },
   "outputs": [
    {
     "data": {
      "text/plain": [
       "array([1.0000001 , 0.9999998 , 1.        , ..., 0.99999994, 1.        ,\n",
       "       1.        ], dtype=float32)"
      ]
     },
     "execution_count": 4,
     "metadata": {},
     "output_type": "execute_result"
    }
   ],
   "source": [
    "(vecs[1]**2).sum(1)"
   ]
  },
  {
   "cell_type": "markdown",
   "metadata": {
    "slideshow": {
     "slide_type": "fragment"
    }
   },
   "source": [
    "Vectors are initialized to have a Euclidean norm of $1$. There are different number of words per year, listed in `vocs[year]`."
   ]
  },
  {
   "cell_type": "markdown",
   "metadata": {
    "slideshow": {
     "slide_type": "slide"
    }
   },
   "source": [
    "# Near neighbors\n",
    "\n",
    "Let's start by computing some near neighbors. In general, this is done by computing cosine similarity between word vectors,\n",
    "\\begin{equation}\n",
    "s(\\vec{x},\\vec{y}) = \\frac{\\vec{x} \\cdot \\vec{y}}{||\\vec{x}|| \\times || \\vec{y} ||}.\n",
    "\\end{equation}\n",
    "\n",
    "However, because these embeddings have a guaranteed norm of 1, the denominator can be ignored, so we need only consider the dot product."
   ]
  },
  {
   "cell_type": "code",
   "execution_count": 5,
   "metadata": {
    "slideshow": {
     "slide_type": "skip"
    }
   },
   "outputs": [],
   "source": [
    "def neighbors(query : str,\n",
    "              embs: np.ndarray,\n",
    "              vocab: list,\n",
    "              K : int = 3) -> list:\n",
    "    sims = np.dot(embs[vocab.index(query),],embs.T)\n",
    "    output = []\n",
    "    for sim_idx in sims.argsort()[::-1][1:(1+K)]:\n",
    "        if sims[sim_idx] > 0:\n",
    "            output.append(vocab[sim_idx])\n",
    "    return output"
   ]
  },
  {
   "cell_type": "code",
   "execution_count": 6,
   "metadata": {
    "slideshow": {
     "slide_type": "skip"
    }
   },
   "outputs": [],
   "source": [
    "# a convenience function to compute the nearest neighbors per year\n",
    "def neighbors_per_year(query: str, K=5) -> dict:\n",
    "    nns = dict()\n",
    "    for year, embs in vecs.items():\n",
    "        nns[year] = neighbors(query, embs, vocs[year], K=K)\n",
    "    return nns"
   ]
  },
  {
   "cell_type": "markdown",
   "metadata": {
    "slideshow": {
     "slide_type": "subslide"
    }
   },
   "source": [
    "## Examples"
   ]
  },
  {
   "cell_type": "code",
   "execution_count": 7,
   "metadata": {
    "slideshow": {
     "slide_type": "fragment"
    }
   },
   "outputs": [
    {
     "name": "stdout",
     "output_type": "stream",
     "text": [
      "0 ['Grandma', 'mommy', 'everybody', 'us', 'Thomas']\n",
      "1 ['Daddy', 'mommy', 'dad', 'Mommy', 'mummy']\n",
      "2 ['mommy', 'Daddy', 'mum', 'dad', 'mom']\n",
      "3 ['mommy', 'mum', 'dad', 'Daddy', 'ma']\n"
     ]
    }
   ],
   "source": [
    "for year, nn_list in neighbors_per_year('daddy').items():\n",
    "    print(year, nn_list)"
   ]
  },
  {
   "cell_type": "code",
   "execution_count": 8,
   "metadata": {
    "slideshow": {
     "slide_type": "fragment"
    }
   },
   "outputs": [
    {
     "name": "stdout",
     "output_type": "stream",
     "text": [
      "0 ['cow', 'sheep', 'light', 'Joe', 'lady']\n",
      "1 ['puppy', 'kitty', 'dinosaur', 'oof', 'bone']\n",
      "2 ['cat', 'kitty', 'horse', 'cow', 'mouse']\n",
      "3 ['cat', 'kitty', 'puppy', 'sheep', 'cow']\n"
     ]
    }
   ],
   "source": [
    "for year, nn_list in neighbors_per_year('dog').items():\n",
    "    print(year, nn_list)"
   ]
  },
  {
   "cell_type": "code",
   "execution_count": 9,
   "metadata": {
    "slideshow": {
     "slide_type": "fragment"
    }
   },
   "outputs": [
    {
     "name": "stdout",
     "output_type": "stream",
     "text": [
      "0 ['rain', 'spider', 'itsy', 'bitsy', 'spout']\n",
      "1 ['sky', 'moon', 'sunshine', 'cloud', 'light']\n",
      "2 ['sunshine', 'cloud', 'star', 'shine', 'warm']\n",
      "3 ['warm', 'Sunday', 'pop', 'egg', 'tiny']\n"
     ]
    }
   ],
   "source": [
    "for year, nn_list in neighbors_per_year('sun').items():\n",
    "    print(year, nn_list)"
   ]
  },
  {
   "cell_type": "markdown",
   "metadata": {
    "slideshow": {
     "slide_type": "subslide"
    }
   },
   "source": [
    "### Exercise \n",
    "\n",
    "Try to find an example with as many similar neighbors as possible in age 1 and age 3; try to find another example as few similar neighbors as possible."
   ]
  },
  {
   "cell_type": "markdown",
   "metadata": {
    "slideshow": {
     "slide_type": "skip"
    }
   },
   "source": [
    "# Linking embedding over time\n",
    "\n",
    "The first task is simple to align words across vocabularies. We will do this by building a sparse permutation matrix."
   ]
  },
  {
   "cell_type": "code",
   "execution_count": 10,
   "metadata": {
    "slideshow": {
     "slide_type": "skip"
    }
   },
   "outputs": [],
   "source": [
    "import scipy.sparse as sparse"
   ]
  },
  {
   "cell_type": "code",
   "execution_count": 11,
   "metadata": {
    "slideshow": {
     "slide_type": "skip"
    }
   },
   "outputs": [],
   "source": [
    "def build_alignment(year1 : int, year2 : int) -> sparse.csr_matrix:\n",
    "    # given two years (keys into vecs and vocs)\n",
    "    # compute a sparse matrix M representing the permutation of word indices from the year1 vecs to the year2 vecs  \n",
    "    # then the rows of v1 will be aligned with the rows of M v2 \n",
    "    \n",
    "    all_var1 = vecs[year1].var(1)\n",
    "    all_var2 = vecs[year2].var(1)\n",
    "\n",
    "    rows = []\n",
    "    cols = []\n",
    "\n",
    "    ivoc2 = {j:i for i,j in enumerate(vocs[year2])}\n",
    "\n",
    "    for widx1,word in enumerate(vocs[year1]):\n",
    "        if all_var1[widx1] != 0 and word in vocs[year2]:\n",
    "            widx2 = ivoc2[word]\n",
    "            if all_var2[widx2] != 0:\n",
    "                rows.append(widx1)\n",
    "                cols.append(widx2)\n",
    "\n",
    "    align = sparse.csr_matrix(([1]*len(rows),(rows,cols)),shape=[len(vocs[year1]),len(vocs[year2])])\n",
    "    return align"
   ]
  },
  {
   "cell_type": "code",
   "execution_count": 12,
   "metadata": {
    "slideshow": {
     "slide_type": "skip"
    }
   },
   "outputs": [],
   "source": [
    "# for the rest of the notebook, we'll focus on the contrast between age 1 and age 3\n",
    "year1 = 1\n",
    "year2 = 3"
   ]
  },
  {
   "cell_type": "code",
   "execution_count": 13,
   "metadata": {
    "slideshow": {
     "slide_type": "skip"
    }
   },
   "outputs": [],
   "source": [
    "align = build_alignment(year2, year1)"
   ]
  },
  {
   "cell_type": "code",
   "execution_count": 14,
   "metadata": {
    "slideshow": {
     "slide_type": "skip"
    }
   },
   "outputs": [
    {
     "data": {
      "text/plain": [
       "<5386x4324 sparse matrix of type '<class 'numpy.int64'>'\n",
       "\twith 3130 stored elements in Compressed Sparse Row format>"
      ]
     },
     "execution_count": 14,
     "metadata": {},
     "output_type": "execute_result"
    }
   ],
   "source": [
    "align"
   ]
  },
  {
   "cell_type": "code",
   "execution_count": 15,
   "metadata": {
    "slideshow": {
     "slide_type": "skip"
    }
   },
   "outputs": [],
   "source": [
    "vecs_aligned = align.dot(vecs[year1])"
   ]
  },
  {
   "cell_type": "markdown",
   "metadata": {
    "slideshow": {
     "slide_type": "skip"
    }
   },
   "source": [
    "To validate, let's check that words in `vecs_aligned` have roughly the same near-neighbors as in `vecs[year2]`."
   ]
  },
  {
   "cell_type": "code",
   "execution_count": 16,
   "metadata": {
    "slideshow": {
     "slide_type": "skip"
    }
   },
   "outputs": [
    {
     "name": "stdout",
     "output_type": "stream",
     "text": [
      "car\n",
      "1 ['van', 'truck', 'train', 'wagon', 'tractor', 'stroll', 'garage']\n",
      "3 ['garage', 'truck', 'wagon', 'train', 'boat', 'trailer', 'cab'] \n",
      "\n",
      "bottle\n",
      "1 ['cup', 'milk', 'drink', 'pitcher', 'baba', 'spoon', 'juice']\n",
      "3 ['bowl', 'glass', 'pitcher', 'beaker', 'contain', 'cup', 'spoon'] \n",
      "\n",
      "dog\n",
      "1 ['puppy', 'kitty', 'dinosaur', 'bone', 'duck', 'fox', 'mouse']\n",
      "3 ['cat', 'kitty', 'puppy', 'sheep', 'cow', 'horse', 'frog'] \n",
      "\n",
      "love\n",
      "1 ['gosh', 'meet', 'buy', 'enjoy', 'hug', 'give', 'welcome']\n",
      "3 ['hate', 'enjoy', 'adore', 'spoil', 'favorite', 'delicious', 'gorgeous'] \n",
      "\n"
     ]
    }
   ],
   "source": [
    "for query in ['car','bottle','dog','love']:\n",
    "    print(query)\n",
    "    print(year1, neighbors(query, vecs_aligned, vocs[year2], K=7))\n",
    "    print(year2, neighbors(query, vecs[year2], vocs[year2], K=7),'\\n')"
   ]
  },
  {
   "cell_type": "raw",
   "metadata": {
    "slideshow": {
     "slide_type": "skip"
    }
   },
   "source": [
    "\n",
    "Remember that our goal is to find words whose meanings have changed between `year1` and `year2`. Be careful: we cannot directly compare `vecs[year1]` to `vecs[year2]` because the word embeddings are not aligned. To solve this, we will search for the best orthogonal projection."
   ]
  },
  {
   "cell_type": "markdown",
   "metadata": {
    "slideshow": {
     "slide_type": "skip"
    }
   },
   "source": [
    "## Procrustes\n",
    "\n",
    "$\\newcommand{\\transpose}[1]{#1^{\\top}}$\n",
    "\n",
    "The orthogonal Procrustes problem for matrices $A$ and $B$ is to find an orthogonal projection matrix $\\Omega$ that minimizes the norm of the difference between $\\Omega A$ and $B$:\n",
    "\n",
    "\\begin{equation}\n",
    "\\min_{\\Omega} ||\\Omega A - B ||_F,\n",
    "\\end{equation}\n",
    "s.t. $\\transpose{\\Omega} \\Omega = \\mathbb{I}$, where $A, B \\in \\mathbb{R}^{K \\times V}$ are matrices of $K$-dimensional embeddings, and $\\Omega$ is therefore an orthonormal $K \\times K$ projection matrix. The norm $||M||_F = \\left(\\sum_i \\sum_j m_{i,j}^2\\right)^{1/2}$. \n",
    "\n",
    "The solution to the orthogonal Procrustes problem is obtained by performing singular value decomposition on the product,\n",
    "\n",
    "\\begin{align}\n",
    "U \\Sigma \\transpose{V} = &{} \\text{SVD}(B\\transpose{A})\\\\\n",
    "\\Omega = &{} U \\transpose{V}.\n",
    "\\end{align}\n"
   ]
  },
  {
   "cell_type": "markdown",
   "metadata": {
    "slideshow": {
     "slide_type": "subslide"
    }
   },
   "source": [
    "## Procrustes"
   ]
  },
  {
   "cell_type": "code",
   "execution_count": 17,
   "metadata": {
    "slideshow": {
     "slide_type": "fragment"
    }
   },
   "outputs": [],
   "source": [
    "def procrustes(A, B):\n",
    "    U, _, Vt = np.linalg.svd(B.dot(A.T))\n",
    "    return U.dot(Vt)"
   ]
  },
  {
   "cell_type": "markdown",
   "metadata": {
    "slideshow": {
     "slide_type": "subslide"
    }
   },
   "source": [
    "### Synthetic data"
   ]
  },
  {
   "cell_type": "code",
   "execution_count": 18,
   "metadata": {
    "slideshow": {
     "slide_type": "fragment"
    }
   },
   "outputs": [
    {
     "name": "stdout",
     "output_type": "stream",
     "text": [
      "Norm without projection:\t322.411\n",
      "Norm with projection:\t30.787\n"
     ]
    }
   ],
   "source": [
    "# randomly generate an orthogonal projection\n",
    "P1,_,_ = np.linalg.svd(np.random.randn(100,30))\n",
    "A = np.random.randn(100,1000)\n",
    "B = P1.dot(A) + 0.1 * np.random.randn(100,1000)\n",
    "\n",
    "print(f'Norm without projection:\\t{np.linalg.norm(B - A):0.3f}')\n",
    "print(f'Norm with projection:\\t{np.linalg.norm(B - procrustes(A,B).dot(A)):0.3f}')"
   ]
  },
  {
   "cell_type": "code",
   "execution_count": 19,
   "metadata": {
    "slideshow": {
     "slide_type": "subslide"
    }
   },
   "outputs": [
    {
     "data": {
      "image/png": "[encoded data removed]",
      "text/plain": [
       "<Figure size 576x216 with 2 Axes>"
      ]
     },
     "metadata": {
      "needs_background": "light"
     },
     "output_type": "display_data"
    }
   ],
   "source": [
    "fig, (ax1,ax2) = plt.subplots(1,2,figsize=[8,3])\n",
    "ax1.scatter(A[:,45],B[:,45])\n",
    "ax1.set_title(\"Without projection\")\n",
    "ax2.scatter(procrustes(A,B).dot(A[:,45]),B[:,45]);\n",
    "ax2.set_title('With projection');"
   ]
  },
  {
   "cell_type": "markdown",
   "metadata": {
    "slideshow": {
     "slide_type": "fragment"
    }
   },
   "source": [
    "**Exercise**: evaluate the projection quality while varying the amount of noise in $B$."
   ]
  },
  {
   "cell_type": "markdown",
   "metadata": {
    "slideshow": {
     "slide_type": "subslide"
    }
   },
   "source": [
    "## Application to word vectors\n",
    "\n",
    "Let $A \\in \\mathbb{R}^{K \\times V}$ be the matrix of aligned word vectors, with words on the columns, and let $B \\in \\mathbb{R}^{K \\times V}$ be an analogous matrix of word vectors at an alternative time. Then we solve the orthogonal Procrustes problem to obtain the projection $\\Omega$."
   ]
  },
  {
   "cell_type": "code",
   "execution_count": 20,
   "metadata": {
    "slideshow": {
     "slide_type": "fragment"
    }
   },
   "outputs": [],
   "source": [
    "Omega = procrustes(vecs_aligned.T, vecs[year2].T)\n",
    "vecs_projected = Omega.dot(vecs_aligned.T).T"
   ]
  },
  {
   "cell_type": "code",
   "execution_count": 21,
   "metadata": {},
   "outputs": [
    {
     "name": "stdout",
     "output_type": "stream",
     "text": [
      "4324\n"
     ]
    }
   ],
   "source": [
    "length_of_vocab = min(vecs[year1].shape[0], vecs[year2].shape[0])\n",
    "print(length_of_vocab)"
   ]
  },
  {
   "cell_type": "code",
   "execution_count": 22,
   "metadata": {
    "slideshow": {
     "slide_type": "fragment"
    }
   },
   "outputs": [
    {
     "name": "stdout",
     "output_type": "stream",
     "text": [
      "pre-alignment:  89.316765\n",
      "pre-projection:  86.08667575548911\n",
      "after projection:  74.52705948863172\n"
     ]
    }
   ],
   "source": [
    "print('pre-alignment: ',np.linalg.norm(vecs[year2][:length_of_vocab] - vecs[year1]))\n",
    "print('pre-projection: ',np.linalg.norm(vecs[year2] - vecs_aligned))\n",
    "print('after projection: ',np.linalg.norm(vecs[year2] - vecs_projected))"
   ]
  },
  {
   "cell_type": "code",
   "execution_count": 23,
   "metadata": {
    "slideshow": {
     "slide_type": "subslide"
    }
   },
   "outputs": [
    {
     "data": {
      "image/png": "[encoded data removed]",
      "text/plain": [
       "<Figure size 576x216 with 2 Axes>"
      ]
     },
     "metadata": {
      "needs_background": "light"
     },
     "output_type": "display_data"
    }
   ],
   "source": [
    "fig, (ax1,ax2) = plt.subplots(1,2,figsize=[8,3])\n",
    "\n",
    "query = 'fish'\n",
    "vec2_no_project = vecs_aligned[vocs[year2].index(query),]\n",
    "vec2_projected = vecs_projected[vocs[year2].index(query),]\n",
    "vec1_query = vecs[year2][vocs[year2].index(query),]\n",
    "\n",
    "ax1.scatter(vec1_query, vec2_no_project)\n",
    "ax1.set_title(\"Without projection\")\n",
    "\n",
    "ax2.scatter(vec1_query, vec2_projected)\n",
    "ax2.set_title('With projection');"
   ]
  },
  {
   "cell_type": "markdown",
   "metadata": {
    "slideshow": {
     "slide_type": "fragment"
    }
   },
   "source": [
    "After projection the alignment is closer, but still far from perfect."
   ]
  },
  {
   "cell_type": "markdown",
   "metadata": {
    "slideshow": {
     "slide_type": "slide"
    }
   },
   "source": [
    "## Measuring semantic change by embedding norms\n",
    "\n",
    "After projection, we can search for words with large changes in meaning by evaluating the \"cosine distance\" between the projected embedding in $t_1$ and the embedding in $t_2$."
   ]
  },
  {
   "cell_type": "code",
   "execution_count": 24,
   "metadata": {
    "slideshow": {
     "slide_type": "fragment"
    }
   },
   "outputs": [],
   "source": [
    "def compute_cos_dist(vec1 : np.array, vec2 : np.array) -> np.array:    \n",
    "    numerator = (vec1 * vec2).sum(1)\n",
    "    denominator = np.sqrt((vec1**2).sum(1)) * np.sqrt((vec2**2).sum(1))\n",
    "    cos_dist = 1 - numerator / (1e-5 + denominator)\n",
    "\n",
    "    # eliminate words that are zeroed out\n",
    "    return cos_dist * (vec1.var(1) > 0) * (vec2.var(1) > 0)"
   ]
  },
  {
   "cell_type": "code",
   "execution_count": 25,
   "metadata": {
    "slideshow": {
     "slide_type": "fragment"
    }
   },
   "outputs": [],
   "source": [
    "cos_dist = compute_cos_dist(vecs[year2], vecs_projected)"
   ]
  },
  {
   "cell_type": "markdown",
   "metadata": {
    "slideshow": {
     "slide_type": "subslide"
    }
   },
   "source": [
    "### Top words by global metric\n",
    "\n",
    "Now let's print the words with the biggest changes from Age 1 to Age 3. \n",
    "\n",
    "The embeddings for rare words are a little weird, so let's focus on the 10K most frequent."
   ]
  },
  {
   "cell_type": "code",
   "execution_count": 26,
   "metadata": {
    "slideshow": {
     "slide_type": "subslide"
    }
   },
   "outputs": [
    {
     "name": "stdout",
     "output_type": "stream",
     "text": [
      "Peter\t(ranks=765,593)\tdist=1.12\n",
      "age 3 neighbors: ['Anne', 'John', 'Maddie', 'Grandad', 'trailer', 'awoh', 'Liam']\n",
      "age 3 neighbors: ['Policeman', 'Pan', 'Bambi', 'ouch', 'Jean', 'Rabbit', 'peace']\n",
      "\n",
      "Gus\t(ranks=4339,2741)\tdist=1.05\n",
      "age 3 neighbors: ['pussy', 'Jess', 'diddle', 'hike', 'cat', 'sparrow', 'disc']\n",
      "age 3 neighbors: ['Lucifer', 'path', 'branch', 'Pan', 'garden', 'alley', 'fence']\n",
      "\n",
      "gear\t(ranks=3465,4105)\tdist=1.04\n",
      "age 3 neighbors: ['bib', 'pants', 'jacket', 'jeans', 'shirt', 'helmet', 'pajamas']\n",
      "age 3 neighbors: ['silver', 'parcel', 'teaspoon', 'contain', 'triangle', 'metal', 'tongs']\n",
      "\n",
      "Pingu\t(ranks=3153,1485)\tdist=1.04\n",
      "age 3 neighbors: ['hoppity', 'night_night', 'wah', 'hello', 'poor', 'Doctor', 'knee']\n",
      "age 3 neighbors: ['Joanne', 'nag', 'trumpet', 'seal', 'Beethoven', 'flute', 'coyote']\n",
      "\n",
      "fudge\t(ranks=2171,3095)\tdist=1.01\n",
      "age 3 neighbors: ['Kim', 'fabric', 'wood', 'Harry', 'pasta', 'clay', 'myself']\n",
      "age 3 neighbors: ['onion', 'vanilla', 'sauce', 'wheat', 'beet', 'frosting', 'pickle']\n",
      "\n",
      "Rapunzel\t(ranks=4548,2021)\tdist=1.01\n",
      "age 3 neighbors: ['wig', 'crown', 'shoot', 'envelope', 'spade', 'power', 'underwear']\n",
      "age 3 neighbors: ['nativity', 'giddyup', 'mound', 'Candyland', 'Rafael', 'Powerrangers', 'neato']\n",
      "\n",
      "cheerio\t(ranks=5378,1354)\tdist=1.00\n",
      "age 3 neighbors: ['raisin', 'cracker', 'strawberry', 'ketchup', 'Cheerios', 'biscuit', 'lettuce']\n",
      "age 3 neighbors: ['boop', 'Tinky', 'knacker', 'Dennis_The_Menace', 'hurray', 'Book', 'oh_my']\n",
      "\n",
      "firm\t(ranks=4345,3529)\tdist=1.00\n",
      "age 3 neighbors: ['Ian', 'energy', 'Olivia', 'study', 'notice', 'thought', 'probable']\n",
      "age 3 neighbors: ['slim', 'approach', 'darn', 'swish', 'sharpen', 'strong', 'wowie']\n",
      "\n",
      "uhhum\t(ranks=1369,528)\tdist=1.00\n",
      "age 3 neighbors: ['feather', 'gray', 'zebra', 'Cindy', 'white', 'Miriam', 'spot']\n",
      "age 3 neighbors: ['Crystal', 'sane', 'Beethoven', 'hysteric', 'collie', 'neato', 'Dushon']\n",
      "\n",
      "Bobby\t(ranks=375,4013)\tdist=1.00\n",
      "age 3 neighbors: ['gesundheit', 'neato', 'hut', 'Teletubbies', 'aye', 'Huey', 'hike']\n",
      "age 3 neighbors: ['Robert', 'Roland', 'Tony', 'Vanessa', 'Kim', 'Jimmy', 'Todd']\n",
      "\n",
      "eh\t(ranks=2384,1235)\tdist=0.99\n",
      "age 3 neighbors: ['whine', 'heavy', 'bore', 'difficult', 'upset', 'God', 'fortunate']\n",
      "age 3 neighbors: ['Diana', 'Cat', 'good_night', 'howdy', 'fiddly', 'Kathy', 'fai']\n",
      "\n",
      "yah\t(ranks=5315,2089)\tdist=0.99\n",
      "age 3 neighbors: ['Cookie', 'polite', 'okey_dokey', 'Sergeant', 'luggage', 'hurray', 'coal']\n",
      "age 3 neighbors: ['second', 'minute', 'Derwood', 'Roland', 'somebody', 'Aunt_Dot', 'again']\n",
      "\n",
      "Floppy\t(ranks=4883,641)\tdist=0.99\n",
      "age 3 neighbors: ['Julie', 'Bear', 'dada', 'Po', 'Papa', 'mommy', 'Lily']\n",
      "age 3 neighbors: ['Thomas_The_Tank', 'Pika', 'ottoman', 'Book', 'Aliah', 'Louisa', 'ostrich']\n",
      "\n",
      "literal\t(ranks=4516,3227)\tdist=0.99\n",
      "age 3 neighbors: ['distract', 'Louise', 'fortunate', 'arrange', 'exercise', 'impress', 'ticklish']\n",
      "age 3 neighbors: ['motorcyclist', 'site', 'Central', 'ping', 'accidental', 'everywhere', 'sail']\n",
      "\n",
      "mattress\t(ranks=3741,2354)\tdist=0.98\n",
      "age 3 neighbors: ['rug', 'wall', 'shelf', 'counter', 'ground', 'rack', 'tray']\n",
      "age 3 neighbors: ['cream', 'choc', 'vanilla', 'loll', 'spade', 'skate', 'mousse']\n",
      "\n",
      "Gary\t(ranks=2300,2279)\tdist=0.97\n",
      "age 3 neighbors: ['Tasha', 'routine', 'porcupine', 'Rose', 'math', 'beet', 'April']\n",
      "age 3 neighbors: ['Mec', 'title', 'Maddie', 'Dav', 'Maisie', 'Next', 'vocabulary']\n",
      "\n",
      "Tony\t(ranks=690,2383)\tdist=0.97\n",
      "age 3 neighbors: ['du', 'Lady', 'Huey', 'cheers', 'Penny', 'hut', 'buffalo']\n",
      "age 3 neighbors: ['Robbie', 'Asher', 'Bobby', 'Perri', 'Bro', 'Todd', 'Robert']\n",
      "\n",
      "Sally\t(ranks=2084,585)\tdist=0.97\n",
      "age 3 neighbors: ['Mama', 'Chi', 'Mom', 'momma', 'somebody', 'Fat', 'Mouse']\n",
      "age 3 neighbors: ['hop', 'Donald', 'Huey', 'Franklin', 'fox', 'Sunny', 'ground']\n",
      "\n",
      "explore\t(ranks=3068,2536)\tdist=0.97\n",
      "age 3 neighbors: ['ski', 'speak', 'Maine', 'save', 'wedding', 'indoors', 'student']\n",
      "age 3 neighbors: ['sculpture', 'Shop', 'Cat', 'Sergeant', 'Big', 'lower', 'triple']\n",
      "\n",
      "Jerry\t(ranks=1303,1856)\tdist=0.97\n",
      "age 3 neighbors: ['crumb', 'Tom', 'nibble', 'Emily', 'Rabbit', 'Fred', 'begin']\n",
      "age 3 neighbors: ['Kim', 'Keisha', 'Jimmy', 'Anthony', 'Valerie', 'Tunde', 'Lynette']\n",
      "\n"
     ]
    }
   ],
   "source": [
    "thresh = 10000\n",
    "for idx in cos_dist[:thresh].argsort()[::-1][:20]:\n",
    "    word = vocs[year2][idx]\n",
    "    print(f'{word}\\t(ranks={idx},{vocs[year1].index(word)})\\tdist={cos_dist[idx]:.2f}')\n",
    "    print(f'age {year2} neighbors: {neighbors(word, vecs_projected, vocs[year2], K=7)}')\n",
    "    print(f'age {year2} neighbors: {neighbors(word, vecs[year2], vocs[year2], K=7)}\\n')"
   ]
  },
  {
   "cell_type": "markdown",
   "metadata": {
    "slideshow": {
     "slide_type": "subslide"
    }
   },
   "source": [
    "Better! A few preprocessing effects (\"00\" and \"addison\"), but most of these changes are interpretable as emerging word senses (\"aids\", \"peer\", \"approaches\", \"facility\", \"film\", and \"resource\")."
   ]
  },
  {
   "cell_type": "markdown",
   "metadata": {
    "slideshow": {
     "slide_type": "slide"
    }
   },
   "source": [
    "## Measuring semantic change by near neighbors\n",
    "\n",
    "A concern with comparing word embeddings directly is that different parts of the embedding space may have different densities, so that cosine distances are not comparable across the entire space. \n",
    "\n",
    "To address this problem, [Hamilton et al (2016b)](https://nlp.stanford.edu/pubs/hamilton2016cultural.pdf) propose a \"local\" technique:\n",
    "\n",
    "1. For word $w$ at time $t$, identify $K$-nearest neighbors $\\mathcal{N}_t(w)$\n",
    "2. Compute the vector of cosine similarities to the union of these neighbors,\n",
    "\n",
    "\\begin{align}\n",
    "\\vec{s}_t(w) = &{} [\\cos(x_{t}(w), x_t(w')) : w' \\in \\mathcal{N}_t(w) \\cup \\mathcal{N}_{t'}(w)]\\\\\n",
    "\\vec{s}_{t'}(w) = &{} [\\cos(x_{t'}(w), x_{t'}(w')) : w' \\in \\mathcal{N}_t(w) \\cup \\mathcal{N}_{t'}(w)]\\\\\n",
    "\\end{align}\n",
    "\n",
    "3. Compute the cosine distance between these two vectors, $D_{t,t'}(w) = 1 - \\cos(\\vec{s}_t(w), \\vec{s}_{t'}(w))$."
   ]
  },
  {
   "cell_type": "markdown",
   "metadata": {
    "slideshow": {
     "slide_type": "subslide"
    }
   },
   "source": [
    "Intuitively, if a word acquires a large number of new neighbors at $t'$, and these neighbors had very different embeddings from $x_t(w)$ at time $t$, then the distance will be large; if the neighbors and their similarities to $w$ are roughly the same at $t$ and $t'$, then the distance will be small. Let's compute it."
   ]
  },
  {
   "cell_type": "markdown",
   "metadata": {
    "slideshow": {
     "slide_type": "subslide"
    }
   },
   "source": [
    "#### Example"
   ]
  },
  {
   "cell_type": "code",
   "execution_count": 27,
   "metadata": {
    "slideshow": {
     "slide_type": "fragment"
    }
   },
   "outputs": [
    {
     "name": "stdout",
     "output_type": "stream",
     "text": [
      "['want', 'rather', 'enjoy', 'prefer', 'recognize']\n",
      "['familiar', 'want', 'fun', 'prefer', 'love']\n"
     ]
    }
   ],
   "source": [
    "query = 'like'\n",
    "nn_old = neighbors(query, vecs[year1], vocs[year1], K=5)\n",
    "nn_new = neighbors(query, vecs[year2], vocs[year2], K=5)\n",
    "print(nn_old)\n",
    "print(nn_new)"
   ]
  },
  {
   "cell_type": "markdown",
   "metadata": {
    "slideshow": {
     "slide_type": "subslide"
    }
   },
   "source": [
    "Now we'll construct a set of neighbors that combines these lists, omitting words that are out-of-vocabulary in either dataset."
   ]
  },
  {
   "cell_type": "code",
   "execution_count": 28,
   "metadata": {
    "slideshow": {
     "slide_type": "fragment"
    }
   },
   "outputs": [
    {
     "name": "stdout",
     "output_type": "stream",
     "text": [
      "['recognize', 'fun', 'familiar', 'rather', 'enjoy', 'love', 'prefer', 'want']\n"
     ]
    }
   ],
   "source": [
    "neighbor_set = [word for word in set(nn_old).union(set(nn_new)) \n",
    "                if (word in vocs[year1])\n",
    "                and (word in vocs[year2])\n",
    "                and (vecs[year1][vocs[year1].index(word)].var() > 0)\n",
    "                and (vecs[year2][vocs[year2].index(word)].var() > 0)]\n",
    "print(neighbor_set)"
   ]
  },
  {
   "cell_type": "markdown",
   "metadata": {
    "slideshow": {
     "slide_type": "subslide"
    }
   },
   "source": [
    "For each of these words, we will compute the cosine similarity to the query, in each dataset. \n",
    "\n",
    "Because the vectors are guaranteed to have a unit norm, the cosine similarity is identical to the dot product."
   ]
  },
  {
   "cell_type": "code",
   "execution_count": 29,
   "metadata": {
    "slideshow": {
     "slide_type": "subslide"
    }
   },
   "outputs": [],
   "source": [
    "def get_neighbor_sims(query : str, neighbor_set : set, vec : np.ndarray, voc : list) -> np.ndarray:\n",
    "    v_self = vec[voc.index(query),]\n",
    "    v_neighbors = vec[[voc.index(neighbor) for neighbor in neighbor_set],]\n",
    "    return np.dot(v_neighbors, v_self)"
   ]
  },
  {
   "cell_type": "code",
   "execution_count": 30,
   "metadata": {
    "slideshow": {
     "slide_type": "fragment"
    }
   },
   "outputs": [
    {
     "name": "stdout",
     "output_type": "stream",
     "text": [
      "[0.36287028 0.3061126  0.11350136 0.44286346 0.4251493  0.2588405\n",
      " 0.4077048  0.44725573]\n",
      "[0.16213152 0.432177   0.4828591  0.18845083 0.23870824 0.358127\n",
      " 0.37254518 0.45909718]\n"
     ]
    }
   ],
   "source": [
    "sim_old = get_neighbor_sims(query,neighbor_set,vecs[year1],vocs[year1])\n",
    "sim_new = get_neighbor_sims(query,neighbor_set,vecs[year2],vocs[year2])\n",
    "print(sim_old)\n",
    "print(sim_new)"
   ]
  },
  {
   "cell_type": "markdown",
   "metadata": {
    "slideshow": {
     "slide_type": "subslide"
    }
   },
   "source": [
    "Finally, we'll measure semantic shift by the average \"distance\" between these vectors of similarities. \n",
    "\n",
    "This is a \"second order\" view of semantic change, but we will call it the *local* change, because it is based only on the local neighborhood and not the global embedding space."
   ]
  },
  {
   "cell_type": "code",
   "execution_count": 31,
   "metadata": {
    "slideshow": {
     "slide_type": "fragment"
    }
   },
   "outputs": [
    {
     "data": {
      "text/plain": [
       "0.018350571393966675"
      ]
     },
     "execution_count": 31,
     "metadata": {},
     "output_type": "execute_result"
    }
   ],
   "source": [
    "compute_cos_dist(sim_old.reshape(1,-1), sim_new.reshape(1,-1))[0] / len(neighbor_set)"
   ]
  },
  {
   "cell_type": "markdown",
   "metadata": {
    "slideshow": {
     "slide_type": "subslide"
    }
   },
   "source": [
    "We'll now make this calculation for the entire dataset. By default, we'll just load the results, but you can recompute it from this data if you have a few minutes."
   ]
  },
  {
   "cell_type": "code",
   "execution_count": 32,
   "metadata": {
    "slideshow": {
     "slide_type": "skip"
    }
   },
   "outputs": [],
   "source": [
    "recompute_embedding_shifts = True\n",
    "emb_shift_file = os.path.join('.','data','embedding-shifts.csv')"
   ]
  },
  {
   "cell_type": "code",
   "execution_count": 33,
   "metadata": {
    "slideshow": {
     "slide_type": "skip"
    }
   },
   "outputs": [
    {
     "data": {
      "application/vnd.jupyter.widget-view+json": {
       "model_id": "8c9d78d77c0c4f4382ba5bac46ae4a29",
       "version_major": 2,
       "version_minor": 0
      },
      "text/plain": [
       "HBox(children=(IntProgress(value=0, max=5386), HTML(value='')))"
      ]
     },
     "metadata": {},
     "output_type": "display_data"
    },
    {
     "name": "stdout",
     "output_type": "stream",
     "text": [
      "\n"
     ]
    }
   ],
   "source": [
    "if recompute_embedding_shifts:\n",
    "    # this may take 5-10 minutes to execute\n",
    "    neighbor_shift = dict()\n",
    "\n",
    "    num_neighbors = 25\n",
    "\n",
    "    for word in tqdm(vocs[year2]):\n",
    "        if word in vocs[year1]:\n",
    "            nn_old = neighbors(word, vecs[year1], vocs[year1], K=num_neighbors)\n",
    "            nn_new = neighbors(word, vecs[year2], vocs[year2], K=num_neighbors)\n",
    "\n",
    "            neighbor_set = [word for word in set(nn_old).union(set(nn_new)) \n",
    "                            if (word in vocs[year1])\n",
    "                            and (word in vocs[year2])\n",
    "                            and (vecs[year1][vocs[year1].index(word)].var() > 0)\n",
    "                            and (vecs[year2][vocs[year2].index(word)].var() > 0)]\n",
    "        \n",
    "            s1 = get_neighbor_sims(word, neighbor_set, vecs[year1], vocs[year1])\n",
    "            s2 = get_neighbor_sims(word, neighbor_set, vecs[year2], vocs[year2])\n",
    "\n",
    "            dL = compute_cos_dist(s1.reshape(1,-1),s2.reshape(1,-1))[0] / len(neighbor_set)\n",
    "    \n",
    "            neighbor_shift[word] = dL\n",
    "    df_emb_shift = pd.DataFrame({'local':list(neighbor_shift.values()),\n",
    "                                 'global':[cos_dist[vocs[year2].index(word)] for word in neighbor_shift.keys()]},\n",
    "                                index=list(neighbor_shift.keys()))\n",
    "    df_emb_shift.to_csv(emb_shift_file)\n",
    "else:\n",
    "    df_emb_shift = pd.read_csv(emb_shift_file,index_col=0)"
   ]
  },
  {
   "cell_type": "markdown",
   "metadata": {
    "slideshow": {
     "slide_type": "skip"
    }
   },
   "source": [
    "Let's put the results into a dataframe."
   ]
  },
  {
   "cell_type": "code",
   "execution_count": 34,
   "metadata": {
    "slideshow": {
     "slide_type": "fragment"
    }
   },
   "outputs": [
    {
     "name": "stdout",
     "output_type": "stream",
     "text": [
      "                    local    global\n",
      "thee             0.066949  0.674881\n",
      "include          0.054713  0.554722\n",
      "basic            0.051473  0.694119\n",
      "umhum            0.049855  0.924822\n",
      "berserk          0.048377  0.643165\n",
      "amen             0.045989  0.625984\n",
      "Winnie_the_Pooh  0.045048  0.581701\n",
      "lens             0.044743  0.675389\n",
      "Jerry            0.044623  0.968488\n",
      "Marks            0.042882  0.782038\n",
      "hut              0.042026  0.725304\n",
      "mister           0.040949  0.874639\n",
      "fetch            0.039547  0.827324\n",
      "nay              0.039479  0.461748\n",
      "psst             0.038735  0.512592\n",
      "Robert           0.038368  0.845701\n",
      "disc             0.036278  0.759368\n",
      "because_of       0.036210  0.824036\n",
      "patter           0.036070  0.710540\n",
      "Brenda           0.035783  0.675241\n"
     ]
    }
   ],
   "source": [
    "print(df_emb_shift.sort_values('local',ascending=False).head(20))"
   ]
  },
  {
   "cell_type": "markdown",
   "metadata": {
    "slideshow": {
     "slide_type": "subslide"
    }
   },
   "source": [
    "### Top words by \"local\" metric"
   ]
  },
  {
   "cell_type": "code",
   "execution_count": 35,
   "metadata": {
    "slideshow": {
     "slide_type": "fragment"
    }
   },
   "outputs": [
    {
     "name": "stdout",
     "output_type": "stream",
     "text": [
      "thee\n",
      "Age 1 neighbors: ['hop_hop', 'runaway', 'Chrissie', 'bvoom', 'hippity_hop', 'hoppity_hop', 'ey']\n",
      "Age 3 neighbors: ['amen', 'lord', 'thy', 'daily', 'Sweetie', 'Christ', 'mer']\n",
      "\n",
      "include\n",
      "Age 1 neighbors: ['uf', 'Babies', 'glub', 'Everywhere', 'deaf', 'gesundheit', 'Marks']\n",
      "Age 3 neighbors: ['Valley', 'community', 'nay', 'dread', 'Sneezy', 'garble', 'musician']\n",
      "\n",
      "basic\n",
      "Age 1 neighbors: ['Cape', 'tck', 'Cod', 'shriek', 'Dabee', 'dun', 'chicka_chicka_boom_boom']\n",
      "Age 3 neighbors: ['deny', 'Virgo', 'curse', 'G_I_Joe', 'assumption', 'iaiaoo', 'placemat']\n",
      "\n",
      "umhum\n",
      "Age 1 neighbors: ['regular', 'damn', 'get', 'Eve', 'into', 'pitch', 'out_of']\n",
      "Age 3 neighbors: ['Crystal', 'Pocahontas', 'Dushon', 'Jonathan_bunny', 'whey', 'Taylor', 'Stacy']\n",
      "\n",
      "berserk\n",
      "Age 1 neighbors: ['hooh', 'camp', 'peeyou', 'oink_oink_oink_oink', 'Lil', 'kiki', 'yip']\n",
      "Age 3 neighbors: ['craze', 'excuse', 'motorcyclist', 'nuts', 'Felice', 'forgive', 'depress']\n",
      "\n",
      "amen\n",
      "Age 1 neighbors: ['lalight', 'woof_woof_woof_woof', 'quack_quack_quack_quack', 'gesundheit', 'woof_woof_woof', 'bvoom', 'vrap']\n",
      "Age 3 neighbors: ['thy', 'lord', 'daily', 'thee', 'praise', 'strength', 'mer']\n",
      "\n",
      "Winnie_the_Pooh\n",
      "Age 1 neighbors: ['Marks', 'Babies', 'Prairie', 'Huey', 'Dawn', 'Everywhere', 'swoosh']\n",
      "Age 3 neighbors: ['collie', 'Pero', 'dadum', 'oat', 'Robinson', 'scab', 'poster']\n",
      "\n",
      "lens\n",
      "Age 1 neighbors: ['rar', 'oh_goodness', 'duh_dah', 'broombroom', 'Zackary', 'Oscar_The_Grouch', 'hike']\n",
      "Age 3 neighbors: ['thigh', 'advice', 'snoop', 'contact', 'parachute', 'bib', 'jewel']\n",
      "\n",
      "Jerry\n",
      "Age 1 neighbors: ['Fiddler_Cat', 'Happy_Birthday', 'crumb', 'Pinocchio', 'Tom', 'vigor', 'nibble']\n",
      "Age 3 neighbors: ['Kim', 'Keisha', 'Jimmy', 'Anthony', 'Valerie', 'Tunde', 'Lynette']\n",
      "\n",
      "Marks\n",
      "Age 1 neighbors: ['Noodle', 'yike', 'Everywhere', 'vutch', 'Dawn', 'vera', 'Babies']\n",
      "Age 3 neighbors: ['Spencers', 'Stockport', 'Spencer', 'Didsbury', 'Panama', 'Denver', 'Wales']\n",
      "\n",
      "hut\n",
      "Age 1 neighbors: ['bvoom', 'gesundheit', 'vrap', 'bam', 'Babies', 'cor', 'Peep_bo']\n",
      "Age 3 neighbors: ['beak', 'briefcase', 'bullet', 'goldfish', 'armor', 'paw', 'forehead']\n",
      "\n",
      "mister\n",
      "Age 1 neighbors: ['oink_oink_oink', 'Scooter', 'quack_quack_quack_quack_quack', 'stall', 'boast', 'oinkoink', 'snuffle']\n",
      "Age 3 neighbors: ['carp', 'Carson', 'Jones', 'Ford', 'ssh', 'Farmer', 'Missus']\n",
      "\n",
      "fetch\n",
      "Age 1 neighbors: ['hem', 'save', 'brusha', 'steal', 'chase', 'tease', 'boingo']\n",
      "Age 3 neighbors: ['stroll', 'gown', 'dash', 'attic', 'Delila', 'puppy', 'jumbo']\n",
      "\n",
      "nay\n",
      "Age 1 neighbors: ['Tracy', 'bra', 'eee', 'Beauty', 'woof_woof_woof_woof', 'who_who', 'oik']\n",
      "Age 3 neighbors: ['Sneezy', 'Thomas_The_Tank', 'Dopey', 'baa', 'Book', 'szoom', 'Dalmatian']\n",
      "\n",
      "psst\n",
      "Age 1 neighbors: ['Missy', 'Deb', 'Gid', 'Electra', 'Paula', 'tch', 'Pla']\n",
      "Age 3 neighbors: ['Book', 'vroom', 'Pika', 'clickety', 'Thomas_The_Tank', 'hmpf', 'Robocop']\n",
      "\n",
      "Robert\n",
      "Age 1 neighbors: ['allo', 'violin_lin_linl_lin', 'Peep_bo', 'Georgina', 'hike', 'Everywhere', 'Babies']\n",
      "Age 3 neighbors: ['Bobby', 'Anthony', 'Perri', 'Vanessa', 'Keisha', 'Michael', 'Tony']\n",
      "\n",
      "disc\n",
      "Age 1 neighbors: ['Shelley', 'Kamal', 'vrap', 'gesundheit', 'ey', 'bvoom', 'bam']\n",
      "Age 3 neighbors: ['mini', 'portable', 'Fireman_Bald', 'cannonball', 'extinguish', 'oxygen', 'Pluto']\n",
      "\n",
      "because_of\n",
      "Age 1 neighbors: ['ouchie', 'fury', 'brilliant', 'delivery', 'predict', 'bitter', 'narrow']\n",
      "Age 3 neighbors: ['Peter_Rabbit', 'affect', 'carve', 'impatient', 'financial', 'fuzz', 'Mr_Thomas']\n",
      "\n",
      "patter\n",
      "Age 1 neighbors: ['pit', 'Nai', 'dowa', 'lowa', 'wa', 'heehee', 'vutch']\n",
      "Age 3 neighbors: ['pitter', 'pitterpat', 'Postman', 'plank', 'Jordan', 'scritch', 'pat']\n",
      "\n",
      "Brenda\n",
      "Age 1 neighbors: ['ciao', 'Jude', 'da_who', 'Missy', 'Kirsty', 'Bridget', 'dun']\n",
      "Age 3 neighbors: ['Von', 'Man_Peng', 'Lucas', 'quit', 'Concentration', 'Lashawn', 'Dixie']\n",
      "\n"
     ]
    }
   ],
   "source": [
    "for word in df_emb_shift.sort_values('local',ascending=False).head(20).index:\n",
    "    print(word)\n",
    "    print(f'Age {year1} neighbors: {neighbors(word, vecs[year1][:thresh], vocs[year1], K=7)}')\n",
    "    print(f'Age {year2} neighbors: {neighbors(word, vecs[year2][:thresh], vocs[year2], K=7)}')\n",
    "    print()"
   ]
  },
  {
   "cell_type": "markdown",
   "metadata": {
    "slideshow": {
     "slide_type": "subslide"
    }
   },
   "source": [
    "Pretty similar, but avoids a few of the false positives in `global`, such as \"00\", while weirdly including \"the\" as the top word."
   ]
  },
  {
   "cell_type": "markdown",
   "metadata": {
    "slideshow": {
     "slide_type": "slide"
    }
   },
   "source": [
    "## Extensions\n",
    "\n",
    "- Try a number of different neighborhood sizes, and test how it affects the ranking of words. Is the \"local\" method sensitive to this parameter?\n",
    "- Hamilton et al show that more common words tend to change more slowly. Can you replicate this finding using this data?\n",
    "- Using the other datafiles, try to determine the pace of change over time; do words shift their meanings more in the late 20th century?\n"
   ]
  },
  {
   "cell_type": "code",
   "execution_count": null,
   "metadata": {},
   "outputs": [],
   "source": []
  }
 ],
 "metadata": {
  "celltoolbar": "Slideshow",
  "kernelspec": {
   "display_name": "Python 3",
   "language": "python",
   "name": "python3"
  },
  "language_info": {
   "codemirror_mode": {
    "name": "ipython",
    "version": 3
   },
   "file_extension": ".py",
   "mimetype": "text/x-python",
   "name": "python",
   "nbconvert_exporter": "python",
   "pygments_lexer": "ipython3",
   "version": "3.7.1"
  }
 },
 "nbformat": 4,
 "nbformat_minor": 2
}
