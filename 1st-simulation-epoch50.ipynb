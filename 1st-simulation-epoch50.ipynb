{
 "cells": [
  {
   "cell_type": "markdown",
   "metadata": {
    "slideshow": {
     "slide_type": "slide"
    }
   },
   "source": [
    "# Dynamic Word Embeddings\n",
    "\n",
    "- by Jacob Eisenstein, May 2019\n",
    "- modified by Hang Jiang, Sept. 2019\n",
    "\n",
    "The previous notebook tracked how words were used by different groups over time. \n",
    "Now we'll explore how words change meaning over time, using dynamic word embeddings. The specific goals are:\n",
    "\n",
    "- Identify near-neighbors of words at various periods in time.\n",
    "- Align word embeddings over time using by solving an orthogonal Procrustes problem.\n",
    "- Rank words by semantic change from age 0 to age 3, using \"first-order\" (embedding-based) and \"second-order\" (neighbor-based) techniques."
   ]
  },
  {
   "cell_type": "markdown",
   "metadata": {
    "slideshow": {
     "slide_type": "subslide"
    }
   },
   "source": [
    "## Data acquisition\n",
    "\n",
    "Because training dynamic word embeddings is time-consuming, we'll use pretrained embeddings from [Hamilton et al](https://github.com/williamleif/histwords). As before, these embeddings are available in the [bitbucket repository](https://bitbucket.org/jacobeisenstein/language-change-tutorial-data/src/master/embeddings-over-time.tgz). \n",
    "\n",
    "1. If you have not already cloned it, please run:\n",
    "\n",
    "```\n",
    "git clone https://bitbucket.org/jacobeisenstein/language-change-tutorial-data.git\n",
    "\n",
    "```\n",
    "2. Then link or move the directory into `../data`,\n",
    "```\n",
    "cd data; ln -s ../language-change-tutorial-data/embeddings-over-time\n",
    "```\n"
   ]
  },
  {
   "cell_type": "code",
   "execution_count": 2,
   "metadata": {
    "slideshow": {
     "slide_type": "skip"
    }
   },
   "outputs": [],
   "source": [
    "import os\n",
    "from glob import glob\n",
    "import pickle\n",
    "\n",
    "import numpy as np\n",
    "import pandas as pd\n",
    "import matplotlib.pyplot as plt\n",
    "%matplotlib inline\n",
    "\n",
    "from tqdm import tqdm_notebook as tqdm # convenient progressbar"
   ]
  },
  {
   "cell_type": "markdown",
   "metadata": {
    "slideshow": {
     "slide_type": "subslide"
    }
   },
   "source": [
    "## Data loading"
   ]
  },
  {
   "cell_type": "code",
   "execution_count": 41,
   "metadata": {},
   "outputs": [
    {
     "name": "stdout",
     "output_type": "stream",
     "text": [
      "(1106, 100)\n",
      "[[-0.13061167 -0.12723309  0.03940665 ...  0.10952411  0.04547378\n",
      "   0.01080635]\n",
      " [ 0.00414176 -0.11482116 -0.10943656 ...  0.12671569  0.12409339\n",
      "  -0.0757904 ]\n",
      " [ 0.12002615 -0.14963558  0.13055226 ...  0.0476813  -0.06280747\n",
      "   0.04395894]\n",
      " ...\n",
      " [ 0.06014311  0.08412465 -0.04841105 ... -0.1185257  -0.05910591\n",
      "  -0.25522557]\n",
      " [ 0.06715044 -0.00831219  0.00383078 ... -0.01011587  0.01404538\n",
      "   0.06957281]\n",
      " [ 0.10083532  0.10961829  0.10224055 ... -0.01794267 -0.02770185\n",
      "   0.00973417]]\n",
      "(4324, 100)\n",
      "[[-9.40133110e-02 -6.47349805e-02  9.57079530e-02 ...  3.18181105e-02\n",
      "  -1.23290904e-01 -1.04258172e-01]\n",
      " [-1.28777221e-01 -1.29228026e-01  8.39534551e-02 ...  1.58185561e-04\n",
      "   1.01505674e-01 -3.90115450e-03]\n",
      " [ 2.17366405e-02  9.01922062e-02 -6.41204193e-02 ... -1.10166848e-01\n",
      "  -1.87755048e-01  6.34358600e-02]\n",
      " ...\n",
      " [-5.93845993e-02  1.27444431e-01 -1.62915558e-01 ...  1.69677570e-01\n",
      "   8.61297995e-02  1.36408895e-01]\n",
      " [ 1.59443431e-02  1.14400394e-01  9.55102295e-02 ... -6.68381751e-02\n",
      "   6.40070019e-03 -1.20459147e-01]\n",
      " [-1.42548997e-02 -3.20520215e-02  9.95087698e-02 ... -2.41005898e-01\n",
      "  -5.64426696e-03 -6.24248795e-02]]\n",
      "(5967, 100)\n",
      "[[ 0.14499176 -0.06200431 -0.07387982 ... -0.06102294 -0.03466089\n",
      "  -0.01421069]\n",
      " [ 0.03564231 -0.25488693 -0.14485052 ... -0.06519303 -0.10954341\n",
      "   0.10533576]\n",
      " [ 0.12756962 -0.06032882 -0.14585796 ...  0.02127796 -0.14758044\n",
      "  -0.0288432 ]\n",
      " ...\n",
      " [-0.06732768  0.14277183 -0.06788659 ... -0.09663548 -0.1691212\n",
      "   0.10848526]\n",
      " [ 0.13637899 -0.06361935 -0.10302071 ...  0.10253385 -0.08434129\n",
      "   0.0357007 ]\n",
      " [ 0.10404295  0.06911364  0.15486418 ... -0.1726006   0.00085821\n",
      "  -0.1273156 ]]\n",
      "(5386, 100)\n",
      "[[-0.04110828  0.01630195 -0.00701243 ...  0.03274669 -0.14645956\n",
      "   0.11349983]\n",
      " [-0.04865761  0.02099176  0.11010265 ... -0.06207323 -0.15015338\n",
      "  -0.0920741 ]\n",
      " [ 0.09522372  0.11515618 -0.03084447 ... -0.14533597 -0.05946637\n",
      "  -0.08524419]\n",
      " ...\n",
      " [-0.05876349  0.08177884  0.13449086 ... -0.05424812 -0.07232241\n",
      "  -0.00710178]\n",
      " [-0.16528115  0.10779157  0.15292867 ... -0.09359839  0.11078013\n",
      "  -0.11980551]\n",
      " [ 0.0807313   0.08439741  0.09105646 ... -0.00203133  0.02215133\n",
      "   0.20372011]]\n"
     ]
    }
   ],
   "source": [
    "from typing import List, Dict, Tuple, Sequence\n",
    "base_dir = os.path.join('/Users/hang/Desktop/2019-fall/change/','childes_data','embeddings-over-time') # make sure you expand the tar file in ../data\n",
    "dicts = pickle.load(open(os.path.join(base_dir,'embeddings-over-time-vocabs-ep50.pickle'),'rb'))\n",
    "\n",
    "vocs: Dict[int, List] = {k: list(v.keys()) for k, v in dicts.items()}\n",
    "years: List[int] = list(vocs.keys()) # 0, 1\n",
    "# print(vocs)\n",
    "vecs: Dict[int, List] = dict()\n",
    "    \n",
    "# 0 ./childes_data/adult_utterances_age_corpus_48_60 .csv\n",
    "# 1 ./childes_data/adult_utterances_age_corpus_0_12.csv\n",
    "# 2 ./childes_data/adult_utterances_age_corpus_36_48 .csv\n",
    "# 3 ./childes_data/adult_utterances_age_corpus _12_24 .csv\n",
    "\n",
    "for year, d in dicts.items():\n",
    "    year_vectors = np.array([list(d.values())]).reshape(-1, 100)\n",
    "    print(year_vectors.shape)\n",
    "    vecs[year] = year_vectors / np.linalg.norm(year_vectors, axis=-1)[:, np.newaxis]\n",
    "#     for w in vecs[year] /= norms\n",
    "    print(vecs[year])"
   ]
  },
  {
   "cell_type": "code",
   "execution_count": 42,
   "metadata": {
    "slideshow": {
     "slide_type": "fragment"
    }
   },
   "outputs": [
    {
     "data": {
      "text/plain": [
       "array([0.9999999 , 1.        , 1.0000001 , ..., 0.99999994, 1.        ,\n",
       "       1.        ], dtype=float32)"
      ]
     },
     "execution_count": 42,
     "metadata": {},
     "output_type": "execute_result"
    }
   ],
   "source": [
    "(vecs[1]**2).sum(1)"
   ]
  },
  {
   "cell_type": "markdown",
   "metadata": {
    "slideshow": {
     "slide_type": "fragment"
    }
   },
   "source": [
    "Vectors are initialized to have a Euclidean norm of $1$. There are different number of words per year, listed in `vocs[year]`."
   ]
  },
  {
   "cell_type": "markdown",
   "metadata": {
    "slideshow": {
     "slide_type": "slide"
    }
   },
   "source": [
    "# Near neighbors\n",
    "\n",
    "Let's start by computing some near neighbors. In general, this is done by computing cosine similarity between word vectors,\n",
    "\\begin{equation}\n",
    "s(\\vec{x},\\vec{y}) = \\frac{\\vec{x} \\cdot \\vec{y}}{||\\vec{x}|| \\times || \\vec{y} ||}.\n",
    "\\end{equation}\n",
    "\n",
    "However, because these embeddings have a guaranteed norm of 1, the denominator can be ignored, so we need only consider the dot product."
   ]
  },
  {
   "cell_type": "code",
   "execution_count": 43,
   "metadata": {
    "slideshow": {
     "slide_type": "skip"
    }
   },
   "outputs": [],
   "source": [
    "def neighbors(query : str,\n",
    "              embs: np.ndarray,\n",
    "              vocab: list,\n",
    "              K : int = 3) -> list:\n",
    "    sims = np.dot(embs[vocab.index(query),],embs.T)\n",
    "    output = []\n",
    "    for sim_idx in sims.argsort()[::-1][1:(1+K)]:\n",
    "        if sims[sim_idx] > 0:\n",
    "            output.append(vocab[sim_idx])\n",
    "    return output"
   ]
  },
  {
   "cell_type": "code",
   "execution_count": 44,
   "metadata": {
    "slideshow": {
     "slide_type": "skip"
    }
   },
   "outputs": [],
   "source": [
    "# a convenience function to compute the nearest neighbors per year\n",
    "def neighbors_per_year(query: str, K=5) -> dict:\n",
    "    nns = dict()\n",
    "    for year, embs in vecs.items():\n",
    "        nns[year] = neighbors(query, embs, vocs[year], K=K)\n",
    "    return nns"
   ]
  },
  {
   "cell_type": "markdown",
   "metadata": {
    "slideshow": {
     "slide_type": "subslide"
    }
   },
   "source": [
    "## Examples"
   ]
  },
  {
   "cell_type": "code",
   "execution_count": 46,
   "metadata": {
    "slideshow": {
     "slide_type": "fragment"
    }
   },
   "outputs": [
    {
     "name": "stdout",
     "output_type": "stream",
     "text": [
      "0 ['ma', 'Daddy', 'us', 'me', 'lady']\n",
      "1 ['mommy', 'Daddy', 'dad', 'mummy', 'mom']\n",
      "2 ['mommy', 'mum', 'Daddy', 'dad', 'mom']\n",
      "3 ['mommy', 'mum', 'Daddy', 'dad', 'mom']\n"
     ]
    }
   ],
   "source": [
    "for year, nn_list in neighbors_per_year('daddy').items():\n",
    "    print(year, nn_list)"
   ]
  },
  {
   "cell_type": "code",
   "execution_count": 48,
   "metadata": {
    "slideshow": {
     "slide_type": "fragment"
    }
   },
   "outputs": [
    {
     "name": "stdout",
     "output_type": "stream",
     "text": [
      "0 ['man', 'cow', 'rabbit', 'tongue', 'lady']\n",
      "1 ['kitty', 'puppy', 'duck', 'bunny', 'cat']\n",
      "2 ['kitty', 'cat', 'cow', 'puppy', 'horse']\n",
      "3 ['cat', 'kitty', 'puppy', 'kangaroo', 'kitten']\n"
     ]
    }
   ],
   "source": [
    "for year, nn_list in neighbors_per_year('dog').items():\n",
    "    print(year, nn_list)"
   ]
  },
  {
   "cell_type": "code",
   "execution_count": 50,
   "metadata": {
    "slideshow": {
     "slide_type": "fragment"
    }
   },
   "outputs": [
    {
     "name": "stdout",
     "output_type": "stream",
     "text": [
      "0 ['rain', 'itsy', 'spider', 'bitsy', 'spout']\n",
      "1 ['moon', 'sky', 'sunshine', 'sea', 'rear']\n",
      "2 ['sunshine', 'cloud', 'rain', 'warm', 'sky']\n",
      "3 ['warm', 'egg', 'Sunday', 'pop', 'light']\n"
     ]
    }
   ],
   "source": [
    "for year, nn_list in neighbors_per_year('sun').items():\n",
    "    print(year, nn_list)"
   ]
  },
  {
   "cell_type": "markdown",
   "metadata": {
    "slideshow": {
     "slide_type": "subslide"
    }
   },
   "source": [
    "### Exercise \n",
    "\n",
    "Try to find an example with as many similar neighbors as possible in age 1 and age 3; try to find another example as few similar neighbors as possible."
   ]
  },
  {
   "cell_type": "markdown",
   "metadata": {
    "slideshow": {
     "slide_type": "skip"
    }
   },
   "source": [
    "# Linking embedding over time\n",
    "\n",
    "The first task is simple to align words across vocabularies. We will do this by building a sparse permutation matrix."
   ]
  },
  {
   "cell_type": "code",
   "execution_count": 51,
   "metadata": {
    "slideshow": {
     "slide_type": "skip"
    }
   },
   "outputs": [],
   "source": [
    "import scipy.sparse as sparse"
   ]
  },
  {
   "cell_type": "code",
   "execution_count": 52,
   "metadata": {
    "slideshow": {
     "slide_type": "skip"
    }
   },
   "outputs": [],
   "source": [
    "def build_alignment(year1 : int, year2 : int) -> sparse.csr_matrix:\n",
    "    # given two years (keys into vecs and vocs)\n",
    "    # compute a sparse matrix M representing the permutation of word indices from the year1 vecs to the year2 vecs  \n",
    "    # then the rows of v1 will be aligned with the rows of M v2 \n",
    "    \n",
    "    all_var1 = vecs[year1].var(1)\n",
    "    all_var2 = vecs[year2].var(1)\n",
    "\n",
    "    rows = []\n",
    "    cols = []\n",
    "\n",
    "    ivoc2 = {j:i for i,j in enumerate(vocs[year2])}\n",
    "\n",
    "    for widx1,word in enumerate(vocs[year1]):\n",
    "        if all_var1[widx1] != 0 and word in vocs[year2]:\n",
    "            widx2 = ivoc2[word]\n",
    "            if all_var2[widx2] != 0:\n",
    "                rows.append(widx1)\n",
    "                cols.append(widx2)\n",
    "\n",
    "    align = sparse.csr_matrix(([1]*len(rows),(rows,cols)),shape=[len(vocs[year1]),len(vocs[year2])])\n",
    "    return align"
   ]
  },
  {
   "cell_type": "code",
   "execution_count": 57,
   "metadata": {
    "slideshow": {
     "slide_type": "skip"
    }
   },
   "outputs": [],
   "source": [
    "# for the rest of the notebook, we'll focus on the contrast between age 1 and age 3\n",
    "year1 = 1\n",
    "year2 = 3"
   ]
  },
  {
   "cell_type": "code",
   "execution_count": 58,
   "metadata": {
    "slideshow": {
     "slide_type": "skip"
    }
   },
   "outputs": [],
   "source": [
    "align = build_alignment(year2, year1)"
   ]
  },
  {
   "cell_type": "code",
   "execution_count": 59,
   "metadata": {
    "slideshow": {
     "slide_type": "skip"
    }
   },
   "outputs": [
    {
     "data": {
      "text/plain": [
       "<5386x4324 sparse matrix of type '<class 'numpy.int64'>'\n",
       "\twith 3130 stored elements in Compressed Sparse Row format>"
      ]
     },
     "execution_count": 59,
     "metadata": {},
     "output_type": "execute_result"
    }
   ],
   "source": [
    "align"
   ]
  },
  {
   "cell_type": "code",
   "execution_count": 60,
   "metadata": {
    "slideshow": {
     "slide_type": "skip"
    }
   },
   "outputs": [],
   "source": [
    "vecs_aligned = align.dot(vecs[year1])"
   ]
  },
  {
   "cell_type": "markdown",
   "metadata": {
    "slideshow": {
     "slide_type": "skip"
    }
   },
   "source": [
    "To validate, let's check that words in `vecs_aligned` have roughly the same near-neighbors as in `vecs[year2]`."
   ]
  },
  {
   "cell_type": "code",
   "execution_count": 63,
   "metadata": {
    "slideshow": {
     "slide_type": "skip"
    }
   },
   "outputs": [
    {
     "name": "stdout",
     "output_type": "stream",
     "text": [
      "car\n",
      "1 ['train', 'truck', 'van', 'tractor', 'plane', 'bike', 'airplane']\n",
      "3 ['garage', 'truck', 'boat', 'cab', 'train', 'airplane', 'petrol'] \n",
      "\n",
      "bottle\n",
      "1 ['milk', 'cup', 'drink', 'spoon', 'baba', 'pacify', 'cookie']\n",
      "3 ['cup', 'jug', 'pitcher', 'milk', 'glass', 'straw', 'funnel'] \n",
      "\n",
      "dog\n",
      "1 ['kitty', 'puppy', 'duck', 'bunny', 'cat', 'lion', 'dinosaur']\n",
      "3 ['cat', 'kitty', 'puppy', 'kangaroo', 'kitten', 'boy', 'dinosaur'] \n",
      "\n",
      "love\n",
      "1 ['buy', 'give', 'say', 'favorite', 'appreciate', 'own', 'gosh']\n",
      "3 ['enjoy', 'hate', 'raw', 'delicious', 'gorgeous', 'adore', 'nice'] \n",
      "\n"
     ]
    }
   ],
   "source": [
    "for query in ['car','bottle','dog','love']:\n",
    "    print(query)\n",
    "    print(year1, neighbors(query, vecs_aligned, vocs[year2], K=7))\n",
    "    print(year2, neighbors(query, vecs[year2], vocs[year2], K=7),'\\n')"
   ]
  },
  {
   "cell_type": "raw",
   "metadata": {
    "slideshow": {
     "slide_type": "skip"
    }
   },
   "source": [
    "\n",
    "Remember that our goal is to find words whose meanings have changed between `year1` and `year2`. Be careful: we cannot directly compare `vecs[year1]` to `vecs[year2]` because the word embeddings are not aligned. To solve this, we will search for the best orthogonal projection."
   ]
  },
  {
   "cell_type": "markdown",
   "metadata": {
    "slideshow": {
     "slide_type": "skip"
    }
   },
   "source": [
    "## Procrustes\n",
    "\n",
    "$\\newcommand{\\transpose}[1]{#1^{\\top}}$\n",
    "\n",
    "The orthogonal Procrustes problem for matrices $A$ and $B$ is to find an orthogonal projection matrix $\\Omega$ that minimizes the norm of the difference between $\\Omega A$ and $B$:\n",
    "\n",
    "\\begin{equation}\n",
    "\\min_{\\Omega} ||\\Omega A - B ||_F,\n",
    "\\end{equation}\n",
    "s.t. $\\transpose{\\Omega} \\Omega = \\mathbb{I}$, where $A, B \\in \\mathbb{R}^{K \\times V}$ are matrices of $K$-dimensional embeddings, and $\\Omega$ is therefore an orthonormal $K \\times K$ projection matrix. The norm $||M||_F = \\left(\\sum_i \\sum_j m_{i,j}^2\\right)^{1/2}$. \n",
    "\n",
    "The solution to the orthogonal Procrustes problem is obtained by performing singular value decomposition on the product,\n",
    "\n",
    "\\begin{align}\n",
    "U \\Sigma \\transpose{V} = &{} \\text{SVD}(B\\transpose{A})\\\\\n",
    "\\Omega = &{} U \\transpose{V}.\n",
    "\\end{align}\n"
   ]
  },
  {
   "cell_type": "markdown",
   "metadata": {
    "slideshow": {
     "slide_type": "subslide"
    }
   },
   "source": [
    "## Procrustes"
   ]
  },
  {
   "cell_type": "code",
   "execution_count": 64,
   "metadata": {
    "slideshow": {
     "slide_type": "fragment"
    }
   },
   "outputs": [],
   "source": [
    "def procrustes(A, B):\n",
    "    U, _, Vt = np.linalg.svd(B.dot(A.T))\n",
    "    return U.dot(Vt)"
   ]
  },
  {
   "cell_type": "markdown",
   "metadata": {
    "slideshow": {
     "slide_type": "subslide"
    }
   },
   "source": [
    "### Synthetic data"
   ]
  },
  {
   "cell_type": "code",
   "execution_count": 65,
   "metadata": {
    "slideshow": {
     "slide_type": "fragment"
    }
   },
   "outputs": [
    {
     "name": "stdout",
     "output_type": "stream",
     "text": [
      "Norm without projection:\t316.542\n",
      "Norm with projection:\t30.837\n"
     ]
    }
   ],
   "source": [
    "# randomly generate an orthogonal projection\n",
    "P1,_,_ = np.linalg.svd(np.random.randn(100,30))\n",
    "A = np.random.randn(100,1000)\n",
    "B = P1.dot(A) + 0.1 * np.random.randn(100,1000)\n",
    "\n",
    "print(f'Norm without projection:\\t{np.linalg.norm(B - A):0.3f}')\n",
    "print(f'Norm with projection:\\t{np.linalg.norm(B - procrustes(A,B).dot(A)):0.3f}')"
   ]
  },
  {
   "cell_type": "code",
   "execution_count": 66,
   "metadata": {
    "slideshow": {
     "slide_type": "subslide"
    }
   },
   "outputs": [
    {
     "data": {
      "image/png": "[encoded data removed]",
      "text/plain": [
       "<Figure size 576x216 with 2 Axes>"
      ]
     },
     "metadata": {
      "needs_background": "light"
     },
     "output_type": "display_data"
    }
   ],
   "source": [
    "fig, (ax1,ax2) = plt.subplots(1,2,figsize=[8,3])\n",
    "ax1.scatter(A[:,45],B[:,45])\n",
    "ax1.set_title(\"Without projection\")\n",
    "ax2.scatter(procrustes(A,B).dot(A[:,45]),B[:,45]);\n",
    "ax2.set_title('With projection');"
   ]
  },
  {
   "cell_type": "markdown",
   "metadata": {
    "slideshow": {
     "slide_type": "fragment"
    }
   },
   "source": [
    "**Exercise**: evaluate the projection quality while varying the amount of noise in $B$."
   ]
  },
  {
   "cell_type": "markdown",
   "metadata": {
    "slideshow": {
     "slide_type": "subslide"
    }
   },
   "source": [
    "## Application to word vectors\n",
    "\n",
    "Let $A \\in \\mathbb{R}^{K \\times V}$ be the matrix of aligned word vectors, with words on the columns, and let $B \\in \\mathbb{R}^{K \\times V}$ be an analogous matrix of word vectors at an alternative time. Then we solve the orthogonal Procrustes problem to obtain the projection $\\Omega$."
   ]
  },
  {
   "cell_type": "code",
   "execution_count": 67,
   "metadata": {
    "slideshow": {
     "slide_type": "fragment"
    }
   },
   "outputs": [],
   "source": [
    "Omega = procrustes(vecs_aligned.T, vecs[year2].T)\n",
    "vecs_projected = Omega.dot(vecs_aligned.T).T"
   ]
  },
  {
   "cell_type": "code",
   "execution_count": 70,
   "metadata": {},
   "outputs": [
    {
     "name": "stdout",
     "output_type": "stream",
     "text": [
      "4324\n"
     ]
    }
   ],
   "source": [
    "length_of_vocab = min(vecs[year1].shape[0], vecs[year2].shape[0])\n",
    "print(length_of_vocab)"
   ]
  },
  {
   "cell_type": "code",
   "execution_count": 71,
   "metadata": {
    "slideshow": {
     "slide_type": "fragment"
    }
   },
   "outputs": [
    {
     "name": "stdout",
     "output_type": "stream",
     "text": [
      "pre-alignment:  92.25497\n",
      "pre-projection:  89.52931954511783\n",
      "after projection:  78.66209357295492\n"
     ]
    }
   ],
   "source": [
    "print('pre-alignment: ',np.linalg.norm(vecs[year2][:length_of_vocab] - vecs[year1]))\n",
    "print('pre-projection: ',np.linalg.norm(vecs[year2] - vecs_aligned))\n",
    "print('after projection: ',np.linalg.norm(vecs[year2] - vecs_projected))"
   ]
  },
  {
   "cell_type": "code",
   "execution_count": 72,
   "metadata": {
    "slideshow": {
     "slide_type": "subslide"
    }
   },
   "outputs": [
    {
     "data": {
      "image/png": "[encoded data removed]",
      "text/plain": [
       "<Figure size 576x216 with 2 Axes>"
      ]
     },
     "metadata": {
      "needs_background": "light"
     },
     "output_type": "display_data"
    }
   ],
   "source": [
    "fig, (ax1,ax2) = plt.subplots(1,2,figsize=[8,3])\n",
    "\n",
    "query = 'fish'\n",
    "vec2_no_project = vecs_aligned[vocs[year2].index(query),]\n",
    "vec2_projected = vecs_projected[vocs[year2].index(query),]\n",
    "vec1_query = vecs[year2][vocs[year2].index(query),]\n",
    "\n",
    "ax1.scatter(vec1_query, vec2_no_project)\n",
    "ax1.set_title(\"Without projection\")\n",
    "\n",
    "ax2.scatter(vec1_query, vec2_projected)\n",
    "ax2.set_title('With projection');"
   ]
  },
  {
   "cell_type": "markdown",
   "metadata": {
    "slideshow": {
     "slide_type": "fragment"
    }
   },
   "source": [
    "After projection the alignment is closer, but still far from perfect."
   ]
  },
  {
   "cell_type": "markdown",
   "metadata": {
    "slideshow": {
     "slide_type": "slide"
    }
   },
   "source": [
    "## Measuring semantic change by embedding norms\n",
    "\n",
    "After projection, we can search for words with large changes in meaning by evaluating the \"cosine distance\" between the projected embedding in $t_1$ and the embedding in $t_2$."
   ]
  },
  {
   "cell_type": "code",
   "execution_count": 73,
   "metadata": {
    "slideshow": {
     "slide_type": "fragment"
    }
   },
   "outputs": [],
   "source": [
    "def compute_cos_dist(vec1 : np.array, vec2 : np.array) -> np.array:    \n",
    "    numerator = (vec1 * vec2).sum(1)\n",
    "    denominator = np.sqrt((vec1**2).sum(1)) * np.sqrt((vec2**2).sum(1))\n",
    "    cos_dist = 1 - numerator / (1e-5 + denominator)\n",
    "\n",
    "    # eliminate words that are zeroed out\n",
    "    return cos_dist * (vec1.var(1) > 0) * (vec2.var(1) > 0)"
   ]
  },
  {
   "cell_type": "code",
   "execution_count": 74,
   "metadata": {
    "slideshow": {
     "slide_type": "fragment"
    }
   },
   "outputs": [],
   "source": [
    "cos_dist = compute_cos_dist(vecs[year2], vecs_projected)"
   ]
  },
  {
   "cell_type": "markdown",
   "metadata": {
    "slideshow": {
     "slide_type": "subslide"
    }
   },
   "source": [
    "### Top words by global metric\n",
    "\n",
    "Now let's print the words with the biggest changes from Age 1 to Age 3. \n",
    "\n",
    "The embeddings for rare words are a little weird, so let's focus on the 10K most frequent."
   ]
  },
  {
   "cell_type": "code",
   "execution_count": 104,
   "metadata": {
    "slideshow": {
     "slide_type": "subslide"
    }
   },
   "outputs": [
    {
     "name": "stdout",
     "output_type": "stream",
     "text": [
      "yah\t(ranks=5315,2089)\tdist=1.15\n",
      "age 3 neighbors: ['polite', 'Fozzie', 'cub', 'gee', 'Dave', 'Cookie', 'sergeant']\n",
      "age 3 neighbors: ['eight', 'Michael', 'in_order_to', 'tumble', 'Biff', 'Paula', 'nine']\n",
      "\n",
      "cheerio\t(ranks=5378,1354)\tdist=1.13\n",
      "age 3 neighbors: ['raisin', 'strawberry', 'cracker', 'pear', 'cookie', 'Cheerios', 'nut']\n",
      "age 3 neighbors: ['Dennis_The_Menace', 'honest', 'knacker', 'bot', 'Jackson_Browne', 'for_goodness_sake', 'moan']\n",
      "\n",
      "Gary\t(ranks=2300,2279)\tdist=1.11\n",
      "age 3 neighbors: ['January', 'wound', 'word', 'cape', 'cassette', 'routine', 'knickers']\n",
      "age 3 neighbors: ['Cal', 'Mec', 'Dav', 'Hymie', 'come_on', 'nana', 'Maisie']\n",
      "\n",
      "Edward\t(ranks=2585,1906)\tdist=1.10\n",
      "age 3 neighbors: ['railway', 'bound', 'tow', 'Gordon', 'George', 'cheer', 'Molly']\n",
      "age 3 neighbors: ['mammy', 'Kip', 'crank', 'Beverly', 'Carl', 'evening', 'Simba']\n",
      "\n",
      "Nicky\t(ranks=1734,2456)\tdist=1.09\n",
      "age 3 neighbors: ['gang', 'Dino', 'Percy', 'awhile', 'expensive', 'Stephen', 'Lee']\n",
      "age 3 neighbors: ['Chi', 'Brenda', 'Toddy', 'Tanya', 'Libby', 'Ryan', 'mash']\n",
      "\n",
      "Oliver\t(ranks=1472,2014)\tdist=1.08\n",
      "age 3 neighbors: ['Halloween', 'Alexander', 'sake', 'Curly', 'Indian', 'whats', 'Lena']\n",
      "age 3 neighbors: ['Piggy', 'Giselle', 'Pascal', 'himself', 'heap', 'Raggedy', 'Cowboy']\n",
      "\n",
      "grip\t(ranks=3470,3400)\tdist=1.08\n",
      "age 3 neighbors: ['prayer', 'koolaid', 'mmmm', 'welcome', 'brush', 'pedal', 'comb']\n",
      "age 3 neighbors: ['stick', 'hold', 'drip', 'filth', 'handle', 'crush', 'backward']\n",
      "\n",
      "uhhum\t(ranks=1369,528)\tdist=1.07\n",
      "age 3 neighbors: ['Bambi', 'Cindy', 'bunny', 'vine', 'advance', 'Shirley', 'Curly']\n",
      "age 3 neighbors: ['Crystal', 'Jose', 'pray', 'Fat', 'gotcha', 'uncuffed', 'Allison']\n",
      "\n",
      "Peter\t(ranks=765,593)\tdist=1.07\n",
      "age 3 neighbors: ['peg', 'Josh', 'Grover', 'awoh', 'Wayne', 'Zachary', 'this']\n",
      "age 3 neighbors: ['Pan', 'Policeman', 'Pascal', 'harry', 'Gladys', 'MacGregor', 'once']\n",
      "\n",
      "disc\t(ranks=3807,4239)\tdist=1.05\n",
      "age 3 neighbors: ['round', 'swap', 'twinkle', 'rose', 'crank', 'Patty', 'third']\n",
      "age 3 neighbors: ['mini', 'extinguish', 'Mr_Bean', 'assistance', 'Rose', 'sorbet', 'Fireman_Bald']\n",
      "\n",
      "dock\t(ranks=4343,3825)\tdist=1.05\n",
      "age 3 neighbors: ['river', 'narrow', 'ship', 'church', 'coconut', 'Street', 'Cat']\n",
      "age 3 neighbors: ['desert', 'pull', 'twist', 'get', 'tip', 'sharpen', 'take']\n",
      "\n",
      "bale\t(ranks=5339,3091)\tdist=1.05\n",
      "age 3 neighbors: ['pepper', 'type', 'peck', 'hay', 'pickle', 'salami', 'aware']\n",
      "age 3 neighbors: ['beam', 'cash', 'lotion', 'trump', 'remove', 'explode', 'flame']\n",
      "\n",
      "oh_my\t(ranks=5303,1997)\tdist=1.05\n",
      "age 3 neighbors: ['underpant', 'begin', 'paw', 'object', 'T', 'parade', 'pleasure']\n",
      "age 3 neighbors: ['mmpf', 'Kaylow', 'dadum', 'brr', 'Thomas_The_Tank', 'Magnus', 'neato']\n",
      "\n",
      "Allison\t(ranks=4468,2710)\tdist=1.04\n",
      "age 3 neighbors: ['Lauren', 'Jessica', 'tantrum', 'Lily', 'tan', 'gramma', 'Thanksgiving']\n",
      "age 3 neighbors: ['gotcha', 'Magnus', 'Rocky', 'oops_a_daisy', 'Tinky', 'Crystal', 'Lala']\n",
      "\n",
      "remove\t(ranks=2738,3761)\tdist=1.04\n",
      "age 3 neighbors: ['knob', 'latch', 'Winnie_the_Pooh', 'tap', 'Mandy', 'dial', 'c_d']\n",
      "age 3 neighbors: ['flat', 'bale', 'enter', 'accept', 'pout', 'compass', 'University']\n",
      "\n",
      "fudge\t(ranks=2171,3095)\tdist=1.04\n",
      "age 3 neighbors: ['myself', 'Gigi', 'fabric', 'imagination', 'window', 'Miss', 'Cat']\n",
      "age 3 neighbors: ['meringue', 'toffee', 'cake', 'candy', 'chocolate', 'raspberry', 'ice']\n",
      "\n",
      "Moe\t(ranks=4779,4247)\tdist=1.04\n",
      "age 3 neighbors: ['driveway', 'siren', 'Heidi', 'Dino', 'tv', 'Dad', 'aeroplane']\n",
      "age 3 neighbors: ['japanese', 'dadum', 'showroom', 'szoom', 'fare', 'mmpf', 'automatic']\n",
      "\n",
      "Lou\t(ranks=1962,3369)\tdist=1.04\n",
      "age 3 neighbors: ['excuse', 'pardon', 'tease', 'Marks', 'sparrow', 'adjust', 'gesundheit']\n",
      "age 3 neighbors: ['Betty', 'Grover', 'gramma', 'Uncle', 'Donna', 'berry', 'Lauren']\n",
      "\n",
      "hum\t(ranks=807,794)\tdist=1.03\n",
      "age 3 neighbors: ['leash', 'drum', 'hurray', 'brave', 'concentrate', 'May', 'safety']\n",
      "age 3 neighbors: ['Helga', 'Felicia', 'Gray', 'sing', 'principal', 'ought_to', 'purpose']\n",
      "\n",
      "split\t(ranks=1885,3646)\tdist=1.03\n",
      "age 3 neighbors: ['shoot', 'jelly', 'squash', 'tennis', 'power', 'amber', 'shuffle']\n",
      "age 3 neighbors: ['move', 'level', 'panic', 'soak', 'seal', 'missy', 'squeeze']\n",
      "\n"
     ]
    }
   ],
   "source": [
    "thresh = 10000\n",
    "for idx in cos_dist[:thresh].argsort()[::-1][:20]:\n",
    "    word = vocs[year2][idx]\n",
    "    print(f'{word}\\t(ranks={idx},{vocs[year1].index(word)})\\tdist={cos_dist[idx]:.2f}')\n",
    "    print(f'age {year2} neighbors: {neighbors(word, vecs_projected, vocs[year2], K=7)}')\n",
    "    print(f'age {year2} neighbors: {neighbors(word, vecs[year2], vocs[year2], K=7)}\\n')"
   ]
  },
  {
   "cell_type": "markdown",
   "metadata": {
    "slideshow": {
     "slide_type": "subslide"
    }
   },
   "source": [
    "Better! A few preprocessing effects (\"00\" and \"addison\"), but most of these changes are interpretable as emerging word senses (\"aids\", \"peer\", \"approaches\", \"facility\", \"film\", and \"resource\")."
   ]
  },
  {
   "cell_type": "markdown",
   "metadata": {
    "slideshow": {
     "slide_type": "slide"
    }
   },
   "source": [
    "## Measuring semantic change by near neighbors\n",
    "\n",
    "A concern with comparing word embeddings directly is that different parts of the embedding space may have different densities, so that cosine distances are not comparable across the entire space. \n",
    "\n",
    "To address this problem, [Hamilton et al (2016b)](https://nlp.stanford.edu/pubs/hamilton2016cultural.pdf) propose a \"local\" technique:\n",
    "\n",
    "1. For word $w$ at time $t$, identify $K$-nearest neighbors $\\mathcal{N}_t(w)$\n",
    "2. Compute the vector of cosine similarities to the union of these neighbors,\n",
    "\n",
    "\\begin{align}\n",
    "\\vec{s}_t(w) = &{} [\\cos(x_{t}(w), x_t(w')) : w' \\in \\mathcal{N}_t(w) \\cup \\mathcal{N}_{t'}(w)]\\\\\n",
    "\\vec{s}_{t'}(w) = &{} [\\cos(x_{t'}(w), x_{t'}(w')) : w' \\in \\mathcal{N}_t(w) \\cup \\mathcal{N}_{t'}(w)]\\\\\n",
    "\\end{align}\n",
    "\n",
    "3. Compute the cosine distance between these two vectors, $D_{t,t'}(w) = 1 - \\cos(\\vec{s}_t(w), \\vec{s}_{t'}(w))$."
   ]
  },
  {
   "cell_type": "markdown",
   "metadata": {
    "slideshow": {
     "slide_type": "subslide"
    }
   },
   "source": [
    "Intuitively, if a word acquires a large number of new neighbors at $t'$, and these neighbors had very different embeddings from $x_t(w)$ at time $t$, then the distance will be large; if the neighbors and their similarities to $w$ are roughly the same at $t$ and $t'$, then the distance will be small. Let's compute it."
   ]
  },
  {
   "cell_type": "markdown",
   "metadata": {
    "slideshow": {
     "slide_type": "subslide"
    }
   },
   "source": [
    "#### Example"
   ]
  },
  {
   "cell_type": "code",
   "execution_count": 84,
   "metadata": {
    "slideshow": {
     "slide_type": "fragment"
    }
   },
   "outputs": [
    {
     "name": "stdout",
     "output_type": "stream",
     "text": [
      "['want', 'prefer', 'enjoy', 'rather', 'recognize']\n",
      "['familiar', 'want', 'fun', 'interest', 'alike']\n"
     ]
    }
   ],
   "source": [
    "query = 'like'\n",
    "nn_old = neighbors(query, vecs[year1], vocs[year1], K=5)\n",
    "nn_new = neighbors(query, vecs[year2], vocs[year2], K=5)\n",
    "print(nn_old)\n",
    "print(nn_new)"
   ]
  },
  {
   "cell_type": "markdown",
   "metadata": {
    "slideshow": {
     "slide_type": "subslide"
    }
   },
   "source": [
    "Now we'll construct a set of neighbors that combines these lists, omitting words that are out-of-vocabulary in either dataset."
   ]
  },
  {
   "cell_type": "code",
   "execution_count": 85,
   "metadata": {
    "slideshow": {
     "slide_type": "fragment"
    }
   },
   "outputs": [
    {
     "name": "stdout",
     "output_type": "stream",
     "text": [
      "['fun', 'rather', 'enjoy', 'interest', 'familiar', 'prefer', 'recognize', 'want']\n"
     ]
    }
   ],
   "source": [
    "neighbor_set = [word for word in set(nn_old).union(set(nn_new)) \n",
    "                if (word in vocs[year1])\n",
    "                and (word in vocs[year2])\n",
    "                and (vecs[year1][vocs[year1].index(word)].var() > 0)\n",
    "                and (vecs[year2][vocs[year2].index(word)].var() > 0)]\n",
    "print(neighbor_set)"
   ]
  },
  {
   "cell_type": "markdown",
   "metadata": {
    "slideshow": {
     "slide_type": "subslide"
    }
   },
   "source": [
    "For each of these words, we will compute the cosine similarity to the query, in each dataset. \n",
    "\n",
    "Because the vectors are guaranteed to have a unit norm, the cosine similarity is identical to the dot product."
   ]
  },
  {
   "cell_type": "code",
   "execution_count": 86,
   "metadata": {
    "slideshow": {
     "slide_type": "subslide"
    }
   },
   "outputs": [],
   "source": [
    "def get_neighbor_sims(query : str, neighbor_set : set, vec : np.ndarray, voc : list) -> np.ndarray:\n",
    "    v_self = vec[voc.index(query),]\n",
    "    v_neighbors = vec[[voc.index(neighbor) for neighbor in neighbor_set],]\n",
    "    return np.dot(v_neighbors, v_self)"
   ]
  },
  {
   "cell_type": "code",
   "execution_count": 87,
   "metadata": {
    "slideshow": {
     "slide_type": "fragment"
    }
   },
   "outputs": [
    {
     "name": "stdout",
     "output_type": "stream",
     "text": [
      "[0.28523237 0.37738514 0.3935761  0.3414647  0.23595265 0.41267604\n",
      " 0.3545059  0.47947466]\n",
      "[0.44452143 0.21122079 0.2638964  0.3877829  0.47722018 0.34024704\n",
      " 0.21144912 0.47506472]\n"
     ]
    }
   ],
   "source": [
    "sim_old = get_neighbor_sims(query,neighbor_set,vecs[year1],vocs[year1])\n",
    "sim_new = get_neighbor_sims(query,neighbor_set,vecs[year2],vocs[year2])\n",
    "print(sim_old)\n",
    "print(sim_new)"
   ]
  },
  {
   "cell_type": "markdown",
   "metadata": {
    "slideshow": {
     "slide_type": "subslide"
    }
   },
   "source": [
    "Finally, we'll measure semantic shift by the average \"distance\" between these vectors of similarities. \n",
    "\n",
    "This is a \"second order\" view of semantic change, but we will call it the *local* change, because it is based only on the local neighborhood and not the global embedding space."
   ]
  },
  {
   "cell_type": "code",
   "execution_count": 88,
   "metadata": {
    "slideshow": {
     "slide_type": "fragment"
    }
   },
   "outputs": [
    {
     "data": {
      "text/plain": [
       "0.009051777422428131"
      ]
     },
     "execution_count": 88,
     "metadata": {},
     "output_type": "execute_result"
    }
   ],
   "source": [
    "compute_cos_dist(sim_old.reshape(1,-1), sim_new.reshape(1,-1))[0] / len(neighbor_set)"
   ]
  },
  {
   "cell_type": "markdown",
   "metadata": {
    "slideshow": {
     "slide_type": "subslide"
    }
   },
   "source": [
    "We'll now make this calculation for the entire dataset. By default, we'll just load the results, but you can recompute it from this data if you have a few minutes."
   ]
  },
  {
   "cell_type": "code",
   "execution_count": 98,
   "metadata": {
    "slideshow": {
     "slide_type": "skip"
    }
   },
   "outputs": [],
   "source": [
    "recompute_embedding_shifts = True\n",
    "emb_shift_file = os.path.join('.','data','embedding-shifts.csv')"
   ]
  },
  {
   "cell_type": "code",
   "execution_count": 99,
   "metadata": {
    "slideshow": {
     "slide_type": "skip"
    }
   },
   "outputs": [
    {
     "data": {
      "application/vnd.jupyter.widget-view+json": {
       "model_id": "f94a6cd2b179455c9660fb48a9c75b10",
       "version_major": 2,
       "version_minor": 0
      },
      "text/plain": [
       "HBox(children=(IntProgress(value=0, max=5386), HTML(value='')))"
      ]
     },
     "metadata": {},
     "output_type": "display_data"
    },
    {
     "name": "stdout",
     "output_type": "stream",
     "text": [
      "\n"
     ]
    }
   ],
   "source": [
    "if recompute_embedding_shifts:\n",
    "    # this may take 5-10 minutes to execute\n",
    "    neighbor_shift = dict()\n",
    "\n",
    "    num_neighbors = 25\n",
    "\n",
    "    for word in tqdm(vocs[year2]):\n",
    "        if word in vocs[year1]:\n",
    "            nn_old = neighbors(word, vecs[year1], vocs[year1], K=num_neighbors)\n",
    "            nn_new = neighbors(word, vecs[year2], vocs[year2], K=num_neighbors)\n",
    "\n",
    "            neighbor_set = [word for word in set(nn_old).union(set(nn_new)) \n",
    "                            if (word in vocs[year1])\n",
    "                            and (word in vocs[year2])\n",
    "                            and (vecs[year1][vocs[year1].index(word)].var() > 0)\n",
    "                            and (vecs[year2][vocs[year2].index(word)].var() > 0)]\n",
    "        \n",
    "            s1 = get_neighbor_sims(word, neighbor_set, vecs[year1], vocs[year1])\n",
    "            s2 = get_neighbor_sims(word, neighbor_set, vecs[year2], vocs[year2])\n",
    "\n",
    "            dL = compute_cos_dist(s1.reshape(1,-1),s2.reshape(1,-1))[0] / len(neighbor_set)\n",
    "    \n",
    "            neighbor_shift[word] = dL\n",
    "    df_emb_shift = pd.DataFrame({'local':list(neighbor_shift.values()),\n",
    "                                 'global':[cos_dist[vocs[year2].index(word)] for word in neighbor_shift.keys()]},\n",
    "                                index=list(neighbor_shift.keys()))\n",
    "    df_emb_shift.to_csv(emb_shift_file)\n",
    "else:\n",
    "    df_emb_shift = pd.read_csv(emb_shift_file,index_col=0)"
   ]
  },
  {
   "cell_type": "markdown",
   "metadata": {
    "slideshow": {
     "slide_type": "skip"
    }
   },
   "source": [
    "Let's put the results into a dataframe."
   ]
  },
  {
   "cell_type": "code",
   "execution_count": 103,
   "metadata": {
    "slideshow": {
     "slide_type": "fragment"
    }
   },
   "outputs": [
    {
     "name": "stdout",
     "output_type": "stream",
     "text": [
      "               local    global\n",
      "gesundheit  0.095984  0.862736\n",
      "heehee      0.078015  0.879824\n",
      "amen        0.062069  0.804642\n",
      "Pikachu     0.061481  0.924485\n",
      "Marks       0.060846  0.834063\n",
      "achoo       0.059486  0.920035\n",
      "oh_my       0.059294  1.045505\n",
      "brr         0.059176  0.775173\n",
      "alrightie   0.057561  1.001947\n",
      "Brandon     0.057215  0.938485\n",
      "sweetheart  0.056756  0.758357\n",
      "sweety      0.055463  0.755832\n",
      "Grampy      0.055402  0.743111\n",
      "Ms          0.054701  0.870602\n",
      "remove      0.054662  1.043320\n",
      "eee         0.054553  0.888797\n",
      "patty       0.052364  0.805772\n",
      "Bobby       0.051925  0.963274\n",
      "Norman      0.051283  0.879699\n",
      "Christina   0.049360  0.648157\n"
     ]
    }
   ],
   "source": [
    "print(df_emb_shift.sort_values('local',ascending=False).head(20))"
   ]
  },
  {
   "cell_type": "markdown",
   "metadata": {
    "slideshow": {
     "slide_type": "subslide"
    }
   },
   "source": [
    "### Top words by \"local\" metric"
   ]
  },
  {
   "cell_type": "code",
   "execution_count": 102,
   "metadata": {
    "slideshow": {
     "slide_type": "fragment"
    }
   },
   "outputs": [
    {
     "name": "stdout",
     "output_type": "stream",
     "text": [
      "gesundheit\n",
      "Age 1 neighbors: ['bam', 'Everywhere', 'bvoom', 'Babies', 'bup', 'chrah', 'kalik']\n",
      "Age 3 neighbors: ['Corrine', 'holler', 'sceno', 'Seymore', 'Kaylow', 'Rossie', 'Adams']\n",
      "\n",
      "heehee\n",
      "Age 1 neighbors: ['doh', 'dink', 'vera', 'buh', 'Nai', 'uf', 'vutch']\n",
      "Age 3 neighbors: ['Aliah', 'Jumanji', 'Kaylow', 'Pero', 'mmpf', 'Policeman_Furgus', 'gotcha']\n",
      "\n",
      "amen\n",
      "Age 1 neighbors: ['lalight', 'woof_woof_woof_woof', 'Grampy', 'ntuu', 'dadadada', 'god_bless_you', 'vrap']\n",
      "Age 3 neighbors: ['lord', 'thy', 'daily', 'thee', 'strength', 'praise', 'saint']\n",
      "\n",
      "Pikachu\n",
      "Age 1 neighbors: ['teepee', 'zip', 'shmutz', 'Panacka', 'Gar', 'Mye', 'Corinna']\n",
      "Age 3 neighbors: ['Meaowth', 'lab', 'fabric', 'Pika', 'Felice', 'tangerine', 'plain']\n",
      "\n",
      "Marks\n",
      "Age 1 neighbors: ['Noodle', 'doing', 'Slinger', 'vutch', 'tika', 'kalik', 'nom']\n",
      "Age 3 neighbors: ['Spencers', 'Spencer', 'Connecticut', 'Spain', 'dip', 'Panama', 'barbecue']\n",
      "\n",
      "achoo\n",
      "Age 1 neighbors: ['choo', 'beaker', 'Bugs', 'chuka', 'chugga', 'weeooh', 'Baby_O']\n",
      "Age 3 neighbors: ['grizzly', 'Weist', 'Christian', 'papa', 'gigi', 'Brendan', 'nana']\n",
      "\n",
      "oh_my\n",
      "Age 1 neighbors: ['underpant', 'tit', 'begin', 'paw', 'Caillou', 'object', 'T']\n",
      "Age 3 neighbors: ['mmpf', 'Kaylow', 'dadum', 'brr', 'Thomas_The_Tank', 'Magnus', 'neato']\n",
      "\n",
      "brr\n",
      "Age 1 neighbors: ['puh', 'gal', 'hm', 'peep', 'Linda', 'dink', 'Bonny']\n",
      "Age 3 neighbors: ['Thomas_The_Tank', 'mmpf', 'oh_my', 'Corvette', 'Kaylow', 'pepperoni', 'sceno']\n",
      "\n",
      "alrightie\n",
      "Age 1 neighbors: ['shock', 'stout', 'whatchamacallit', 'burl', 'amen', 'lalight', 'Everywhere']\n",
      "Age 3 neighbors: ['Tango', 'The_great_cat_chase', 'Saskia', 'golly', 'Jon', 'Caterpillar', 'yourself']\n",
      "\n",
      "Brandon\n",
      "Age 1 neighbors: ['Ashley', 'E_I_E_I_O', 'Brycie', 'Thumbkin', 'okey_dokey', 'Hal', 'Amanda']\n",
      "Age 3 neighbors: ['apartment', 'Angelop', 'California', 'Kelly', 'monk', 'ad', 'Rachel']\n",
      "\n",
      "sweetheart\n",
      "Age 1 neighbors: ['Corinna', 'Christina', 'Hal', 'madi', 'Booboo', 'puttaputta', 'och']\n",
      "Age 3 neighbors: ['bye_bye', 'oh_gosh', 'Kaylow', 'mam', 'Clarence', 'Bess', 'Maryann']\n",
      "\n",
      "sweety\n",
      "Age 1 neighbors: ['Lil', 'Shawn', 'E_I_E_I_O', 'Ace', 'Hal', 'Kalkin', 'Laurie']\n",
      "Age 3 neighbors: ['Brodie', 'cherry', 'Paddy', 'sir', 'op', 'apple', 'Suzanne']\n",
      "\n",
      "Grampy\n",
      "Age 1 neighbors: ['amen', 'lalight', 'dadadada', 'Bugs', 'woof_woof_woof_woof', 'ntuu', 'hoo_hoo']\n",
      "Age 3 neighbors: ['gas', 'bye_bye', 'police', 'in_order_to', 'hello', 'Fireman_Bald', 'Bluey']\n",
      "\n",
      "Ms\n",
      "Age 1 neighbors: ['Kathy', 'Martin', 'Alistair', 'koosh', 'Miss', 'Bindergarten', 'boingo']\n",
      "Age 3 neighbors: ['Baby', 'Care', 'Grumpy', 'Teddy', 'Mrs', 'Adams', 'Blasingame']\n",
      "\n",
      "remove\n",
      "Age 1 neighbors: ['ummhm', 'knob', 'latch', 'Winnie_the_Pooh', 'Oompapa', 'bonk', 'accessorize']\n",
      "Age 3 neighbors: ['flat', 'bale', 'enter', 'accept', 'pout', 'compass', 'University']\n",
      "\n",
      "eee\n",
      "Age 1 neighbors: ['bra', 'neigh', 'nay', 'Clip_clop', 'zoom', 'oink_oink_oink_oink', 'chickadee']\n",
      "Age 3 neighbors: ['stereo', 'dime', 'bag', 'gutter', 'accommodation', 'scrapbook', 'basket']\n",
      "\n",
      "patty\n",
      "Age 1 neighbors: ['wack', 'whack', 'knack', 'knick', 'bone', 'patty_cake', 'chickadee']\n",
      "Age 3 neighbors: ['Oreo', 'Heidi', 'ever', 'munch', 'salmon', 'example', 'Glenfield']\n",
      "\n",
      "Bobby\n",
      "Age 1 neighbors: ['thingamajig', 'ooo', 'Tiggie', 'waah', 'abuela', 'beast', 'waa']\n",
      "Age 3 neighbors: ['Vanessa', 'Joe', 'Robert', 'Puss', 'Roland', 'Michael', 'Anthony']\n",
      "\n",
      "Norman\n",
      "Age 1 neighbors: ['Lexy', 'Corinna', 'Hat', 'Brycie', 'Dada', 'boingo', 'Hal']\n",
      "Age 3 neighbors: ['Very', 'The', 'Hungry', 'Washington', 'Grumpy', 'Caterpillar', 'italian']\n",
      "\n",
      "Christina\n",
      "Age 1 neighbors: ['Hal', 'Brandon', 'Brycie', 'E_I_E_I_O', 'Lexy', 'Amanda', 'yip']\n",
      "Age 3 neighbors: ['Wee', 'Terraine', 'Rawley', 'Bumble_Bee', 'Panama', 'reflector', 'Bethany']\n",
      "\n"
     ]
    }
   ],
   "source": [
    "for word in df_emb_shift.sort_values('local',ascending=False).head(20).index:\n",
    "    print(word)\n",
    "    print(f'Age {year1} neighbors: {neighbors(word, vecs[year1][:thresh], vocs[year1], K=7)}')\n",
    "    print(f'Age {year2} neighbors: {neighbors(word, vecs[year2][:thresh], vocs[year2], K=7)}')\n",
    "    print()"
   ]
  },
  {
   "cell_type": "markdown",
   "metadata": {
    "slideshow": {
     "slide_type": "subslide"
    }
   },
   "source": [
    "Pretty similar, but avoids a few of the false positives in `global`, such as \"00\", while weirdly including \"the\" as the top word."
   ]
  },
  {
   "cell_type": "markdown",
   "metadata": {
    "slideshow": {
     "slide_type": "slide"
    }
   },
   "source": [
    "## Extensions\n",
    "\n",
    "- Try a number of different neighborhood sizes, and test how it affects the ranking of words. Is the \"local\" method sensitive to this parameter?\n",
    "- Hamilton et al show that more common words tend to change more slowly. Can you replicate this finding using this data?\n",
    "- Using the other datafiles, try to determine the pace of change over time; do words shift their meanings more in the late 20th century?\n"
   ]
  },
  {
   "cell_type": "code",
   "execution_count": null,
   "metadata": {},
   "outputs": [],
   "source": []
  }
 ],
 "metadata": {
  "celltoolbar": "Slideshow",
  "kernelspec": {
   "display_name": "Python 3",
   "language": "python",
   "name": "python3"
  },
  "language_info": {
   "codemirror_mode": {
    "name": "ipython",
    "version": 3
   },
   "file_extension": ".py",
   "mimetype": "text/x-python",
   "name": "python",
   "nbconvert_exporter": "python",
   "pygments_lexer": "ipython3",
   "version": "3.7.1"
  }
 },
 "nbformat": 4,
 "nbformat_minor": 2
}
