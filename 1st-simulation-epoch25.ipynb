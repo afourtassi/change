{
 "cells": [
  {
   "cell_type": "markdown",
   "metadata": {
    "slideshow": {
     "slide_type": "slide"
    }
   },
   "source": [
    "# Dynamic Word Embeddings\n",
    "\n",
    "- by Jacob Eisenstein, May 2019\n",
    "- modified by Hang Jiang, Sept. 2019\n",
    "\n",
    "The previous notebook tracked how words were used by different groups over time. \n",
    "Now we'll explore how words change meaning over time, using dynamic word embeddings. The specific goals are:\n",
    "\n",
    "- Identify near-neighbors of words at various periods in time.\n",
    "- Align word embeddings over time using by solving an orthogonal Procrustes problem.\n",
    "- Rank words by semantic change from **month 0** up to **month 50**, using \"first-order\" (embedding-based) and \"second-order\" (neighbor-based) techniques."
   ]
  },
  {
   "cell_type": "markdown",
   "metadata": {
    "slideshow": {
     "slide_type": "subslide"
    }
   },
   "source": [
    "## Data acquisition\n",
    "\n",
    "Because training dynamic word embeddings is time-consuming, we'll use pretrained embeddings from [Hamilton et al](https://github.com/williamleif/histwords). As before, these embeddings are available in the [bitbucket repository](https://bitbucket.org/jacobeisenstein/language-change-tutorial-data/src/master/embeddings-over-time.tgz). \n",
    "\n",
    "1. If you have not already cloned it, please run:\n",
    "\n",
    "```\n",
    "git clone https://bitbucket.org/jacobeisenstein/language-change-tutorial-data.git\n",
    "\n",
    "```\n",
    "2. Then link or move the directory into `../data`,\n",
    "```\n",
    "cd data; ln -s ../language-change-tutorial-data/embeddings-over-time\n",
    "```\n"
   ]
  },
  {
   "cell_type": "code",
   "execution_count": 57,
   "metadata": {
    "slideshow": {
     "slide_type": "skip"
    }
   },
   "outputs": [],
   "source": [
    "import os\n",
    "from glob import glob\n",
    "import pickle\n",
    "\n",
    "import numpy as np\n",
    "import pandas as pd\n",
    "import matplotlib.pyplot as plt\n",
    "%matplotlib inline\n",
    "\n",
    "from tqdm import tqdm_notebook as tqdm # convenient progressbar"
   ]
  },
  {
   "cell_type": "markdown",
   "metadata": {
    "slideshow": {
     "slide_type": "subslide"
    }
   },
   "source": [
    "## Data loading"
   ]
  },
  {
   "cell_type": "code",
   "execution_count": 61,
   "metadata": {},
   "outputs": [
    {
     "name": "stdout",
     "output_type": "stream",
     "text": [
      "period0 ['$co$', 'you', 'the', 'be', '$name$', 'it', 'that', 'do', 'a', 'what', 'nan', 'go', 'i', 'to', 'there', 'and', 'in', 'on', 'this', 'here']\n",
      "period1 ['$co$', 'you', 'be', 'the', '$name$', 'do', 'it', 'that', 'a', 'what', 'to', 'i', 'and', 'go', 'we', 'on', 'there', 'have', 'in', 'nan']\n",
      "period2 ['$co$', 'you', 'be', 'the', 'do', 'it', '$name$', 'that', 'a', 'what', 'i', 'to', 'and', 'go', 'we', 'there', 'in', 'have', 'nan', 'on']\n",
      "period3 ['$co$', 'you', 'be', 'do', 'it', 'the', '$name$', 'that', 'a', 'i', 'what', 'to', 'and', 'go', 'we', 'have', 'there', 'in', 'on', 'nan']\n",
      "period4 ['$co$', 'you', 'be', 'do', 'the', 'it', '$name$', 'that', 'a', 'i', 'what', 'and', 'to', 'nan', 'go', 'we', 'have', 'in', 'he', 'there']\n",
      "period5 ['$co$', 'you', 'do', 'be', 'the', 'i', '$name$', 'it', 'a', 'that', 'what', 'and', 'to', 'nan', 'go', 'have', 'in', 'he', 'on', 'we']\n",
      "(3000, 100)\n",
      "[[ 1.70570239e-02  1.84719086e-01  4.41447422e-02 ... -3.92364226e-02\n",
      "   6.73281774e-02  1.59813270e-01]\n",
      " [-4.78942804e-02  2.21576057e-02 -3.30923498e-02 ... -1.90362006e-01\n",
      "   2.88293809e-02  4.18190993e-02]\n",
      " [-9.98010486e-02 -1.35696024e-01  1.10251352e-01 ...  1.21446073e-01\n",
      "   2.98190322e-02  7.78922886e-02]\n",
      " ...\n",
      " [ 1.00815974e-01 -1.98085215e-02  7.88365379e-02 ...  6.80712387e-02\n",
      "  -9.11176950e-02 -1.39179220e-02]\n",
      " [ 1.05723642e-01 -4.36737835e-02  7.69975409e-02 ... -3.13693732e-02\n",
      "  -1.76176921e-01 -8.95838905e-03]\n",
      " [ 2.05449298e-01  1.87803933e-04  1.30678654e-01 ...  1.43383339e-01\n",
      "  -1.02436788e-01 -5.32999001e-02]]\n",
      "(3000, 100)\n",
      "[[ 0.01937019  0.01395719  0.0042181  ...  0.03016262 -0.08518863\n",
      "   0.16286057]\n",
      " [-0.00586118 -0.09395775 -0.0379526  ...  0.04493333 -0.00283843\n",
      "  -0.0072131 ]\n",
      " [ 0.0626331   0.10187867 -0.02473473 ... -0.04185908  0.07218418\n",
      "   0.1161651 ]\n",
      " ...\n",
      " [ 0.20742324  0.14280987 -0.03344478 ...  0.02559715 -0.08068176\n",
      "  -0.11649889]\n",
      " [ 0.24186708  0.17456535  0.00674134 ...  0.05714563 -0.09906592\n",
      "  -0.1599835 ]\n",
      " [ 0.20114575  0.13269591 -0.02196264 ...  0.05056745 -0.08514357\n",
      "  -0.11033321]]\n",
      "(3000, 100)\n",
      "[[ 0.16713402 -0.02045995 -0.04505833 ... -0.00850395  0.1407029\n",
      "   0.12806453]\n",
      " [ 0.1013657  -0.10533771  0.05459074 ... -0.01696094  0.19110101\n",
      "   0.0803188 ]\n",
      " [ 0.2442656   0.15115637 -0.05131088 ... -0.0762004   0.1684707\n",
      "   0.01735375]\n",
      " ...\n",
      " [ 0.19129482  0.03128434  0.09792073 ...  0.01511361  0.06008808\n",
      "  -0.07500469]\n",
      " [ 0.07901618  0.07255673  0.0294407  ...  0.04731074  0.14864747\n",
      "   0.0108601 ]\n",
      " [ 0.2190759   0.00614556  0.07003098 ... -0.05868163 -0.01087912\n",
      "  -0.11675014]]\n",
      "(3000, 100)\n",
      "[[ 0.11169692 -0.0004719   0.01784503 ...  0.06379593 -0.12998489\n",
      "   0.09441679]\n",
      " [-0.06333866 -0.00082452 -0.02203027 ...  0.08620673  0.05426267\n",
      "   0.04100149]\n",
      " [ 0.08895732  0.1212483  -0.13588998 ...  0.05036785  0.02507786\n",
      "   0.13940613]\n",
      " ...\n",
      " [ 0.16758893  0.04711184  0.02957544 ...  0.09848993 -0.07012475\n",
      "  -0.05416427]\n",
      " [ 0.1394892   0.05235216  0.04131438 ...  0.06490166 -0.08017205\n",
      "  -0.04750968]\n",
      " [ 0.11120597  0.12361241 -0.02400151 ...  0.06651868 -0.00575691\n",
      "  -0.06866593]]\n",
      "(3000, 100)\n",
      "[[ 0.02349126 -0.04499138 -0.0586104  ...  0.10998531  0.12341268\n",
      "   0.02113967]\n",
      " [-0.01064866 -0.14379787 -0.16422422 ... -0.07135824  0.06111919\n",
      "  -0.08244507]\n",
      " [ 0.12925664  0.11168236 -0.17165036 ...  0.09380314  0.16602622\n",
      "   0.12274475]\n",
      " ...\n",
      " [ 0.04935078 -0.04645836 -0.08114506 ...  0.08308019  0.03799745\n",
      "  -0.00925354]\n",
      " [ 0.08497338 -0.01978242 -0.05642109 ...  0.08968135  0.00928565\n",
      "  -0.11402014]\n",
      " [ 0.03347393  0.03278441 -0.0066747  ...  0.15502343  0.01522808\n",
      "  -0.19242951]]\n",
      "(3000, 100)\n",
      "[[ 0.06992465 -0.03663397  0.0376443  ...  0.07489118  0.00032754\n",
      "  -0.07566064]\n",
      " [-0.00505384 -0.06515383  0.07232383 ...  0.08702922  0.06144961\n",
      "  -0.06053932]\n",
      " [-0.02894014  0.01480577  0.0666635  ... -0.07225755 -0.0098135\n",
      "  -0.14280842]\n",
      " ...\n",
      " [ 0.0947841   0.0471134   0.08615079 ...  0.03222295 -0.03565759\n",
      "  -0.12710863]\n",
      " [ 0.05357273  0.00363159  0.05059596 ... -0.04206114 -0.0479183\n",
      "  -0.1890346 ]\n",
      " [ 0.09828494 -0.01050736  0.00853296 ... -0.04079028  0.01809408\n",
      "  -0.12805213]]\n"
     ]
    }
   ],
   "source": [
    "from typing import List, Dict, Tuple, Sequence\n",
    "base_dir = os.path.join('/Users/hang/Desktop/2019-fall/change/','childes_data','embeddings-over-time') # make sure you expand the tar file in ../data\n",
    "dicts = pickle.load(open(\"./childes_data/embeddings-over-time/embeddings-over-time-vocabs-2M-periods-ep25.pickle\",'rb'))\n",
    "\n",
    "vocs: Dict[str, List] = {k: list(v.keys()) for k, v in dicts.items()}\n",
    "years: List[str] = list(vocs.keys())\n",
    "\n",
    "vocab_size = 3000\n",
    "\n",
    "for key, item in vocs.items():\n",
    "    print(key, item[:20])\n",
    "    vocs[key] = item[:vocab_size]\n",
    "vecs: Dict[str, List] = dict()\n",
    "\n",
    "for year, d in dicts.items():\n",
    "    year_vectors = np.array([list(d.values())]).reshape(-1, 100)[:vocab_size]\n",
    "    print(year_vectors.shape)\n",
    "    vecs[year] = year_vectors / np.linalg.norm(year_vectors, axis=-1)[:, np.newaxis]\n",
    "#     for w in vecs[year] /= norms\n",
    "    print(vecs[year])"
   ]
  },
  {
   "cell_type": "code",
   "execution_count": 62,
   "metadata": {
    "slideshow": {
     "slide_type": "fragment"
    }
   },
   "outputs": [
    {
     "data": {
      "text/plain": [
       "array([1.0000001, 0.9999999, 1.       , ..., 1.       , 1.0000001,\n",
       "       1.       ], dtype=float32)"
      ]
     },
     "execution_count": 62,
     "metadata": {},
     "output_type": "execute_result"
    }
   ],
   "source": [
    "(vecs['period1']**2).sum(1)"
   ]
  },
  {
   "cell_type": "markdown",
   "metadata": {
    "slideshow": {
     "slide_type": "fragment"
    }
   },
   "source": [
    "Vectors are initialized to have a Euclidean norm of $1$. There are different number of words per year, listed in `vocs['periodx']`."
   ]
  },
  {
   "cell_type": "markdown",
   "metadata": {
    "slideshow": {
     "slide_type": "slide"
    }
   },
   "source": [
    "# Near neighbors\n",
    "\n",
    "Let's start by computing some near neighbors. In general, this is done by computing cosine similarity between word vectors,\n",
    "\\begin{equation}\n",
    "s(\\vec{x},\\vec{y}) = \\frac{\\vec{x} \\cdot \\vec{y}}{||\\vec{x}|| \\times || \\vec{y} ||}.\n",
    "\\end{equation}\n",
    "\n",
    "However, because these embeddings have a guaranteed norm of 1, the denominator can be ignored, so we need only consider the dot product."
   ]
  },
  {
   "cell_type": "code",
   "execution_count": 63,
   "metadata": {
    "slideshow": {
     "slide_type": "skip"
    }
   },
   "outputs": [],
   "source": [
    "def neighbors(query : str,\n",
    "              embs: np.ndarray,\n",
    "              vocab: list,\n",
    "              K : int = 3) -> list:\n",
    "    sims = np.dot(embs[vocab.index(query),],embs.T)\n",
    "    output = []\n",
    "    for sim_idx in sims.argsort()[::-1][1:(1+K)]:\n",
    "        if sims[sim_idx] > 0:\n",
    "            output.append(vocab[sim_idx])\n",
    "    return output"
   ]
  },
  {
   "cell_type": "code",
   "execution_count": 70,
   "metadata": {
    "slideshow": {
     "slide_type": "skip"
    }
   },
   "outputs": [],
   "source": [
    "# a convenience function to compute the nearest neighbors per year\n",
    "def neighbors_per_year(query: str, K=10) -> dict:\n",
    "    nns = dict()\n",
    "    for year, embs in vecs.items():\n",
    "        nns[year] = neighbors(query, embs, vocs[year], K=K)\n",
    "    return nns"
   ]
  },
  {
   "cell_type": "markdown",
   "metadata": {
    "slideshow": {
     "slide_type": "subslide"
    }
   },
   "source": [
    "## Examples"
   ]
  },
  {
   "cell_type": "code",
   "execution_count": 71,
   "metadata": {
    "slideshow": {
     "slide_type": "fragment"
    }
   },
   "outputs": [
    {
     "name": "stdout",
     "output_type": "stream",
     "text": [
      "period0 ['pussy', 'kitty', 'meow', 'whisker', 'tiger', 'tomcat', 'miaw', 'fox', 'parrot', 'diddle']\n",
      "period1 ['pussy', 'ginger', 'kitty', 'tabby', 'attack', 'fight', 'fiddle', 'dog', 'puppy', 'purr']\n",
      "period2 ['pussy', 'ginger', 'puss', 'kitty', 'ale', 'meow', 'deaf', 'hiss', 'dog', 'fiddle']\n",
      "period3 ['pussy', 'ginger', 'kitty', 'ale', 'magpie', 'tabby', 'calf', 'beer', 'hello', 'snot']\n",
      "period4 ['pussy', 'kitty', 'dog', 'snip', 'kitten', 'run', 'fox', 'chase', 'alley', 'quick']\n",
      "period5 ['kitty', 'pussy', 'chase', 'snip', 'snap', 'mouse', 'dog', 'crocodile', 'fox', 'alley']\n"
     ]
    }
   ],
   "source": [
    "for year, nn_list in neighbors_per_year('cat').items():\n",
    "    print(year, nn_list)"
   ]
  },
  {
   "cell_type": "code",
   "execution_count": 72,
   "metadata": {
    "slideshow": {
     "slide_type": "fragment"
    }
   },
   "outputs": [
    {
     "name": "stdout",
     "output_type": "stream",
     "text": [
      "period0 ['puppy', 'woof_woof', 'woof', 'growl', 'bark', 'wack', 'bone', 'hedgehog', 'patty', 'whack']\n",
      "period1 ['puppy', 'kitty', 'rabbit', 'bunny', 'baby', 'goat', 'monkey', 'polar', 'mouse', 'cub']\n",
      "period2 ['beluga', 'lion', 'collie', 'elephant', 'poodle', 'baby', 'pony', 'puppy', 'kitty', 'foal']\n",
      "period3 ['budgie', 'turtle', 'pony', 'hers', 'malt', 'kitty', 'bow_wow', 'family', 'calf', 'bark']\n",
      "period4 ['puppy', 'cat', 'kitty', 'woof', 'tiger', 'lion', 'momma', 'cow', 'pussy', 'sheep']\n",
      "period5 ['kitty', 'frog', 'cow', 'crocodile', 'chase', 'kitten', 'mouse', 'cat', 'kangaroo', 'tale']\n"
     ]
    }
   ],
   "source": [
    "for year, nn_list in neighbors_per_year('dog').items():\n",
    "    print(year, nn_list)"
   ]
  },
  {
   "cell_type": "code",
   "execution_count": 74,
   "metadata": {
    "slideshow": {
     "slide_type": "fragment"
    }
   },
   "outputs": [
    {
     "name": "stdout",
     "output_type": "stream",
     "text": [
      "period0 ['temper', 'shy', 'annoy', 'smart', 'mood', 'luck', 'upset', 'confuse', 'obvious', 'blame']\n",
      "period1 ['indeed', 'temper', 'strange', 'impress', 'definite', 'wise', 'important', 'mood', 'appreciate', 'success']\n",
      "period2 ['toothache', 'shy', 'thirst', 'sad', 'luck', 'slim', 'rude', 'fuss', 'horrid', 'terrible']\n",
      "period3 ['indeed', 'horrid', 'clever', 'excite', 'brave', 'yawn', 'rough', 'temper', 'luck', 'growl']\n",
      "period4 ['mood', 'nightmare', 'manner', 'likely', 'dread', 'speech', 'temper', 'indeed', 'rude', 'crank']\n",
      "period5 ['deaf', 'terrible', 'lone', 'polite', 'pleasant', 'snore', 'hysteric', 'horrible', 'stubborn', 'fortunate']\n"
     ]
    }
   ],
   "source": [
    "for year, nn_list in neighbors_per_year('bad').items():\n",
    "    print(year, nn_list)"
   ]
  },
  {
   "cell_type": "code",
   "execution_count": 16,
   "metadata": {},
   "outputs": [
    {
     "name": "stdout",
     "output_type": "stream",
     "text": [
      "period0 ['shh', 'bull', 'hamster', 'pussy', 'wee']\n",
      "period1 ['maybe', 'unless', 'expect', 'dada', 'gonna']\n",
      "period2 ['burp', 'tease', 'forget', 'pretend', 'gramma']\n",
      "period3 ['child', 'kid', 'ballet', 'fantastic', 'family']\n",
      "period4 ['ad', 'parent', 'blame', 'family', 'invite']\n",
      "period5 ['gift', 'joke', 'trick', 'recipe', 'monster']\n"
     ]
    }
   ],
   "source": [
    "for year, nn_list in neighbors_per_year('pet').items():\n",
    "    print(year, nn_list)"
   ]
  },
  {
   "cell_type": "code",
   "execution_count": 17,
   "metadata": {},
   "outputs": [
    {
     "name": "stdout",
     "output_type": "stream",
     "text": [
      "period0 ['police', 'motor', 'bicycle', 'tanker', 'tow', 'drive', 'trailer', 'garage', 'bike', 'van']\n",
      "period1 ['race', 'police', 'drive', 'taxi', 'ambulance', 'truck', 'freight', 'carriage', 'jeep', 'seat']\n",
      "period2 ['police', 'race', 'ambulance', 'motor', 'engine', 'taxi', 'tractor', 'breakdown', 'drive', 'reverse']\n",
      "period3 ['race', 'ambulance', 'garage', 'police', 'taxi', 'tractor', 'wheel', 'drive', 'motorcycle', 'trailer']\n",
      "period4 ['drive', 'motorcycle', 'wagon', 'petrol', 'passenger', 'garage', 'reverse', 'steer', 'wheel', 'transport']\n",
      "period5 ['transport', 'garage', 'police', 'race', 'ramp', 'train', 'trailer', 'repair', 'ambulance', 'track']\n"
     ]
    }
   ],
   "source": [
    "for year, nn_list in neighbors_per_year('car', K=10).items():\n",
    "    print(year, nn_list)"
   ]
  },
  {
   "cell_type": "code",
   "execution_count": 18,
   "metadata": {},
   "outputs": [
    {
     "name": "stdout",
     "output_type": "stream",
     "text": [
      "period0 ['cradle', 'chair', 'shovel', 'forth', 'hop', 'tight', 'cuddle', 'comfy', 'onto', 'pillow']\n",
      "period1 ['beside', 'slide', 'sit', 'lie', 'chair', 'calm', 'settee', 'settle', 'tortoise', 'jump']\n",
      "period2 ['sea', 'ship', 'ski', 'float', 'beside', 'pirate', 'mountain', 'ocean', 'tumble', 'cradle']\n",
      "period3 ['cradle', 'hill', 'creep', 'ocean', 'river', 'land', 'tumble', 'lake', 'stream', 'branch']\n",
      "period4 ['swing', 'chair', 'cot', 'pram', 'hum', 'indian', 'castle', 'seesaw', 'each_other', 'stare']\n",
      "period5 ['pole', 'waterfall', 'soldier', 'thunder', 'bulldoze', 'crash', 'swing', 'boom', 'crystal', 'wooden']\n"
     ]
    }
   ],
   "source": [
    "for year, nn_list in neighbors_per_year('rock', K=10).items():\n",
    "    print(year, nn_list)"
   ]
  },
  {
   "cell_type": "markdown",
   "metadata": {
    "slideshow": {
     "slide_type": "subslide"
    }
   },
   "source": [
    "### Exercise \n",
    "\n",
    "Try to find an example with as many similar neighbors as possible in age 1 and age 3; try to find another example as few similar neighbors as possible."
   ]
  },
  {
   "cell_type": "markdown",
   "metadata": {
    "slideshow": {
     "slide_type": "skip"
    }
   },
   "source": [
    "# Linking embedding over time\n",
    "\n",
    "The first task is simple to align words across vocabularies. We will do this by building a sparse permutation matrix."
   ]
  },
  {
   "cell_type": "code",
   "execution_count": 19,
   "metadata": {
    "slideshow": {
     "slide_type": "skip"
    }
   },
   "outputs": [],
   "source": [
    "import scipy.sparse as sparse"
   ]
  },
  {
   "cell_type": "code",
   "execution_count": 20,
   "metadata": {},
   "outputs": [
    {
     "data": {
      "text/plain": [
       "array([0.00999464, 0.00996268, 0.00997946, ..., 0.00999978, 0.00998808,\n",
       "       0.0099993 ], dtype=float32)"
      ]
     },
     "execution_count": 20,
     "metadata": {},
     "output_type": "execute_result"
    }
   ],
   "source": [
    "vecs['period0'].var(1)"
   ]
  },
  {
   "cell_type": "code",
   "execution_count": 21,
   "metadata": {
    "slideshow": {
     "slide_type": "skip"
    }
   },
   "outputs": [],
   "source": [
    "def build_alignment(year1 : int, year2 : int) -> sparse.csr_matrix:\n",
    "    # given two years (keys into vecs and vocs)\n",
    "    # compute a sparse matrix M representing the permutation of word indices from the year1 vecs to the year2 vecs  \n",
    "    # then the rows of v1 will be aligned with the rows of M v2 \n",
    "    \n",
    "    all_var1 = vecs[year1].var(1)\n",
    "    all_var2 = vecs[year2].var(1)\n",
    "\n",
    "    rows = []\n",
    "    cols = []\n",
    "\n",
    "    ivoc2 = {j:i for i,j in enumerate(vocs[year2])}\n",
    "\n",
    "    for widx1,word in enumerate(vocs[year1]):\n",
    "        if all_var1[widx1] != 0 and word in vocs[year2]:\n",
    "            widx2 = ivoc2[word]\n",
    "            if all_var2[widx2] != 0:\n",
    "                rows.append(widx1)\n",
    "                cols.append(widx2)\n",
    "\n",
    "    align = sparse.csr_matrix(([1]*len(rows),(rows,cols)),shape=[len(vocs[year1]),len(vocs[year2])])\n",
    "    return align"
   ]
  },
  {
   "cell_type": "code",
   "execution_count": 22,
   "metadata": {
    "slideshow": {
     "slide_type": "skip"
    }
   },
   "outputs": [],
   "source": [
    "# for the rest of the notebook, we'll focus on the contrast between age 1 and age 3\n",
    "year1 = 'period0'\n",
    "year2 = 'period5'"
   ]
  },
  {
   "cell_type": "code",
   "execution_count": 23,
   "metadata": {
    "slideshow": {
     "slide_type": "skip"
    }
   },
   "outputs": [],
   "source": [
    "align = build_alignment(year2, year1)"
   ]
  },
  {
   "cell_type": "code",
   "execution_count": 24,
   "metadata": {
    "slideshow": {
     "slide_type": "skip"
    }
   },
   "outputs": [
    {
     "data": {
      "text/plain": [
       "<1999x1999 sparse matrix of type '<class 'numpy.int64'>'\n",
       "\twith 1612 stored elements in Compressed Sparse Row format>"
      ]
     },
     "execution_count": 24,
     "metadata": {},
     "output_type": "execute_result"
    }
   ],
   "source": [
    "align"
   ]
  },
  {
   "cell_type": "code",
   "execution_count": 25,
   "metadata": {
    "slideshow": {
     "slide_type": "skip"
    }
   },
   "outputs": [],
   "source": [
    "vecs_aligned = align.dot(vecs[year1])"
   ]
  },
  {
   "cell_type": "markdown",
   "metadata": {
    "slideshow": {
     "slide_type": "skip"
    }
   },
   "source": [
    "To validate, let's check that words in `vecs_aligned` have roughly the same near-neighbors as in `vecs[year2]`."
   ]
  },
  {
   "cell_type": "code",
   "execution_count": 26,
   "metadata": {
    "slideshow": {
     "slide_type": "skip"
    }
   },
   "outputs": [
    {
     "name": "stdout",
     "output_type": "stream",
     "text": [
      "car\n",
      "period0 ['police', 'motor', 'bicycle', 'tow', 'drive', 'trailer', 'garage']\n",
      "period5 ['transport', 'garage', 'police', 'race', 'ramp', 'train', 'trailer'] \n",
      "\n",
      "bottle\n",
      "period0 ['milk', 'drink', 'pitcher', 'cocoa', 'cup', 'coffee', 'pour']\n",
      "period5 ['snip', 'snap', 'quick', 'corner', 'between', 'all_gone', 'alley'] \n",
      "\n",
      "dog\n",
      "period0 ['puppy', 'bone', 'woof', 'puppet', 'tiger', 'hedgehog', 'kitty']\n",
      "period5 ['chase', 'cow', 'mouse', 'pussy', 'kitten', 'bark', 'kitty'] \n",
      "\n",
      "love\n",
      "period0 ['princess', 'hon', 'papa', 'flavor', 'call', 'tease', 'true']\n",
      "period5 ['karate', 'hate', 'turkey', 'enjoy', 'clever', 'burger', 'cook'] \n",
      "\n"
     ]
    }
   ],
   "source": [
    "for query in ['car','bottle','dog','love']:\n",
    "    print(query)\n",
    "    print(year1, neighbors(query, vecs_aligned, vocs[year2], K=7))\n",
    "    print(year2, neighbors(query, vecs[year2], vocs[year2], K=7),'\\n')"
   ]
  },
  {
   "cell_type": "raw",
   "metadata": {
    "slideshow": {
     "slide_type": "skip"
    }
   },
   "source": [
    "\n",
    "Remember that our goal is to find words whose meanings have changed between `year1` and `year2`. Be careful: we cannot directly compare `vecs[year1]` to `vecs[year2]` because the word embeddings are not aligned. To solve this, we will search for the best orthogonal projection."
   ]
  },
  {
   "cell_type": "markdown",
   "metadata": {
    "slideshow": {
     "slide_type": "skip"
    }
   },
   "source": [
    "## Procrustes\n",
    "\n",
    "$\\newcommand{\\transpose}[1]{#1^{\\top}}$\n",
    "\n",
    "The orthogonal Procrustes problem for matrices $A$ and $B$ is to find an orthogonal projection matrix $\\Omega$ that minimizes the norm of the difference between $\\Omega A$ and $B$:\n",
    "\n",
    "\\begin{equation}\n",
    "\\min_{\\Omega} ||\\Omega A - B ||_F,\n",
    "\\end{equation}\n",
    "s.t. $\\transpose{\\Omega} \\Omega = \\mathbb{I}$, where $A, B \\in \\mathbb{R}^{K \\times V}$ are matrices of $K$-dimensional embeddings, and $\\Omega$ is therefore an orthonormal $K \\times K$ projection matrix. The norm $||M||_F = \\left(\\sum_i \\sum_j m_{i,j}^2\\right)^{1/2}$. \n",
    "\n",
    "The solution to the orthogonal Procrustes problem is obtained by performing singular value decomposition on the product,\n",
    "\n",
    "\\begin{align}\n",
    "U \\Sigma \\transpose{V} = &{} \\text{SVD}(B\\transpose{A})\\\\\n",
    "\\Omega = &{} U \\transpose{V}.\n",
    "\\end{align}\n"
   ]
  },
  {
   "cell_type": "markdown",
   "metadata": {
    "slideshow": {
     "slide_type": "subslide"
    }
   },
   "source": [
    "## Procrustes"
   ]
  },
  {
   "cell_type": "code",
   "execution_count": 27,
   "metadata": {
    "slideshow": {
     "slide_type": "fragment"
    }
   },
   "outputs": [],
   "source": [
    "def procrustes(A, B):\n",
    "    U, _, Vt = np.linalg.svd(B.dot(A.T))\n",
    "    return U.dot(Vt)"
   ]
  },
  {
   "cell_type": "markdown",
   "metadata": {
    "slideshow": {
     "slide_type": "subslide"
    }
   },
   "source": [
    "### Synthetic data"
   ]
  },
  {
   "cell_type": "code",
   "execution_count": 28,
   "metadata": {
    "slideshow": {
     "slide_type": "fragment"
    }
   },
   "outputs": [
    {
     "name": "stdout",
     "output_type": "stream",
     "text": [
      "Norm without projection:\t317.213\n",
      "Norm with projection:\t30.751\n"
     ]
    }
   ],
   "source": [
    "# randomly generate an orthogonal projection\n",
    "P1,_,_ = np.linalg.svd(np.random.randn(100,30))\n",
    "A = np.random.randn(100,1000)\n",
    "B = P1.dot(A) + 0.1 * np.random.randn(100,1000)\n",
    "\n",
    "print(f'Norm without projection:\\t{np.linalg.norm(B - A):0.3f}')\n",
    "print(f'Norm with projection:\\t{np.linalg.norm(B - procrustes(A,B).dot(A)):0.3f}')"
   ]
  },
  {
   "cell_type": "code",
   "execution_count": 29,
   "metadata": {
    "slideshow": {
     "slide_type": "subslide"
    }
   },
   "outputs": [
    {
     "data": {
      "image/png": "[encoded data removed]",
      "text/plain": [
       "<Figure size 576x216 with 2 Axes>"
      ]
     },
     "metadata": {
      "needs_background": "light"
     },
     "output_type": "display_data"
    }
   ],
   "source": [
    "fig, (ax1,ax2) = plt.subplots(1,2,figsize=[8,3])\n",
    "ax1.scatter(A[:,45],B[:,45])\n",
    "ax1.set_title(\"Without projection\")\n",
    "ax2.scatter(procrustes(A,B).dot(A[:,45]),B[:,45]);\n",
    "ax2.set_title('With projection');"
   ]
  },
  {
   "cell_type": "markdown",
   "metadata": {
    "slideshow": {
     "slide_type": "fragment"
    }
   },
   "source": [
    "**Exercise**: evaluate the projection quality while varying the amount of noise in $B$."
   ]
  },
  {
   "cell_type": "markdown",
   "metadata": {
    "slideshow": {
     "slide_type": "subslide"
    }
   },
   "source": [
    "## Application to word vectors\n",
    "\n",
    "Let $A \\in \\mathbb{R}^{K \\times V}$ be the matrix of aligned word vectors, with words on the columns, and let $B \\in \\mathbb{R}^{K \\times V}$ be an analogous matrix of word vectors at an alternative time. Then we solve the orthogonal Procrustes problem to obtain the projection $\\Omega$."
   ]
  },
  {
   "cell_type": "code",
   "execution_count": 30,
   "metadata": {
    "slideshow": {
     "slide_type": "fragment"
    }
   },
   "outputs": [],
   "source": [
    "Omega = procrustes(vecs_aligned.T, vecs[year2].T)\n",
    "vecs_projected = Omega.dot(vecs_aligned.T).T"
   ]
  },
  {
   "cell_type": "code",
   "execution_count": 31,
   "metadata": {},
   "outputs": [
    {
     "name": "stdout",
     "output_type": "stream",
     "text": [
      "1999\n"
     ]
    }
   ],
   "source": [
    "length_of_vocab = min(vecs[year1].shape[0], vecs[year2].shape[0])\n",
    "print(length_of_vocab)"
   ]
  },
  {
   "cell_type": "code",
   "execution_count": 32,
   "metadata": {
    "slideshow": {
     "slide_type": "fragment"
    }
   },
   "outputs": [
    {
     "name": "stdout",
     "output_type": "stream",
     "text": [
      "pre-alignment:  58.64331\n",
      "pre-projection:  50.8261297650552\n",
      "after projection:  37.68498278258876\n"
     ]
    }
   ],
   "source": [
    "print('pre-alignment: ',np.linalg.norm(vecs[year2] - vecs[year1]))\n",
    "print('pre-projection: ',np.linalg.norm(vecs[year2] - vecs_aligned))\n",
    "print('after projection: ',np.linalg.norm(vecs[year2] - vecs_projected))"
   ]
  },
  {
   "cell_type": "code",
   "execution_count": 33,
   "metadata": {
    "slideshow": {
     "slide_type": "subslide"
    }
   },
   "outputs": [
    {
     "data": {
      "image/png": "[encoded data removed]",
      "text/plain": [
       "<Figure size 576x216 with 2 Axes>"
      ]
     },
     "metadata": {
      "needs_background": "light"
     },
     "output_type": "display_data"
    }
   ],
   "source": [
    "fig, (ax1,ax2) = plt.subplots(1,2,figsize=[8,3])\n",
    "\n",
    "query = 'dog'\n",
    "vec2_no_project = vecs_aligned[vocs[year2].index(query),]\n",
    "vec2_projected = vecs_projected[vocs[year2].index(query),]\n",
    "vec1_query = vecs[year2][vocs[year2].index(query),]\n",
    "\n",
    "ax1.scatter(vec1_query, vec2_no_project)\n",
    "ax1.set_title(\"Without projection\")\n",
    "\n",
    "ax2.scatter(vec1_query, vec2_projected)\n",
    "ax2.set_title('With projection');"
   ]
  },
  {
   "cell_type": "markdown",
   "metadata": {
    "slideshow": {
     "slide_type": "fragment"
    }
   },
   "source": [
    "After projection the alignment is closer, but still far from perfect."
   ]
  },
  {
   "cell_type": "markdown",
   "metadata": {
    "slideshow": {
     "slide_type": "slide"
    }
   },
   "source": [
    "## Measuring semantic change by embedding norms\n",
    "\n",
    "After projection, we can search for words with large changes in meaning by evaluating the \"cosine distance\" between the projected embedding in $t_1$ and the embedding in $t_2$."
   ]
  },
  {
   "cell_type": "code",
   "execution_count": 34,
   "metadata": {
    "slideshow": {
     "slide_type": "fragment"
    }
   },
   "outputs": [],
   "source": [
    "def compute_cos_dist(vec1 : np.array, vec2 : np.array) -> np.array:    \n",
    "    numerator = (vec1 * vec2).sum(1)\n",
    "    denominator = np.sqrt((vec1**2).sum(1)) * np.sqrt((vec2**2).sum(1))\n",
    "    cos_dist = 1 - numerator / (1e-5 + denominator)\n",
    "\n",
    "    # eliminate words that are zeroed out\n",
    "    return cos_dist * (vec1.var(1) > 0) * (vec2.var(1) > 0)"
   ]
  },
  {
   "cell_type": "code",
   "execution_count": 35,
   "metadata": {
    "slideshow": {
     "slide_type": "fragment"
    }
   },
   "outputs": [],
   "source": [
    "cos_dist = compute_cos_dist(vecs[year2], vecs_projected)"
   ]
  },
  {
   "cell_type": "markdown",
   "metadata": {
    "slideshow": {
     "slide_type": "subslide"
    }
   },
   "source": [
    "### Top words by global metric\n",
    "\n",
    "Now let's print the words with the biggest changes from period 1 to Age 3. \n",
    "\n",
    "The embeddings for rare words are a little weird, so let's focus on the 10K most frequent."
   ]
  },
  {
   "cell_type": "code",
   "execution_count": 37,
   "metadata": {
    "slideshow": {
     "slide_type": "subslide"
    }
   },
   "outputs": [
    {
     "name": "stdout",
     "output_type": "stream",
     "text": [
      "bore\t(ranks=995,1149)\tdist=0.74\n",
      "period0 neighbors: ['stage', 'plan', 'age', 'mood', 'upset', 'exciting', 'week']\n",
      "period5 neighbors: ['picnic', 'owl', 'nightmare', 'bear', 'nobody', 'baby', 'great']\n",
      "\n",
      "wee\t(ranks=326,374)\tdist=0.73\n",
      "period0 neighbors: ['beef', 'roast', 'toilet', 'market', 'pet', 'pig', 'f']\n",
      "period5 neighbors: ['mama', 'papa', 'size', 'neither', 'grey', 'dear', 'shot']\n",
      "\n",
      "stamp\t(ranks=1220,949)\tdist=0.72\n",
      "period0 neighbors: ['kick', 'crash', 'bang', 'hammer', 'twelve', 'seventeen', 'nineteen']\n",
      "period5 neighbors: ['ink', 'signal', 'post', 'sew', 'newspaper', 'machine', 'receive']\n",
      "\n",
      "mister\t(ranks=985,792)\tdist=0.72\n",
      "period0 neighbors: ['woof', 'puppy', 'meow', 'pet', 'bark', 'naughty', 'puppet']\n",
      "period5 neighbors: ['address', 'math', 'ready', 'yet', 'tomorrow', 'yoyo', 'saturday']\n",
      "\n",
      "swallow\t(ranks=1008,1359)\tdist=0.72\n",
      "period0 neighbors: ['chew', 'ignore', 'behave', 'honest', 'act', 'scream', 'secret']\n",
      "period5 neighbors: ['spider', 'wiggle', 'yawn', 'wing', 'whisker', 'dare', 'rabbit']\n",
      "\n",
      "mamma\t(ranks=1936,1845)\tdist=0.70\n",
      "period0 neighbors: ['papa', 'exercise', 'anybody', 'mama', 'radio', 'afraid', 'whisper']\n",
      "period5 neighbors: ['bead', 'sip', 'lasagna', 'pretzel', 'coffee', 'lemon', 'pasta']\n",
      "\n",
      "super\t(ranks=973,1636)\tdist=0.70\n",
      "period0 neighbors: ['mud', 'ghost', 'roast', 'sport', 'brilliant', 'little', 'squishy']\n",
      "period5 neighbors: ['true', 'hum', 'accident', 'terrific', 'neat', 'saw', 'fun']\n",
      "\n",
      "base\t(ranks=1964,1578)\tdist=0.69\n",
      "period0 neighbors: ['third', 'second', 'first', 'pound', 'run', 'dollar', 'plate']\n",
      "period5 neighbors: ['buffer', 'rectangle', 'binocular', 'breakdown', 'magnet', 'island', 'triangle']\n",
      "\n",
      "everyday\t(ranks=1338,1120)\tdist=0.69\n",
      "period0 neighbors: ['everywhere', 'puppy', 'born', 'baby', 'cuddle', 'tight', 'sweater']\n",
      "period5 neighbors: ['welcome', 'practice', 'wednesday', 'news', 'lunch', 'continue', 'tonight']\n",
      "\n",
      "extra\t(ranks=928,1747)\tdist=0.68\n",
      "period0 neighbors: ['vitamin', 'brilliant', 'flour', 'dessert', 'also', 'n', 'y']\n",
      "period5 neighbors: ['pump', 'material', 'package', 'slot', 'hose', 'stock', 'supply']\n",
      "\n",
      "pat\t(ranks=1367,658)\tdist=0.68\n",
      "period0 neighbors: ['bunny', 'rabbit', 'hop', 'dance', 'hug', 'momma', 'lamb']\n",
      "period5 neighbors: ['pitter', 'sesame', 'garden', 'pit', 'beef', 'lettuce', 'onion']\n",
      "\n",
      "loose\t(ranks=1333,1645)\tdist=0.67\n",
      "period0 neighbors: ['q', 's', 'v', 'r', 'u', 'x', 'l']\n",
      "period5 neighbors: ['tight', 'rip', 'crack', 'gentle', 'squeeze', 'tangle', 'sleeve']\n",
      "\n",
      "alligator\t(ranks=1713,975)\tdist=0.66\n",
      "period0 neighbors: ['clip', 'aunt', 'worm', 'apple', 'ant', 'hoop', 'fox']\n",
      "period5 neighbors: ['pool', 'kangaroo', 'cage', 'golf', 'wreck', 'escape', 'swim']\n",
      "\n",
      "space\t(ranks=533,1052)\tdist=0.65\n",
      "period0 neighbors: ['shoot', 'spider', 'dish', 'web', 'tap', 'machine', 'relax']\n",
      "period5 neighbors: ['helmet', 'boot', 'mat', 'drain', 'rocket', 'board', 'pair']\n",
      "\n",
      "broom\t(ranks=1084,1053)\tdist=0.65\n",
      "period0 neighbors: ['sweep', 'mop', 'machine', 'rubbish', 'closet', 'shelf', 'suitcase']\n",
      "period5 neighbors: ['shout', 'hop', 'whistle', 'kick', 'begin', 'breath', 'tear']\n",
      "\n",
      "beat\t(ranks=868,1172)\tdist=0.65\n",
      "period0 neighbors: ['spade', 'bucket', 'chest', 'beep', 'block', 'top', 'f']\n",
      "period5 neighbors: ['cuddle', 'tease', 'mention', 'kiss', 'karate', 'bleed', 'clue']\n",
      "\n",
      "soldier\t(ranks=1846,1316)\tdist=0.64\n",
      "period0 neighbors: ['four', 'plus', 'pound', 'forty', 'zero', 'three', 'seven']\n",
      "period5 neighbors: ['drum', 'pole', 'pilot', 'whale', 'grace', 'hedgehog', 'pram']\n",
      "\n",
      "best\t(ranks=1596,1879)\tdist=0.64\n",
      "period0 neighbors: ['rule', 'flavor', 'dessert', 'clue', 'vitamin', 'brilliant', 'family']\n",
      "period5 neighbors: ['unhuh', 'crystal', 'drag', 'each_other', 'terrific', 'tick', 'donkey']\n",
      "\n",
      "son\t(ranks=972,1167)\tdist=0.64\n",
      "period0 neighbors: ['excellent', 'spoil', 'act', 'steady', 'share', 'brilliant', 'treat']\n",
      "period5 neighbors: ['prince', 'daughter', 'father', 'crown', 'fault', 'handsome', 'aunt']\n",
      "\n",
      "squishy\t(ranks=1678,1656)\tdist=0.63\n",
      "period0 neighbors: ['squish', 'mud', 'squash', 'super', 'squeeze', 'terrific', 'connect']\n",
      "period5 neighbors: ['web', 'pillow', 'seal', 'dare', 'itch', 'spider', 'rule']\n",
      "\n",
      "measure\t(ranks=1456,1165)\tdist=0.63\n",
      "period0 neighbors: ['scissors', 'drill', 'glue', 'tape', 'use', 'pair', 'pen']\n",
      "period5 neighbors: ['weight', 'weigh', 'inch', 'pound', 'split', 'purse', 'sixteen']\n",
      "\n",
      "spider\t(ranks=924,519)\tdist=0.63\n",
      "period0 neighbors: ['shoot', 'web', 'rain', 'space', 'sun', 'jelly', 'answer']\n",
      "period5 neighbors: ['wing', 'wiggle', 'web', 'swallow', 'whisker', 'feather', 'fluff']\n",
      "\n",
      "moon\t(ranks=371,474)\tdist=0.63\n",
      "period0 neighbors: ['sky', 'cloud', 'lamp', 'thunder', 'sun', 'jump', 'evening']\n",
      "period5 neighbors: ['rooster', 'land', 'rocket', 'lay', 'cloud', 'star', 'space']\n",
      "\n",
      "alphabet\t(ranks=1486,1162)\tdist=0.63\n",
      "period0 neighbors: ['type', 'soup', 'pizza', 'noodle', 'restaurant', 'spaghetti', 'cook']\n",
      "period5 neighbors: ['z', 'f', 'g', 'x', 'c', 'y', 'spell']\n",
      "\n",
      "everywhere\t(ranks=1177,730)\tdist=0.63\n",
      "period0 neighbors: ['everyday', 'woof', 'oink', 'puppy', 'meow', 'feed', 'baby']\n",
      "period5 neighbors: ['spray', 'ground', 'squirt', 'air', 'fresh', 'maam', 'daisy']\n",
      "\n",
      "point\t(ranks=578,696)\tdist=0.62\n",
      "period0 neighbors: ['decide', 'follow', 'happen', 'learn', 'erase', 'possible', 'amaze']\n",
      "period5 neighbors: ['ceiling', 'clap', 'lap', 'chest', 'floor', 'everyone', 'finger']\n",
      "\n",
      "cricket\t(ranks=1810,932)\tdist=0.62\n",
      "period0 neighbors: ['answer', 'angel', 'chick', 'explain', 'spray', 'princess', 'welcome']\n",
      "period5 neighbors: ['hut', 'sunshine', 'hedgehog', 'spider', 'guitar', 'ant', 'jungle']\n",
      "\n",
      "stretch\t(ranks=997,1203)\tdist=0.61\n",
      "period0 neighbors: ['yawn', 'poke', 'fellow', 'pain', 'thick', 'loop', 'bow']\n",
      "period5 neighbors: ['bend', 'rope', 'ladder', 'twist', 'underneath', 'roof', 'pile']\n",
      "\n",
      "tag\t(ranks=1843,1478)\tdist=0.61\n",
      "period0 neighbors: ['k', 'q', 'loop', 'n', 'g', 'u', 'x']\n",
      "period5 neighbors: ['teddy', 'pack', 'journey', 'guard', 'suitcase', 'babe', 'as_well']\n",
      "\n",
      "found\t(ranks=1340,1145)\tdist=0.61\n",
      "period0 neighbors: ['contain', 'steal', 'plastic', 'bring', 'as_well', 'underneath', 'beaker']\n",
      "period5 neighbors: ['odd', 'only', 'sixteen', 'coin', 'pound', 'inch', 'eighteen']\n",
      "\n",
      "cube\t(ranks=1511,1138)\tdist=0.61\n",
      "period0 neighbors: ['cream', 'ice', 'cone', 'fridge', 'contain', 'traffic', 'sugar']\n",
      "period5 neighbors: ['sugar', 'seed', 'bush', 'flower', 'sprinkle', 'spice', 'vanilla']\n",
      "\n",
      "drill\t(ranks=1940,1183)\tdist=0.60\n",
      "period0 neighbors: ['mend', 'fix', 'measure', 'scissors', 'punch', 'cord', 'hammer']\n",
      "period5 neighbors: ['honk', 'cocoon', 'hut', 'pony', 'hedgehog', 'binocular', 'whereabouts']\n",
      "\n",
      "calendar\t(ranks=1915,1396)\tdist=0.60\n",
      "period0 neighbors: ['change', 'diaper', 'skirt', 'glue', 'burp', 'downstairs', 'video']\n",
      "period5 neighbors: ['nineteen', 'fifth', 'sixty', 'seventy', 'third', 'seventeen', 'eighty']\n",
      "\n",
      "roar\t(ranks=1160,839)\tdist=0.60\n",
      "period0 neighbors: ['terrible', 'lion', 'wild', 'scare', 'owl', 'nasty', 'hamster']\n",
      "period5 neighbors: ['passenger', 'wave', 'airplane', 'cloud', 'pilot', 'honk', 'plane']\n",
      "\n",
      "helmet\t(ranks=590,1591)\tdist=0.60\n",
      "period0 neighbors: ['lace', 'crown', 'chain', 'glass', 'nasty', 'ash', 'pirate']\n",
      "period5 neighbors: ['space', 'drain', 'rocket', 'boot', 'drip', 'mat', 'dive']\n",
      "\n",
      "pumpkin\t(ranks=1149,572)\tdist=0.60\n",
      "period0 neighbors: ['sport', 'fool', 'ma', 'guy', 'pain', 'lamb', 'cute']\n",
      "period5 neighbors: ['pie', 'macaroni', 'cake', 'cherry', 'doughnut', 'yogurt', 'peach']\n",
      "\n",
      "regular\t(ranks=1384,1496)\tdist=0.60\n",
      "period0 neighbors: ['spoil', 'soup', 'exciting', 'chance', 'dessert', 'steak', 'true']\n",
      "period5 neighbors: ['prefer', 'triangle', 'pen', 'attach', 'erase', 'jam', 'instead']\n",
      "\n",
      "punch\t(ranks=1014,1970)\tdist=0.60\n",
      "period0 neighbors: ['spank', 'reach', 'grab', 'so_that', 'screen', 'stupid', 'further']\n",
      "period5 neighbors: ['cigarette', 'hole', 'nibble', 'cocoon', 'pill', 'pack', 'package']\n",
      "\n",
      "drum\t(ranks=1533,802)\tdist=0.60\n",
      "period0 neighbors: ['hum', 'thumb', 'bang', 'hammer', 'guitar', 'piano', 'boom']\n",
      "period5 neighbors: ['soldier', 'guitar', 'pram', 'airplane', 'pilot', 'doll', 'whale']\n",
      "\n",
      "sneak\t(ranks=1429,1913)\tdist=0.60\n",
      "period0 neighbors: ['daisy', 'fifty', 'ship', 'zero', 'forty', 'dollar', 'plus']\n",
      "period5 neighbors: ['accident', 'dare', 'afraid', 'swallow', 'helicopter', 'chase', 'as_if']\n",
      "\n",
      "loop\t(ranks=1661,1732)\tdist=0.59\n",
      "period0 neighbors: ['q', 'tag', 'loose', 'f', 's', 'k', 'u']\n",
      "period5 neighbors: ['spread', 'crush', 'grate', 'magnet', 'icing', 'crust', 'glue']\n",
      "\n",
      "steady\t(ranks=1518,1110)\tdist=0.59\n",
      "period0 neighbors: ['upset', 'practice', 'ignore', 'obvious', 'honest', 'act', 'shy']\n",
      "period5 neighbors: ['amaze', 'bark', 'robot', 'breakdown', 'meow', 'zebra', 'ooh']\n",
      "\n",
      "crack\t(ranks=1324,1192)\tdist=0.59\n",
      "period0 neighbors: ['corn', 'nut', 'care', 'nuts', 'seed', 'jack', 'proud']\n",
      "period5 neighbors: ['loose', 'crystal', 'swing', 'beaker', 'claw', 'edge', 'repair']\n",
      "\n",
      "jack\t(ranks=1657,1616)\tdist=0.59\n",
      "period0 neighbors: ['mustard', 'banana', 'oven', 'cheese', 'pizza', 'bread', 'fridge']\n",
      "period5 neighbors: ['rug', 'funnel', 'crystal', 'squish', 'calm', 'whiz', 'strap']\n",
      "\n",
      "rescue\t(ranks=1029,1777)\tdist=0.59\n",
      "period0 neighbors: ['string', 'gum', 'drop', 'broke', 'lace', 'pair', 'hold']\n",
      "period5 neighbors: ['hero', 'parade', 'dad', 'super', 'camp', 'mom', 'tell']\n",
      "\n",
      "straw\t(ranks=950,837)\tdist=0.59\n",
      "period0 neighbors: ['past', 'beaker', 'basket', 'packet', 'quarter', 'heart', 'seven']\n",
      "period5 neighbors: ['tinsel', 'spade', 'cart', 'pocket', 'sponge', 'monster', 'shovel']\n",
      "\n",
      "skip\t(ranks=1326,1004)\tdist=0.59\n",
      "period0 neighbors: ['nine', 'rope', 'thirteen', 'eight', 'eleven', 'fifty', 'ten']\n",
      "period5 neighbors: ['lorry', 'breakdown', 'buffer', 'reverse', 'trailer', 'transport', 'dump']\n",
      "\n",
      "team\t(ranks=1895,1824)\tdist=0.59\n",
      "period0 neighbors: ['parade', 'bulldoze', 'ambulance', 'church', 'shed', 'plane', 'city']\n",
      "period5 neighbors: ['cheat', 'how_come', 'someday', 'aunt', 'baseball', 'teach', 'prize']\n",
      "\n",
      "lobster\t(ranks=1483,1731)\tdist=0.59\n",
      "period0 neighbors: ['pinch', 'scarf', 'shirt', 'crown', 'glove', 'ear', 'trouser']\n",
      "period5 neighbors: ['fish', 'trap', 'monster', 'jungle', 'water', 'spade', 'hippopotamus']\n",
      "\n",
      "wood\t(ranks=795,944)\tdist=0.58\n",
      "period0 neighbors: ['saw', 'cut', 'measure', 'strange', 'huge', 'grass', 'hammer']\n",
      "period5 neighbors: ['gather', 'cottage', 'log', 'waterfall', 'forest', 'jungle', 'decorate']\n",
      "\n"
     ]
    }
   ],
   "source": [
    "thresh = 3000\n",
    "for idx in cos_dist[:thresh].argsort()[::-1][:50]:\n",
    "    word = vocs[year2][idx]\n",
    "    print(f'{word}\\t(ranks={idx},{vocs[year1].index(word)})\\tdist={cos_dist[idx]:.2f}')\n",
    "    print(f'{year1} neighbors: {neighbors(word, vecs_projected, vocs[year2], K=7)}')\n",
    "    print(f'{year2} neighbors: {neighbors(word, vecs[year2], vocs[year2], K=7)}\\n')"
   ]
  },
  {
   "cell_type": "markdown",
   "metadata": {
    "slideshow": {
     "slide_type": "subslide"
    }
   },
   "source": [
    "Better! A few preprocessing effects (\"00\" and \"addison\"), but most of these changes are interpretable as emerging word senses (\"aids\", \"peer\", \"approaches\", \"facility\", \"film\", and \"resource\")."
   ]
  },
  {
   "cell_type": "markdown",
   "metadata": {
    "slideshow": {
     "slide_type": "slide"
    }
   },
   "source": [
    "## Measuring semantic change by near neighbors\n",
    "\n",
    "A concern with comparing word embeddings directly is that different parts of the embedding space may have different densities, so that cosine distances are not comparable across the entire space. \n",
    "\n",
    "To address this problem, [Hamilton et al (2016b)](https://nlp.stanford.edu/pubs/hamilton2016cultural.pdf) propose a \"local\" technique:\n",
    "\n",
    "1. For word $w$ at time $t$, identify $K$-nearest neighbors $\\mathcal{N}_t(w)$\n",
    "2. Compute the vector of cosine similarities to the union of these neighbors,\n",
    "\n",
    "\\begin{align}\n",
    "\\vec{s}_t(w) = &{} [\\cos(x_{t}(w), x_t(w')) : w' \\in \\mathcal{N}_t(w) \\cup \\mathcal{N}_{t'}(w)]\\\\\n",
    "\\vec{s}_{t'}(w) = &{} [\\cos(x_{t'}(w), x_{t'}(w')) : w' \\in \\mathcal{N}_t(w) \\cup \\mathcal{N}_{t'}(w)]\\\\\n",
    "\\end{align}\n",
    "\n",
    "3. Compute the cosine distance between these two vectors, $D_{t,t'}(w) = 1 - \\cos(\\vec{s}_t(w), \\vec{s}_{t'}(w))$."
   ]
  },
  {
   "cell_type": "markdown",
   "metadata": {
    "slideshow": {
     "slide_type": "subslide"
    }
   },
   "source": [
    "Intuitively, if a word acquires a large number of new neighbors at $t'$, and these neighbors had very different embeddings from $x_t(w)$ at time $t$, then the distance will be large; if the neighbors and their similarities to $w$ are roughly the same at $t$ and $t'$, then the distance will be small. Let's compute it."
   ]
  },
  {
   "cell_type": "markdown",
   "metadata": {
    "slideshow": {
     "slide_type": "subslide"
    }
   },
   "source": [
    "#### Example"
   ]
  },
  {
   "cell_type": "code",
   "execution_count": 38,
   "metadata": {
    "slideshow": {
     "slide_type": "fragment"
    }
   },
   "outputs": [
    {
     "name": "stdout",
     "output_type": "stream",
     "text": [
      "['or', 'pretend', 'dale', 'recognize', 'will']\n",
      "['at', 'ooh', 'want', 'make', 'look']\n"
     ]
    }
   ],
   "source": [
    "query = 'like'\n",
    "nn_old = neighbors(query, vecs[year1], vocs[year1], K=5)\n",
    "nn_new = neighbors(query, vecs[year2], vocs[year2], K=5)\n",
    "print(nn_old)\n",
    "print(nn_new)"
   ]
  },
  {
   "cell_type": "markdown",
   "metadata": {
    "slideshow": {
     "slide_type": "subslide"
    }
   },
   "source": [
    "Now we'll construct a set of neighbors that combines these lists, omitting words that are out-of-vocabulary in either dataset."
   ]
  },
  {
   "cell_type": "code",
   "execution_count": 39,
   "metadata": {
    "slideshow": {
     "slide_type": "fragment"
    }
   },
   "outputs": [
    {
     "name": "stdout",
     "output_type": "stream",
     "text": [
      "['ooh', 'or', 'recognize', 'will', 'at', 'look', 'make', 'want', 'pretend']\n"
     ]
    }
   ],
   "source": [
    "neighbor_set = [word for word in set(nn_old).union(set(nn_new)) \n",
    "                if (word in vocs[year1])\n",
    "                and (word in vocs[year2])\n",
    "                and (vecs[year1][vocs[year1].index(word)].var() > 0)\n",
    "                and (vecs[year2][vocs[year2].index(word)].var() > 0)]\n",
    "print(neighbor_set)"
   ]
  },
  {
   "cell_type": "markdown",
   "metadata": {
    "slideshow": {
     "slide_type": "subslide"
    }
   },
   "source": [
    "For each of these words, we will compute the cosine similarity to the query, in each dataset. \n",
    "\n",
    "Because the vectors are guaranteed to have a unit norm, the cosine similarity is identical to the dot product."
   ]
  },
  {
   "cell_type": "code",
   "execution_count": 40,
   "metadata": {
    "slideshow": {
     "slide_type": "subslide"
    }
   },
   "outputs": [],
   "source": [
    "def get_neighbor_sims(query : str, neighbor_set : set, vec : np.ndarray, voc : list) -> np.ndarray:\n",
    "    v_self = vec[voc.index(query),]\n",
    "    v_neighbors = vec[[voc.index(neighbor) for neighbor in neighbor_set],]\n",
    "    return np.dot(v_neighbors, v_self)"
   ]
  },
  {
   "cell_type": "code",
   "execution_count": 41,
   "metadata": {
    "slideshow": {
     "slide_type": "fragment"
    }
   },
   "outputs": [
    {
     "name": "stdout",
     "output_type": "stream",
     "text": [
      "[0.21627015 0.5718192  0.5432074  0.5376844  0.5112723  0.35016173\n",
      " 0.4204939  0.5138787  0.5640697 ]\n",
      "[0.5843117  0.5371616  0.24860653 0.45426005 0.5973334  0.5624321\n",
      " 0.5712714  0.5748096  0.5069436 ]\n"
     ]
    }
   ],
   "source": [
    "sim_old = get_neighbor_sims(query,neighbor_set,vecs[year1],vocs[year1])\n",
    "sim_new = get_neighbor_sims(query,neighbor_set,vecs[year2],vocs[year2])\n",
    "print(sim_old)\n",
    "print(sim_new)"
   ]
  },
  {
   "cell_type": "markdown",
   "metadata": {
    "slideshow": {
     "slide_type": "subslide"
    }
   },
   "source": [
    "Finally, we'll measure semantic shift by the average \"distance\" between these vectors of similarities. \n",
    "\n",
    "This is a \"second order\" view of semantic change, but we will call it the *local* change, because it is based only on the local neighborhood and not the global embedding space."
   ]
  },
  {
   "cell_type": "code",
   "execution_count": 42,
   "metadata": {
    "slideshow": {
     "slide_type": "fragment"
    }
   },
   "outputs": [
    {
     "data": {
      "text/plain": [
       "0.007208857271406386"
      ]
     },
     "execution_count": 42,
     "metadata": {},
     "output_type": "execute_result"
    }
   ],
   "source": [
    "compute_cos_dist(sim_old.reshape(1,-1), sim_new.reshape(1,-1))[0] / len(neighbor_set)"
   ]
  },
  {
   "cell_type": "markdown",
   "metadata": {
    "slideshow": {
     "slide_type": "subslide"
    }
   },
   "source": [
    "We'll now make this calculation for the entire dataset. By default, we'll just load the results, but you can recompute it from this data if you have a few minutes."
   ]
  },
  {
   "cell_type": "code",
   "execution_count": 43,
   "metadata": {
    "slideshow": {
     "slide_type": "skip"
    }
   },
   "outputs": [],
   "source": [
    "recompute_embedding_shifts = True\n",
    "emb_shift_file = os.path.join('.','data','embedding-shifts.csv')"
   ]
  },
  {
   "cell_type": "code",
   "execution_count": 44,
   "metadata": {
    "slideshow": {
     "slide_type": "skip"
    }
   },
   "outputs": [
    {
     "data": {
      "application/vnd.jupyter.widget-view+json": {
       "model_id": "1c71992fa81c493a8c5ec1ae2213ae6a",
       "version_major": 2,
       "version_minor": 0
      },
      "text/plain": [
       "HBox(children=(IntProgress(value=0, max=1999), HTML(value='')))"
      ]
     },
     "metadata": {},
     "output_type": "display_data"
    },
    {
     "name": "stdout",
     "output_type": "stream",
     "text": [
      "\n"
     ]
    }
   ],
   "source": [
    "if recompute_embedding_shifts:\n",
    "    # this may take 5-10 minutes to execute\n",
    "    neighbor_shift = dict()\n",
    "\n",
    "    num_neighbors = 25\n",
    "\n",
    "    for word in tqdm(vocs[year2]):\n",
    "        if word in vocs[year1]:\n",
    "            nn_old = neighbors(word, vecs[year1], vocs[year1], K=num_neighbors)\n",
    "            nn_new = neighbors(word, vecs[year2], vocs[year2], K=num_neighbors)\n",
    "\n",
    "            neighbor_set = [word for word in set(nn_old).union(set(nn_new)) \n",
    "                            if (word in vocs[year1])\n",
    "                            and (word in vocs[year2])\n",
    "                            and (vecs[year1][vocs[year1].index(word)].var() > 0)\n",
    "                            and (vecs[year2][vocs[year2].index(word)].var() > 0)]\n",
    "        \n",
    "            s1 = get_neighbor_sims(word, neighbor_set, vecs[year1], vocs[year1])\n",
    "            s2 = get_neighbor_sims(word, neighbor_set, vecs[year2], vocs[year2])\n",
    "\n",
    "            dL = compute_cos_dist(s1.reshape(1,-1),s2.reshape(1,-1))[0] / len(neighbor_set)\n",
    "    \n",
    "            neighbor_shift[word] = dL\n",
    "    df_emb_shift = pd.DataFrame({'local':list(neighbor_shift.values()),\n",
    "                                 'global':[cos_dist[vocs[year2].index(word)] for word in neighbor_shift.keys()]},\n",
    "                                index=list(neighbor_shift.keys()))\n",
    "    df_emb_shift.to_csv(emb_shift_file)\n",
    "else:\n",
    "    df_emb_shift = pd.read_csv(emb_shift_file,index_col=0)"
   ]
  },
  {
   "cell_type": "markdown",
   "metadata": {
    "slideshow": {
     "slide_type": "skip"
    }
   },
   "source": [
    "Let's put the results into a dataframe."
   ]
  },
  {
   "cell_type": "code",
   "execution_count": 45,
   "metadata": {
    "slideshow": {
     "slide_type": "fragment"
    }
   },
   "outputs": [
    {
     "name": "stdout",
     "output_type": "stream",
     "text": [
      "               local    global\n",
      "bore        0.005596  0.737627\n",
      "wee         0.009175  0.733890\n",
      "stamp       0.006564  0.724358\n",
      "mister      0.010647  0.724045\n",
      "swallow     0.007499  0.720511\n",
      "mamma       0.011074  0.702368\n",
      "super       0.005397  0.695199\n",
      "base        0.006541  0.691645\n",
      "everyday    0.008177  0.686159\n",
      "extra       0.007123  0.683847\n",
      "pat         0.010544  0.682078\n",
      "loose       0.010760  0.668405\n",
      "alligator   0.006651  0.663546\n",
      "space       0.006591  0.654946\n",
      "broom       0.005738  0.649553\n",
      "beat        0.009232  0.648674\n",
      "soldier     0.009401  0.642302\n",
      "best        0.010489  0.642186\n",
      "son         0.005272  0.635741\n",
      "squishy     0.006153  0.633758\n",
      "measure     0.009318  0.632821\n",
      "spider      0.007790  0.630846\n",
      "moon        0.004952  0.627707\n",
      "alphabet    0.005813  0.625691\n",
      "everywhere  0.008011  0.625082\n",
      "point       0.006233  0.621600\n",
      "cricket     0.004826  0.618443\n",
      "stretch     0.005988  0.613954\n",
      "tag         0.006665  0.610440\n",
      "found       0.006301  0.608984\n",
      "cube        0.004066  0.605304\n",
      "drill       0.009253  0.604532\n",
      "calendar    0.007689  0.603634\n",
      "roar        0.004857  0.602719\n",
      "helmet      0.005054  0.599353\n",
      "pumpkin     0.008111  0.597555\n",
      "regular     0.006048  0.597230\n",
      "punch       0.006210  0.596809\n",
      "drum        0.006511  0.596690\n",
      "sneak       0.009393  0.596438\n",
      "loop        0.009997  0.594684\n",
      "steady      0.006056  0.594172\n",
      "crack       0.006001  0.593894\n",
      "jack        0.006952  0.592361\n",
      "rescue      0.006448  0.590819\n",
      "straw       0.005253  0.589963\n",
      "skip        0.010654  0.589435\n",
      "team        0.007306  0.589136\n",
      "lobster     0.008109  0.586814\n",
      "wood        0.005213  0.581753\n"
     ]
    }
   ],
   "source": [
    "print(df_emb_shift.sort_values('global',ascending=False)[0:50])"
   ]
  },
  {
   "cell_type": "markdown",
   "metadata": {
    "slideshow": {
     "slide_type": "subslide"
    }
   },
   "source": [
    "### Top words by \"local\" metric"
   ]
  },
  {
   "cell_type": "code",
   "execution_count": 46,
   "metadata": {
    "slideshow": {
     "slide_type": "fragment"
    }
   },
   "outputs": [
    {
     "name": "stdout",
     "output_type": "stream",
     "text": [
      "nan\n",
      "Age period0 neighbors: ['pie', 'steady', 'son', 'ready', 'excellent', 'delicious', 'smell']\n",
      "Age period5 neighbors: ['mistake', 'good', 'cookie', 'curl', 'let', 'regular', 'tooth']\n",
      "\n",
      "mamma\n",
      "Age period0 neighbors: ['papa', 'la_dee_da_dee_dum', 'dada', 'exercise', 'hi', 'anybody', 'dadadada']\n",
      "Age period5 neighbors: ['bead', 'sip', 'lasagna', 'pretzel', 'coffee', 'lemon', 'pasta']\n",
      "\n",
      "loose\n",
      "Age period0 neighbors: ['q', 's', 'v', 'r', 'u', 'x', 'l']\n",
      "Age period5 neighbors: ['tight', 'rip', 'crack', 'gentle', 'squeeze', 'tangle', 'sleeve']\n",
      "\n",
      "skip\n",
      "Age period0 neighbors: ['loo', 'nana', 'nine', 'rope', 'leopard', 'thirteen', 'eight']\n",
      "Age period5 neighbors: ['lorry', 'breakdown', 'buffer', 'reverse', 'trailer', 'transport', 'dump']\n",
      "\n",
      "mister\n",
      "Age period0 neighbors: ['woof', 'growl', 'woof_woof', 'puppy', 'meow', 'mwuh', 'pet']\n",
      "Age period5 neighbors: ['address', 'math', 'ready', 'yet', 'tomorrow', 'yoyo', 'saturday']\n",
      "\n",
      "pat\n",
      "Age period0 neighbors: ['furry', 'bunny', 'rabbit', 'baba', 'hop', 'muah', 'dance']\n",
      "Age period5 neighbors: ['pitter', 'sesame', 'garden', 'pit', 'beef', 'lettuce', 'onion']\n",
      "\n",
      "best\n",
      "Age period0 neighbors: ['rule', 'flavor', 'dessert', 'clue', 'vitamin', 'choc_choc', 'brilliant']\n",
      "Age period5 neighbors: ['unhuh', 'crystal', 'drag', 'each_other', 'terrific', 'tick', 'donkey']\n",
      "\n",
      "loop\n",
      "Age period0 neighbors: ['q', 'tag', 'gah', 'loose', 'f', 's', 'k']\n",
      "Age period5 neighbors: ['spread', 'crush', 'grate', 'magnet', 'icing', 'crust', 'glue']\n",
      "\n",
      "squirt\n",
      "Age period0 neighbors: ['grocer', 'list', 'add', 'err', 'aguh', 'flour', 'unicorn']\n",
      "Age period5 neighbors: ['spray', 'crush', 'spread', 'scrape', 'beaker', 'throw', 'spit']\n",
      "\n",
      "soldier\n",
      "Age period0 neighbors: ['badge', 'four', 'plus', 'pound', 'forty', 'zero', 'three']\n",
      "Age period5 neighbors: ['drum', 'pole', 'pilot', 'whale', 'grace', 'hedgehog', 'pram']\n",
      "\n",
      "sneak\n",
      "Age period0 neighbors: ['daisy', 'fifty', 'ship', 'zero', 'forty', 'dollar', 'plus']\n",
      "Age period5 neighbors: ['accident', 'dare', 'afraid', 'swallow', 'helicopter', 'chase', 'as_if']\n",
      "\n",
      "measure\n",
      "Age period0 neighbors: ['pliers', 'scissors', 'wrench', 'drill', 'glue', 'tape', 'use']\n",
      "Age period5 neighbors: ['weight', 'weigh', 'inch', 'pound', 'split', 'purse', 'sixteen']\n",
      "\n",
      "balloon\n",
      "Age period0 neighbors: ['rhino', 'grey', 'purple', 'yellow', 'diamond', 'square', 'triangle']\n",
      "Age period5 neighbors: ['breath', 'stream', 'reindeer', 'window', 'sweep', 'crystal', 'sky']\n",
      "\n",
      "drill\n",
      "Age period0 neighbors: ['pliers', 'prod', 'mend', 'wrench', 'fix', 'measure', 'bootie']\n",
      "Age period5 neighbors: ['honk', 'cocoon', 'hut', 'pony', 'hedgehog', 'binocular', 'whereabouts']\n",
      "\n",
      "beat\n",
      "Age period0 neighbors: ['spade', 'bucket', 'armadillo', 'coconut', 'chest', 'faucet', 'beep']\n",
      "Age period5 neighbors: ['cuddle', 'tease', 'mention', 'kiss', 'karate', 'bleed', 'clue']\n",
      "\n",
      "wee\n",
      "Age period0 neighbors: ['poo', 'scribble', 'beef', 'roast', 'toilet', 'shh', 'crank']\n",
      "Age period5 neighbors: ['mama', 'papa', 'size', 'neither', 'grey', 'dear', 'shot']\n",
      "\n",
      "trade\n",
      "Age period0 neighbors: ['ninight', 'nono', 'share', 'fetch', 'puttaputta', 'tidy', 'finish']\n",
      "Age period5 neighbors: ['sort_of', 'whereabouts', 'shit', 'hamster', 'woman', 'folk', 'prince']\n",
      "\n",
      "add\n",
      "Age period0 neighbors: ['list', 'g', 'letter', 'd', 'sentence', 'squirt', 'o']\n",
      "Age period5 neighbors: ['bead', 'sell', 'fill', 'package', 'stack', 'stock', 'pay']\n",
      "\n",
      "seal\n",
      "Age period0 neighbors: ['aquarium', 'walrus', 'river', 'fish', 'sea', 'peacock', 'ocean']\n",
      "Age period5 neighbors: ['terrific', 'dare', 'nervous', 'shit', 'disgust', 'drag', 'maam']\n",
      "\n",
      "all_gone\n",
      "Age period0 neighbors: ['grape', 'soup', 'mustard', 'pudding', 'juice', 'cheerio', 'jug']\n",
      "Age period5 neighbors: ['snip', 'snap', 'alley', 'jump', 'quick', 'corner', 'sir']\n",
      "\n"
     ]
    }
   ],
   "source": [
    "for word in df_emb_shift.sort_values('local',ascending=False).head(20).index:\n",
    "    print(word)\n",
    "    print(f'Age {year1} neighbors: {neighbors(word, vecs[year1][:thresh], vocs[year1], K=7)}')\n",
    "    print(f'Age {year2} neighbors: {neighbors(word, vecs[year2][:thresh], vocs[year2], K=7)}')\n",
    "    print()"
   ]
  },
  {
   "cell_type": "markdown",
   "metadata": {
    "slideshow": {
     "slide_type": "subslide"
    }
   },
   "source": [
    "Pretty similar, but avoids a few of the false positives in `global`, such as \"00\", while weirdly including \"the\" as the top word."
   ]
  },
  {
   "cell_type": "markdown",
   "metadata": {
    "slideshow": {
     "slide_type": "slide"
    }
   },
   "source": [
    "## Extensions\n",
    "\n",
    "- Try a number of different neighborhood sizes, and test how it affects the ranking of words. Is the \"local\" method sensitive to this parameter?\n",
    "- Hamilton et al show that more common words tend to change more slowly. Can you replicate this finding using this data?\n",
    "- Using the other datafiles, try to determine the pace of change over time; do words shift their meanings more in the late 20th century?\n"
   ]
  },
  {
   "cell_type": "code",
   "execution_count": null,
   "metadata": {},
   "outputs": [],
   "source": []
  }
 ],
 "metadata": {
  "celltoolbar": "Slideshow",
  "kernelspec": {
   "display_name": "Python 3",
   "language": "python",
   "name": "python3"
  },
  "language_info": {
   "codemirror_mode": {
    "name": "ipython",
    "version": 3
   },
   "file_extension": ".py",
   "mimetype": "text/x-python",
   "name": "python",
   "nbconvert_exporter": "python",
   "pygments_lexer": "ipython3",
   "version": "3.7.1"
  }
 },
 "nbformat": 4,
 "nbformat_minor": 2
}
