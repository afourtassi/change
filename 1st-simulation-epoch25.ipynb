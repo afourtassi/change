{
 "cells": [
  {
   "cell_type": "markdown",
   "metadata": {
    "slideshow": {
     "slide_type": "slide"
    }
   },
   "source": [
    "# Dynamic Word Embeddings\n",
    "\n",
    "- by Jacob Eisenstein, May 2019\n",
    "- modified by Hang Jiang, Sept. 2019\n",
    "\n",
    "The previous notebook tracked how words were used by different groups over time. \n",
    "Now we'll explore how words change meaning over time, using dynamic word embeddings. The specific goals are:\n",
    "\n",
    "- Identify near-neighbors of words at various periods in time.\n",
    "- Align word embeddings over time using by solving an orthogonal Procrustes problem.\n",
    "- Rank words by semantic change from **month 0** up to **month 150**, using \"first-order\" (embedding-based) and \"second-order\" (neighbor-based) techniques."
   ]
  },
  {
   "cell_type": "markdown",
   "metadata": {
    "slideshow": {
     "slide_type": "subslide"
    }
   },
   "source": [
    "## Data acquisition\n",
    "\n",
    "Because training dynamic word embeddings is time-consuming, we'll use pretrained embeddings from [Hamilton et al](https://github.com/williamleif/histwords). As before, these embeddings are available in the [bitbucket repository](https://bitbucket.org/jacobeisenstein/language-change-tutorial-data/src/master/embeddings-over-time.tgz). \n",
    "\n",
    "1. If you have not already cloned it, please run:\n",
    "\n",
    "```\n",
    "git clone https://bitbucket.org/jacobeisenstein/language-change-tutorial-data.git\n",
    "\n",
    "```\n",
    "2. Then link or move the directory into `../data`,\n",
    "```\n",
    "cd data; ln -s ../language-change-tutorial-data/embeddings-over-time\n",
    "```\n"
   ]
  },
  {
   "cell_type": "code",
   "execution_count": 120,
   "metadata": {
    "slideshow": {
     "slide_type": "skip"
    }
   },
   "outputs": [],
   "source": [
    "import os\n",
    "from glob import glob\n",
    "import pickle\n",
    "\n",
    "import numpy as np\n",
    "import pandas as pd\n",
    "import matplotlib.pyplot as plt\n",
    "%matplotlib inline\n",
    "\n",
    "from tqdm import tqdm_notebook as tqdm # convenient progressbar"
   ]
  },
  {
   "cell_type": "markdown",
   "metadata": {
    "slideshow": {
     "slide_type": "subslide"
    }
   },
   "source": [
    "## Data loading"
   ]
  },
  {
   "cell_type": "code",
   "execution_count": 121,
   "metadata": {},
   "outputs": [
    {
     "name": "stdout",
     "output_type": "stream",
     "text": [
      "['period0', 'period1', 'period2', 'period3', 'period4', 'period5']\n",
      "(2662, 100)\n",
      "[[ 0.04031252  0.12391522 -0.00838513 ...  0.0073246   0.04394653\n",
      "   0.07775123]\n",
      " [ 0.1854032  -0.00947755 -0.04683093 ... -0.16417694 -0.07496882\n",
      "   0.12103134]\n",
      " [ 0.03610849 -0.023326    0.1123713  ...  0.06291743 -0.01884242\n",
      "  -0.03323869]\n",
      " ...\n",
      " [-0.0557193  -0.0252513  -0.11802776 ...  0.00914456  0.16225444\n",
      "   0.01667796]\n",
      " [-0.18002635 -0.0777037  -0.06183426 ... -0.0128285   0.04742398\n",
      "   0.01553201]\n",
      " [-0.07417334 -0.11161935  0.09106312 ... -0.03915298 -0.00328853\n",
      "   0.15589091]]\n",
      "(2484, 100)\n",
      "[[ 0.2923229  -0.01412524  0.02553187 ... -0.06839094  0.08293968\n",
      "   0.07340698]\n",
      " [ 0.04107376 -0.07024388  0.0884217  ...  0.03422014  0.0436063\n",
      "  -0.1064541 ]\n",
      " [ 0.19370662 -0.08265848 -0.09100997 ...  0.0321347  -0.13517644\n",
      "   0.07812317]\n",
      " ...\n",
      " [ 0.16294509 -0.11718042 -0.02849193 ... -0.23720695  0.01638437\n",
      "  -0.04235231]\n",
      " [ 0.06684092 -0.00391202 -0.00467921 ...  0.0675976   0.04857971\n",
      "  -0.04988471]\n",
      " [ 0.02900297 -0.19032691 -0.07331053 ...  0.01941924  0.07188723\n",
      "  -0.0968283 ]]\n",
      "(2635, 100)\n",
      "[[ 0.00565155 -0.08797447  0.04641295 ...  0.02259162  0.01347743\n",
      "   0.09914606]\n",
      " [-0.08231271  0.08092814  0.09965023 ... -0.06990179  0.07878087\n",
      "  -0.10722593]\n",
      " [ 0.11769091 -0.09100091  0.02896884 ... -0.03927136 -0.13624665\n",
      "   0.00166576]\n",
      " ...\n",
      " [ 0.19101553 -0.10363322 -0.02361491 ...  0.1144162  -0.03855016\n",
      "  -0.05872086]\n",
      " [-0.03576906 -0.10053565  0.08580551 ... -0.0448202  -0.02928556\n",
      "  -0.00904886]\n",
      " [ 0.04128165  0.17992115 -0.07983716 ...  0.147584    0.05943014\n",
      "   0.05916005]]\n",
      "(2624, 100)\n",
      "[[ 0.21251105 -0.17716625  0.03208743 ...  0.16082247  0.03771808\n",
      "  -0.14325371]\n",
      " [-0.06526639 -0.16777343  0.02494479 ... -0.17690775 -0.00496959\n",
      "  -0.02410616]\n",
      " [ 0.12354704 -0.07345065 -0.04460678 ...  0.02602581  0.00264212\n",
      "  -0.10184909]\n",
      " ...\n",
      " [-0.19501032  0.09530861 -0.06879711 ...  0.12117863  0.02971734\n",
      "   0.01991913]\n",
      " [-0.01707402  0.14770839 -0.02302123 ... -0.05674243 -0.01881266\n",
      "   0.01792196]\n",
      " [-0.12540263  0.15357636 -0.10945454 ... -0.05744156  0.0015831\n",
      "  -0.15637569]]\n",
      "(2622, 100)\n",
      "[[ 0.14562756 -0.10444944  0.08324225 ... -0.00473802 -0.01219996\n",
      "  -0.08439058]\n",
      " [ 0.10422978 -0.00346871  0.13703577 ... -0.12005728  0.00925856\n",
      "  -0.04933663]\n",
      " [ 0.14069189  0.0578042   0.02669681 ...  0.12314479 -0.14548665\n",
      "  -0.13859011]\n",
      " ...\n",
      " [-0.06770968 -0.01586473 -0.00030961 ... -0.12052903  0.14925931\n",
      "  -0.0393864 ]\n",
      " [ 0.05004328 -0.03716191  0.04715374 ...  0.06358911 -0.00182699\n",
      "   0.03029104]\n",
      " [-0.17214622 -0.02648679  0.05081072 ... -0.03971456 -0.07458762\n",
      "   0.08217978]]\n",
      "(2668, 100)\n",
      "[[ 0.06969085 -0.16116206  0.03759113 ... -0.11616775  0.16119067\n",
      "   0.14075397]\n",
      " [ 0.06737211  0.05915225 -0.03011783 ...  0.0792699  -0.03141121\n",
      "   0.11555718]\n",
      " [ 0.06521382 -0.02209255  0.19148114 ... -0.02442742 -0.1351047\n",
      "  -0.1354028 ]\n",
      " ...\n",
      " [ 0.2728996   0.09869774 -0.02689658 ... -0.0416554   0.11666074\n",
      "  -0.0466418 ]\n",
      " [ 0.2639047  -0.06909177 -0.01758995 ... -0.0179667   0.12282206\n",
      "   0.0752139 ]\n",
      " [-0.01181523  0.02859291  0.183758   ... -0.12094769 -0.00045752\n",
      "   0.02579225]]\n"
     ]
    }
   ],
   "source": [
    "from typing import List, Dict, Tuple, Sequence\n",
    "base_dir = os.path.join('/Users/hang/Desktop/2019-fall/change/','childes_data','embeddings-over-time') # make sure you expand the tar file in ../data\n",
    "dicts = pickle.load(open(\"./childes_data/embeddings-over-time/embeddings-over-time-vocabs-2M-periods.pickle\",'rb'))\n",
    "\n",
    "vocs: Dict[str, List] = {k: list(v.keys()) for k, v in dicts.items()}\n",
    "years: List[str] = list(vocs.keys())\n",
    "print(years)\n",
    "# print(vocs)\n",
    "vecs: Dict[str, List] = dict()\n",
    "    \n",
    "# 0 ./childes_data/adult_utterances_age_corpus_48_60 .csv\n",
    "# 1 ./childes_data/adult_utterances_age_corpus_0_12.csv\n",
    "# 2 ./childes_data/adult_utterances_age_corpus_36_48 .csv\n",
    "# 3 ./childes_data/adult_utterances_age_corpus _12_24 .csv\n",
    "\n",
    "for year, d in dicts.items():\n",
    "    year_vectors = np.array([list(d.values())]).reshape(-1, 100)\n",
    "    print(year_vectors.shape)\n",
    "    vecs[year] = year_vectors / np.linalg.norm(year_vectors, axis=-1)[:, np.newaxis]\n",
    "#     for w in vecs[year] /= norms\n",
    "    print(vecs[year])"
   ]
  },
  {
   "cell_type": "code",
   "execution_count": 122,
   "metadata": {
    "slideshow": {
     "slide_type": "fragment"
    }
   },
   "outputs": [
    {
     "data": {
      "text/plain": [
       "array([0.9999999, 0.9999999, 0.9999998, ..., 1.0000002, 0.9999998,\n",
       "       1.0000002], dtype=float32)"
      ]
     },
     "execution_count": 122,
     "metadata": {},
     "output_type": "execute_result"
    }
   ],
   "source": [
    "(vecs['period1']**2).sum(1)"
   ]
  },
  {
   "cell_type": "markdown",
   "metadata": {
    "slideshow": {
     "slide_type": "fragment"
    }
   },
   "source": [
    "Vectors are initialized to have a Euclidean norm of $1$. There are different number of words per year, listed in `vocs['periodx']`."
   ]
  },
  {
   "cell_type": "markdown",
   "metadata": {
    "slideshow": {
     "slide_type": "slide"
    }
   },
   "source": [
    "# Near neighbors\n",
    "\n",
    "Let's start by computing some near neighbors. In general, this is done by computing cosine similarity between word vectors,\n",
    "\\begin{equation}\n",
    "s(\\vec{x},\\vec{y}) = \\frac{\\vec{x} \\cdot \\vec{y}}{||\\vec{x}|| \\times || \\vec{y} ||}.\n",
    "\\end{equation}\n",
    "\n",
    "However, because these embeddings have a guaranteed norm of 1, the denominator can be ignored, so we need only consider the dot product."
   ]
  },
  {
   "cell_type": "code",
   "execution_count": 123,
   "metadata": {
    "slideshow": {
     "slide_type": "skip"
    }
   },
   "outputs": [],
   "source": [
    "def neighbors(query : str,\n",
    "              embs: np.ndarray,\n",
    "              vocab: list,\n",
    "              K : int = 3) -> list:\n",
    "    sims = np.dot(embs[vocab.index(query),],embs.T)\n",
    "    output = []\n",
    "    for sim_idx in sims.argsort()[::-1][1:(1+K)]:\n",
    "        if sims[sim_idx] > 0:\n",
    "            output.append(vocab[sim_idx])\n",
    "    return output"
   ]
  },
  {
   "cell_type": "code",
   "execution_count": 124,
   "metadata": {
    "slideshow": {
     "slide_type": "skip"
    }
   },
   "outputs": [],
   "source": [
    "# a convenience function to compute the nearest neighbors per year\n",
    "def neighbors_per_year(query: str, K=5) -> dict:\n",
    "    nns = dict()\n",
    "    for year, embs in vecs.items():\n",
    "        nns[year] = neighbors(query, embs, vocs[year], K=K)\n",
    "    return nns"
   ]
  },
  {
   "cell_type": "markdown",
   "metadata": {
    "slideshow": {
     "slide_type": "subslide"
    }
   },
   "source": [
    "## Examples"
   ]
  },
  {
   "cell_type": "code",
   "execution_count": 125,
   "metadata": {
    "slideshow": {
     "slide_type": "fragment"
    }
   },
   "outputs": [
    {
     "name": "stdout",
     "output_type": "stream",
     "text": [
      "period0 ['mommy', 'mummy', 'dada', 'jwww', 'mama']\n",
      "period1 ['jwww', 'mummy', 'ma', 'grandma', 'dad']\n",
      "period2 ['dad', 'mommy', 'mummy', 'jwww', 'mom']\n",
      "period3 ['jwww', 'mummy', 'dada', 'grandad', 'mum']\n",
      "period4 ['mummy', 'mommy', 'mum', 'mom', 'dad']\n",
      "period5 ['mummy', 'mommy', 'dad', 'nana', 'mum']\n"
     ]
    }
   ],
   "source": [
    "for year, nn_list in neighbors_per_year('daddy').items():\n",
    "    print(year, nn_list)"
   ]
  },
  {
   "cell_type": "code",
   "execution_count": 126,
   "metadata": {
    "slideshow": {
     "slide_type": "fragment"
    }
   },
   "outputs": [
    {
     "name": "stdout",
     "output_type": "stream",
     "text": [
      "period0 ['kitty', 'puppy', 'cow', 'bone', 'cat']\n",
      "period1 ['puppy', 'horse', 'kitty', 'kangaroo', 'pig']\n",
      "period2 ['puppy', 'cat', 'kitty', 'wolf', 'pig']\n",
      "period3 ['cat', 'horse', 'turtle', 'sheep', 'kitty']\n",
      "period4 ['kitty', 'cat', 'cow', 'horse', 'giraffe']\n",
      "period5 ['cat', 'sheep', 'kitty', 'puppy', 'cow']\n"
     ]
    }
   ],
   "source": [
    "for year, nn_list in neighbors_per_year('dog').items():\n",
    "    print(year, nn_list)"
   ]
  },
  {
   "cell_type": "code",
   "execution_count": 127,
   "metadata": {
    "slideshow": {
     "slide_type": "fragment"
    }
   },
   "outputs": [
    {
     "name": "stdout",
     "output_type": "stream",
     "text": [
      "period0 ['moon', 'sunshine', 'sky', 'rain', 'bright']\n",
      "period1 ['moon', 'rain', 'weather', 'cloud', 'shine']\n",
      "period2 ['rain', 'moon', 'weather', 'sky', 'sunshine']\n",
      "period3 ['moon', 'rain', 'cloud', 'sunshine', 'weather']\n",
      "period4 ['sunshine', 'cloud', 'rain', 'warm', 'weather']\n",
      "period5 ['warm', 'pop', 'egg', 'tiny', 'sunday']\n"
     ]
    }
   ],
   "source": [
    "for year, nn_list in neighbors_per_year('sun').items():\n",
    "    print(year, nn_list)"
   ]
  },
  {
   "cell_type": "markdown",
   "metadata": {
    "slideshow": {
     "slide_type": "subslide"
    }
   },
   "source": [
    "### Exercise \n",
    "\n",
    "Try to find an example with as many similar neighbors as possible in age 1 and age 3; try to find another example as few similar neighbors as possible."
   ]
  },
  {
   "cell_type": "markdown",
   "metadata": {
    "slideshow": {
     "slide_type": "skip"
    }
   },
   "source": [
    "# Linking embedding over time\n",
    "\n",
    "The first task is simple to align words across vocabularies. We will do this by building a sparse permutation matrix."
   ]
  },
  {
   "cell_type": "code",
   "execution_count": 128,
   "metadata": {
    "slideshow": {
     "slide_type": "skip"
    }
   },
   "outputs": [],
   "source": [
    "import scipy.sparse as sparse"
   ]
  },
  {
   "cell_type": "code",
   "execution_count": 129,
   "metadata": {
    "slideshow": {
     "slide_type": "skip"
    }
   },
   "outputs": [],
   "source": [
    "def build_alignment(year1 : int, year2 : int) -> sparse.csr_matrix:\n",
    "    # given two years (keys into vecs and vocs)\n",
    "    # compute a sparse matrix M representing the permutation of word indices from the year1 vecs to the year2 vecs  \n",
    "    # then the rows of v1 will be aligned with the rows of M v2 \n",
    "    \n",
    "    all_var1 = vecs[year1].var(1)\n",
    "    all_var2 = vecs[year2].var(1)\n",
    "\n",
    "    rows = []\n",
    "    cols = []\n",
    "\n",
    "    ivoc2 = {j:i for i,j in enumerate(vocs[year2])}\n",
    "\n",
    "    for widx1,word in enumerate(vocs[year1]):\n",
    "        if all_var1[widx1] != 0 and word in vocs[year2]:\n",
    "            widx2 = ivoc2[word]\n",
    "            if all_var2[widx2] != 0:\n",
    "                rows.append(widx1)\n",
    "                cols.append(widx2)\n",
    "\n",
    "    align = sparse.csr_matrix(([1]*len(rows),(rows,cols)),shape=[len(vocs[year1]),len(vocs[year2])])\n",
    "    return align"
   ]
  },
  {
   "cell_type": "code",
   "execution_count": 130,
   "metadata": {
    "slideshow": {
     "slide_type": "skip"
    }
   },
   "outputs": [],
   "source": [
    "# for the rest of the notebook, we'll focus on the contrast between age 1 and age 3\n",
    "year1 = 'period0'\n",
    "year2 = 'period4'"
   ]
  },
  {
   "cell_type": "code",
   "execution_count": 131,
   "metadata": {
    "slideshow": {
     "slide_type": "skip"
    }
   },
   "outputs": [],
   "source": [
    "align = build_alignment(year2, year1)"
   ]
  },
  {
   "cell_type": "code",
   "execution_count": 132,
   "metadata": {
    "slideshow": {
     "slide_type": "skip"
    }
   },
   "outputs": [
    {
     "data": {
      "text/plain": [
       "<2622x2662 sparse matrix of type '<class 'numpy.int64'>'\n",
       "\twith 2028 stored elements in Compressed Sparse Row format>"
      ]
     },
     "execution_count": 132,
     "metadata": {},
     "output_type": "execute_result"
    }
   ],
   "source": [
    "align"
   ]
  },
  {
   "cell_type": "code",
   "execution_count": 133,
   "metadata": {
    "slideshow": {
     "slide_type": "skip"
    }
   },
   "outputs": [],
   "source": [
    "vecs_aligned = align.dot(vecs[year1])"
   ]
  },
  {
   "cell_type": "markdown",
   "metadata": {
    "slideshow": {
     "slide_type": "skip"
    }
   },
   "source": [
    "To validate, let's check that words in `vecs_aligned` have roughly the same near-neighbors as in `vecs[year2]`."
   ]
  },
  {
   "cell_type": "code",
   "execution_count": 134,
   "metadata": {
    "slideshow": {
     "slide_type": "skip"
    }
   },
   "outputs": [
    {
     "name": "stdout",
     "output_type": "stream",
     "text": [
      "car\n",
      "period0 ['train', 'truck', 'garage', 'van', 'tractor', 'bus', 'boat']\n",
      "period4 ['truck', 'tractor', 'garage', 'train', 'motorcycle', 'lorry', 'taxi'] \n",
      "\n",
      "bottle\n",
      "period0 ['drink', 'milk', 'cup', 'spoon', 'pitcher', 'juice', 'towel']\n",
      "period4 ['cup', 'drink', 'glass', 'milk', 'beaker', 'crib', 'sip'] \n",
      "\n",
      "dog\n",
      "period0 ['kitty', 'puppy', 'cow', 'bone', 'cat', 'rooster', 'lion']\n",
      "period4 ['kitty', 'cat', 'cow', 'horse', 'giraffe', 'sheep', 'donkey'] \n",
      "\n",
      "love\n",
      "period0 ['buy', 'god', 'cuddle', 'say', 'gosh', 'beautiful', 'like']\n",
      "period4 ['gorgeous', 'enjoy', 'fabulous', 'hate', 'fantastic', 'knit', 'honest'] \n",
      "\n"
     ]
    }
   ],
   "source": [
    "for query in ['car','bottle','dog','love']:\n",
    "    print(query)\n",
    "    print(year1, neighbors(query, vecs_aligned, vocs[year2], K=7))\n",
    "    print(year2, neighbors(query, vecs[year2], vocs[year2], K=7),'\\n')"
   ]
  },
  {
   "cell_type": "raw",
   "metadata": {
    "slideshow": {
     "slide_type": "skip"
    }
   },
   "source": [
    "\n",
    "Remember that our goal is to find words whose meanings have changed between `year1` and `year2`. Be careful: we cannot directly compare `vecs[year1]` to `vecs[year2]` because the word embeddings are not aligned. To solve this, we will search for the best orthogonal projection."
   ]
  },
  {
   "cell_type": "markdown",
   "metadata": {
    "slideshow": {
     "slide_type": "skip"
    }
   },
   "source": [
    "## Procrustes\n",
    "\n",
    "$\\newcommand{\\transpose}[1]{#1^{\\top}}$\n",
    "\n",
    "The orthogonal Procrustes problem for matrices $A$ and $B$ is to find an orthogonal projection matrix $\\Omega$ that minimizes the norm of the difference between $\\Omega A$ and $B$:\n",
    "\n",
    "\\begin{equation}\n",
    "\\min_{\\Omega} ||\\Omega A - B ||_F,\n",
    "\\end{equation}\n",
    "s.t. $\\transpose{\\Omega} \\Omega = \\mathbb{I}$, where $A, B \\in \\mathbb{R}^{K \\times V}$ are matrices of $K$-dimensional embeddings, and $\\Omega$ is therefore an orthonormal $K \\times K$ projection matrix. The norm $||M||_F = \\left(\\sum_i \\sum_j m_{i,j}^2\\right)^{1/2}$. \n",
    "\n",
    "The solution to the orthogonal Procrustes problem is obtained by performing singular value decomposition on the product,\n",
    "\n",
    "\\begin{align}\n",
    "U \\Sigma \\transpose{V} = &{} \\text{SVD}(B\\transpose{A})\\\\\n",
    "\\Omega = &{} U \\transpose{V}.\n",
    "\\end{align}\n"
   ]
  },
  {
   "cell_type": "markdown",
   "metadata": {
    "slideshow": {
     "slide_type": "subslide"
    }
   },
   "source": [
    "## Procrustes"
   ]
  },
  {
   "cell_type": "code",
   "execution_count": 135,
   "metadata": {
    "slideshow": {
     "slide_type": "fragment"
    }
   },
   "outputs": [],
   "source": [
    "def procrustes(A, B):\n",
    "    U, _, Vt = np.linalg.svd(B.dot(A.T))\n",
    "    return U.dot(Vt)"
   ]
  },
  {
   "cell_type": "markdown",
   "metadata": {
    "slideshow": {
     "slide_type": "subslide"
    }
   },
   "source": [
    "### Synthetic data"
   ]
  },
  {
   "cell_type": "code",
   "execution_count": 136,
   "metadata": {
    "slideshow": {
     "slide_type": "fragment"
    }
   },
   "outputs": [
    {
     "name": "stdout",
     "output_type": "stream",
     "text": [
      "Norm without projection:\t317.498\n",
      "Norm with projection:\t30.721\n"
     ]
    }
   ],
   "source": [
    "# randomly generate an orthogonal projection\n",
    "P1,_,_ = np.linalg.svd(np.random.randn(100,30))\n",
    "A = np.random.randn(100,1000)\n",
    "B = P1.dot(A) + 0.1 * np.random.randn(100,1000)\n",
    "\n",
    "print(f'Norm without projection:\\t{np.linalg.norm(B - A):0.3f}')\n",
    "print(f'Norm with projection:\\t{np.linalg.norm(B - procrustes(A,B).dot(A)):0.3f}')"
   ]
  },
  {
   "cell_type": "code",
   "execution_count": 137,
   "metadata": {
    "slideshow": {
     "slide_type": "subslide"
    }
   },
   "outputs": [
    {
     "data": {
      "image/png": "[encoded data removed]",
      "text/plain": [
       "<Figure size 576x216 with 2 Axes>"
      ]
     },
     "metadata": {
      "needs_background": "light"
     },
     "output_type": "display_data"
    }
   ],
   "source": [
    "fig, (ax1,ax2) = plt.subplots(1,2,figsize=[8,3])\n",
    "ax1.scatter(A[:,45],B[:,45])\n",
    "ax1.set_title(\"Without projection\")\n",
    "ax2.scatter(procrustes(A,B).dot(A[:,45]),B[:,45]);\n",
    "ax2.set_title('With projection');"
   ]
  },
  {
   "cell_type": "markdown",
   "metadata": {
    "slideshow": {
     "slide_type": "fragment"
    }
   },
   "source": [
    "**Exercise**: evaluate the projection quality while varying the amount of noise in $B$."
   ]
  },
  {
   "cell_type": "markdown",
   "metadata": {
    "slideshow": {
     "slide_type": "subslide"
    }
   },
   "source": [
    "## Application to word vectors\n",
    "\n",
    "Let $A \\in \\mathbb{R}^{K \\times V}$ be the matrix of aligned word vectors, with words on the columns, and let $B \\in \\mathbb{R}^{K \\times V}$ be an analogous matrix of word vectors at an alternative time. Then we solve the orthogonal Procrustes problem to obtain the projection $\\Omega$."
   ]
  },
  {
   "cell_type": "code",
   "execution_count": 138,
   "metadata": {
    "slideshow": {
     "slide_type": "fragment"
    }
   },
   "outputs": [],
   "source": [
    "Omega = procrustes(vecs_aligned.T, vecs[year2].T)\n",
    "vecs_projected = Omega.dot(vecs_aligned.T).T"
   ]
  },
  {
   "cell_type": "code",
   "execution_count": 141,
   "metadata": {},
   "outputs": [
    {
     "name": "stdout",
     "output_type": "stream",
     "text": [
      "2622\n"
     ]
    }
   ],
   "source": [
    "length_of_vocab = min(vecs[year1].shape[0], vecs[year2].shape[0])\n",
    "print(length_of_vocab)"
   ]
  },
  {
   "cell_type": "code",
   "execution_count": 144,
   "metadata": {
    "slideshow": {
     "slide_type": "fragment"
    }
   },
   "outputs": [
    {
     "name": "stdout",
     "output_type": "stream",
     "text": [
      "pre-alignment:  71.89683\n",
      "pre-projection:  63.988331346724244\n",
      "after projection:  49.92594177524273\n"
     ]
    }
   ],
   "source": [
    "print('pre-alignment: ',np.linalg.norm(vecs[year2] - vecs[year1][:length_of_vocab]))\n",
    "print('pre-projection: ',np.linalg.norm(vecs[year2] - vecs_aligned))\n",
    "print('after projection: ',np.linalg.norm(vecs[year2] - vecs_projected))"
   ]
  },
  {
   "cell_type": "code",
   "execution_count": 145,
   "metadata": {
    "slideshow": {
     "slide_type": "subslide"
    }
   },
   "outputs": [
    {
     "data": {
      "image/png": "[encoded data removed]",
      "text/plain": [
       "<Figure size 576x216 with 2 Axes>"
      ]
     },
     "metadata": {
      "needs_background": "light"
     },
     "output_type": "display_data"
    }
   ],
   "source": [
    "fig, (ax1,ax2) = plt.subplots(1,2,figsize=[8,3])\n",
    "\n",
    "query = 'dog'\n",
    "vec2_no_project = vecs_aligned[vocs[year2].index(query),]\n",
    "vec2_projected = vecs_projected[vocs[year2].index(query),]\n",
    "vec1_query = vecs[year2][vocs[year2].index(query),]\n",
    "\n",
    "ax1.scatter(vec1_query, vec2_no_project)\n",
    "ax1.set_title(\"Without projection\")\n",
    "\n",
    "ax2.scatter(vec1_query, vec2_projected)\n",
    "ax2.set_title('With projection');"
   ]
  },
  {
   "cell_type": "markdown",
   "metadata": {
    "slideshow": {
     "slide_type": "fragment"
    }
   },
   "source": [
    "After projection the alignment is closer, but still far from perfect."
   ]
  },
  {
   "cell_type": "markdown",
   "metadata": {
    "slideshow": {
     "slide_type": "slide"
    }
   },
   "source": [
    "## Measuring semantic change by embedding norms\n",
    "\n",
    "After projection, we can search for words with large changes in meaning by evaluating the \"cosine distance\" between the projected embedding in $t_1$ and the embedding in $t_2$."
   ]
  },
  {
   "cell_type": "code",
   "execution_count": 146,
   "metadata": {
    "slideshow": {
     "slide_type": "fragment"
    }
   },
   "outputs": [],
   "source": [
    "def compute_cos_dist(vec1 : np.array, vec2 : np.array) -> np.array:    \n",
    "    numerator = (vec1 * vec2).sum(1)\n",
    "    denominator = np.sqrt((vec1**2).sum(1)) * np.sqrt((vec2**2).sum(1))\n",
    "    cos_dist = 1 - numerator / (1e-5 + denominator)\n",
    "\n",
    "    # eliminate words that are zeroed out\n",
    "    return cos_dist * (vec1.var(1) > 0) * (vec2.var(1) > 0)"
   ]
  },
  {
   "cell_type": "code",
   "execution_count": 147,
   "metadata": {
    "slideshow": {
     "slide_type": "fragment"
    }
   },
   "outputs": [],
   "source": [
    "cos_dist = compute_cos_dist(vecs[year2], vecs_projected)"
   ]
  },
  {
   "cell_type": "markdown",
   "metadata": {
    "slideshow": {
     "slide_type": "subslide"
    }
   },
   "source": [
    "### Top words by global metric\n",
    "\n",
    "Now let's print the words with the biggest changes from period 1 to Age 3. \n",
    "\n",
    "The embeddings for rare words are a little weird, so let's focus on the 10K most frequent."
   ]
  },
  {
   "cell_type": "code",
   "execution_count": 148,
   "metadata": {
    "slideshow": {
     "slide_type": "subslide"
    }
   },
   "outputs": [
    {
     "name": "stdout",
     "output_type": "stream",
     "text": [
      "unicorn\t(ranks=1980,2420)\tdist=0.85\n",
      "period0 neighbors: ['hippopotamus', 'humpty_dumpty', 'dolphin', 'y', 'cap', 'octopus', 'pacify']\n",
      "period4 neighbors: ['spring', 'bambi', 'prince', 'snuffy', 'become', 'journey', 'jay']\n",
      "\n",
      "nuts\t(ranks=2227,2089)\tdist=0.85\n",
      "period0 neighbors: ['nut', 'crisp', 'lettuce', 'seed', 'corn', 'cherry', 'pineapple']\n",
      "period4 neighbors: ['pant', 'bead', 'pin', 'sneaker', 'babykins', 'penis', 'thing']\n",
      "\n",
      "matt\t(ranks=2203,1697)\tdist=0.84\n",
      "period0 neighbors: ['matthew', 'trevor', 'cousin', 'aunt', 'uncle', 'dora', 'hip']\n",
      "period4 neighbors: ['sharon', 'nola', 'sno', 'karen', 'pa', 'matthew', 'timmy']\n",
      "\n",
      "rhyme\t(ranks=1779,1509)\tdist=0.84\n",
      "period0 neighbors: ['sense', 'joke', 'word', 'noise', 'name', 'wolf', 'dinosaur']\n",
      "period4 neighbors: ['humpty_dumpty', 'fantastic', 'ladybird', 'song', 'julian', 'tinky_winky', 'scarry']\n",
      "\n",
      "yawn\t(ranks=2212,1365)\tdist=0.84\n",
      "period0 neighbors: ['stretch', 'cough', 'cry', 'boss', 'born', 'awake', 'deal']\n",
      "period4 neighbors: ['waken', 'cot', 'good_night', 'attic', 'puddle', 'air', 'wake']\n",
      "\n",
      "map\t(ranks=1866,2373)\tdist=0.84\n",
      "period0 neighbors: ['life', 'world', 'bet', 'guess', 'e', 'glad', 'lorry']\n",
      "period4 neighbors: ['triangle', 'wrist', 'purse', 'sweater', 'toy', 'apartment', 'pants']\n",
      "\n",
      "andy\t(ranks=1317,1424)\tdist=0.84\n",
      "period0 neighbors: ['benjamin', 'andrew', 'raspberry', 'kay', 'danny', 'ernie', 'broccoli']\n",
      "period4 neighbors: ['momma', 'sis', 'carrot', 'mama', 'chi', 'mom', 'hamburger']\n",
      "\n",
      "judy\t(ranks=2204,911)\tdist=0.84\n",
      "period0 neighbors: ['paul', 'jonathan', 'punch', 'bert', 'olivia', 'david', 'explain']\n",
      "period4 neighbors: ['anna', 'kent', 'hiya', 'bam_bam', 'lady', 'sandra', 'anthony']\n",
      "\n",
      "twww\t(ranks=2243,1549)\tdist=0.84\n",
      "period0 neighbors: ['sandra', 'lwww', 'jwww', 'cat', 'purdie', 'danny', 'eeyore']\n",
      "period4 neighbors: ['jwww', 'teach', 'stay', 'swww', 'jonathan', 'aunt', 'invite']\n",
      "\n",
      "maggie\t(ranks=1658,1673)\tdist=0.84\n",
      "period0 neighbors: ['grandma', 'rachel', 'cathy', 'sharon', 'gramma', 'michael', 'jwww']\n",
      "period4 neighbors: ['cathy', 'bill', 'jim', 'you_know', 'she', 'waken', 'truth']\n",
      "\n",
      "katie\t(ranks=1583,1507)\tdist=0.84\n",
      "period0 neighbors: ['grandma', 'rosie', 'grandpa', 'kit', 'bill', 'thomas', 'card']\n",
      "period4 neighbors: ['melvin', 'sarah', 'sandra', 'claire', 'chantilly', 'cmon', 'kate']\n",
      "\n",
      "annie\t(ranks=1348,1552)\tdist=0.84\n",
      "period0 neighbors: ['claire', 'worm', 'alice', 'andrew', 'jill', 'julie', 'sharon']\n",
      "period4 neighbors: ['panda', 'window', 'piggy', 'sophie', 'the', 'closet', 'himself']\n",
      "\n",
      "patrick\t(ranks=2489,923)\tdist=0.84\n",
      "period0 neighbors: ['john', 'whats', 'annie', 'eric', 'okay', 'here', 'kay']\n",
      "period4 neighbors: ['lad', 'pony', 'kitten', 'superman', 'girl', 'dumpling', 'puppy']\n",
      "\n",
      "chain\t(ranks=2565,2333)\tdist=0.83\n",
      "period0 neighbors: ['husband', 'helmet', 'scarf', 'finger', 'pencil', 'apron', 'tricycle']\n",
      "period4 neighbors: ['clip', 'string', 'peg', 'bow', 'piece', 'needle', 'pin']\n",
      "\n",
      "scale\t(ranks=1798,1792)\tdist=0.83\n",
      "period0 neighbors: ['marble', 'leaf', 'skin', 'top', 'string', 'dolphin', 'part']\n",
      "period4 neighbors: ['pan', 'flour', 'mixture', 'fry', 'cloth', 'tap', 'sieve']\n",
      "\n",
      "pat\t(ranks=919,629)\tdist=0.83\n",
      "period0 neighbors: ['bunny', 'rest', 'stroke', 'kiss', 'lay', 'awake', 'book']\n",
      "period4 neighbors: ['mike', 'aunt', 'trot', 'daddy', 'jill', 'nana', 'come']\n",
      "\n",
      "ad\t(ranks=2380,2409)\tdist=0.82\n",
      "period0 neighbors: ['once', 'fair', 'nicky', 'rubbish', 'shy', 'danny', 'win']\n",
      "period4 neighbors: ['pa', 'barbie', 'ma', 'uncle', 'grandad', 'jo', 'raccoon']\n",
      "\n",
      "christopher\t(ranks=1070,1505)\tdist=0.82\n",
      "period0 neighbors: ['robin', 'mickey', 'emily', 'eighteen', 'sandra', 'seventeen', 'lucy']\n",
      "period4 neighbors: ['dimitra', 'jamie', 'becky', 'nana', 'charlotte', 'abi', 'jo']\n",
      "\n",
      "nicky\t(ranks=2309,2534)\tdist=0.82\n",
      "period0 neighbors: ['puss', 'seek', 'ad', 'lwww', 'twww', 'thunder', 'hippopotamus']\n",
      "period4 neighbors: ['gloria', 'matthew', 'grandpa', 'janet', 'aaron', 'bandors', 'jessica']\n",
      "\n",
      "jason\t(ranks=1883,1223)\tdist=0.82\n",
      "period0 neighbors: ['direction', 'otherwise', 'darling', 'nan', 'dare', 'handy', 'exact']\n",
      "period4 neighbors: ['robert', 'santa', 'spencer', 'jamie', 'nola', 'kate', 'santa_claus']\n",
      "\n",
      "pipe\t(ranks=1225,1564)\tdist=0.82\n",
      "period0 neighbors: ['coin', 'nose', 'feather', 'wing', 'scarf', 'suitcase', 'helmet']\n",
      "period4 neighbors: ['window', 'tunnel', 'carriage', 'village', 'tent', 'door', 'sky']\n",
      "\n",
      "shade\t(ranks=2168,2502)\tdist=0.82\n",
      "period0 neighbors: ['tree', 'sky', 'kitchen', 'refrigerator', 'leaf', 'ship', 'ceiling']\n",
      "period4 neighbors: ['one', 'sheet', 'pair', 'planet', 'type', 'color', 'pile']\n",
      "\n",
      "catherine\t(ranks=2500,553)\tdist=0.82\n",
      "period0 neighbors: ['thomas', 'scissors', 'debbie', 'anyway', 'naima', 'word', 'bud']\n",
      "period4 neighbors: ['millisandy', 'cio', 'sno', 'kay', 'hey', 'laoise', 'bax']\n",
      "\n",
      "hoop\t(ranks=2153,2011)\tdist=0.82\n",
      "period0 neighbors: ['wand', 'counter', 'thing', 'brick', 'suitcase', 'photo', 'person']\n",
      "period4 neighbors: ['slot', 'telescope', 'march', 'tuesday', 'electric', 'february', 'hole']\n",
      "\n",
      "ethan\t(ranks=1076,389)\tdist=0.81\n",
      "period0 neighbors: ['wire', 'whoa', 'camera', 'tinky_winky', 'catherine', 'po', 'whoop']\n",
      "period4 neighbors: ['danny', 'him', 'wilbur', 'bert', 'snoopy', 'tractor', 'dad']\n",
      "\n",
      "ahhah\t(ranks=601,394)\tdist=0.81\n",
      "period0 neighbors: ['chi', 'ah', 'yay', 'edw', 'clown', 'peek', 'haha']\n",
      "period4 neighbors: ['map', 'balloon', 'ramp', 'at', 'wow', 'as_well', 'jackie']\n",
      "\n",
      "sandy\t(ranks=1532,1997)\tdist=0.81\n",
      "period0 neighbors: ['nomi', 'seed', 'everyday', 'claire', 'naima', 'doll', 'papa']\n",
      "period4 neighbors: ['woof', 'chi', 'bambi', 'sis', 'george', 'lwww', 'who']\n",
      "\n",
      "ladybird\t(ranks=2587,945)\tdist=0.81\n",
      "period0 neighbors: ['witch', 'flag', 'dolphin', 'giraffe', 'zebra', 'fish', 'shark']\n",
      "period4 neighbors: ['pound', 'r', 'large', 'parrot', 'inch', 'pink', 'buck']\n",
      "\n",
      "eric\t(ranks=1036,806)\tdist=0.81\n",
      "period0 neighbors: ['street', 'anne', 'television', 'david', 'fred', 'marie', 'motor']\n",
      "period4 neighbors: ['prince', 'human', 'ariel', 'bently', 'forest', 'belinda', 'woody']\n",
      "\n",
      "pet\t(ranks=994,1342)\tdist=0.81\n",
      "period0 neighbors: ['stroke', 'kitty', 'meow', 'fur', 'cat', 'chase', 'hug']\n",
      "period4 neighbors: ['uncle', 'handbag', 'toy', 'treasure', 'grocery', 'vet', 'granny']\n",
      "\n",
      "beat\t(ranks=1240,1406)\tdist=0.81\n",
      "period0 neighbors: ['beep', 'belong', 'bang', 'chest', 'sew', 'bucket', 'top']\n",
      "period4 neighbors: ['stir', 'waken', 'give', 'feed', 'smack', 'kiss', 'wake']\n",
      "\n",
      "oh_no\t(ranks=1685,1719)\tdist=0.81\n",
      "period0 neighbors: ['even', 'dare', 'because', 'allow', 'though', 'may', 'not']\n",
      "period4 neighbors: ['oops', 'uhoh', 'boom', 'scoot', 'op', 'oy', 'whoops']\n",
      "\n",
      "vroom\t(ranks=2175,423)\tdist=0.81\n",
      "period0 neighbors: ['jeep', 'whee', 'control', 'crash', 'heehee', 'honk', 'cement']\n",
      "period4 neighbors: ['heehee', 'craig', 'sonia', 'lisa', 'judy', 'glug', 'pebbles']\n",
      "\n",
      "jonathan\t(ranks=1526,1774)\tdist=0.81\n",
      "period0 neighbors: ['judy', 'sara', 'lisa', 'grocery', 'afterwards', 'debbie', 'paul']\n",
      "period4 neighbors: ['michael', 'swww', 'jamie', 'steven', 'diet', 'family', 'parent']\n",
      "\n",
      "march\t(ranks=1790,1571)\tdist=0.81\n",
      "period0 neighbors: ['september', 'august', 'fifth', 'lie', 'nineteen', 'eleven', 'london']\n",
      "period4 neighbors: ['april', 'february', 'wide', 'june', 'hoop', 'slot', 'apparent']\n",
      "\n",
      "hum\t(ranks=1473,834)\tdist=0.80\n",
      "period0 neighbors: ['drum', 'super', 'shoo', 'paul', 'minnie', 'heehee', 'skip']\n",
      "period4 neighbors: ['papa', 'bear', 'sleep', 'mama', 'teddy', 'adventure', 'night_night']\n",
      "\n",
      "pebble\t(ranks=1817,2294)\tdist=0.80\n",
      "period0 neighbors: ['church', 'lizard', 'queen', 'pudding', 'summer', 'cat', 'tent']\n",
      "period4 neighbors: ['raisin', 'smarties', 'coin', 'stone', 'gold', 'sweet', 'brick']\n",
      "\n",
      "fuzz\t(ranks=1832,936)\tdist=0.80\n",
      "period0 neighbors: ['flop', 'brown', 'mitten', 'fluff', 'fur', 'glove', 'sharp']\n",
      "period4 neighbors: ['duck', 'quack', 'rubber', 'bert', 'donald', 'hen', 'care_bear']\n",
      "\n",
      "blueberry\t(ranks=2062,1244)\tdist=0.80\n",
      "period0 neighbors: ['pear', 'fresh', 'strawberry', 'plum', 'banana', 'cherry', 'apple']\n",
      "period4 neighbors: ['pizza', 'hamburger', 'cigarette', 'pancake', 'net', 'broom', 'oatmeal']\n",
      "\n",
      "zzz\t(ranks=243,1746)\tdist=0.80\n",
      "period0 neighbors: ['pound', 'sean', 'eh', 'forty', 'kay', 'my_goodness', 'ten']\n",
      "period4 neighbors: ['tongue', 'bottle', 'husband', 'stomach', 'nope', 'brad', 'throat']\n",
      "\n",
      "secret\t(ranks=1657,2249)\tdist=0.80\n",
      "period0 neighbors: ['mike', 'enjoy', 'frighten', 'fifth', 'storm', 'most', 'meal']\n",
      "period4 neighbors: ['story', 'nan', 'ryan', 'truth', 'daisy', 'jessica', 'kent']\n",
      "\n",
      "sean\t(ranks=1046,2499)\tdist=0.80\n",
      "period0 neighbors: ['harold', 'claire', 'nana', 'whether', 'swww', 'susie', 'talk']\n",
      "period4 neighbors: ['emma', 'mr_potato_head', 'bax', 'guy', 'chi', 'nicky', 'question']\n",
      "\n",
      "super\t(ranks=1019,2006)\tdist=0.80\n",
      "period0 neighbors: ['tube', 'hum', 'fruit', 'sudden', 'baseball', 'pink', 'dough']\n",
      "period4 neighbors: ['hero', 'herself', 'path', 'cheek', 'amen', 'act', 'himself']\n",
      "\n",
      "sarah\t(ranks=371,751)\tdist=0.80\n",
      "period0 neighbors: ['jwww', 'she', 'swww', 'nanny', 'lwww', 'daddy', 'bill']\n",
      "period4 neighbors: ['millisandy', 'bugs', 'ann_marie', 'sandra', 'chris', 'bam_bam', 'pebbles']\n",
      "\n",
      "handy\t(ranks=2223,2317)\tdist=0.80\n",
      "period0 neighbors: ['hand', 'arm', 'pony', 'xylophone', 'coin', 'thumb', 'clap']\n",
      "period4 neighbors: ['cheap', 'difficult', 'expensive', 'important', 'dangerous', 'rude', 'nice']\n",
      "\n",
      "skip\t(ranks=1038,1183)\tdist=0.80\n",
      "period0 neighbors: ['miss', 'nine', 'thirteen', 'nineteen', 'eight', 'seven', 'fourteen']\n",
      "period4 neighbors: ['van', 'lorry', 'cab', 'truck', 'train', 'man', 'crane']\n",
      "\n",
      "gramma\t(ranks=2138,1738)\tdist=0.80\n",
      "period0 neighbors: ['grandma', 'ma', 'mom', 'edw', 'granny', 'santa_claus', 'daddy']\n",
      "period4 neighbors: ['kay', 'karen', 'jennifer', 'puppet', 'me', 'amanda', 'dragon']\n",
      "\n",
      "bar\t(ranks=1285,1600)\tdist=0.79\n",
      "period0 neighbors: ['edge', 'branch', 'tree', 'hip', 'world', 'pitcher', 'bush']\n",
      "period4 neighbors: ['berry', 'coin', 'mould', 'tin', 'crisp', 'drink', 'pasta']\n",
      "\n",
      "sis\t(ranks=921,2314)\tdist=0.79\n",
      "period0 neighbors: ['deal', 'shadow', 'queen', 'pile', 'pepper', 'marble', 'picture']\n",
      "period4 neighbors: ['chi', 'me', 'avril', 'alissa', 'us', 'roz', 'kate']\n",
      "\n",
      "tadah\t(ranks=2514,1032)\tdist=0.79\n",
      "period0 neighbors: ['hooray', 'hip', 'roz', 'sunshine', 'yay', 'thank', 'happy']\n",
      "period4 neighbors: ['laoise', 'g', 'silly', 'kangaroo', 'pretend', 'like', 'phew']\n",
      "\n"
     ]
    }
   ],
   "source": [
    "thresh = 3000\n",
    "for idx in cos_dist[:thresh].argsort()[::-1][50:100]:\n",
    "    word = vocs[year2][idx]\n",
    "    print(f'{word}\\t(ranks={idx},{vocs[year1].index(word)})\\tdist={cos_dist[idx]:.2f}')\n",
    "    print(f'{year1} neighbors: {neighbors(word, vecs_projected, vocs[year2], K=7)}')\n",
    "    print(f'{year2} neighbors: {neighbors(word, vecs[year2], vocs[year2], K=7)}\\n')"
   ]
  },
  {
   "cell_type": "markdown",
   "metadata": {
    "slideshow": {
     "slide_type": "subslide"
    }
   },
   "source": [
    "Better! A few preprocessing effects (\"00\" and \"addison\"), but most of these changes are interpretable as emerging word senses (\"aids\", \"peer\", \"approaches\", \"facility\", \"film\", and \"resource\")."
   ]
  },
  {
   "cell_type": "markdown",
   "metadata": {
    "slideshow": {
     "slide_type": "slide"
    }
   },
   "source": [
    "## Measuring semantic change by near neighbors\n",
    "\n",
    "A concern with comparing word embeddings directly is that different parts of the embedding space may have different densities, so that cosine distances are not comparable across the entire space. \n",
    "\n",
    "To address this problem, [Hamilton et al (2016b)](https://nlp.stanford.edu/pubs/hamilton2016cultural.pdf) propose a \"local\" technique:\n",
    "\n",
    "1. For word $w$ at time $t$, identify $K$-nearest neighbors $\\mathcal{N}_t(w)$\n",
    "2. Compute the vector of cosine similarities to the union of these neighbors,\n",
    "\n",
    "\\begin{align}\n",
    "\\vec{s}_t(w) = &{} [\\cos(x_{t}(w), x_t(w')) : w' \\in \\mathcal{N}_t(w) \\cup \\mathcal{N}_{t'}(w)]\\\\\n",
    "\\vec{s}_{t'}(w) = &{} [\\cos(x_{t'}(w), x_{t'}(w')) : w' \\in \\mathcal{N}_t(w) \\cup \\mathcal{N}_{t'}(w)]\\\\\n",
    "\\end{align}\n",
    "\n",
    "3. Compute the cosine distance between these two vectors, $D_{t,t'}(w) = 1 - \\cos(\\vec{s}_t(w), \\vec{s}_{t'}(w))$."
   ]
  },
  {
   "cell_type": "markdown",
   "metadata": {
    "slideshow": {
     "slide_type": "subslide"
    }
   },
   "source": [
    "Intuitively, if a word acquires a large number of new neighbors at $t'$, and these neighbors had very different embeddings from $x_t(w)$ at time $t$, then the distance will be large; if the neighbors and their similarities to $w$ are roughly the same at $t$ and $t'$, then the distance will be small. Let's compute it."
   ]
  },
  {
   "cell_type": "markdown",
   "metadata": {
    "slideshow": {
     "slide_type": "subslide"
    }
   },
   "source": [
    "#### Example"
   ]
  },
  {
   "cell_type": "code",
   "execution_count": 149,
   "metadata": {
    "slideshow": {
     "slide_type": "fragment"
    }
   },
   "outputs": [
    {
     "name": "stdout",
     "output_type": "stream",
     "text": [
      "['enjoy', 'want', 'love', 'interest', 'rather']\n",
      "['alike', 'want', 'prefer', 'silly', 'forward']\n"
     ]
    }
   ],
   "source": [
    "query = 'like'\n",
    "nn_old = neighbors(query, vecs[year1], vocs[year1], K=5)\n",
    "nn_new = neighbors(query, vecs[year2], vocs[year2], K=5)\n",
    "print(nn_old)\n",
    "print(nn_new)"
   ]
  },
  {
   "cell_type": "markdown",
   "metadata": {
    "slideshow": {
     "slide_type": "subslide"
    }
   },
   "source": [
    "Now we'll construct a set of neighbors that combines these lists, omitting words that are out-of-vocabulary in either dataset."
   ]
  },
  {
   "cell_type": "code",
   "execution_count": 150,
   "metadata": {
    "slideshow": {
     "slide_type": "fragment"
    }
   },
   "outputs": [
    {
     "name": "stdout",
     "output_type": "stream",
     "text": [
      "['love', 'silly', 'want', 'forward', 'interest', 'rather', 'enjoy']\n"
     ]
    }
   ],
   "source": [
    "neighbor_set = [word for word in set(nn_old).union(set(nn_new)) \n",
    "                if (word in vocs[year1])\n",
    "                and (word in vocs[year2])\n",
    "                and (vecs[year1][vocs[year1].index(word)].var() > 0)\n",
    "                and (vecs[year2][vocs[year2].index(word)].var() > 0)]\n",
    "print(neighbor_set)"
   ]
  },
  {
   "cell_type": "markdown",
   "metadata": {
    "slideshow": {
     "slide_type": "subslide"
    }
   },
   "source": [
    "For each of these words, we will compute the cosine similarity to the query, in each dataset. \n",
    "\n",
    "Because the vectors are guaranteed to have a unit norm, the cosine similarity is identical to the dot product."
   ]
  },
  {
   "cell_type": "code",
   "execution_count": 151,
   "metadata": {
    "slideshow": {
     "slide_type": "subslide"
    }
   },
   "outputs": [],
   "source": [
    "def get_neighbor_sims(query : str, neighbor_set : set, vec : np.ndarray, voc : list) -> np.ndarray:\n",
    "    v_self = vec[voc.index(query),]\n",
    "    v_neighbors = vec[[voc.index(neighbor) for neighbor in neighbor_set],]\n",
    "    return np.dot(v_neighbors, v_self)"
   ]
  },
  {
   "cell_type": "code",
   "execution_count": 152,
   "metadata": {
    "slideshow": {
     "slide_type": "fragment"
    }
   },
   "outputs": [
    {
     "name": "stdout",
     "output_type": "stream",
     "text": [
      "[0.3972621  0.2245985  0.4597158  0.028236   0.38395083 0.37086153\n",
      " 0.4672555 ]\n",
      "[0.39186698 0.42119974 0.47529066 0.41004777 0.24017768 0.25971743\n",
      " 0.37197834]\n"
     ]
    }
   ],
   "source": [
    "sim_old = get_neighbor_sims(query,neighbor_set,vecs[year1],vocs[year1])\n",
    "sim_new = get_neighbor_sims(query,neighbor_set,vecs[year2],vocs[year2])\n",
    "print(sim_old)\n",
    "print(sim_new)"
   ]
  },
  {
   "cell_type": "markdown",
   "metadata": {
    "slideshow": {
     "slide_type": "subslide"
    }
   },
   "source": [
    "Finally, we'll measure semantic shift by the average \"distance\" between these vectors of similarities. \n",
    "\n",
    "This is a \"second order\" view of semantic change, but we will call it the *local* change, because it is based only on the local neighborhood and not the global embedding space."
   ]
  },
  {
   "cell_type": "code",
   "execution_count": 153,
   "metadata": {
    "slideshow": {
     "slide_type": "fragment"
    }
   },
   "outputs": [
    {
     "data": {
      "text/plain": [
       "0.01687314680644444"
      ]
     },
     "execution_count": 153,
     "metadata": {},
     "output_type": "execute_result"
    }
   ],
   "source": [
    "compute_cos_dist(sim_old.reshape(1,-1), sim_new.reshape(1,-1))[0] / len(neighbor_set)"
   ]
  },
  {
   "cell_type": "markdown",
   "metadata": {
    "slideshow": {
     "slide_type": "subslide"
    }
   },
   "source": [
    "We'll now make this calculation for the entire dataset. By default, we'll just load the results, but you can recompute it from this data if you have a few minutes."
   ]
  },
  {
   "cell_type": "code",
   "execution_count": 154,
   "metadata": {
    "slideshow": {
     "slide_type": "skip"
    }
   },
   "outputs": [],
   "source": [
    "recompute_embedding_shifts = True\n",
    "emb_shift_file = os.path.join('.','data','embedding-shifts.csv')"
   ]
  },
  {
   "cell_type": "code",
   "execution_count": 159,
   "metadata": {
    "slideshow": {
     "slide_type": "skip"
    }
   },
   "outputs": [
    {
     "data": {
      "application/vnd.jupyter.widget-view+json": {
       "model_id": "2a7a7f8dc3664b2b896826611140edaf",
       "version_major": 2,
       "version_minor": 0
      },
      "text/plain": [
       "HBox(children=(IntProgress(value=0, max=2622), HTML(value='')))"
      ]
     },
     "metadata": {},
     "output_type": "display_data"
    },
    {
     "name": "stdout",
     "output_type": "stream",
     "text": [
      "\n"
     ]
    }
   ],
   "source": [
    "if recompute_embedding_shifts:\n",
    "    # this may take 5-10 minutes to execute\n",
    "    neighbor_shift = dict()\n",
    "\n",
    "    num_neighbors = 25\n",
    "\n",
    "    for word in tqdm(vocs[year2]):\n",
    "        if word in vocs[year1]:\n",
    "            nn_old = neighbors(word, vecs[year1], vocs[year1], K=num_neighbors)\n",
    "            nn_new = neighbors(word, vecs[year2], vocs[year2], K=num_neighbors)\n",
    "\n",
    "            neighbor_set = [word for word in set(nn_old).union(set(nn_new)) \n",
    "                            if (word in vocs[year1])\n",
    "                            and (word in vocs[year2])\n",
    "                            and (vecs[year1][vocs[year1].index(word)].var() > 0)\n",
    "                            and (vecs[year2][vocs[year2].index(word)].var() > 0)]\n",
    "        \n",
    "            s1 = get_neighbor_sims(word, neighbor_set, vecs[year1], vocs[year1])\n",
    "            s2 = get_neighbor_sims(word, neighbor_set, vecs[year2], vocs[year2])\n",
    "\n",
    "            dL = compute_cos_dist(s1.reshape(1,-1),s2.reshape(1,-1))[0] / len(neighbor_set)\n",
    "    \n",
    "            neighbor_shift[word] = dL\n",
    "    df_emb_shift = pd.DataFrame({'local':list(neighbor_shift.values()),\n",
    "                                 'global':[cos_dist[vocs[year2].index(word)] for word in neighbor_shift.keys()]},\n",
    "                                index=list(neighbor_shift.keys()))\n",
    "    df_emb_shift.to_csv(emb_shift_file)\n",
    "else:\n",
    "    df_emb_shift = pd.read_csv(emb_shift_file,index_col=0)"
   ]
  },
  {
   "cell_type": "markdown",
   "metadata": {
    "slideshow": {
     "slide_type": "skip"
    }
   },
   "source": [
    "Let's put the results into a dataframe."
   ]
  },
  {
   "cell_type": "code",
   "execution_count": 167,
   "metadata": {
    "slideshow": {
     "slide_type": "fragment"
    }
   },
   "outputs": [
    {
     "name": "stdout",
     "output_type": "stream",
     "text": [
      "                local    global\n",
      "whose        0.008907  0.346195\n",
      "hon          0.008886  0.646697\n",
      "adam         0.008871  0.742795\n",
      "ginger       0.008857  0.613050\n",
      "all_done     0.008845  0.655131\n",
      "besides      0.008805  0.474628\n",
      "final        0.008790  0.655661\n",
      "trevor       0.008755  0.914466\n",
      "chi          0.008751  0.749148\n",
      "aw           0.008749  0.715400\n",
      "skip         0.008605  0.796808\n",
      "maisie       0.008595  0.624713\n",
      "harold       0.008561  0.684228\n",
      "boo          0.008550  0.570662\n",
      "susie        0.008519  0.753309\n",
      "pet          0.008513  0.809766\n",
      "magic        0.008494  0.726015\n",
      "goldilocks   0.008460  0.771919\n",
      "kit          0.008451  0.700080\n",
      "fizz         0.008432  0.731448\n",
      "oopsie       0.008427  0.782548\n",
      "terrible     0.008421  0.450513\n",
      "fraser       0.008414  0.590386\n",
      "bout         0.008413  0.296298\n",
      "aah          0.008385  0.661583\n",
      "gramma       0.008361  0.796160\n",
      "twinkle      0.008321  0.505037\n",
      "don          0.008310  0.676776\n",
      "unicorn      0.008289  0.846938\n",
      "stupid       0.008285  0.684327\n",
      "alex         0.008263  0.616470\n",
      "complete     0.008240  0.744268\n",
      "teletubbies  0.008230  0.778833\n",
      "so_that      0.008221  0.655534\n",
      "muck         0.008218  0.787268\n",
      "trap         0.008191  0.847370\n",
      "sir          0.008167  0.597696\n",
      "purdie       0.008151  0.499893\n",
      "ben          0.008121  0.768754\n",
      "eh           0.008110  0.660424\n",
      "haha         0.008110  0.553853\n",
      "skate        0.008108  0.587834\n",
      "mush         0.008086  0.863786\n",
      "bare         0.008075  0.684848\n",
      "bouncy       0.008074  0.648963\n",
      "steven       0.008072  0.790461\n",
      "oy           0.008064  0.766957\n",
      "rhyme        0.008052  0.843439\n",
      "hoop         0.008017  0.816274\n",
      "afterwards   0.008002  0.692117\n"
     ]
    }
   ],
   "source": [
    "print(df_emb_shift.sort_values('local',ascending=False)[100:150])"
   ]
  },
  {
   "cell_type": "markdown",
   "metadata": {
    "slideshow": {
     "slide_type": "subslide"
    }
   },
   "source": [
    "### Top words by \"local\" metric"
   ]
  },
  {
   "cell_type": "code",
   "execution_count": 158,
   "metadata": {
    "slideshow": {
     "slide_type": "fragment"
    }
   },
   "outputs": [
    {
     "name": "stdout",
     "output_type": "stream",
     "text": [
      "patrick\n",
      "Age period0 neighbors: ['maddy', 'stefan', 'stef', 'john', 'lena', 'ken', 'nea']\n",
      "Age period4 neighbors: ['lad', 'pony', 'kitten', 'superman', 'girl', 'dumpling', 'puppy']\n",
      "\n",
      "melissa\n",
      "Age period0 neighbors: ['megan', 'leo', 'nea', 'callista', 'gst', 'almeda', 'gar']\n",
      "Age period4 neighbors: ['kate', 'matthew', 'kent', 'susie', 'karen', 'everybody', 'jennifer']\n",
      "\n",
      "marie\n",
      "Age period0 neighbors: ['electra', 'shay', 'sharon', 'drew', 'zack', 'abbie', 'lena']\n",
      "Age period4 neighbors: ['julie', 'david', 'plan', 'honest', 'routine', 'at_least', 'offer']\n",
      "\n",
      "oh_my\n",
      "Age period0 neighbors: ['melissa', 'mimi', 'dragonfly', 'malik', 'cha', 'jason', 'woah']\n",
      "Age period4 neighbors: ['sno', 'hin', 'cio', 'mec', 'carmella', 'perfect', 'hey']\n",
      "\n",
      "tom\n",
      "Age period0 neighbors: ['axe', 'scuffy', 'sergeant', 'murphy', 'worm', 'loly', 'earth']\n",
      "Age period4 neighbors: ['thomas', 'darling', 'poppet', 'jean', 'terrible', 'fizz', 'peace']\n",
      "\n",
      "liz\n",
      "Age period0 neighbors: ['sukie', 'anna', 'shawn', 'i', 'dominic', 'caroline', 'yourself']\n",
      "Age period4 neighbors: ['fire', 'control', 'ben', 'electric', 'flame', 'chief', 'service']\n",
      "\n",
      "johnny\n",
      "Age period0 neighbors: ['missus', 'brown', 'dwonk', 'mrs', 'dragonfly', 'bawk', 'antenna']\n",
      "Age period4 neighbors: ['cathy', 'bam_bam', 'anna', 'ow', 'sarah', 'michelle', 'pebbles']\n",
      "\n",
      "secret\n",
      "Age period0 neighbors: ['england', 'mike', 'enjoy', 'frighten', 'fifth', 'capital', 'storm']\n",
      "Age period4 neighbors: ['story', 'nan', 'ryan', 'truth', 'daisy', 'jessica', 'kent']\n",
      "\n",
      "ahhah\n",
      "Age period0 neighbors: ['chi', 'peek_a_boo', 'minnie_mouse', 'ah', 'hap', 'yay', 'hahaha']\n",
      "Age period4 neighbors: ['map', 'balloon', 'ramp', 'at', 'wow', 'as_well', 'jackie']\n",
      "\n",
      "naomi\n",
      "Age period0 neighbors: ['neil', 'georgie', 'hush', 'awww', 'puss', 'doggie_woggie', 'ssh']\n",
      "Age period4 neighbors: ['jennifer', 'whisper', 'punch', 'ursula', 'jackie', 'thomas_henry', 'boss']\n",
      "\n",
      "catherine\n",
      "Age period0 neighbors: ['joseph', 'thomas', 'scissors', 'debbie', 'anyway', 'naima', 'booboo']\n",
      "Age period4 neighbors: ['millisandy', 'cio', 'sno', 'kay', 'hey', 'laoise', 'bax']\n",
      "\n",
      "ugh\n",
      "Age period0 neighbors: ['yuck', 'kiddo', 'awful', 'gross', 'ew', 'craze', 'sweet']\n",
      "Age period4 neighbors: ['cardinal', 'hiya', 'laney', 'puss', 'oo', 'nelson', 'cheerio']\n",
      "\n",
      "peter\n",
      "Age period0 neighbors: ['patsy', 'travis', 'jennifer', 'lois', 'susie', 'awoh', 'sheila']\n",
      "Age period4 neighbors: ['bambi', 'bill', 'maggie', 'had_to', 'scale', 'panda', 'jim']\n",
      "\n",
      "jamie\n",
      "Age period0 neighbors: ['laurie', 'erin', 'cic', 'corner', 'faucet', 'liam', 'nina']\n",
      "Age period4 neighbors: ['michael', 'becky', 'mary', 'noddy', 'fred', 'isabelle', 'christopher']\n",
      "\n",
      "puss\n",
      "Age period0 neighbors: ['beauty', 'ada', 'monday', 'shush', 'iguana', 'nicky', 'poohbear']\n",
      "Age period4 neighbors: ['hiya', 'cheerio', 'byebye', 'roz', 'yay', 'mec', 'later']\n",
      "\n",
      "olivia\n",
      "Age period0 neighbors: ['she', 'lily', 'gabby', 'paddington', 'julius', 'especial', 'note']\n",
      "Age period4 neighbors: ['bye', 'hi', 'caroline', 'look_it', 'carmella', 'hold', 'woo']\n",
      "\n",
      "whats\n",
      "Age period0 neighbors: ['chad', 'kermit', 'gra', 'kalie', 'shay', 'deb', 'gam']\n",
      "Age period4 neighbors: ['cocoon', 'craig', 'jake', 'care_bear', 'obvious', 'what', 'peek']\n",
      "\n",
      "jason\n",
      "Age period0 neighbors: ['jasper', 'direction', 'liam', 'dribble', 'otherwise', 'babe', 'josh']\n",
      "Age period4 neighbors: ['robert', 'santa', 'spencer', 'jamie', 'nola', 'kate', 'santa_claus']\n",
      "\n",
      "dan\n",
      "Age period0 neighbors: ['gra', 'deb', 'mye', 'zic', 'lena', 'colin', 'sally']\n",
      "Age period4 neighbors: ['matthew', 'everybody', 'nina', 'before', 'anthony', 'charles', 'stella']\n",
      "\n",
      "yeh\n",
      "Age period0 neighbors: ['merry', 'anyone', 'uhhuh', 'mammal', 'june', 'horrid', 'woof']\n",
      "Age period4 neighbors: ['oh_no', 'never_mind', 'as_well', 'sometime', 'alice', 'mm', 'yes']\n",
      "\n"
     ]
    }
   ],
   "source": [
    "for word in df_emb_shift.sort_values('local',ascending=False).head(20).index:\n",
    "    print(word)\n",
    "    print(f'Age {year1} neighbors: {neighbors(word, vecs[year1][:thresh], vocs[year1], K=7)}')\n",
    "    print(f'Age {year2} neighbors: {neighbors(word, vecs[year2][:thresh], vocs[year2], K=7)}')\n",
    "    print()"
   ]
  },
  {
   "cell_type": "markdown",
   "metadata": {
    "slideshow": {
     "slide_type": "subslide"
    }
   },
   "source": [
    "Pretty similar, but avoids a few of the false positives in `global`, such as \"00\", while weirdly including \"the\" as the top word."
   ]
  },
  {
   "cell_type": "markdown",
   "metadata": {
    "slideshow": {
     "slide_type": "slide"
    }
   },
   "source": [
    "## Extensions\n",
    "\n",
    "- Try a number of different neighborhood sizes, and test how it affects the ranking of words. Is the \"local\" method sensitive to this parameter?\n",
    "- Hamilton et al show that more common words tend to change more slowly. Can you replicate this finding using this data?\n",
    "- Using the other datafiles, try to determine the pace of change over time; do words shift their meanings more in the late 20th century?\n"
   ]
  },
  {
   "cell_type": "code",
   "execution_count": null,
   "metadata": {},
   "outputs": [],
   "source": []
  }
 ],
 "metadata": {
  "celltoolbar": "Slideshow",
  "kernelspec": {
   "display_name": "Python 3",
   "language": "python",
   "name": "python3"
  },
  "language_info": {
   "codemirror_mode": {
    "name": "ipython",
    "version": 3
   },
   "file_extension": ".py",
   "mimetype": "text/x-python",
   "name": "python",
   "nbconvert_exporter": "python",
   "pygments_lexer": "ipython3",
   "version": "3.7.1"
  }
 },
 "nbformat": 4,
 "nbformat_minor": 2
}
