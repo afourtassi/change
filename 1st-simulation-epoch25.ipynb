{
 "cells": [
  {
   "cell_type": "markdown",
   "metadata": {
    "slideshow": {
     "slide_type": "slide"
    }
   },
   "source": [
    "# Dynamic Word Embeddings\n",
    "\n",
    "- by Jacob Eisenstein, May 2019\n",
    "- modified by Hang Jiang, Sept. 2019\n",
    "\n",
    "The previous notebook tracked how words were used by different groups over time. \n",
    "Now we'll explore how words change meaning over time, using dynamic word embeddings. The specific goals are:\n",
    "\n",
    "- Identify near-neighbors of words at various periods in time.\n",
    "- Align word embeddings over time using by solving an orthogonal Procrustes problem.\n",
    "- Rank words by semantic change from age 0 to age 3, using \"first-order\" (embedding-based) and \"second-order\" (neighbor-based) techniques."
   ]
  },
  {
   "cell_type": "markdown",
   "metadata": {
    "slideshow": {
     "slide_type": "subslide"
    }
   },
   "source": [
    "## Data acquisition\n",
    "\n",
    "Because training dynamic word embeddings is time-consuming, we'll use pretrained embeddings from [Hamilton et al](https://github.com/williamleif/histwords). As before, these embeddings are available in the [bitbucket repository](https://bitbucket.org/jacobeisenstein/language-change-tutorial-data/src/master/embeddings-over-time.tgz). \n",
    "\n",
    "1. If you have not already cloned it, please run:\n",
    "\n",
    "```\n",
    "git clone https://bitbucket.org/jacobeisenstein/language-change-tutorial-data.git\n",
    "\n",
    "```\n",
    "2. Then link or move the directory into `../data`,\n",
    "```\n",
    "cd data; ln -s ../language-change-tutorial-data/embeddings-over-time\n",
    "```\n"
   ]
  },
  {
   "cell_type": "code",
   "execution_count": 3,
   "metadata": {
    "slideshow": {
     "slide_type": "skip"
    }
   },
   "outputs": [],
   "source": [
    "import os\n",
    "from glob import glob\n",
    "import pickle\n",
    "\n",
    "import numpy as np\n",
    "import pandas as pd\n",
    "import matplotlib.pyplot as plt\n",
    "%matplotlib inline\n",
    "\n",
    "from tqdm import tqdm_notebook as tqdm # convenient progressbar"
   ]
  },
  {
   "cell_type": "markdown",
   "metadata": {
    "slideshow": {
     "slide_type": "subslide"
    }
   },
   "source": [
    "## Data loading"
   ]
  },
  {
   "cell_type": "code",
   "execution_count": 4,
   "metadata": {},
   "outputs": [
    {
     "name": "stdout",
     "output_type": "stream",
     "text": [
      "(1106, 100)\n",
      "[[-0.10850129 -0.14841248  0.0802336  ... -0.0177851   0.11826339\n",
      "  -0.12250387]\n",
      " [ 0.00414176 -0.11482116 -0.10943656 ...  0.12671569  0.12409339\n",
      "  -0.0757904 ]\n",
      " [ 0.11619122 -0.03094193  0.207478   ... -0.14794838 -0.04930073\n",
      "   0.16541904]\n",
      " ...\n",
      " [ 0.16617586  0.13609506 -0.08588714 ... -0.06947975  0.00945548\n",
      "  -0.26285833]\n",
      " [ 0.15944996  0.01873117  0.02500613 ... -0.10322766 -0.01529341\n",
      "   0.07301477]\n",
      " [ 0.15349475  0.01524165  0.08303512 ...  0.02267817 -0.00116406\n",
      "   0.02290718]]\n",
      "(4324, 100)\n",
      "[[-0.13797335 -0.0093639   0.15782689 ... -0.0925098  -0.11665087\n",
      "   0.08927236]\n",
      " [-0.0395962  -0.2156292   0.04717473 ...  0.08278216  0.03006415\n",
      "   0.04921006]\n",
      " [-0.03151372  0.10250426 -0.1332333  ...  0.03456789  0.02985726\n",
      "   0.01416872]\n",
      " ...\n",
      " [-0.0593846   0.12744443 -0.16291556 ...  0.16967757  0.0861298\n",
      "   0.1364089 ]\n",
      " [-0.15126978  0.13356458  0.22223407 ... -0.03937009  0.05852963\n",
      "  -0.05980659]\n",
      " [ 0.02114089  0.0558973   0.07987016 ... -0.18931238  0.05675746\n",
      "   0.12266973]]\n",
      "(5967, 100)\n",
      "[[ 0.20874569 -0.04036529 -0.02440203 ... -0.02549146 -0.14185308\n",
      "   0.03385196]\n",
      " [ 0.02683925 -0.10670713 -0.13232012 ... -0.1851956  -0.06411697\n",
      "   0.20382361]\n",
      " [ 0.09446913  0.01790255 -0.11615152 ...  0.02665536 -0.11745648\n",
      "   0.14374033]\n",
      " ...\n",
      " [-0.02890906  0.03529001 -0.01182713 ... -0.14085326 -0.23466735\n",
      "   0.10327761]\n",
      " [ 0.03040931 -0.07803172 -0.03495648 ...  0.06532558  0.0148608\n",
      "  -0.07579313]\n",
      " [ 0.06751391  0.08156689  0.16169466 ... -0.12215137  0.01471793\n",
      "  -0.16472831]]\n",
      "(5386, 100)\n",
      "[[-0.04873955  0.08213398 -0.10335125 ...  0.13214    -0.17199738\n",
      "   0.09182414]\n",
      " [-0.11902294  0.03672838 -0.04312406 ... -0.01461771 -0.20021352\n",
      "   0.02363843]\n",
      " [ 0.05262259  0.0996882   0.06199984 ... -0.03521479 -0.01769662\n",
      "  -0.06652761]\n",
      " ...\n",
      " [ 0.05856229  0.13803798  0.15247567 ...  0.00164352 -0.01928028\n",
      "  -0.09292736]\n",
      " [ 0.04615701  0.02820786  0.18431734 ...  0.00174141  0.00789905\n",
      "   0.03127288]\n",
      " [ 0.06229328  0.1589587   0.20567465 ... -0.10859358 -0.01594742\n",
      "   0.25692078]]\n"
     ]
    }
   ],
   "source": [
    "from typing import List, Dict, Tuple, Sequence\n",
    "base_dir = os.path.join('/Users/hang/Desktop/2019-fall/change/','childes_data','embeddings-over-time') # make sure you expand the tar file in ../data\n",
    "dicts = pickle.load(open(os.path.join(base_dir,'embeddings-over-time-vocabs-ep25.pickle'),'rb'))\n",
    "\n",
    "vocs: Dict[int, List] = {k: list(v.keys()) for k, v in dicts.items()}\n",
    "years: List[int] = list(vocs.keys()) # 0, 1\n",
    "# print(vocs)\n",
    "vecs: Dict[int, List] = dict()\n",
    "    \n",
    "# 0 ./childes_data/adult_utterances_age_corpus_48_60 .csv\n",
    "# 1 ./childes_data/adult_utterances_age_corpus_0_12.csv\n",
    "# 2 ./childes_data/adult_utterances_age_corpus_36_48 .csv\n",
    "# 3 ./childes_data/adult_utterances_age_corpus _12_24 .csv\n",
    "\n",
    "for year, d in dicts.items():\n",
    "    year_vectors = np.array([list(d.values())]).reshape(-1, 100)\n",
    "    print(year_vectors.shape)\n",
    "    vecs[year] = year_vectors / np.linalg.norm(year_vectors, axis=-1)[:, np.newaxis]\n",
    "#     for w in vecs[year] /= norms\n",
    "    print(vecs[year])"
   ]
  },
  {
   "cell_type": "code",
   "execution_count": 5,
   "metadata": {
    "slideshow": {
     "slide_type": "fragment"
    }
   },
   "outputs": [
    {
     "data": {
      "text/plain": [
       "array([1.        , 0.9999998 , 1.        , ..., 0.99999994, 1.        ,\n",
       "       1.0000001 ], dtype=float32)"
      ]
     },
     "execution_count": 5,
     "metadata": {},
     "output_type": "execute_result"
    }
   ],
   "source": [
    "(vecs[1]**2).sum(1)"
   ]
  },
  {
   "cell_type": "markdown",
   "metadata": {
    "slideshow": {
     "slide_type": "fragment"
    }
   },
   "source": [
    "Vectors are initialized to have a Euclidean norm of $1$. There are different number of words per year, listed in `vocs[year]`."
   ]
  },
  {
   "cell_type": "markdown",
   "metadata": {
    "slideshow": {
     "slide_type": "slide"
    }
   },
   "source": [
    "# Near neighbors\n",
    "\n",
    "Let's start by computing some near neighbors. In general, this is done by computing cosine similarity between word vectors,\n",
    "\\begin{equation}\n",
    "s(\\vec{x},\\vec{y}) = \\frac{\\vec{x} \\cdot \\vec{y}}{||\\vec{x}|| \\times || \\vec{y} ||}.\n",
    "\\end{equation}\n",
    "\n",
    "However, because these embeddings have a guaranteed norm of 1, the denominator can be ignored, so we need only consider the dot product."
   ]
  },
  {
   "cell_type": "code",
   "execution_count": 6,
   "metadata": {
    "slideshow": {
     "slide_type": "skip"
    }
   },
   "outputs": [],
   "source": [
    "def neighbors(query : str,\n",
    "              embs: np.ndarray,\n",
    "              vocab: list,\n",
    "              K : int = 3) -> list:\n",
    "    sims = np.dot(embs[vocab.index(query),],embs.T)\n",
    "    output = []\n",
    "    for sim_idx in sims.argsort()[::-1][1:(1+K)]:\n",
    "        if sims[sim_idx] > 0:\n",
    "            output.append(vocab[sim_idx])\n",
    "    return output"
   ]
  },
  {
   "cell_type": "code",
   "execution_count": 7,
   "metadata": {
    "slideshow": {
     "slide_type": "skip"
    }
   },
   "outputs": [],
   "source": [
    "# a convenience function to compute the nearest neighbors per year\n",
    "def neighbors_per_year(query: str, K=5) -> dict:\n",
    "    nns = dict()\n",
    "    for year, embs in vecs.items():\n",
    "        nns[year] = neighbors(query, embs, vocs[year], K=K)\n",
    "    return nns"
   ]
  },
  {
   "cell_type": "markdown",
   "metadata": {
    "slideshow": {
     "slide_type": "subslide"
    }
   },
   "source": [
    "## Examples"
   ]
  },
  {
   "cell_type": "code",
   "execution_count": 8,
   "metadata": {
    "slideshow": {
     "slide_type": "fragment"
    }
   },
   "outputs": [
    {
     "name": "stdout",
     "output_type": "stream",
     "text": [
      "0 ['ma', 'mommy', 'everybody', 'Grandma', 'us']\n",
      "1 ['mommy', 'dad', 'Daddy', 'mummy', 'Mommy']\n",
      "2 ['mommy', 'Daddy', 'mum', 'mummy', 'dad']\n",
      "3 ['mum', 'mommy', 'Daddy', 'dad', 'father']\n"
     ]
    }
   ],
   "source": [
    "for year, nn_list in neighbors_per_year('daddy').items():\n",
    "    print(year, nn_list)"
   ]
  },
  {
   "cell_type": "code",
   "execution_count": 9,
   "metadata": {
    "slideshow": {
     "slide_type": "fragment"
    }
   },
   "outputs": [
    {
     "name": "stdout",
     "output_type": "stream",
     "text": [
      "0 ['lady', 'cow', 'Old_McDonald', 'sheep', 'clock']\n",
      "1 ['kitty', 'puppy', 'duck', 'lamb', 'cat']\n",
      "2 ['kitty', 'cat', 'horse', 'cow', 'donkey']\n",
      "3 ['cat', 'kitty', 'sheep', 'horse', 'frog']\n"
     ]
    }
   ],
   "source": [
    "for year, nn_list in neighbors_per_year('dog').items():\n",
    "    print(year, nn_list)"
   ]
  },
  {
   "cell_type": "code",
   "execution_count": 10,
   "metadata": {
    "slideshow": {
     "slide_type": "fragment"
    }
   },
   "outputs": [
    {
     "name": "stdout",
     "output_type": "stream",
     "text": [
      "0 ['rain', 'itsy', 'spider', 'bitsy', 'spout']\n",
      "1 ['sky', 'moon', 'sunshine', 'rear', 'caboose']\n",
      "2 ['sunshine', 'cloud', 'star', 'rain', 'warm']\n",
      "3 ['warm', 'pop', 'Sunday', 'egg', 'tiny']\n"
     ]
    }
   ],
   "source": [
    "for year, nn_list in neighbors_per_year('sun').items():\n",
    "    print(year, nn_list)"
   ]
  },
  {
   "cell_type": "markdown",
   "metadata": {
    "slideshow": {
     "slide_type": "subslide"
    }
   },
   "source": [
    "### Exercise \n",
    "\n",
    "Try to find an example with as many similar neighbors as possible in age 1 and age 3; try to find another example as few similar neighbors as possible."
   ]
  },
  {
   "cell_type": "markdown",
   "metadata": {
    "slideshow": {
     "slide_type": "skip"
    }
   },
   "source": [
    "# Linking embedding over time\n",
    "\n",
    "The first task is simple to align words across vocabularies. We will do this by building a sparse permutation matrix."
   ]
  },
  {
   "cell_type": "code",
   "execution_count": 11,
   "metadata": {
    "slideshow": {
     "slide_type": "skip"
    }
   },
   "outputs": [],
   "source": [
    "import scipy.sparse as sparse"
   ]
  },
  {
   "cell_type": "code",
   "execution_count": 12,
   "metadata": {
    "slideshow": {
     "slide_type": "skip"
    }
   },
   "outputs": [],
   "source": [
    "def build_alignment(year1 : int, year2 : int) -> sparse.csr_matrix:\n",
    "    # given two years (keys into vecs and vocs)\n",
    "    # compute a sparse matrix M representing the permutation of word indices from the year1 vecs to the year2 vecs  \n",
    "    # then the rows of v1 will be aligned with the rows of M v2 \n",
    "    \n",
    "    all_var1 = vecs[year1].var(1)\n",
    "    all_var2 = vecs[year2].var(1)\n",
    "\n",
    "    rows = []\n",
    "    cols = []\n",
    "\n",
    "    ivoc2 = {j:i for i,j in enumerate(vocs[year2])}\n",
    "\n",
    "    for widx1,word in enumerate(vocs[year1]):\n",
    "        if all_var1[widx1] != 0 and word in vocs[year2]:\n",
    "            widx2 = ivoc2[word]\n",
    "            if all_var2[widx2] != 0:\n",
    "                rows.append(widx1)\n",
    "                cols.append(widx2)\n",
    "\n",
    "    align = sparse.csr_matrix(([1]*len(rows),(rows,cols)),shape=[len(vocs[year1]),len(vocs[year2])])\n",
    "    return align"
   ]
  },
  {
   "cell_type": "code",
   "execution_count": 13,
   "metadata": {
    "slideshow": {
     "slide_type": "skip"
    }
   },
   "outputs": [],
   "source": [
    "# for the rest of the notebook, we'll focus on the contrast between age 1 and age 3\n",
    "year1 = 1\n",
    "year2 = 3"
   ]
  },
  {
   "cell_type": "code",
   "execution_count": 14,
   "metadata": {
    "slideshow": {
     "slide_type": "skip"
    }
   },
   "outputs": [],
   "source": [
    "align = build_alignment(year2, year1)"
   ]
  },
  {
   "cell_type": "code",
   "execution_count": 15,
   "metadata": {
    "slideshow": {
     "slide_type": "skip"
    }
   },
   "outputs": [
    {
     "data": {
      "text/plain": [
       "<5386x4324 sparse matrix of type '<class 'numpy.int64'>'\n",
       "\twith 3130 stored elements in Compressed Sparse Row format>"
      ]
     },
     "execution_count": 15,
     "metadata": {},
     "output_type": "execute_result"
    }
   ],
   "source": [
    "align"
   ]
  },
  {
   "cell_type": "code",
   "execution_count": 16,
   "metadata": {
    "slideshow": {
     "slide_type": "skip"
    }
   },
   "outputs": [],
   "source": [
    "vecs_aligned = align.dot(vecs[year1])"
   ]
  },
  {
   "cell_type": "markdown",
   "metadata": {
    "slideshow": {
     "slide_type": "skip"
    }
   },
   "source": [
    "To validate, let's check that words in `vecs_aligned` have roughly the same near-neighbors as in `vecs[year2]`."
   ]
  },
  {
   "cell_type": "code",
   "execution_count": 17,
   "metadata": {
    "slideshow": {
     "slide_type": "skip"
    }
   },
   "outputs": [
    {
     "name": "stdout",
     "output_type": "stream",
     "text": [
      "car\n",
      "1 ['van', 'truck', 'train', 'tractor', 'stroll', 'plane', 'garage']\n",
      "3 ['garage', 'wagon', 'train', 'bus', 'truck', 'boat', 'cab'] \n",
      "\n",
      "bottle\n",
      "1 ['milk', 'cup', 'drink', 'baba', 'pacify', 'spoon', 'juice']\n",
      "3 ['cup', 'spoon', 'packet', 'refrigerator', 'glass', 'milk', 'beaker'] \n",
      "\n",
      "dog\n",
      "1 ['kitty', 'puppy', 'duck', 'lamb', 'cat', 'horse', 'bone']\n",
      "3 ['cat', 'kitty', 'sheep', 'horse', 'frog', 'cow', 'kangaroo'] \n",
      "\n",
      "love\n",
      "1 ['buy', 'gosh', 'exercise', 'meet', 'give', 'favorite', 'say']\n",
      "3 ['enjoy', 'hate', 'adore', 'gorgeous', 'delicious', 'favorite', 'recognize'] \n",
      "\n"
     ]
    }
   ],
   "source": [
    "for query in ['car','bottle','dog','love']:\n",
    "    print(query)\n",
    "    print(year1, neighbors(query, vecs_aligned, vocs[year2], K=7))\n",
    "    print(year2, neighbors(query, vecs[year2], vocs[year2], K=7),'\\n')"
   ]
  },
  {
   "cell_type": "raw",
   "metadata": {
    "slideshow": {
     "slide_type": "skip"
    }
   },
   "source": [
    "\n",
    "Remember that our goal is to find words whose meanings have changed between `year1` and `year2`. Be careful: we cannot directly compare `vecs[year1]` to `vecs[year2]` because the word embeddings are not aligned. To solve this, we will search for the best orthogonal projection."
   ]
  },
  {
   "cell_type": "markdown",
   "metadata": {
    "slideshow": {
     "slide_type": "skip"
    }
   },
   "source": [
    "## Procrustes\n",
    "\n",
    "$\\newcommand{\\transpose}[1]{#1^{\\top}}$\n",
    "\n",
    "The orthogonal Procrustes problem for matrices $A$ and $B$ is to find an orthogonal projection matrix $\\Omega$ that minimizes the norm of the difference between $\\Omega A$ and $B$:\n",
    "\n",
    "\\begin{equation}\n",
    "\\min_{\\Omega} ||\\Omega A - B ||_F,\n",
    "\\end{equation}\n",
    "s.t. $\\transpose{\\Omega} \\Omega = \\mathbb{I}$, where $A, B \\in \\mathbb{R}^{K \\times V}$ are matrices of $K$-dimensional embeddings, and $\\Omega$ is therefore an orthonormal $K \\times K$ projection matrix. The norm $||M||_F = \\left(\\sum_i \\sum_j m_{i,j}^2\\right)^{1/2}$. \n",
    "\n",
    "The solution to the orthogonal Procrustes problem is obtained by performing singular value decomposition on the product,\n",
    "\n",
    "\\begin{align}\n",
    "U \\Sigma \\transpose{V} = &{} \\text{SVD}(B\\transpose{A})\\\\\n",
    "\\Omega = &{} U \\transpose{V}.\n",
    "\\end{align}\n"
   ]
  },
  {
   "cell_type": "markdown",
   "metadata": {
    "slideshow": {
     "slide_type": "subslide"
    }
   },
   "source": [
    "## Procrustes"
   ]
  },
  {
   "cell_type": "code",
   "execution_count": 18,
   "metadata": {
    "slideshow": {
     "slide_type": "fragment"
    }
   },
   "outputs": [],
   "source": [
    "def procrustes(A, B):\n",
    "    U, _, Vt = np.linalg.svd(B.dot(A.T))\n",
    "    return U.dot(Vt)"
   ]
  },
  {
   "cell_type": "markdown",
   "metadata": {
    "slideshow": {
     "slide_type": "subslide"
    }
   },
   "source": [
    "### Synthetic data"
   ]
  },
  {
   "cell_type": "code",
   "execution_count": 19,
   "metadata": {
    "slideshow": {
     "slide_type": "fragment"
    }
   },
   "outputs": [
    {
     "name": "stdout",
     "output_type": "stream",
     "text": [
      "Norm without projection:\t315.419\n",
      "Norm with projection:\t30.809\n"
     ]
    }
   ],
   "source": [
    "# randomly generate an orthogonal projection\n",
    "P1,_,_ = np.linalg.svd(np.random.randn(100,30))\n",
    "A = np.random.randn(100,1000)\n",
    "B = P1.dot(A) + 0.1 * np.random.randn(100,1000)\n",
    "\n",
    "print(f'Norm without projection:\\t{np.linalg.norm(B - A):0.3f}')\n",
    "print(f'Norm with projection:\\t{np.linalg.norm(B - procrustes(A,B).dot(A)):0.3f}')"
   ]
  },
  {
   "cell_type": "code",
   "execution_count": 20,
   "metadata": {
    "slideshow": {
     "slide_type": "subslide"
    }
   },
   "outputs": [
    {
     "data": {
      "image/png": "[encoded data removed]",
      "text/plain": [
       "<Figure size 576x216 with 2 Axes>"
      ]
     },
     "metadata": {
      "needs_background": "light"
     },
     "output_type": "display_data"
    }
   ],
   "source": [
    "fig, (ax1,ax2) = plt.subplots(1,2,figsize=[8,3])\n",
    "ax1.scatter(A[:,45],B[:,45])\n",
    "ax1.set_title(\"Without projection\")\n",
    "ax2.scatter(procrustes(A,B).dot(A[:,45]),B[:,45]);\n",
    "ax2.set_title('With projection');"
   ]
  },
  {
   "cell_type": "markdown",
   "metadata": {
    "slideshow": {
     "slide_type": "fragment"
    }
   },
   "source": [
    "**Exercise**: evaluate the projection quality while varying the amount of noise in $B$."
   ]
  },
  {
   "cell_type": "markdown",
   "metadata": {
    "slideshow": {
     "slide_type": "subslide"
    }
   },
   "source": [
    "## Application to word vectors\n",
    "\n",
    "Let $A \\in \\mathbb{R}^{K \\times V}$ be the matrix of aligned word vectors, with words on the columns, and let $B \\in \\mathbb{R}^{K \\times V}$ be an analogous matrix of word vectors at an alternative time. Then we solve the orthogonal Procrustes problem to obtain the projection $\\Omega$."
   ]
  },
  {
   "cell_type": "code",
   "execution_count": 21,
   "metadata": {
    "slideshow": {
     "slide_type": "fragment"
    }
   },
   "outputs": [],
   "source": [
    "Omega = procrustes(vecs_aligned.T, vecs[year2].T)\n",
    "vecs_projected = Omega.dot(vecs_aligned.T).T"
   ]
  },
  {
   "cell_type": "code",
   "execution_count": 22,
   "metadata": {},
   "outputs": [
    {
     "name": "stdout",
     "output_type": "stream",
     "text": [
      "4324\n"
     ]
    }
   ],
   "source": [
    "length_of_vocab = min(vecs[year1].shape[0], vecs[year2].shape[0])\n",
    "print(length_of_vocab)"
   ]
  },
  {
   "cell_type": "code",
   "execution_count": 23,
   "metadata": {
    "slideshow": {
     "slide_type": "fragment"
    }
   },
   "outputs": [
    {
     "name": "stdout",
     "output_type": "stream",
     "text": [
      "pre-alignment:  91.61431\n",
      "pre-projection:  88.56659932376766\n",
      "after projection:  77.31750324725199\n"
     ]
    }
   ],
   "source": [
    "print('pre-alignment: ',np.linalg.norm(vecs[year2][:length_of_vocab] - vecs[year1]))\n",
    "print('pre-projection: ',np.linalg.norm(vecs[year2] - vecs_aligned))\n",
    "print('after projection: ',np.linalg.norm(vecs[year2] - vecs_projected))"
   ]
  },
  {
   "cell_type": "code",
   "execution_count": 24,
   "metadata": {
    "slideshow": {
     "slide_type": "subslide"
    }
   },
   "outputs": [
    {
     "data": {
      "image/png": "[encoded data removed]",
      "text/plain": [
       "<Figure size 576x216 with 2 Axes>"
      ]
     },
     "metadata": {
      "needs_background": "light"
     },
     "output_type": "display_data"
    }
   ],
   "source": [
    "fig, (ax1,ax2) = plt.subplots(1,2,figsize=[8,3])\n",
    "\n",
    "query = 'fish'\n",
    "vec2_no_project = vecs_aligned[vocs[year2].index(query),]\n",
    "vec2_projected = vecs_projected[vocs[year2].index(query),]\n",
    "vec1_query = vecs[year2][vocs[year2].index(query),]\n",
    "\n",
    "ax1.scatter(vec1_query, vec2_no_project)\n",
    "ax1.set_title(\"Without projection\")\n",
    "\n",
    "ax2.scatter(vec1_query, vec2_projected)\n",
    "ax2.set_title('With projection');"
   ]
  },
  {
   "cell_type": "markdown",
   "metadata": {
    "slideshow": {
     "slide_type": "fragment"
    }
   },
   "source": [
    "After projection the alignment is closer, but still far from perfect."
   ]
  },
  {
   "cell_type": "markdown",
   "metadata": {
    "slideshow": {
     "slide_type": "slide"
    }
   },
   "source": [
    "## Measuring semantic change by embedding norms\n",
    "\n",
    "After projection, we can search for words with large changes in meaning by evaluating the \"cosine distance\" between the projected embedding in $t_1$ and the embedding in $t_2$."
   ]
  },
  {
   "cell_type": "code",
   "execution_count": 25,
   "metadata": {
    "slideshow": {
     "slide_type": "fragment"
    }
   },
   "outputs": [],
   "source": [
    "def compute_cos_dist(vec1 : np.array, vec2 : np.array) -> np.array:    \n",
    "    numerator = (vec1 * vec2).sum(1)\n",
    "    denominator = np.sqrt((vec1**2).sum(1)) * np.sqrt((vec2**2).sum(1))\n",
    "    cos_dist = 1 - numerator / (1e-5 + denominator)\n",
    "\n",
    "    # eliminate words that are zeroed out\n",
    "    return cos_dist * (vec1.var(1) > 0) * (vec2.var(1) > 0)"
   ]
  },
  {
   "cell_type": "code",
   "execution_count": 26,
   "metadata": {
    "slideshow": {
     "slide_type": "fragment"
    }
   },
   "outputs": [],
   "source": [
    "cos_dist = compute_cos_dist(vecs[year2], vecs_projected)"
   ]
  },
  {
   "cell_type": "markdown",
   "metadata": {
    "slideshow": {
     "slide_type": "subslide"
    }
   },
   "source": [
    "### Top words by global metric\n",
    "\n",
    "Now let's print the words with the biggest changes from Age 1 to Age 3. \n",
    "\n",
    "The embeddings for rare words are a little weird, so let's focus on the 10K most frequent."
   ]
  },
  {
   "cell_type": "code",
   "execution_count": 27,
   "metadata": {
    "slideshow": {
     "slide_type": "subslide"
    }
   },
   "outputs": [
    {
     "name": "stdout",
     "output_type": "stream",
     "text": [
      "grip\t(ranks=3470,3400)\tdist=1.13\n",
      "age 3 neighbors: ['mmmm', 'koolaid', 'hiya', 'hurray', 'prayer', 'slime', 'expensive']\n",
      "age 3 neighbors: ['hold', 'twist', 'bash', 'rub', 'drip', 'bend', 'pull']\n",
      "\n",
      "Pingu\t(ranks=3153,1485)\tdist=1.09\n",
      "age 3 neighbors: ['nurse', 'crocodile', 'celery', 'wave', 'pacify', 'bandage', 'adventure']\n",
      "age 3 neighbors: ['Joanne', 'loud', 'slow', 'seal', 'Freddie', 'delay', 'choo']\n",
      "\n",
      "chuck\t(ranks=3538,2736)\tdist=1.09\n",
      "age 3 neighbors: ['spit', 'tip', 'straighten', 'stage', 'escalator', 'wake', 'dump']\n",
      "age 3 neighbors: ['Darren', 'Starwars', 'Allison', 'Nicky', 'Bet', 'Flintstones', 'urgh']\n",
      "\n",
      "lab\t(ranks=5282,3625)\tdist=1.09\n",
      "age 3 neighbors: ['bulb', 'office', 'stare', 'age', 'school', 'bright', 'leap']\n",
      "age 3 neighbors: ['Power_Ranger', 'Pikachu', 'jeep', 'rash', 'scrap', 'black', 'slush']\n",
      "\n",
      "cheerio\t(ranks=5378,1354)\tdist=1.07\n",
      "age 3 neighbors: ['raisin', 'cracker', 'strawberry', 'Cheerios', 'cookie', 'pear', 'oatmeal']\n",
      "age 3 neighbors: ['knacker', 'Dennis_The_Menace', 'for_goodness_sake', 'Jackson_Browne', 'Auntie_Debbie', 'okey_dokey', 'bot']\n",
      "\n",
      "fudge\t(ranks=2171,3095)\tdist=1.05\n",
      "age 3 neighbors: ['Harry', 'butcher', 'fabric', 'health', 'officer', 'clay', 'myself']\n",
      "age 3 neighbors: ['toffee', 'mushroom', 'chocolate', 'meringue', 'raspberry', 'wheat', 'cherry']\n",
      "\n",
      "uhhum\t(ranks=1369,528)\tdist=1.05\n",
      "age 3 neighbors: ['rabbit', 'gray', 'feather', 'spot', 'hop', 'Miriam', 'tail']\n",
      "age 3 neighbors: ['Jose', 'Crystal', 'pray', 'collie', 'sane', 'gotcha', 'neato']\n",
      "\n",
      "literal\t(ranks=4516,3227)\tdist=1.04\n",
      "age 3 neighbors: ['impress', 'distract', 'confuse', 'true', 'fortunate', 'exercise', 'Louise']\n",
      "age 3 neighbors: ['floor', 'site', 'Central', 'top', 'north', 'motorcyclist', 'awful']\n",
      "\n",
      "afterward\t(ranks=4288,4158)\tdist=1.02\n",
      "age 3 neighbors: ['wide', 'while', 'crust', 'wait', 'save', 'fake', 'just']\n",
      "age 3 neighbors: ['peekaboo', 'Concentration', 'comma', 'Nintendo', 'noone', 'tic_tac_toe', 'domino']\n",
      "\n",
      "blah\t(ranks=3618,1054)\tdist=1.02\n",
      "age 3 neighbors: ['dirty', 'yuck', 'heehee', 'slime', 'ruff', 'cupcake', 'lemon']\n",
      "age 3 neighbors: ['tyrannosaurus', 'mention', 'precise', 'magician', 'Dennis_The_Menace', 'Duc', 'My']\n",
      "\n",
      "Rapunzel\t(ranks=4548,2021)\tdist=1.02\n",
      "age 3 neighbors: ['crown', 'shoot', 'jelly', 'Charlotte', 'wig', 'lobster', 'split']\n",
      "age 3 neighbors: ['nativity', 'Barbies', 'mound', 'heck', 'perfume', 'Sweetie', 'clothing']\n",
      "\n",
      "Sally\t(ranks=2084,585)\tdist=1.01\n",
      "age 3 neighbors: ['Mouse', 'Mom', 'Lucy', 'Mama', 'Snow', 'Kermit', 'Chi']\n",
      "age 3 neighbors: ['Donald', 'hop', 'Sunny', 'Huey', 'carpet', 'Winnie', 'Piggy']\n",
      "\n",
      "Jerry\t(ranks=1303,1856)\tdist=1.01\n",
      "age 3 neighbors: ['Fred', 'Louie', 'middle', 'city', 'crumb', 'Doctor', 'Tommy']\n",
      "age 3 neighbors: ['hey', 'Corrine', 'Anthony', 'Kim', 'Valerie', 'Jimmy', 'Keisha']\n",
      "\n",
      "Edward\t(ranks=2585,1906)\tdist=1.01\n",
      "age 3 neighbors: ['Thomas', 'Gordon', 'tow', 'Tom', 'bound', 'cheer', 'cross']\n",
      "age 3 neighbors: ['mammy', 'Beverly', 'Valerie', 'Hymie', 'puss', 'Crystal', 'Lynette']\n",
      "\n",
      "noone\t(ranks=4242,4114)\tdist=1.00\n",
      "age 3 neighbors: ['annoy', 'impress', 'wide', 'sleigh', 'far', 'prefer', 'agree']\n",
      "age 3 neighbors: ['peekaboo', 'afterward', 'splendid', 'bong', 'Concentration', 'Humpty', 'dearie']\n",
      "\n",
      "slug\t(ranks=1615,2862)\tdist=1.00\n",
      "age 3 neighbors: ['straight', 'fairy', 'against', 'high', 'vine', 'next_to', 'giddy']\n",
      "age 3 neighbors: ['burdock', 'snail', 'prawn', 'Dandelion', 'worm', 'syrup', 'dandelion']\n",
      "\n",
      "Liam\t(ranks=3146,1090)\tdist=1.00\n",
      "age 3 neighbors: ['Pete', 'Jamie', 'Lincoln', 'Laurie', 'Joyce', 'Eddie', 'Bob_The_Builder']\n",
      "age 3 neighbors: ['Fred', 'flask', 'palm', 'aunt', 'arrive', 'uncle', 'cage']\n",
      "\n",
      "Sis\t(ranks=806,2462)\tdist=1.00\n",
      "age 3 neighbors: ['loaf', 'Charlie', 'tone', 'fabric', 'Investigator', 'dada', 'rye']\n",
      "age 3 neighbors: ['Bro', 'Chi', 'ravioli', 'Kim', 'Mom', 'Tarci', 'Sarah']\n",
      "\n",
      "cottage\t(ranks=1835,3558)\tdist=1.00\n",
      "age 3 neighbors: ['swiss', 'salami', 'slice', 'pickle', 'macaroni', 'olive', 'sauce']\n",
      "age 3 neighbors: ['lake', 'Target', 'carnival', 'house', 'gate', 'forest', 'cabin']\n",
      "\n",
      "yah\t(ranks=5315,2089)\tdist=1.00\n",
      "age 3 neighbors: ['Fozzie', 'Bubbles', 'hum', 'cub', 'polite', 'koala', 'rum']\n",
      "age 3 neighbors: ['boo', 'Goldilocks', 'Astrid', 'voom', 'second', 'Geoffrey', 'yourself']\n",
      "\n"
     ]
    }
   ],
   "source": [
    "thresh = 10000\n",
    "for idx in cos_dist[:thresh].argsort()[::-1][:20]:\n",
    "    word = vocs[year2][idx]\n",
    "    print(f'{word}\\t(ranks={idx},{vocs[year1].index(word)})\\tdist={cos_dist[idx]:.2f}')\n",
    "    print(f'age {year2} neighbors: {neighbors(word, vecs_projected, vocs[year2], K=7)}')\n",
    "    print(f'age {year2} neighbors: {neighbors(word, vecs[year2], vocs[year2], K=7)}\\n')"
   ]
  },
  {
   "cell_type": "markdown",
   "metadata": {
    "slideshow": {
     "slide_type": "subslide"
    }
   },
   "source": [
    "Better! A few preprocessing effects (\"00\" and \"addison\"), but most of these changes are interpretable as emerging word senses (\"aids\", \"peer\", \"approaches\", \"facility\", \"film\", and \"resource\")."
   ]
  },
  {
   "cell_type": "markdown",
   "metadata": {
    "slideshow": {
     "slide_type": "slide"
    }
   },
   "source": [
    "## Measuring semantic change by near neighbors\n",
    "\n",
    "A concern with comparing word embeddings directly is that different parts of the embedding space may have different densities, so that cosine distances are not comparable across the entire space. \n",
    "\n",
    "To address this problem, [Hamilton et al (2016b)](https://nlp.stanford.edu/pubs/hamilton2016cultural.pdf) propose a \"local\" technique:\n",
    "\n",
    "1. For word $w$ at time $t$, identify $K$-nearest neighbors $\\mathcal{N}_t(w)$\n",
    "2. Compute the vector of cosine similarities to the union of these neighbors,\n",
    "\n",
    "\\begin{align}\n",
    "\\vec{s}_t(w) = &{} [\\cos(x_{t}(w), x_t(w')) : w' \\in \\mathcal{N}_t(w) \\cup \\mathcal{N}_{t'}(w)]\\\\\n",
    "\\vec{s}_{t'}(w) = &{} [\\cos(x_{t'}(w), x_{t'}(w')) : w' \\in \\mathcal{N}_t(w) \\cup \\mathcal{N}_{t'}(w)]\\\\\n",
    "\\end{align}\n",
    "\n",
    "3. Compute the cosine distance between these two vectors, $D_{t,t'}(w) = 1 - \\cos(\\vec{s}_t(w), \\vec{s}_{t'}(w))$."
   ]
  },
  {
   "cell_type": "markdown",
   "metadata": {
    "slideshow": {
     "slide_type": "subslide"
    }
   },
   "source": [
    "Intuitively, if a word acquires a large number of new neighbors at $t'$, and these neighbors had very different embeddings from $x_t(w)$ at time $t$, then the distance will be large; if the neighbors and their similarities to $w$ are roughly the same at $t$ and $t'$, then the distance will be small. Let's compute it."
   ]
  },
  {
   "cell_type": "markdown",
   "metadata": {
    "slideshow": {
     "slide_type": "subslide"
    }
   },
   "source": [
    "#### Example"
   ]
  },
  {
   "cell_type": "code",
   "execution_count": 28,
   "metadata": {
    "slideshow": {
     "slide_type": "fragment"
    }
   },
   "outputs": [
    {
     "name": "stdout",
     "output_type": "stream",
     "text": [
      "['want', 'prefer', 'enjoy', 'rather', 'interest']\n",
      "['want', 'fun', 'familiar', 'neat', 'interest']\n"
     ]
    }
   ],
   "source": [
    "query = 'like'\n",
    "nn_old = neighbors(query, vecs[year1], vocs[year1], K=5)\n",
    "nn_new = neighbors(query, vecs[year2], vocs[year2], K=5)\n",
    "print(nn_old)\n",
    "print(nn_new)"
   ]
  },
  {
   "cell_type": "markdown",
   "metadata": {
    "slideshow": {
     "slide_type": "subslide"
    }
   },
   "source": [
    "Now we'll construct a set of neighbors that combines these lists, omitting words that are out-of-vocabulary in either dataset."
   ]
  },
  {
   "cell_type": "code",
   "execution_count": 29,
   "metadata": {
    "slideshow": {
     "slide_type": "fragment"
    }
   },
   "outputs": [
    {
     "name": "stdout",
     "output_type": "stream",
     "text": [
      "['prefer', 'interest', 'want', 'familiar', 'neat', 'rather', 'fun', 'enjoy']\n"
     ]
    }
   ],
   "source": [
    "neighbor_set = [word for word in set(nn_old).union(set(nn_new)) \n",
    "                if (word in vocs[year1])\n",
    "                and (word in vocs[year2])\n",
    "                and (vecs[year1][vocs[year1].index(word)].var() > 0)\n",
    "                and (vecs[year2][vocs[year2].index(word)].var() > 0)]\n",
    "print(neighbor_set)"
   ]
  },
  {
   "cell_type": "markdown",
   "metadata": {
    "slideshow": {
     "slide_type": "subslide"
    }
   },
   "source": [
    "For each of these words, we will compute the cosine similarity to the query, in each dataset. \n",
    "\n",
    "Because the vectors are guaranteed to have a unit norm, the cosine similarity is identical to the dot product."
   ]
  },
  {
   "cell_type": "code",
   "execution_count": 30,
   "metadata": {
    "slideshow": {
     "slide_type": "subslide"
    }
   },
   "outputs": [],
   "source": [
    "def get_neighbor_sims(query : str, neighbor_set : set, vec : np.ndarray, voc : list) -> np.ndarray:\n",
    "    v_self = vec[voc.index(query),]\n",
    "    v_neighbors = vec[[voc.index(neighbor) for neighbor in neighbor_set],]\n",
    "    return np.dot(v_neighbors, v_self)"
   ]
  },
  {
   "cell_type": "code",
   "execution_count": 31,
   "metadata": {
    "slideshow": {
     "slide_type": "fragment"
    }
   },
   "outputs": [
    {
     "name": "stdout",
     "output_type": "stream",
     "text": [
      "[0.45330825 0.381101   0.466931   0.18566021 0.16514423 0.4074227\n",
      " 0.28052166 0.41842118]\n",
      "[0.3159588  0.38365507 0.45302868 0.41164082 0.38926536 0.22016966\n",
      " 0.44930044 0.25865132]\n"
     ]
    }
   ],
   "source": [
    "sim_old = get_neighbor_sims(query,neighbor_set,vecs[year1],vocs[year1])\n",
    "sim_new = get_neighbor_sims(query,neighbor_set,vecs[year2],vocs[year2])\n",
    "print(sim_old)\n",
    "print(sim_new)"
   ]
  },
  {
   "cell_type": "markdown",
   "metadata": {
    "slideshow": {
     "slide_type": "subslide"
    }
   },
   "source": [
    "Finally, we'll measure semantic shift by the average \"distance\" between these vectors of similarities. \n",
    "\n",
    "This is a \"second order\" view of semantic change, but we will call it the *local* change, because it is based only on the local neighborhood and not the global embedding space."
   ]
  },
  {
   "cell_type": "code",
   "execution_count": 32,
   "metadata": {
    "slideshow": {
     "slide_type": "fragment"
    }
   },
   "outputs": [
    {
     "data": {
      "text/plain": [
       "0.012210533022880554"
      ]
     },
     "execution_count": 32,
     "metadata": {},
     "output_type": "execute_result"
    }
   ],
   "source": [
    "compute_cos_dist(sim_old.reshape(1,-1), sim_new.reshape(1,-1))[0] / len(neighbor_set)"
   ]
  },
  {
   "cell_type": "markdown",
   "metadata": {
    "slideshow": {
     "slide_type": "subslide"
    }
   },
   "source": [
    "We'll now make this calculation for the entire dataset. By default, we'll just load the results, but you can recompute it from this data if you have a few minutes."
   ]
  },
  {
   "cell_type": "code",
   "execution_count": 33,
   "metadata": {
    "slideshow": {
     "slide_type": "skip"
    }
   },
   "outputs": [],
   "source": [
    "recompute_embedding_shifts = True\n",
    "emb_shift_file = os.path.join('.','data','embedding-shifts.csv')"
   ]
  },
  {
   "cell_type": "code",
   "execution_count": 34,
   "metadata": {
    "slideshow": {
     "slide_type": "skip"
    }
   },
   "outputs": [
    {
     "data": {
      "application/vnd.jupyter.widget-view+json": {
       "model_id": "5183dba7d1f84589a0e7893a0a628bd8",
       "version_major": 2,
       "version_minor": 0
      },
      "text/plain": [
       "HBox(children=(IntProgress(value=0, max=5386), HTML(value='')))"
      ]
     },
     "metadata": {},
     "output_type": "display_data"
    },
    {
     "name": "stdout",
     "output_type": "stream",
     "text": [
      "\n"
     ]
    }
   ],
   "source": [
    "if recompute_embedding_shifts:\n",
    "    # this may take 5-10 minutes to execute\n",
    "    neighbor_shift = dict()\n",
    "\n",
    "    num_neighbors = 25\n",
    "\n",
    "    for word in tqdm(vocs[year2]):\n",
    "        if word in vocs[year1]:\n",
    "            nn_old = neighbors(word, vecs[year1], vocs[year1], K=num_neighbors)\n",
    "            nn_new = neighbors(word, vecs[year2], vocs[year2], K=num_neighbors)\n",
    "\n",
    "            neighbor_set = [word for word in set(nn_old).union(set(nn_new)) \n",
    "                            if (word in vocs[year1])\n",
    "                            and (word in vocs[year2])\n",
    "                            and (vecs[year1][vocs[year1].index(word)].var() > 0)\n",
    "                            and (vecs[year2][vocs[year2].index(word)].var() > 0)]\n",
    "        \n",
    "            s1 = get_neighbor_sims(word, neighbor_set, vecs[year1], vocs[year1])\n",
    "            s2 = get_neighbor_sims(word, neighbor_set, vecs[year2], vocs[year2])\n",
    "\n",
    "            dL = compute_cos_dist(s1.reshape(1,-1),s2.reshape(1,-1))[0] / len(neighbor_set)\n",
    "    \n",
    "            neighbor_shift[word] = dL\n",
    "    df_emb_shift = pd.DataFrame({'local':list(neighbor_shift.values()),\n",
    "                                 'global':[cos_dist[vocs[year2].index(word)] for word in neighbor_shift.keys()]},\n",
    "                                index=list(neighbor_shift.keys()))\n",
    "    df_emb_shift.to_csv(emb_shift_file)\n",
    "else:\n",
    "    df_emb_shift = pd.read_csv(emb_shift_file,index_col=0)"
   ]
  },
  {
   "cell_type": "markdown",
   "metadata": {
    "slideshow": {
     "slide_type": "skip"
    }
   },
   "source": [
    "Let's put the results into a dataframe."
   ]
  },
  {
   "cell_type": "code",
   "execution_count": 35,
   "metadata": {
    "slideshow": {
     "slide_type": "fragment"
    }
   },
   "outputs": [
    {
     "name": "stdout",
     "output_type": "stream",
     "text": [
      "               local    global\n",
      "alrightie   0.067278  0.926903\n",
      "include     0.065231  0.751927\n",
      "gesundheit  0.062435  0.667960\n",
      "Mandy       0.061018  0.849266\n",
      "psst        0.057846  0.663561\n",
      "patty       0.057457  0.715841\n",
      "dumb        0.056852  0.932106\n",
      "Yvonne      0.056016  0.956524\n",
      "berserk     0.055344  0.756084\n",
      "achoo       0.054769  0.758514\n",
      "Pikachu     0.054219  0.877324\n",
      "Mikey       0.053695  0.783597\n",
      "Marks       0.053140  0.769714\n",
      "Ms          0.052950  0.875846\n",
      "Naomi       0.050270  0.860220\n",
      "Norman      0.050114  0.844529\n",
      "amen        0.049043  0.716665\n",
      "Jen         0.048932  0.787775\n",
      "heehee      0.048752  0.720946\n",
      "Boots       0.048564  0.829972\n"
     ]
    }
   ],
   "source": [
    "print(df_emb_shift.sort_values('local',ascending=False).head(20))"
   ]
  },
  {
   "cell_type": "markdown",
   "metadata": {
    "slideshow": {
     "slide_type": "subslide"
    }
   },
   "source": [
    "### Top words by \"local\" metric"
   ]
  },
  {
   "cell_type": "code",
   "execution_count": 36,
   "metadata": {
    "slideshow": {
     "slide_type": "fragment"
    }
   },
   "outputs": [
    {
     "name": "stdout",
     "output_type": "stream",
     "text": [
      "alrightie\n",
      "Age 1 neighbors: ['amen', 'lalight', 'bvoom', 'whatchamacallit', 'Grampy', 'bowwow', 'ya']\n",
      "Age 3 neighbors: ['Tango', 'Saskia', 'golly', 'yoohoo', 'The_great_cat_chase', 'Willem', 'Perry']\n",
      "\n",
      "include\n",
      "Age 1 neighbors: ['weigh', 'pokey', 'flee', 'gesundheit', 'deaf', 'skit', 'hokey']\n",
      "Age 3 neighbors: ['per', 'rack', 'Day', 'Valley', 'storage', 'Doc', 'popular']\n",
      "\n",
      "gesundheit\n",
      "Age 1 neighbors: ['Everywhere', 'Babies', 'bvoom', 'Oscar_The_Grouch', 'vrap', 'hut', 'ey']\n",
      "Age 3 neighbors: ['grant', 'Dalmatian', 'Seymore', 'Corrine', 'holler', 'brr', 'gigi']\n",
      "\n",
      "Mandy\n",
      "Age 1 neighbors: ['Oscar_The_Grouch', 'gesundheit', 'Everywhere', 'cor', 'woofwoof', 'allo', 'lalight']\n",
      "Age 3 neighbors: ['Ronny', 'her', 'Terraine', 'Paddy', 'Casey', 'tato', 'Man_Peng']\n",
      "\n",
      "psst\n",
      "Age 1 neighbors: ['Missy', 'Keith', 'Deb', 'Dawn', 'Lil', 'Everywhere', 'Zach']\n",
      "Age 3 neighbors: ['boingy', 'hmpf', 'Book', 'dom', 'clickety', 'mer', 'boop']\n",
      "\n",
      "patty\n",
      "Age 1 neighbors: ['wack', 'whack', 'knack', 'knick', 'bone', 'patty_cake', 'chickadee']\n",
      "Age 3 neighbors: ['salmon', 'ever', 'calculator', 'Norah', 'Suzy', 'Horton', 'frosting']\n",
      "\n",
      "dumb\n",
      "Age 1 neighbors: ['mee', 'allo', 'ch', 'neato', 'bup', 'vera', 'nom']\n",
      "Age 3 neighbors: ['ridiculous', 'Jeanie', 'frappe', 'mistake', 'device', 'mess', 'irish']\n",
      "\n",
      "Yvonne\n",
      "Age 1 neighbors: ['Skyeesha', 'madi', 'Mikey', 'Kalkin', 'duh_dah', 'dadadada', 'Jafar']\n",
      "Age 3 neighbors: ['Cheryl', 'Valerie', 'Remi', 'Avis', 'Dave', 'gigi', 'earl']\n",
      "\n",
      "berserk\n",
      "Age 1 neighbors: ['peeyou', 'ticktock', 'kaboomps', 'oink_oink_oink_oink', 'hooh', 'brrr', 'dingalingaling']\n",
      "Age 3 neighbors: ['nuts', 'craze', 'trust', 'excuse', 'motorcyclist', 'Olivia', 'Felice']\n",
      "\n",
      "achoo\n",
      "Age 1 neighbors: ['Bugs', 'brrr', 'weeooh', 'Grampy', 'amen', 'cheers', 'dadadada']\n",
      "Age 3 neighbors: ['Weist', 'grizzly', 'Elaine', 'gigi', 'papa', 'idiot', 'Magnus']\n",
      "\n",
      "Pikachu\n",
      "Age 1 neighbors: ['teepee', 'Kristen', 'Corinna', 'Snuffles', 'Wendy', 'Dumbo', 'Evette']\n",
      "Age 3 neighbors: ['Meaowth', 'lab', 'fabric', 'Felice', 'Spencer', 'pineapple', 'sorbet']\n",
      "\n",
      "Mikey\n",
      "Age 1 neighbors: ['Kalkin', 'Amanda', 'fantastic', 'Jamal', 'Corinna', 'dadadada', 'Callista']\n",
      "Age 3 neighbors: ['Mac', 'Terra', 'hey', 'Joanne', 'Mariana', 'Trina', 'Jim']\n",
      "\n",
      "Marks\n",
      "Age 1 neighbors: ['Noodle', 'gesundheit', 'vutch', 'Everywhere', 'vera', 'howdy', 'Slinger']\n",
      "Age 3 neighbors: ['Spencers', 'Spencer', 'Panama', 'Spain', 'Didsbury', 'Connecticut', 'Next']\n",
      "\n",
      "Ms\n",
      "Age 1 neighbors: ['Kathy', 'Miss', 'Rubber', 'boingo', 'Shelly', 'tennis', 'pattycake']\n",
      "Age 3 neighbors: ['Adams', 'Care', 'Mrs', 'Muehler', 'Bear', 'Baby', 'Grumpy']\n",
      "\n",
      "Naomi\n",
      "Age 1 neighbors: ['Ganoboo', 'Corky', 'Ken', 'bunt', 'tee', 'sweety', 'rabber']\n",
      "Age 3 neighbors: ['frequency', 'Zoie', 'Gerald', 'tape', 'Blasingame', 'Tunde', 'awhile']\n",
      "\n",
      "Norman\n",
      "Age 1 neighbors: ['Corinna', 'Hat', 'Krystal', 'Zachary', 'Hap', 'dog_dog', 'E_I_E_I_O']\n",
      "Age 3 neighbors: ['boingy', 'Hungry', 'Peter_Rabbit', 'G', 'Book', 'Very', 'The']\n",
      "\n",
      "amen\n",
      "Age 1 neighbors: ['lalight', 'woof_woof_woof_woof', 'dadadada', 'ntuu', 'vrap', 'whatchamacallit', 'god_bless_you']\n",
      "Age 3 neighbors: ['thy', 'lord', 'daily', 'thee', 'praise', 'strength', 'Whiskers']\n",
      "\n",
      "Jen\n",
      "Age 1 neighbors: ['Keith', 'kukabear', 'Pepe', 'Joyce', 'Mamaw', 'Chewy', 'Hal']\n",
      "Age 3 neighbors: ['Fruit_of_the_Loom', 'challenge', 'Sno', 'Mag', 'Vonnie', 'Raggedy_Ann', 'Ed']\n",
      "\n",
      "heehee\n",
      "Age 1 neighbors: ['buh', 'slup', 'strum', 'doh', 'blub', 'gerbil', 'wuh']\n",
      "Age 3 neighbors: ['Magnus', 'Kaylow', 'mmpf', 'Aliah', 'oh_my', 'Taylor', 'christian']\n",
      "\n",
      "Boots\n",
      "Age 1 neighbors: ['dah', 'ch', 'doh', 'mah', 'Kenny', 'arf', 'Babies']\n",
      "Age 3 neighbors: ['Abbeycentre', 'report', 'Aunt_June', 'workshop', 'mail', 'Virgo', 'aunt']\n",
      "\n"
     ]
    }
   ],
   "source": [
    "for word in df_emb_shift.sort_values('local',ascending=False).head(20).index:\n",
    "    print(word)\n",
    "    print(f'Age {year1} neighbors: {neighbors(word, vecs[year1][:thresh], vocs[year1], K=7)}')\n",
    "    print(f'Age {year2} neighbors: {neighbors(word, vecs[year2][:thresh], vocs[year2], K=7)}')\n",
    "    print()"
   ]
  },
  {
   "cell_type": "markdown",
   "metadata": {
    "slideshow": {
     "slide_type": "subslide"
    }
   },
   "source": [
    "Pretty similar, but avoids a few of the false positives in `global`, such as \"00\", while weirdly including \"the\" as the top word."
   ]
  },
  {
   "cell_type": "markdown",
   "metadata": {
    "slideshow": {
     "slide_type": "slide"
    }
   },
   "source": [
    "## Extensions\n",
    "\n",
    "- Try a number of different neighborhood sizes, and test how it affects the ranking of words. Is the \"local\" method sensitive to this parameter?\n",
    "- Hamilton et al show that more common words tend to change more slowly. Can you replicate this finding using this data?\n",
    "- Using the other datafiles, try to determine the pace of change over time; do words shift their meanings more in the late 20th century?\n"
   ]
  },
  {
   "cell_type": "code",
   "execution_count": null,
   "metadata": {},
   "outputs": [],
   "source": []
  }
 ],
 "metadata": {
  "celltoolbar": "Slideshow",
  "kernelspec": {
   "display_name": "Python 3",
   "language": "python",
   "name": "python3"
  },
  "language_info": {
   "codemirror_mode": {
    "name": "ipython",
    "version": 3
   },
   "file_extension": ".py",
   "mimetype": "text/x-python",
   "name": "python",
   "nbconvert_exporter": "python",
   "pygments_lexer": "ipython3",
   "version": "3.7.1"
  }
 },
 "nbformat": 4,
 "nbformat_minor": 2
}
